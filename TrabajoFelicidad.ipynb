{
  "nbformat": 4,
  "nbformat_minor": 0,
  "metadata": {
    "colab": {
      "name": "TrabajoFelicidad.ipynb",
      "provenance": [],
      "include_colab_link": true
    },
    "kernelspec": {
      "name": "python3",
      "display_name": "Python 3"
    }
  },
  "cells": [
    {
      "cell_type": "markdown",
      "metadata": {
        "id": "view-in-github",
        "colab_type": "text"
      },
      "source": [
        "<a href=\"https://colab.research.google.com/github/fortiz98/TrabajoAAII/blob/main/TrabajoFelicidad.ipynb\" target=\"_parent\"><img src=\"https://colab.research.google.com/assets/colab-badge.svg\" alt=\"Open In Colab\"/></a>"
      ]
    },
    {
      "cell_type": "markdown",
      "metadata": {
        "id": "eBpZoMKEF1kE"
      },
      "source": [
        "##**Ranking de la felicidad en los países en los años 2015-2016-2017**"
      ]
    },
    {
      "cell_type": "code",
      "metadata": {
        "id": "mGSaXyguW_mP"
      },
      "source": [
        "import pandas as pd\r\n",
        "import numpy as np\r\n",
        "import matplotlib.pyplot as plt\r\n",
        "from matplotlib.colors import ListedColormap\r\n",
        "import matplotlib.patches as mpatches\r\n",
        "import seaborn as sb"
      ],
      "execution_count": 2,
      "outputs": []
    },
    {
      "cell_type": "markdown",
      "metadata": {
        "id": "Fn3Sbjh9WzL2"
      },
      "source": [
        "###**Primer vistazo a los datos**"
      ]
    },
    {
      "cell_type": "markdown",
      "metadata": {
        "id": "Q0WfoacsXQFd"
      },
      "source": [
        "####Datos de 2015"
      ]
    },
    {
      "cell_type": "code",
      "metadata": {
        "id": "9lDmEoSZXVJH"
      },
      "source": [
        "data2015 = pd.read_csv('https://raw.githubusercontent.com/fortiz98/TrabajoAAII/main/2015.csv')"
      ],
      "execution_count": null,
      "outputs": []
    },
    {
      "cell_type": "code",
      "metadata": {
        "colab": {
          "base_uri": "https://localhost:8080/",
          "height": 779
        },
        "id": "a7fomN-IX3K5",
        "outputId": "796d1d92-4c56-4bb4-a1ce-09ef10a0dc17"
      },
      "source": [
        "data2015"
      ],
      "execution_count": null,
      "outputs": [
        {
          "output_type": "execute_result",
          "data": {
            "text/html": [
              "<div>\n",
              "<style scoped>\n",
              "    .dataframe tbody tr th:only-of-type {\n",
              "        vertical-align: middle;\n",
              "    }\n",
              "\n",
              "    .dataframe tbody tr th {\n",
              "        vertical-align: top;\n",
              "    }\n",
              "\n",
              "    .dataframe thead th {\n",
              "        text-align: right;\n",
              "    }\n",
              "</style>\n",
              "<table border=\"1\" class=\"dataframe\">\n",
              "  <thead>\n",
              "    <tr style=\"text-align: right;\">\n",
              "      <th></th>\n",
              "      <th>Country</th>\n",
              "      <th>Region</th>\n",
              "      <th>Happiness Rank</th>\n",
              "      <th>Happiness Score</th>\n",
              "      <th>Standard Error</th>\n",
              "      <th>Economy (GDP per Capita)</th>\n",
              "      <th>Family</th>\n",
              "      <th>Health (Life Expectancy)</th>\n",
              "      <th>Freedom</th>\n",
              "      <th>Trust (Government Corruption)</th>\n",
              "      <th>Generosity</th>\n",
              "      <th>Dystopia Residual</th>\n",
              "    </tr>\n",
              "  </thead>\n",
              "  <tbody>\n",
              "    <tr>\n",
              "      <th>0</th>\n",
              "      <td>Switzerland</td>\n",
              "      <td>Western Europe</td>\n",
              "      <td>1</td>\n",
              "      <td>7.587</td>\n",
              "      <td>0.03411</td>\n",
              "      <td>1.39651</td>\n",
              "      <td>1.34951</td>\n",
              "      <td>0.94143</td>\n",
              "      <td>0.66557</td>\n",
              "      <td>0.41978</td>\n",
              "      <td>0.29678</td>\n",
              "      <td>2.51738</td>\n",
              "    </tr>\n",
              "    <tr>\n",
              "      <th>1</th>\n",
              "      <td>Iceland</td>\n",
              "      <td>Western Europe</td>\n",
              "      <td>2</td>\n",
              "      <td>7.561</td>\n",
              "      <td>0.04884</td>\n",
              "      <td>1.30232</td>\n",
              "      <td>1.40223</td>\n",
              "      <td>0.94784</td>\n",
              "      <td>0.62877</td>\n",
              "      <td>0.14145</td>\n",
              "      <td>0.43630</td>\n",
              "      <td>2.70201</td>\n",
              "    </tr>\n",
              "    <tr>\n",
              "      <th>2</th>\n",
              "      <td>Denmark</td>\n",
              "      <td>Western Europe</td>\n",
              "      <td>3</td>\n",
              "      <td>7.527</td>\n",
              "      <td>0.03328</td>\n",
              "      <td>1.32548</td>\n",
              "      <td>1.36058</td>\n",
              "      <td>0.87464</td>\n",
              "      <td>0.64938</td>\n",
              "      <td>0.48357</td>\n",
              "      <td>0.34139</td>\n",
              "      <td>2.49204</td>\n",
              "    </tr>\n",
              "    <tr>\n",
              "      <th>3</th>\n",
              "      <td>Norway</td>\n",
              "      <td>Western Europe</td>\n",
              "      <td>4</td>\n",
              "      <td>7.522</td>\n",
              "      <td>0.03880</td>\n",
              "      <td>1.45900</td>\n",
              "      <td>1.33095</td>\n",
              "      <td>0.88521</td>\n",
              "      <td>0.66973</td>\n",
              "      <td>0.36503</td>\n",
              "      <td>0.34699</td>\n",
              "      <td>2.46531</td>\n",
              "    </tr>\n",
              "    <tr>\n",
              "      <th>4</th>\n",
              "      <td>Canada</td>\n",
              "      <td>North America</td>\n",
              "      <td>5</td>\n",
              "      <td>7.427</td>\n",
              "      <td>0.03553</td>\n",
              "      <td>1.32629</td>\n",
              "      <td>1.32261</td>\n",
              "      <td>0.90563</td>\n",
              "      <td>0.63297</td>\n",
              "      <td>0.32957</td>\n",
              "      <td>0.45811</td>\n",
              "      <td>2.45176</td>\n",
              "    </tr>\n",
              "    <tr>\n",
              "      <th>...</th>\n",
              "      <td>...</td>\n",
              "      <td>...</td>\n",
              "      <td>...</td>\n",
              "      <td>...</td>\n",
              "      <td>...</td>\n",
              "      <td>...</td>\n",
              "      <td>...</td>\n",
              "      <td>...</td>\n",
              "      <td>...</td>\n",
              "      <td>...</td>\n",
              "      <td>...</td>\n",
              "      <td>...</td>\n",
              "    </tr>\n",
              "    <tr>\n",
              "      <th>153</th>\n",
              "      <td>Rwanda</td>\n",
              "      <td>Sub-Saharan Africa</td>\n",
              "      <td>154</td>\n",
              "      <td>3.465</td>\n",
              "      <td>0.03464</td>\n",
              "      <td>0.22208</td>\n",
              "      <td>0.77370</td>\n",
              "      <td>0.42864</td>\n",
              "      <td>0.59201</td>\n",
              "      <td>0.55191</td>\n",
              "      <td>0.22628</td>\n",
              "      <td>0.67042</td>\n",
              "    </tr>\n",
              "    <tr>\n",
              "      <th>154</th>\n",
              "      <td>Benin</td>\n",
              "      <td>Sub-Saharan Africa</td>\n",
              "      <td>155</td>\n",
              "      <td>3.340</td>\n",
              "      <td>0.03656</td>\n",
              "      <td>0.28665</td>\n",
              "      <td>0.35386</td>\n",
              "      <td>0.31910</td>\n",
              "      <td>0.48450</td>\n",
              "      <td>0.08010</td>\n",
              "      <td>0.18260</td>\n",
              "      <td>1.63328</td>\n",
              "    </tr>\n",
              "    <tr>\n",
              "      <th>155</th>\n",
              "      <td>Syria</td>\n",
              "      <td>Middle East and Northern Africa</td>\n",
              "      <td>156</td>\n",
              "      <td>3.006</td>\n",
              "      <td>0.05015</td>\n",
              "      <td>0.66320</td>\n",
              "      <td>0.47489</td>\n",
              "      <td>0.72193</td>\n",
              "      <td>0.15684</td>\n",
              "      <td>0.18906</td>\n",
              "      <td>0.47179</td>\n",
              "      <td>0.32858</td>\n",
              "    </tr>\n",
              "    <tr>\n",
              "      <th>156</th>\n",
              "      <td>Burundi</td>\n",
              "      <td>Sub-Saharan Africa</td>\n",
              "      <td>157</td>\n",
              "      <td>2.905</td>\n",
              "      <td>0.08658</td>\n",
              "      <td>0.01530</td>\n",
              "      <td>0.41587</td>\n",
              "      <td>0.22396</td>\n",
              "      <td>0.11850</td>\n",
              "      <td>0.10062</td>\n",
              "      <td>0.19727</td>\n",
              "      <td>1.83302</td>\n",
              "    </tr>\n",
              "    <tr>\n",
              "      <th>157</th>\n",
              "      <td>Togo</td>\n",
              "      <td>Sub-Saharan Africa</td>\n",
              "      <td>158</td>\n",
              "      <td>2.839</td>\n",
              "      <td>0.06727</td>\n",
              "      <td>0.20868</td>\n",
              "      <td>0.13995</td>\n",
              "      <td>0.28443</td>\n",
              "      <td>0.36453</td>\n",
              "      <td>0.10731</td>\n",
              "      <td>0.16681</td>\n",
              "      <td>1.56726</td>\n",
              "    </tr>\n",
              "  </tbody>\n",
              "</table>\n",
              "<p>158 rows × 12 columns</p>\n",
              "</div>"
            ],
            "text/plain": [
              "         Country  ... Dystopia Residual\n",
              "0    Switzerland  ...           2.51738\n",
              "1        Iceland  ...           2.70201\n",
              "2        Denmark  ...           2.49204\n",
              "3         Norway  ...           2.46531\n",
              "4         Canada  ...           2.45176\n",
              "..           ...  ...               ...\n",
              "153       Rwanda  ...           0.67042\n",
              "154        Benin  ...           1.63328\n",
              "155        Syria  ...           0.32858\n",
              "156      Burundi  ...           1.83302\n",
              "157         Togo  ...           1.56726\n",
              "\n",
              "[158 rows x 12 columns]"
            ]
          },
          "metadata": {
            "tags": []
          },
          "execution_count": 39
        }
      ]
    },
    {
      "cell_type": "code",
      "metadata": {
        "id": "HWyr1N09X9tc"
      },
      "source": [
        "#Quito columnas que no se repiten en el resto de datasets\r\n",
        "df2015 = data2015.drop(['Region', 'Standard Error'], axis = 1)"
      ],
      "execution_count": null,
      "outputs": []
    },
    {
      "cell_type": "code",
      "metadata": {
        "colab": {
          "base_uri": "https://localhost:8080/",
          "height": 490
        },
        "id": "rh1LJYuSYWNq",
        "outputId": "3e165e03-e7d8-4c8c-ab7e-4adb038a21f0"
      },
      "source": [
        "df2015"
      ],
      "execution_count": null,
      "outputs": [
        {
          "output_type": "execute_result",
          "data": {
            "text/html": [
              "<div>\n",
              "<style scoped>\n",
              "    .dataframe tbody tr th:only-of-type {\n",
              "        vertical-align: middle;\n",
              "    }\n",
              "\n",
              "    .dataframe tbody tr th {\n",
              "        vertical-align: top;\n",
              "    }\n",
              "\n",
              "    .dataframe thead th {\n",
              "        text-align: right;\n",
              "    }\n",
              "</style>\n",
              "<table border=\"1\" class=\"dataframe\">\n",
              "  <thead>\n",
              "    <tr style=\"text-align: right;\">\n",
              "      <th></th>\n",
              "      <th>Country</th>\n",
              "      <th>Happiness Rank</th>\n",
              "      <th>Happiness Score</th>\n",
              "      <th>Economy (GDP per Capita)</th>\n",
              "      <th>Family</th>\n",
              "      <th>Health (Life Expectancy)</th>\n",
              "      <th>Freedom</th>\n",
              "      <th>Trust (Government Corruption)</th>\n",
              "      <th>Generosity</th>\n",
              "      <th>Dystopia Residual</th>\n",
              "    </tr>\n",
              "  </thead>\n",
              "  <tbody>\n",
              "    <tr>\n",
              "      <th>0</th>\n",
              "      <td>Switzerland</td>\n",
              "      <td>1</td>\n",
              "      <td>7.587</td>\n",
              "      <td>1.39651</td>\n",
              "      <td>1.34951</td>\n",
              "      <td>0.94143</td>\n",
              "      <td>0.66557</td>\n",
              "      <td>0.41978</td>\n",
              "      <td>0.29678</td>\n",
              "      <td>2.51738</td>\n",
              "    </tr>\n",
              "    <tr>\n",
              "      <th>1</th>\n",
              "      <td>Iceland</td>\n",
              "      <td>2</td>\n",
              "      <td>7.561</td>\n",
              "      <td>1.30232</td>\n",
              "      <td>1.40223</td>\n",
              "      <td>0.94784</td>\n",
              "      <td>0.62877</td>\n",
              "      <td>0.14145</td>\n",
              "      <td>0.43630</td>\n",
              "      <td>2.70201</td>\n",
              "    </tr>\n",
              "    <tr>\n",
              "      <th>2</th>\n",
              "      <td>Denmark</td>\n",
              "      <td>3</td>\n",
              "      <td>7.527</td>\n",
              "      <td>1.32548</td>\n",
              "      <td>1.36058</td>\n",
              "      <td>0.87464</td>\n",
              "      <td>0.64938</td>\n",
              "      <td>0.48357</td>\n",
              "      <td>0.34139</td>\n",
              "      <td>2.49204</td>\n",
              "    </tr>\n",
              "    <tr>\n",
              "      <th>3</th>\n",
              "      <td>Norway</td>\n",
              "      <td>4</td>\n",
              "      <td>7.522</td>\n",
              "      <td>1.45900</td>\n",
              "      <td>1.33095</td>\n",
              "      <td>0.88521</td>\n",
              "      <td>0.66973</td>\n",
              "      <td>0.36503</td>\n",
              "      <td>0.34699</td>\n",
              "      <td>2.46531</td>\n",
              "    </tr>\n",
              "    <tr>\n",
              "      <th>4</th>\n",
              "      <td>Canada</td>\n",
              "      <td>5</td>\n",
              "      <td>7.427</td>\n",
              "      <td>1.32629</td>\n",
              "      <td>1.32261</td>\n",
              "      <td>0.90563</td>\n",
              "      <td>0.63297</td>\n",
              "      <td>0.32957</td>\n",
              "      <td>0.45811</td>\n",
              "      <td>2.45176</td>\n",
              "    </tr>\n",
              "    <tr>\n",
              "      <th>...</th>\n",
              "      <td>...</td>\n",
              "      <td>...</td>\n",
              "      <td>...</td>\n",
              "      <td>...</td>\n",
              "      <td>...</td>\n",
              "      <td>...</td>\n",
              "      <td>...</td>\n",
              "      <td>...</td>\n",
              "      <td>...</td>\n",
              "      <td>...</td>\n",
              "    </tr>\n",
              "    <tr>\n",
              "      <th>153</th>\n",
              "      <td>Rwanda</td>\n",
              "      <td>154</td>\n",
              "      <td>3.465</td>\n",
              "      <td>0.22208</td>\n",
              "      <td>0.77370</td>\n",
              "      <td>0.42864</td>\n",
              "      <td>0.59201</td>\n",
              "      <td>0.55191</td>\n",
              "      <td>0.22628</td>\n",
              "      <td>0.67042</td>\n",
              "    </tr>\n",
              "    <tr>\n",
              "      <th>154</th>\n",
              "      <td>Benin</td>\n",
              "      <td>155</td>\n",
              "      <td>3.340</td>\n",
              "      <td>0.28665</td>\n",
              "      <td>0.35386</td>\n",
              "      <td>0.31910</td>\n",
              "      <td>0.48450</td>\n",
              "      <td>0.08010</td>\n",
              "      <td>0.18260</td>\n",
              "      <td>1.63328</td>\n",
              "    </tr>\n",
              "    <tr>\n",
              "      <th>155</th>\n",
              "      <td>Syria</td>\n",
              "      <td>156</td>\n",
              "      <td>3.006</td>\n",
              "      <td>0.66320</td>\n",
              "      <td>0.47489</td>\n",
              "      <td>0.72193</td>\n",
              "      <td>0.15684</td>\n",
              "      <td>0.18906</td>\n",
              "      <td>0.47179</td>\n",
              "      <td>0.32858</td>\n",
              "    </tr>\n",
              "    <tr>\n",
              "      <th>156</th>\n",
              "      <td>Burundi</td>\n",
              "      <td>157</td>\n",
              "      <td>2.905</td>\n",
              "      <td>0.01530</td>\n",
              "      <td>0.41587</td>\n",
              "      <td>0.22396</td>\n",
              "      <td>0.11850</td>\n",
              "      <td>0.10062</td>\n",
              "      <td>0.19727</td>\n",
              "      <td>1.83302</td>\n",
              "    </tr>\n",
              "    <tr>\n",
              "      <th>157</th>\n",
              "      <td>Togo</td>\n",
              "      <td>158</td>\n",
              "      <td>2.839</td>\n",
              "      <td>0.20868</td>\n",
              "      <td>0.13995</td>\n",
              "      <td>0.28443</td>\n",
              "      <td>0.36453</td>\n",
              "      <td>0.10731</td>\n",
              "      <td>0.16681</td>\n",
              "      <td>1.56726</td>\n",
              "    </tr>\n",
              "  </tbody>\n",
              "</table>\n",
              "<p>158 rows × 10 columns</p>\n",
              "</div>"
            ],
            "text/plain": [
              "         Country  Happiness Rank  ...  Generosity  Dystopia Residual\n",
              "0    Switzerland               1  ...     0.29678            2.51738\n",
              "1        Iceland               2  ...     0.43630            2.70201\n",
              "2        Denmark               3  ...     0.34139            2.49204\n",
              "3         Norway               4  ...     0.34699            2.46531\n",
              "4         Canada               5  ...     0.45811            2.45176\n",
              "..           ...             ...  ...         ...                ...\n",
              "153       Rwanda             154  ...     0.22628            0.67042\n",
              "154        Benin             155  ...     0.18260            1.63328\n",
              "155        Syria             156  ...     0.47179            0.32858\n",
              "156      Burundi             157  ...     0.19727            1.83302\n",
              "157         Togo             158  ...     0.16681            1.56726\n",
              "\n",
              "[158 rows x 10 columns]"
            ]
          },
          "metadata": {
            "tags": []
          },
          "execution_count": 41
        }
      ]
    },
    {
      "cell_type": "markdown",
      "metadata": {
        "id": "XQsvL6idYQPi"
      },
      "source": [
        "####Datos de 2016"
      ]
    },
    {
      "cell_type": "code",
      "metadata": {
        "id": "fuwag8KqYSgo"
      },
      "source": [
        "data2016 = pd.read_csv('https://raw.githubusercontent.com/fortiz98/TrabajoAAII/main/2016.csv')"
      ],
      "execution_count": null,
      "outputs": []
    },
    {
      "cell_type": "code",
      "metadata": {
        "colab": {
          "base_uri": "https://localhost:8080/",
          "height": 745
        },
        "id": "puBG3e8kY0Ka",
        "outputId": "4c91fde7-06d3-4ed5-ec5c-08744d608e43"
      },
      "source": [
        "data2016"
      ],
      "execution_count": null,
      "outputs": [
        {
          "output_type": "execute_result",
          "data": {
            "text/html": [
              "<div>\n",
              "<style scoped>\n",
              "    .dataframe tbody tr th:only-of-type {\n",
              "        vertical-align: middle;\n",
              "    }\n",
              "\n",
              "    .dataframe tbody tr th {\n",
              "        vertical-align: top;\n",
              "    }\n",
              "\n",
              "    .dataframe thead th {\n",
              "        text-align: right;\n",
              "    }\n",
              "</style>\n",
              "<table border=\"1\" class=\"dataframe\">\n",
              "  <thead>\n",
              "    <tr style=\"text-align: right;\">\n",
              "      <th></th>\n",
              "      <th>Country</th>\n",
              "      <th>Region</th>\n",
              "      <th>Happiness Rank</th>\n",
              "      <th>Happiness Score</th>\n",
              "      <th>Lower Confidence Interval</th>\n",
              "      <th>Upper Confidence Interval</th>\n",
              "      <th>Economy (GDP per Capita)</th>\n",
              "      <th>Family</th>\n",
              "      <th>Health (Life Expectancy)</th>\n",
              "      <th>Freedom</th>\n",
              "      <th>Trust (Government Corruption)</th>\n",
              "      <th>Generosity</th>\n",
              "      <th>Dystopia Residual</th>\n",
              "    </tr>\n",
              "  </thead>\n",
              "  <tbody>\n",
              "    <tr>\n",
              "      <th>0</th>\n",
              "      <td>Denmark</td>\n",
              "      <td>Western Europe</td>\n",
              "      <td>1</td>\n",
              "      <td>7.526</td>\n",
              "      <td>7.460</td>\n",
              "      <td>7.592</td>\n",
              "      <td>1.44178</td>\n",
              "      <td>1.16374</td>\n",
              "      <td>0.79504</td>\n",
              "      <td>0.57941</td>\n",
              "      <td>0.44453</td>\n",
              "      <td>0.36171</td>\n",
              "      <td>2.73939</td>\n",
              "    </tr>\n",
              "    <tr>\n",
              "      <th>1</th>\n",
              "      <td>Switzerland</td>\n",
              "      <td>Western Europe</td>\n",
              "      <td>2</td>\n",
              "      <td>7.509</td>\n",
              "      <td>7.428</td>\n",
              "      <td>7.590</td>\n",
              "      <td>1.52733</td>\n",
              "      <td>1.14524</td>\n",
              "      <td>0.86303</td>\n",
              "      <td>0.58557</td>\n",
              "      <td>0.41203</td>\n",
              "      <td>0.28083</td>\n",
              "      <td>2.69463</td>\n",
              "    </tr>\n",
              "    <tr>\n",
              "      <th>2</th>\n",
              "      <td>Iceland</td>\n",
              "      <td>Western Europe</td>\n",
              "      <td>3</td>\n",
              "      <td>7.501</td>\n",
              "      <td>7.333</td>\n",
              "      <td>7.669</td>\n",
              "      <td>1.42666</td>\n",
              "      <td>1.18326</td>\n",
              "      <td>0.86733</td>\n",
              "      <td>0.56624</td>\n",
              "      <td>0.14975</td>\n",
              "      <td>0.47678</td>\n",
              "      <td>2.83137</td>\n",
              "    </tr>\n",
              "    <tr>\n",
              "      <th>3</th>\n",
              "      <td>Norway</td>\n",
              "      <td>Western Europe</td>\n",
              "      <td>4</td>\n",
              "      <td>7.498</td>\n",
              "      <td>7.421</td>\n",
              "      <td>7.575</td>\n",
              "      <td>1.57744</td>\n",
              "      <td>1.12690</td>\n",
              "      <td>0.79579</td>\n",
              "      <td>0.59609</td>\n",
              "      <td>0.35776</td>\n",
              "      <td>0.37895</td>\n",
              "      <td>2.66465</td>\n",
              "    </tr>\n",
              "    <tr>\n",
              "      <th>4</th>\n",
              "      <td>Finland</td>\n",
              "      <td>Western Europe</td>\n",
              "      <td>5</td>\n",
              "      <td>7.413</td>\n",
              "      <td>7.351</td>\n",
              "      <td>7.475</td>\n",
              "      <td>1.40598</td>\n",
              "      <td>1.13464</td>\n",
              "      <td>0.81091</td>\n",
              "      <td>0.57104</td>\n",
              "      <td>0.41004</td>\n",
              "      <td>0.25492</td>\n",
              "      <td>2.82596</td>\n",
              "    </tr>\n",
              "    <tr>\n",
              "      <th>...</th>\n",
              "      <td>...</td>\n",
              "      <td>...</td>\n",
              "      <td>...</td>\n",
              "      <td>...</td>\n",
              "      <td>...</td>\n",
              "      <td>...</td>\n",
              "      <td>...</td>\n",
              "      <td>...</td>\n",
              "      <td>...</td>\n",
              "      <td>...</td>\n",
              "      <td>...</td>\n",
              "      <td>...</td>\n",
              "      <td>...</td>\n",
              "    </tr>\n",
              "    <tr>\n",
              "      <th>152</th>\n",
              "      <td>Benin</td>\n",
              "      <td>Sub-Saharan Africa</td>\n",
              "      <td>153</td>\n",
              "      <td>3.484</td>\n",
              "      <td>3.404</td>\n",
              "      <td>3.564</td>\n",
              "      <td>0.39499</td>\n",
              "      <td>0.10419</td>\n",
              "      <td>0.21028</td>\n",
              "      <td>0.39747</td>\n",
              "      <td>0.06681</td>\n",
              "      <td>0.20180</td>\n",
              "      <td>2.10812</td>\n",
              "    </tr>\n",
              "    <tr>\n",
              "      <th>153</th>\n",
              "      <td>Afghanistan</td>\n",
              "      <td>Southern Asia</td>\n",
              "      <td>154</td>\n",
              "      <td>3.360</td>\n",
              "      <td>3.288</td>\n",
              "      <td>3.432</td>\n",
              "      <td>0.38227</td>\n",
              "      <td>0.11037</td>\n",
              "      <td>0.17344</td>\n",
              "      <td>0.16430</td>\n",
              "      <td>0.07112</td>\n",
              "      <td>0.31268</td>\n",
              "      <td>2.14558</td>\n",
              "    </tr>\n",
              "    <tr>\n",
              "      <th>154</th>\n",
              "      <td>Togo</td>\n",
              "      <td>Sub-Saharan Africa</td>\n",
              "      <td>155</td>\n",
              "      <td>3.303</td>\n",
              "      <td>3.192</td>\n",
              "      <td>3.414</td>\n",
              "      <td>0.28123</td>\n",
              "      <td>0.00000</td>\n",
              "      <td>0.24811</td>\n",
              "      <td>0.34678</td>\n",
              "      <td>0.11587</td>\n",
              "      <td>0.17517</td>\n",
              "      <td>2.13540</td>\n",
              "    </tr>\n",
              "    <tr>\n",
              "      <th>155</th>\n",
              "      <td>Syria</td>\n",
              "      <td>Middle East and Northern Africa</td>\n",
              "      <td>156</td>\n",
              "      <td>3.069</td>\n",
              "      <td>2.936</td>\n",
              "      <td>3.202</td>\n",
              "      <td>0.74719</td>\n",
              "      <td>0.14866</td>\n",
              "      <td>0.62994</td>\n",
              "      <td>0.06912</td>\n",
              "      <td>0.17233</td>\n",
              "      <td>0.48397</td>\n",
              "      <td>0.81789</td>\n",
              "    </tr>\n",
              "    <tr>\n",
              "      <th>156</th>\n",
              "      <td>Burundi</td>\n",
              "      <td>Sub-Saharan Africa</td>\n",
              "      <td>157</td>\n",
              "      <td>2.905</td>\n",
              "      <td>2.732</td>\n",
              "      <td>3.078</td>\n",
              "      <td>0.06831</td>\n",
              "      <td>0.23442</td>\n",
              "      <td>0.15747</td>\n",
              "      <td>0.04320</td>\n",
              "      <td>0.09419</td>\n",
              "      <td>0.20290</td>\n",
              "      <td>2.10404</td>\n",
              "    </tr>\n",
              "  </tbody>\n",
              "</table>\n",
              "<p>157 rows × 13 columns</p>\n",
              "</div>"
            ],
            "text/plain": [
              "         Country  ... Dystopia Residual\n",
              "0        Denmark  ...           2.73939\n",
              "1    Switzerland  ...           2.69463\n",
              "2        Iceland  ...           2.83137\n",
              "3         Norway  ...           2.66465\n",
              "4        Finland  ...           2.82596\n",
              "..           ...  ...               ...\n",
              "152        Benin  ...           2.10812\n",
              "153  Afghanistan  ...           2.14558\n",
              "154         Togo  ...           2.13540\n",
              "155        Syria  ...           0.81789\n",
              "156      Burundi  ...           2.10404\n",
              "\n",
              "[157 rows x 13 columns]"
            ]
          },
          "metadata": {
            "tags": []
          },
          "execution_count": 43
        }
      ]
    },
    {
      "cell_type": "code",
      "metadata": {
        "id": "jjFVi_3IY45V"
      },
      "source": [
        "df2016 = data2016.drop(['Region', 'Lower Confidence Interval', 'Upper Confidence Interval'], axis = 1)"
      ],
      "execution_count": null,
      "outputs": []
    },
    {
      "cell_type": "code",
      "metadata": {
        "colab": {
          "base_uri": "https://localhost:8080/",
          "height": 490
        },
        "id": "5p28fxwqY_q6",
        "outputId": "5c1fb4e5-2c66-452f-c485-5ebc4dfa1d93"
      },
      "source": [
        "df2016"
      ],
      "execution_count": null,
      "outputs": [
        {
          "output_type": "execute_result",
          "data": {
            "text/html": [
              "<div>\n",
              "<style scoped>\n",
              "    .dataframe tbody tr th:only-of-type {\n",
              "        vertical-align: middle;\n",
              "    }\n",
              "\n",
              "    .dataframe tbody tr th {\n",
              "        vertical-align: top;\n",
              "    }\n",
              "\n",
              "    .dataframe thead th {\n",
              "        text-align: right;\n",
              "    }\n",
              "</style>\n",
              "<table border=\"1\" class=\"dataframe\">\n",
              "  <thead>\n",
              "    <tr style=\"text-align: right;\">\n",
              "      <th></th>\n",
              "      <th>Country</th>\n",
              "      <th>Happiness Rank</th>\n",
              "      <th>Happiness Score</th>\n",
              "      <th>Economy (GDP per Capita)</th>\n",
              "      <th>Family</th>\n",
              "      <th>Health (Life Expectancy)</th>\n",
              "      <th>Freedom</th>\n",
              "      <th>Trust (Government Corruption)</th>\n",
              "      <th>Generosity</th>\n",
              "      <th>Dystopia Residual</th>\n",
              "    </tr>\n",
              "  </thead>\n",
              "  <tbody>\n",
              "    <tr>\n",
              "      <th>0</th>\n",
              "      <td>Denmark</td>\n",
              "      <td>1</td>\n",
              "      <td>7.526</td>\n",
              "      <td>1.44178</td>\n",
              "      <td>1.16374</td>\n",
              "      <td>0.79504</td>\n",
              "      <td>0.57941</td>\n",
              "      <td>0.44453</td>\n",
              "      <td>0.36171</td>\n",
              "      <td>2.73939</td>\n",
              "    </tr>\n",
              "    <tr>\n",
              "      <th>1</th>\n",
              "      <td>Switzerland</td>\n",
              "      <td>2</td>\n",
              "      <td>7.509</td>\n",
              "      <td>1.52733</td>\n",
              "      <td>1.14524</td>\n",
              "      <td>0.86303</td>\n",
              "      <td>0.58557</td>\n",
              "      <td>0.41203</td>\n",
              "      <td>0.28083</td>\n",
              "      <td>2.69463</td>\n",
              "    </tr>\n",
              "    <tr>\n",
              "      <th>2</th>\n",
              "      <td>Iceland</td>\n",
              "      <td>3</td>\n",
              "      <td>7.501</td>\n",
              "      <td>1.42666</td>\n",
              "      <td>1.18326</td>\n",
              "      <td>0.86733</td>\n",
              "      <td>0.56624</td>\n",
              "      <td>0.14975</td>\n",
              "      <td>0.47678</td>\n",
              "      <td>2.83137</td>\n",
              "    </tr>\n",
              "    <tr>\n",
              "      <th>3</th>\n",
              "      <td>Norway</td>\n",
              "      <td>4</td>\n",
              "      <td>7.498</td>\n",
              "      <td>1.57744</td>\n",
              "      <td>1.12690</td>\n",
              "      <td>0.79579</td>\n",
              "      <td>0.59609</td>\n",
              "      <td>0.35776</td>\n",
              "      <td>0.37895</td>\n",
              "      <td>2.66465</td>\n",
              "    </tr>\n",
              "    <tr>\n",
              "      <th>4</th>\n",
              "      <td>Finland</td>\n",
              "      <td>5</td>\n",
              "      <td>7.413</td>\n",
              "      <td>1.40598</td>\n",
              "      <td>1.13464</td>\n",
              "      <td>0.81091</td>\n",
              "      <td>0.57104</td>\n",
              "      <td>0.41004</td>\n",
              "      <td>0.25492</td>\n",
              "      <td>2.82596</td>\n",
              "    </tr>\n",
              "    <tr>\n",
              "      <th>...</th>\n",
              "      <td>...</td>\n",
              "      <td>...</td>\n",
              "      <td>...</td>\n",
              "      <td>...</td>\n",
              "      <td>...</td>\n",
              "      <td>...</td>\n",
              "      <td>...</td>\n",
              "      <td>...</td>\n",
              "      <td>...</td>\n",
              "      <td>...</td>\n",
              "    </tr>\n",
              "    <tr>\n",
              "      <th>152</th>\n",
              "      <td>Benin</td>\n",
              "      <td>153</td>\n",
              "      <td>3.484</td>\n",
              "      <td>0.39499</td>\n",
              "      <td>0.10419</td>\n",
              "      <td>0.21028</td>\n",
              "      <td>0.39747</td>\n",
              "      <td>0.06681</td>\n",
              "      <td>0.20180</td>\n",
              "      <td>2.10812</td>\n",
              "    </tr>\n",
              "    <tr>\n",
              "      <th>153</th>\n",
              "      <td>Afghanistan</td>\n",
              "      <td>154</td>\n",
              "      <td>3.360</td>\n",
              "      <td>0.38227</td>\n",
              "      <td>0.11037</td>\n",
              "      <td>0.17344</td>\n",
              "      <td>0.16430</td>\n",
              "      <td>0.07112</td>\n",
              "      <td>0.31268</td>\n",
              "      <td>2.14558</td>\n",
              "    </tr>\n",
              "    <tr>\n",
              "      <th>154</th>\n",
              "      <td>Togo</td>\n",
              "      <td>155</td>\n",
              "      <td>3.303</td>\n",
              "      <td>0.28123</td>\n",
              "      <td>0.00000</td>\n",
              "      <td>0.24811</td>\n",
              "      <td>0.34678</td>\n",
              "      <td>0.11587</td>\n",
              "      <td>0.17517</td>\n",
              "      <td>2.13540</td>\n",
              "    </tr>\n",
              "    <tr>\n",
              "      <th>155</th>\n",
              "      <td>Syria</td>\n",
              "      <td>156</td>\n",
              "      <td>3.069</td>\n",
              "      <td>0.74719</td>\n",
              "      <td>0.14866</td>\n",
              "      <td>0.62994</td>\n",
              "      <td>0.06912</td>\n",
              "      <td>0.17233</td>\n",
              "      <td>0.48397</td>\n",
              "      <td>0.81789</td>\n",
              "    </tr>\n",
              "    <tr>\n",
              "      <th>156</th>\n",
              "      <td>Burundi</td>\n",
              "      <td>157</td>\n",
              "      <td>2.905</td>\n",
              "      <td>0.06831</td>\n",
              "      <td>0.23442</td>\n",
              "      <td>0.15747</td>\n",
              "      <td>0.04320</td>\n",
              "      <td>0.09419</td>\n",
              "      <td>0.20290</td>\n",
              "      <td>2.10404</td>\n",
              "    </tr>\n",
              "  </tbody>\n",
              "</table>\n",
              "<p>157 rows × 10 columns</p>\n",
              "</div>"
            ],
            "text/plain": [
              "         Country  Happiness Rank  ...  Generosity  Dystopia Residual\n",
              "0        Denmark               1  ...     0.36171            2.73939\n",
              "1    Switzerland               2  ...     0.28083            2.69463\n",
              "2        Iceland               3  ...     0.47678            2.83137\n",
              "3         Norway               4  ...     0.37895            2.66465\n",
              "4        Finland               5  ...     0.25492            2.82596\n",
              "..           ...             ...  ...         ...                ...\n",
              "152        Benin             153  ...     0.20180            2.10812\n",
              "153  Afghanistan             154  ...     0.31268            2.14558\n",
              "154         Togo             155  ...     0.17517            2.13540\n",
              "155        Syria             156  ...     0.48397            0.81789\n",
              "156      Burundi             157  ...     0.20290            2.10404\n",
              "\n",
              "[157 rows x 10 columns]"
            ]
          },
          "metadata": {
            "tags": []
          },
          "execution_count": 45
        }
      ]
    },
    {
      "cell_type": "markdown",
      "metadata": {
        "id": "R57gr-9JZP9i"
      },
      "source": [
        "####Datos 2017"
      ]
    },
    {
      "cell_type": "code",
      "metadata": {
        "id": "YXKStu1sZSRy"
      },
      "source": [
        "data2017 = pd.read_csv('https://raw.githubusercontent.com/fortiz98/TrabajoAAII/main/2017.csv')"
      ],
      "execution_count": null,
      "outputs": []
    },
    {
      "cell_type": "code",
      "metadata": {
        "colab": {
          "base_uri": "https://localhost:8080/",
          "height": 473
        },
        "id": "Xxbl58xGZaWy",
        "outputId": "e017b934-68f1-492b-a137-8c9e93f93999"
      },
      "source": [
        "data2017"
      ],
      "execution_count": null,
      "outputs": [
        {
          "output_type": "execute_result",
          "data": {
            "text/html": [
              "<div>\n",
              "<style scoped>\n",
              "    .dataframe tbody tr th:only-of-type {\n",
              "        vertical-align: middle;\n",
              "    }\n",
              "\n",
              "    .dataframe tbody tr th {\n",
              "        vertical-align: top;\n",
              "    }\n",
              "\n",
              "    .dataframe thead th {\n",
              "        text-align: right;\n",
              "    }\n",
              "</style>\n",
              "<table border=\"1\" class=\"dataframe\">\n",
              "  <thead>\n",
              "    <tr style=\"text-align: right;\">\n",
              "      <th></th>\n",
              "      <th>Country</th>\n",
              "      <th>Happiness.Rank</th>\n",
              "      <th>Happiness.Score</th>\n",
              "      <th>Whisker.high</th>\n",
              "      <th>Whisker.low</th>\n",
              "      <th>Economy..GDP.per.Capita.</th>\n",
              "      <th>Family</th>\n",
              "      <th>Health..Life.Expectancy.</th>\n",
              "      <th>Freedom</th>\n",
              "      <th>Generosity</th>\n",
              "      <th>Trust..Government.Corruption.</th>\n",
              "      <th>Dystopia.Residual</th>\n",
              "    </tr>\n",
              "  </thead>\n",
              "  <tbody>\n",
              "    <tr>\n",
              "      <th>0</th>\n",
              "      <td>Norway</td>\n",
              "      <td>1</td>\n",
              "      <td>7.537</td>\n",
              "      <td>7.594445</td>\n",
              "      <td>7.479556</td>\n",
              "      <td>1.616463</td>\n",
              "      <td>1.533524</td>\n",
              "      <td>0.796667</td>\n",
              "      <td>0.635423</td>\n",
              "      <td>0.362012</td>\n",
              "      <td>0.315964</td>\n",
              "      <td>2.277027</td>\n",
              "    </tr>\n",
              "    <tr>\n",
              "      <th>1</th>\n",
              "      <td>Denmark</td>\n",
              "      <td>2</td>\n",
              "      <td>7.522</td>\n",
              "      <td>7.581728</td>\n",
              "      <td>7.462272</td>\n",
              "      <td>1.482383</td>\n",
              "      <td>1.551122</td>\n",
              "      <td>0.792566</td>\n",
              "      <td>0.626007</td>\n",
              "      <td>0.355280</td>\n",
              "      <td>0.400770</td>\n",
              "      <td>2.313707</td>\n",
              "    </tr>\n",
              "    <tr>\n",
              "      <th>2</th>\n",
              "      <td>Iceland</td>\n",
              "      <td>3</td>\n",
              "      <td>7.504</td>\n",
              "      <td>7.622030</td>\n",
              "      <td>7.385970</td>\n",
              "      <td>1.480633</td>\n",
              "      <td>1.610574</td>\n",
              "      <td>0.833552</td>\n",
              "      <td>0.627163</td>\n",
              "      <td>0.475540</td>\n",
              "      <td>0.153527</td>\n",
              "      <td>2.322715</td>\n",
              "    </tr>\n",
              "    <tr>\n",
              "      <th>3</th>\n",
              "      <td>Switzerland</td>\n",
              "      <td>4</td>\n",
              "      <td>7.494</td>\n",
              "      <td>7.561772</td>\n",
              "      <td>7.426227</td>\n",
              "      <td>1.564980</td>\n",
              "      <td>1.516912</td>\n",
              "      <td>0.858131</td>\n",
              "      <td>0.620071</td>\n",
              "      <td>0.290549</td>\n",
              "      <td>0.367007</td>\n",
              "      <td>2.276716</td>\n",
              "    </tr>\n",
              "    <tr>\n",
              "      <th>4</th>\n",
              "      <td>Finland</td>\n",
              "      <td>5</td>\n",
              "      <td>7.469</td>\n",
              "      <td>7.527542</td>\n",
              "      <td>7.410458</td>\n",
              "      <td>1.443572</td>\n",
              "      <td>1.540247</td>\n",
              "      <td>0.809158</td>\n",
              "      <td>0.617951</td>\n",
              "      <td>0.245483</td>\n",
              "      <td>0.382612</td>\n",
              "      <td>2.430182</td>\n",
              "    </tr>\n",
              "    <tr>\n",
              "      <th>...</th>\n",
              "      <td>...</td>\n",
              "      <td>...</td>\n",
              "      <td>...</td>\n",
              "      <td>...</td>\n",
              "      <td>...</td>\n",
              "      <td>...</td>\n",
              "      <td>...</td>\n",
              "      <td>...</td>\n",
              "      <td>...</td>\n",
              "      <td>...</td>\n",
              "      <td>...</td>\n",
              "      <td>...</td>\n",
              "    </tr>\n",
              "    <tr>\n",
              "      <th>150</th>\n",
              "      <td>Rwanda</td>\n",
              "      <td>151</td>\n",
              "      <td>3.471</td>\n",
              "      <td>3.543030</td>\n",
              "      <td>3.398970</td>\n",
              "      <td>0.368746</td>\n",
              "      <td>0.945707</td>\n",
              "      <td>0.326425</td>\n",
              "      <td>0.581844</td>\n",
              "      <td>0.252756</td>\n",
              "      <td>0.455220</td>\n",
              "      <td>0.540061</td>\n",
              "    </tr>\n",
              "    <tr>\n",
              "      <th>151</th>\n",
              "      <td>Syria</td>\n",
              "      <td>152</td>\n",
              "      <td>3.462</td>\n",
              "      <td>3.663669</td>\n",
              "      <td>3.260331</td>\n",
              "      <td>0.777153</td>\n",
              "      <td>0.396103</td>\n",
              "      <td>0.500533</td>\n",
              "      <td>0.081539</td>\n",
              "      <td>0.493664</td>\n",
              "      <td>0.151347</td>\n",
              "      <td>1.061574</td>\n",
              "    </tr>\n",
              "    <tr>\n",
              "      <th>152</th>\n",
              "      <td>Tanzania</td>\n",
              "      <td>153</td>\n",
              "      <td>3.349</td>\n",
              "      <td>3.461430</td>\n",
              "      <td>3.236570</td>\n",
              "      <td>0.511136</td>\n",
              "      <td>1.041990</td>\n",
              "      <td>0.364509</td>\n",
              "      <td>0.390018</td>\n",
              "      <td>0.354256</td>\n",
              "      <td>0.066035</td>\n",
              "      <td>0.621130</td>\n",
              "    </tr>\n",
              "    <tr>\n",
              "      <th>153</th>\n",
              "      <td>Burundi</td>\n",
              "      <td>154</td>\n",
              "      <td>2.905</td>\n",
              "      <td>3.074690</td>\n",
              "      <td>2.735310</td>\n",
              "      <td>0.091623</td>\n",
              "      <td>0.629794</td>\n",
              "      <td>0.151611</td>\n",
              "      <td>0.059901</td>\n",
              "      <td>0.204435</td>\n",
              "      <td>0.084148</td>\n",
              "      <td>1.683024</td>\n",
              "    </tr>\n",
              "    <tr>\n",
              "      <th>154</th>\n",
              "      <td>Central African Republic</td>\n",
              "      <td>155</td>\n",
              "      <td>2.693</td>\n",
              "      <td>2.864884</td>\n",
              "      <td>2.521116</td>\n",
              "      <td>0.000000</td>\n",
              "      <td>0.000000</td>\n",
              "      <td>0.018773</td>\n",
              "      <td>0.270842</td>\n",
              "      <td>0.280876</td>\n",
              "      <td>0.056565</td>\n",
              "      <td>2.066005</td>\n",
              "    </tr>\n",
              "  </tbody>\n",
              "</table>\n",
              "<p>155 rows × 12 columns</p>\n",
              "</div>"
            ],
            "text/plain": [
              "                      Country  ...  Dystopia.Residual\n",
              "0                      Norway  ...           2.277027\n",
              "1                     Denmark  ...           2.313707\n",
              "2                     Iceland  ...           2.322715\n",
              "3                 Switzerland  ...           2.276716\n",
              "4                     Finland  ...           2.430182\n",
              "..                        ...  ...                ...\n",
              "150                    Rwanda  ...           0.540061\n",
              "151                     Syria  ...           1.061574\n",
              "152                  Tanzania  ...           0.621130\n",
              "153                   Burundi  ...           1.683024\n",
              "154  Central African Republic  ...           2.066005\n",
              "\n",
              "[155 rows x 12 columns]"
            ]
          },
          "metadata": {
            "tags": []
          },
          "execution_count": 47
        }
      ]
    },
    {
      "cell_type": "code",
      "metadata": {
        "id": "W--UyKheZlDs"
      },
      "source": [
        "df2017 = data2017.drop(['Whisker.high', 'Whisker.low'], axis = 1)"
      ],
      "execution_count": null,
      "outputs": []
    },
    {
      "cell_type": "code",
      "metadata": {
        "id": "6rNKF2mJZnp2"
      },
      "source": [
        "df2017_2 = df2017[['Country','Happiness.Rank','Happiness.Score','Economy..GDP.per.Capita.','Family','Health..Life.Expectancy.','Freedom','Trust..Government.Corruption.','Generosity','Dystopia.Residual']]"
      ],
      "execution_count": null,
      "outputs": []
    },
    {
      "cell_type": "code",
      "metadata": {
        "colab": {
          "base_uri": "https://localhost:8080/",
          "height": 473
        },
        "id": "dIH_KCcHZ5BO",
        "outputId": "bf49cccd-b54e-4ed8-be6b-134f3b1a426a"
      },
      "source": [
        "df2017_2"
      ],
      "execution_count": null,
      "outputs": [
        {
          "output_type": "execute_result",
          "data": {
            "text/html": [
              "<div>\n",
              "<style scoped>\n",
              "    .dataframe tbody tr th:only-of-type {\n",
              "        vertical-align: middle;\n",
              "    }\n",
              "\n",
              "    .dataframe tbody tr th {\n",
              "        vertical-align: top;\n",
              "    }\n",
              "\n",
              "    .dataframe thead th {\n",
              "        text-align: right;\n",
              "    }\n",
              "</style>\n",
              "<table border=\"1\" class=\"dataframe\">\n",
              "  <thead>\n",
              "    <tr style=\"text-align: right;\">\n",
              "      <th></th>\n",
              "      <th>Country</th>\n",
              "      <th>Happiness.Rank</th>\n",
              "      <th>Happiness.Score</th>\n",
              "      <th>Economy..GDP.per.Capita.</th>\n",
              "      <th>Family</th>\n",
              "      <th>Health..Life.Expectancy.</th>\n",
              "      <th>Freedom</th>\n",
              "      <th>Trust..Government.Corruption.</th>\n",
              "      <th>Generosity</th>\n",
              "      <th>Dystopia.Residual</th>\n",
              "    </tr>\n",
              "  </thead>\n",
              "  <tbody>\n",
              "    <tr>\n",
              "      <th>0</th>\n",
              "      <td>Norway</td>\n",
              "      <td>1</td>\n",
              "      <td>7.537</td>\n",
              "      <td>1.616463</td>\n",
              "      <td>1.533524</td>\n",
              "      <td>0.796667</td>\n",
              "      <td>0.635423</td>\n",
              "      <td>0.315964</td>\n",
              "      <td>0.362012</td>\n",
              "      <td>2.277027</td>\n",
              "    </tr>\n",
              "    <tr>\n",
              "      <th>1</th>\n",
              "      <td>Denmark</td>\n",
              "      <td>2</td>\n",
              "      <td>7.522</td>\n",
              "      <td>1.482383</td>\n",
              "      <td>1.551122</td>\n",
              "      <td>0.792566</td>\n",
              "      <td>0.626007</td>\n",
              "      <td>0.400770</td>\n",
              "      <td>0.355280</td>\n",
              "      <td>2.313707</td>\n",
              "    </tr>\n",
              "    <tr>\n",
              "      <th>2</th>\n",
              "      <td>Iceland</td>\n",
              "      <td>3</td>\n",
              "      <td>7.504</td>\n",
              "      <td>1.480633</td>\n",
              "      <td>1.610574</td>\n",
              "      <td>0.833552</td>\n",
              "      <td>0.627163</td>\n",
              "      <td>0.153527</td>\n",
              "      <td>0.475540</td>\n",
              "      <td>2.322715</td>\n",
              "    </tr>\n",
              "    <tr>\n",
              "      <th>3</th>\n",
              "      <td>Switzerland</td>\n",
              "      <td>4</td>\n",
              "      <td>7.494</td>\n",
              "      <td>1.564980</td>\n",
              "      <td>1.516912</td>\n",
              "      <td>0.858131</td>\n",
              "      <td>0.620071</td>\n",
              "      <td>0.367007</td>\n",
              "      <td>0.290549</td>\n",
              "      <td>2.276716</td>\n",
              "    </tr>\n",
              "    <tr>\n",
              "      <th>4</th>\n",
              "      <td>Finland</td>\n",
              "      <td>5</td>\n",
              "      <td>7.469</td>\n",
              "      <td>1.443572</td>\n",
              "      <td>1.540247</td>\n",
              "      <td>0.809158</td>\n",
              "      <td>0.617951</td>\n",
              "      <td>0.382612</td>\n",
              "      <td>0.245483</td>\n",
              "      <td>2.430182</td>\n",
              "    </tr>\n",
              "    <tr>\n",
              "      <th>...</th>\n",
              "      <td>...</td>\n",
              "      <td>...</td>\n",
              "      <td>...</td>\n",
              "      <td>...</td>\n",
              "      <td>...</td>\n",
              "      <td>...</td>\n",
              "      <td>...</td>\n",
              "      <td>...</td>\n",
              "      <td>...</td>\n",
              "      <td>...</td>\n",
              "    </tr>\n",
              "    <tr>\n",
              "      <th>150</th>\n",
              "      <td>Rwanda</td>\n",
              "      <td>151</td>\n",
              "      <td>3.471</td>\n",
              "      <td>0.368746</td>\n",
              "      <td>0.945707</td>\n",
              "      <td>0.326425</td>\n",
              "      <td>0.581844</td>\n",
              "      <td>0.455220</td>\n",
              "      <td>0.252756</td>\n",
              "      <td>0.540061</td>\n",
              "    </tr>\n",
              "    <tr>\n",
              "      <th>151</th>\n",
              "      <td>Syria</td>\n",
              "      <td>152</td>\n",
              "      <td>3.462</td>\n",
              "      <td>0.777153</td>\n",
              "      <td>0.396103</td>\n",
              "      <td>0.500533</td>\n",
              "      <td>0.081539</td>\n",
              "      <td>0.151347</td>\n",
              "      <td>0.493664</td>\n",
              "      <td>1.061574</td>\n",
              "    </tr>\n",
              "    <tr>\n",
              "      <th>152</th>\n",
              "      <td>Tanzania</td>\n",
              "      <td>153</td>\n",
              "      <td>3.349</td>\n",
              "      <td>0.511136</td>\n",
              "      <td>1.041990</td>\n",
              "      <td>0.364509</td>\n",
              "      <td>0.390018</td>\n",
              "      <td>0.066035</td>\n",
              "      <td>0.354256</td>\n",
              "      <td>0.621130</td>\n",
              "    </tr>\n",
              "    <tr>\n",
              "      <th>153</th>\n",
              "      <td>Burundi</td>\n",
              "      <td>154</td>\n",
              "      <td>2.905</td>\n",
              "      <td>0.091623</td>\n",
              "      <td>0.629794</td>\n",
              "      <td>0.151611</td>\n",
              "      <td>0.059901</td>\n",
              "      <td>0.084148</td>\n",
              "      <td>0.204435</td>\n",
              "      <td>1.683024</td>\n",
              "    </tr>\n",
              "    <tr>\n",
              "      <th>154</th>\n",
              "      <td>Central African Republic</td>\n",
              "      <td>155</td>\n",
              "      <td>2.693</td>\n",
              "      <td>0.000000</td>\n",
              "      <td>0.000000</td>\n",
              "      <td>0.018773</td>\n",
              "      <td>0.270842</td>\n",
              "      <td>0.056565</td>\n",
              "      <td>0.280876</td>\n",
              "      <td>2.066005</td>\n",
              "    </tr>\n",
              "  </tbody>\n",
              "</table>\n",
              "<p>155 rows × 10 columns</p>\n",
              "</div>"
            ],
            "text/plain": [
              "                      Country  Happiness.Rank  ...  Generosity  Dystopia.Residual\n",
              "0                      Norway               1  ...    0.362012           2.277027\n",
              "1                     Denmark               2  ...    0.355280           2.313707\n",
              "2                     Iceland               3  ...    0.475540           2.322715\n",
              "3                 Switzerland               4  ...    0.290549           2.276716\n",
              "4                     Finland               5  ...    0.245483           2.430182\n",
              "..                        ...             ...  ...         ...                ...\n",
              "150                    Rwanda             151  ...    0.252756           0.540061\n",
              "151                     Syria             152  ...    0.493664           1.061574\n",
              "152                  Tanzania             153  ...    0.354256           0.621130\n",
              "153                   Burundi             154  ...    0.204435           1.683024\n",
              "154  Central African Republic             155  ...    0.280876           2.066005\n",
              "\n",
              "[155 rows x 10 columns]"
            ]
          },
          "metadata": {
            "tags": []
          },
          "execution_count": 50
        }
      ]
    },
    {
      "cell_type": "code",
      "metadata": {
        "id": "KGCF-USKZ7on"
      },
      "source": [
        "df2017_2.columns = ['Country', 'Happiness Rank', 'Happiness Score', 'Economy (GDP per Capita)', 'Family', 'Health (Life Expectancy)', 'Freedom', 'Trust (Government Corruption)', 'Generosity', 'Dystopia Residual']"
      ],
      "execution_count": null,
      "outputs": []
    },
    {
      "cell_type": "markdown",
      "metadata": {
        "id": "orqa0Z2naCSz"
      },
      "source": [
        "####Juntar archivos"
      ]
    },
    {
      "cell_type": "code",
      "metadata": {
        "id": "CPQ9Wr4RaEmc"
      },
      "source": [
        "dffelicidad = pd.concat([df2015,df2016,df2017_2],  ignore_index=True)"
      ],
      "execution_count": null,
      "outputs": []
    },
    {
      "cell_type": "code",
      "metadata": {
        "colab": {
          "base_uri": "https://localhost:8080/",
          "height": 524
        },
        "id": "cSjEzV0paKDX",
        "outputId": "a2dd8660-a29b-4c5c-ad44-507cff40c7ca"
      },
      "source": [
        "dffelicidad"
      ],
      "execution_count": null,
      "outputs": [
        {
          "output_type": "execute_result",
          "data": {
            "text/html": [
              "<div>\n",
              "<style scoped>\n",
              "    .dataframe tbody tr th:only-of-type {\n",
              "        vertical-align: middle;\n",
              "    }\n",
              "\n",
              "    .dataframe tbody tr th {\n",
              "        vertical-align: top;\n",
              "    }\n",
              "\n",
              "    .dataframe thead th {\n",
              "        text-align: right;\n",
              "    }\n",
              "</style>\n",
              "<table border=\"1\" class=\"dataframe\">\n",
              "  <thead>\n",
              "    <tr style=\"text-align: right;\">\n",
              "      <th></th>\n",
              "      <th>Country</th>\n",
              "      <th>Happiness Rank</th>\n",
              "      <th>Happiness Score</th>\n",
              "      <th>Economy (GDP per Capita)</th>\n",
              "      <th>Family</th>\n",
              "      <th>Health (Life Expectancy)</th>\n",
              "      <th>Freedom</th>\n",
              "      <th>Trust (Government Corruption)</th>\n",
              "      <th>Generosity</th>\n",
              "      <th>Dystopia Residual</th>\n",
              "    </tr>\n",
              "  </thead>\n",
              "  <tbody>\n",
              "    <tr>\n",
              "      <th>0</th>\n",
              "      <td>Switzerland</td>\n",
              "      <td>1</td>\n",
              "      <td>7.587</td>\n",
              "      <td>1.396510</td>\n",
              "      <td>1.349510</td>\n",
              "      <td>0.941430</td>\n",
              "      <td>0.665570</td>\n",
              "      <td>0.419780</td>\n",
              "      <td>0.296780</td>\n",
              "      <td>2.517380</td>\n",
              "    </tr>\n",
              "    <tr>\n",
              "      <th>1</th>\n",
              "      <td>Iceland</td>\n",
              "      <td>2</td>\n",
              "      <td>7.561</td>\n",
              "      <td>1.302320</td>\n",
              "      <td>1.402230</td>\n",
              "      <td>0.947840</td>\n",
              "      <td>0.628770</td>\n",
              "      <td>0.141450</td>\n",
              "      <td>0.436300</td>\n",
              "      <td>2.702010</td>\n",
              "    </tr>\n",
              "    <tr>\n",
              "      <th>2</th>\n",
              "      <td>Denmark</td>\n",
              "      <td>3</td>\n",
              "      <td>7.527</td>\n",
              "      <td>1.325480</td>\n",
              "      <td>1.360580</td>\n",
              "      <td>0.874640</td>\n",
              "      <td>0.649380</td>\n",
              "      <td>0.483570</td>\n",
              "      <td>0.341390</td>\n",
              "      <td>2.492040</td>\n",
              "    </tr>\n",
              "    <tr>\n",
              "      <th>3</th>\n",
              "      <td>Norway</td>\n",
              "      <td>4</td>\n",
              "      <td>7.522</td>\n",
              "      <td>1.459000</td>\n",
              "      <td>1.330950</td>\n",
              "      <td>0.885210</td>\n",
              "      <td>0.669730</td>\n",
              "      <td>0.365030</td>\n",
              "      <td>0.346990</td>\n",
              "      <td>2.465310</td>\n",
              "    </tr>\n",
              "    <tr>\n",
              "      <th>4</th>\n",
              "      <td>Canada</td>\n",
              "      <td>5</td>\n",
              "      <td>7.427</td>\n",
              "      <td>1.326290</td>\n",
              "      <td>1.322610</td>\n",
              "      <td>0.905630</td>\n",
              "      <td>0.632970</td>\n",
              "      <td>0.329570</td>\n",
              "      <td>0.458110</td>\n",
              "      <td>2.451760</td>\n",
              "    </tr>\n",
              "    <tr>\n",
              "      <th>...</th>\n",
              "      <td>...</td>\n",
              "      <td>...</td>\n",
              "      <td>...</td>\n",
              "      <td>...</td>\n",
              "      <td>...</td>\n",
              "      <td>...</td>\n",
              "      <td>...</td>\n",
              "      <td>...</td>\n",
              "      <td>...</td>\n",
              "      <td>...</td>\n",
              "    </tr>\n",
              "    <tr>\n",
              "      <th>465</th>\n",
              "      <td>Rwanda</td>\n",
              "      <td>151</td>\n",
              "      <td>3.471</td>\n",
              "      <td>0.368746</td>\n",
              "      <td>0.945707</td>\n",
              "      <td>0.326425</td>\n",
              "      <td>0.581844</td>\n",
              "      <td>0.455220</td>\n",
              "      <td>0.252756</td>\n",
              "      <td>0.540061</td>\n",
              "    </tr>\n",
              "    <tr>\n",
              "      <th>466</th>\n",
              "      <td>Syria</td>\n",
              "      <td>152</td>\n",
              "      <td>3.462</td>\n",
              "      <td>0.777153</td>\n",
              "      <td>0.396103</td>\n",
              "      <td>0.500533</td>\n",
              "      <td>0.081539</td>\n",
              "      <td>0.151347</td>\n",
              "      <td>0.493664</td>\n",
              "      <td>1.061574</td>\n",
              "    </tr>\n",
              "    <tr>\n",
              "      <th>467</th>\n",
              "      <td>Tanzania</td>\n",
              "      <td>153</td>\n",
              "      <td>3.349</td>\n",
              "      <td>0.511136</td>\n",
              "      <td>1.041990</td>\n",
              "      <td>0.364509</td>\n",
              "      <td>0.390018</td>\n",
              "      <td>0.066035</td>\n",
              "      <td>0.354256</td>\n",
              "      <td>0.621130</td>\n",
              "    </tr>\n",
              "    <tr>\n",
              "      <th>468</th>\n",
              "      <td>Burundi</td>\n",
              "      <td>154</td>\n",
              "      <td>2.905</td>\n",
              "      <td>0.091623</td>\n",
              "      <td>0.629794</td>\n",
              "      <td>0.151611</td>\n",
              "      <td>0.059901</td>\n",
              "      <td>0.084148</td>\n",
              "      <td>0.204435</td>\n",
              "      <td>1.683024</td>\n",
              "    </tr>\n",
              "    <tr>\n",
              "      <th>469</th>\n",
              "      <td>Central African Republic</td>\n",
              "      <td>155</td>\n",
              "      <td>2.693</td>\n",
              "      <td>0.000000</td>\n",
              "      <td>0.000000</td>\n",
              "      <td>0.018773</td>\n",
              "      <td>0.270842</td>\n",
              "      <td>0.056565</td>\n",
              "      <td>0.280876</td>\n",
              "      <td>2.066005</td>\n",
              "    </tr>\n",
              "  </tbody>\n",
              "</table>\n",
              "<p>470 rows × 10 columns</p>\n",
              "</div>"
            ],
            "text/plain": [
              "                      Country  Happiness Rank  ...  Generosity  Dystopia Residual\n",
              "0                 Switzerland               1  ...    0.296780           2.517380\n",
              "1                     Iceland               2  ...    0.436300           2.702010\n",
              "2                     Denmark               3  ...    0.341390           2.492040\n",
              "3                      Norway               4  ...    0.346990           2.465310\n",
              "4                      Canada               5  ...    0.458110           2.451760\n",
              "..                        ...             ...  ...         ...                ...\n",
              "465                    Rwanda             151  ...    0.252756           0.540061\n",
              "466                     Syria             152  ...    0.493664           1.061574\n",
              "467                  Tanzania             153  ...    0.354256           0.621130\n",
              "468                   Burundi             154  ...    0.204435           1.683024\n",
              "469  Central African Republic             155  ...    0.280876           2.066005\n",
              "\n",
              "[470 rows x 10 columns]"
            ]
          },
          "metadata": {
            "tags": []
          },
          "execution_count": 53
        }
      ]
    },
    {
      "cell_type": "code",
      "metadata": {
        "id": "mykG2YgLaMon"
      },
      "source": [
        "dffelicidad.to_csv('datosFelicidad.csv', index=False)"
      ],
      "execution_count": null,
      "outputs": []
    },
    {
      "cell_type": "markdown",
      "metadata": {
        "id": "yf0O6WNAGCuQ"
      },
      "source": [
        "###**Datos de entrada**"
      ]
    },
    {
      "cell_type": "code",
      "metadata": {
        "colab": {
          "base_uri": "https://localhost:8080/",
          "height": 204
        },
        "id": "xxmckaICG3Jd",
        "outputId": "7237f256-85c5-4762-c231-ff8571dd7fb4"
      },
      "source": [
        "df = pd.read_csv('https://raw.githubusercontent.com/fortiz98/TrabajoAAII/main/datosFelicidad.csv')\r\n",
        "df.head()"
      ],
      "execution_count": null,
      "outputs": [
        {
          "output_type": "execute_result",
          "data": {
            "text/html": [
              "<div>\n",
              "<style scoped>\n",
              "    .dataframe tbody tr th:only-of-type {\n",
              "        vertical-align: middle;\n",
              "    }\n",
              "\n",
              "    .dataframe tbody tr th {\n",
              "        vertical-align: top;\n",
              "    }\n",
              "\n",
              "    .dataframe thead th {\n",
              "        text-align: right;\n",
              "    }\n",
              "</style>\n",
              "<table border=\"1\" class=\"dataframe\">\n",
              "  <thead>\n",
              "    <tr style=\"text-align: right;\">\n",
              "      <th></th>\n",
              "      <th>Country</th>\n",
              "      <th>Happiness Rank</th>\n",
              "      <th>Happiness Score</th>\n",
              "      <th>Economy (GDP per Capita)</th>\n",
              "      <th>Family</th>\n",
              "      <th>Health (Life Expectancy)</th>\n",
              "      <th>Freedom</th>\n",
              "      <th>Trust (Government Corruption)</th>\n",
              "      <th>Generosity</th>\n",
              "      <th>Dystopia Residual</th>\n",
              "    </tr>\n",
              "  </thead>\n",
              "  <tbody>\n",
              "    <tr>\n",
              "      <th>0</th>\n",
              "      <td>Switzerland</td>\n",
              "      <td>1</td>\n",
              "      <td>7.587</td>\n",
              "      <td>1.39651</td>\n",
              "      <td>1.34951</td>\n",
              "      <td>0.94143</td>\n",
              "      <td>0.66557</td>\n",
              "      <td>0.41978</td>\n",
              "      <td>0.29678</td>\n",
              "      <td>2.51738</td>\n",
              "    </tr>\n",
              "    <tr>\n",
              "      <th>1</th>\n",
              "      <td>Iceland</td>\n",
              "      <td>2</td>\n",
              "      <td>7.561</td>\n",
              "      <td>1.30232</td>\n",
              "      <td>1.40223</td>\n",
              "      <td>0.94784</td>\n",
              "      <td>0.62877</td>\n",
              "      <td>0.14145</td>\n",
              "      <td>0.43630</td>\n",
              "      <td>2.70201</td>\n",
              "    </tr>\n",
              "    <tr>\n",
              "      <th>2</th>\n",
              "      <td>Denmark</td>\n",
              "      <td>3</td>\n",
              "      <td>7.527</td>\n",
              "      <td>1.32548</td>\n",
              "      <td>1.36058</td>\n",
              "      <td>0.87464</td>\n",
              "      <td>0.64938</td>\n",
              "      <td>0.48357</td>\n",
              "      <td>0.34139</td>\n",
              "      <td>2.49204</td>\n",
              "    </tr>\n",
              "    <tr>\n",
              "      <th>3</th>\n",
              "      <td>Norway</td>\n",
              "      <td>4</td>\n",
              "      <td>7.522</td>\n",
              "      <td>1.45900</td>\n",
              "      <td>1.33095</td>\n",
              "      <td>0.88521</td>\n",
              "      <td>0.66973</td>\n",
              "      <td>0.36503</td>\n",
              "      <td>0.34699</td>\n",
              "      <td>2.46531</td>\n",
              "    </tr>\n",
              "    <tr>\n",
              "      <th>4</th>\n",
              "      <td>Canada</td>\n",
              "      <td>5</td>\n",
              "      <td>7.427</td>\n",
              "      <td>1.32629</td>\n",
              "      <td>1.32261</td>\n",
              "      <td>0.90563</td>\n",
              "      <td>0.63297</td>\n",
              "      <td>0.32957</td>\n",
              "      <td>0.45811</td>\n",
              "      <td>2.45176</td>\n",
              "    </tr>\n",
              "  </tbody>\n",
              "</table>\n",
              "</div>"
            ],
            "text/plain": [
              "       Country  Happiness Rank  ...  Generosity  Dystopia Residual\n",
              "0  Switzerland               1  ...     0.29678            2.51738\n",
              "1      Iceland               2  ...     0.43630            2.70201\n",
              "2      Denmark               3  ...     0.34139            2.49204\n",
              "3       Norway               4  ...     0.34699            2.46531\n",
              "4       Canada               5  ...     0.45811            2.45176\n",
              "\n",
              "[5 rows x 10 columns]"
            ]
          },
          "metadata": {
            "tags": []
          },
          "execution_count": 39
        }
      ]
    },
    {
      "cell_type": "code",
      "metadata": {
        "colab": {
          "base_uri": "https://localhost:8080/",
          "height": 385
        },
        "id": "_KWZ8bcoR7ut",
        "outputId": "7bc5f179-fe02-4ac7-d584-3f7d6a7ffaed"
      },
      "source": [
        "from sklearn.preprocessing import LabelEncoder\r\n",
        "# Dividir las instancias como \"happiness\" or \"sadness\" dependiendo de si el hapiness score es mayor o menor que 5.\r\n",
        "bins = (0, 5, 10)\r\n",
        "group_names = ['sadness', 'happiness']\r\n",
        "df['Happiness Score'] = pd.cut(df['Happiness Score'], bins = bins, labels = group_names)\r\n",
        "# Asignamos una etiqueta a \"quality\"\r\n",
        "label_quality = LabelEncoder()\r\n",
        "# Sadness tomará el valor 0 y Happiness será el valor 1\r\n",
        "df['Happiness Score'] = label_quality.fit_transform(df['Happiness Score'])\r\n",
        "print(df['Happiness Score'].value_counts())\r\n",
        "sb.countplot(df['Happiness Score'])\r\n",
        "plt.show()"
      ],
      "execution_count": null,
      "outputs": [
        {
          "output_type": "stream",
          "text": [
            "0    290\n",
            "1    180\n",
            "Name: Happiness Score, dtype: int64\n"
          ],
          "name": "stdout"
        },
        {
          "output_type": "stream",
          "text": [
            "/usr/local/lib/python3.6/dist-packages/seaborn/_decorators.py:43: FutureWarning: Pass the following variable as a keyword arg: x. From version 0.12, the only valid positional argument will be `data`, and passing other arguments without an explicit keyword will result in an error or misinterpretation.\n",
            "  FutureWarning\n"
          ],
          "name": "stderr"
        },
        {
          "output_type": "display_data",
          "data": {
            "image/png": "[encoded data removed]",
            "text/plain": [
              "<Figure size 432x288 with 1 Axes>"
            ]
          },
          "metadata": {
            "tags": [],
            "needs_background": "light"
          }
        }
      ]
    },
    {
      "cell_type": "code",
      "metadata": {
        "id": "4Bnxb-_CcTv9"
      },
      "source": [
        "df=df.drop('Country', axis=1)"
      ],
      "execution_count": null,
      "outputs": []
    },
    {
      "cell_type": "code",
      "metadata": {
        "id": "3Rtjgu-gH_J8"
      },
      "source": [
        "from sklearn.linear_model import LogisticRegression\r\n",
        "from sklearn.metrics import accuracy_score\r\n",
        "from sklearn.model_selection import train_test_split"
      ],
      "execution_count": null,
      "outputs": []
    },
    {
      "cell_type": "code",
      "metadata": {
        "colab": {
          "base_uri": "https://localhost:8080/"
        },
        "id": "VqFP4sbSX72e",
        "outputId": "2b9fe981-56b7-44c4-cb0b-cb416d933c94"
      },
      "source": [
        "y = df[\"Happiness Score\"]\r\n",
        "X = df.drop(['Happiness Score','Happiness Rank'], axis=1)\r\n",
        "\r\n",
        "X_train, X_test, y_train, y_test = train_test_split(X,y,\r\n",
        "                                        train_size   = 0.8,\r\n",
        "                                        random_state = 1234,\r\n",
        "                                        shuffle      = True,\r\n",
        "                                    )\r\n",
        "# Entrenamos el modelo\r\n",
        "clf_0 = LogisticRegression().fit(X_train, y_train)\r\n",
        " \r\n",
        "# Predecimos sobre el conjunto de entreanmiento\r\n",
        "pred_y_0 = clf_0.predict(X_test)\r\n",
        "\r\n",
        "#¿Cómo es la accuracy?\r\n",
        "print( accuracy_score(pred_y_0, y_test) )"
      ],
      "execution_count": null,
      "outputs": [
        {
          "output_type": "stream",
          "text": [
            "0.9680851063829787\n"
          ],
          "name": "stdout"
        }
      ]
    },
    {
      "cell_type": "code",
      "metadata": {
        "colab": {
          "base_uri": "https://localhost:8080/"
        },
        "id": "Xbn-cJSvXhLh",
        "outputId": "2d908822-7f00-4a92-ed67-2a318d4fbb1b"
      },
      "source": [
        "y = df[\"Happiness Score\"]\r\n",
        "X = df.drop('Happiness Score', axis=1)\r\n",
        " \r\n",
        "# Entrenamos el modelo\r\n",
        "clf_0 = LogisticRegression().fit(X, y)\r\n",
        " \r\n",
        "# Predecimos sobre el conjunto de entreanmiento\r\n",
        "pred_y_0 = clf_0.predict(X)\r\n",
        "\r\n",
        "#¿Cómo es la accuracy?\r\n",
        "print( accuracy_score(pred_y_0, y) )"
      ],
      "execution_count": null,
      "outputs": [
        {
          "output_type": "stream",
          "text": [
            "0.9851063829787234\n"
          ],
          "name": "stdout"
        },
        {
          "output_type": "stream",
          "text": [
            "/usr/local/lib/python3.6/dist-packages/sklearn/linear_model/_logistic.py:940: ConvergenceWarning: lbfgs failed to converge (status=1):\n",
            "STOP: TOTAL NO. of ITERATIONS REACHED LIMIT.\n",
            "\n",
            "Increase the number of iterations (max_iter) or scale the data as shown in:\n",
            "    https://scikit-learn.org/stable/modules/preprocessing.html\n",
            "Please also refer to the documentation for alternative solver options:\n",
            "    https://scikit-learn.org/stable/modules/linear_model.html#logistic-regression\n",
            "  extra_warning_msg=_LOGISTIC_SOLVER_CONVERGENCE_MSG)\n"
          ],
          "name": "stderr"
        }
      ]
    },
    {
      "cell_type": "markdown",
      "metadata": {
        "id": "7CQoCZI8aFip"
      },
      "source": [
        "### **Aumentar y disminuir las muestras para balancear el dataset.**"
      ]
    },
    {
      "cell_type": "code",
      "metadata": {
        "id": "p5ZZ30vnbN62"
      },
      "source": [
        "from sklearn.utils import resample"
      ],
      "execution_count": null,
      "outputs": []
    },
    {
      "cell_type": "code",
      "metadata": {
        "colab": {
          "base_uri": "https://localhost:8080/"
        },
        "id": "CPMYDW5Zab5p",
        "outputId": "bd14f2e0-6eec-4ea0-ba29-8c0858850c8e"
      },
      "source": [
        "df_majority = df[df[\"Happiness Score\"]==0]\r\n",
        "df_minority = df[df[\"Happiness Score\"]==1]\r\n",
        "\r\n",
        "df_majority_downsampled = resample(df_majority, \r\n",
        "                                 replace=False,    # muestra sin remplazamiento\r\n",
        "                                 n_samples=235,     # número de muestras de la clase minoritaria\r\n",
        "                                 random_state=123) # semilla para que los datos sean reproducibles\r\n",
        " \r\n",
        "df_minority_upsampled = resample(df_minority, \r\n",
        "                                 replace=True,     # muestra con remplazamiento\r\n",
        "                                 n_samples=235,    # número de muestras de la clase mayoritaria\r\n",
        "                                 random_state=123)\r\n",
        "\r\n",
        "# Combinar el nuevo grupo con el grupo original minoritario\r\n",
        "df_balanceado = pd.concat([df_majority_downsampled, df_minority_upsampled])\r\n",
        " \r\n",
        "# Mostrar el número de instancias en cada clase\r\n",
        "df_balanceado[\"Happiness Score\"].value_counts()"
      ],
      "execution_count": null,
      "outputs": [
        {
          "output_type": "execute_result",
          "data": {
            "text/plain": [
              "1    235\n",
              "0    235\n",
              "Name: Happiness Score, dtype: int64"
            ]
          },
          "metadata": {
            "tags": []
          },
          "execution_count": 53
        }
      ]
    },
    {
      "cell_type": "code",
      "metadata": {
        "colab": {
          "base_uri": "https://localhost:8080/"
        },
        "id": "yTzZsu6mcBhS",
        "outputId": "c0036584-c6d1-45e8-f613-a244caf8b486"
      },
      "source": [
        "y = df_balanceado[\"Happiness Score\"]\r\n",
        "X = df_balanceado.drop(['Happiness Score','Happiness Rank'], axis=1)\r\n",
        " \r\n",
        "# Entrenamos el modelo\r\n",
        "clf_0 = LogisticRegression().fit(X, y)\r\n",
        " \r\n",
        "# Predecimos sobre el conjunto de entreanmiento\r\n",
        "pred_y_0 = clf_0.predict(X)\r\n",
        "\r\n",
        "print( accuracy_score(y, pred_y_0) )\r\n"
      ],
      "execution_count": null,
      "outputs": [
        {
          "output_type": "stream",
          "text": [
            "0.9744680851063829\n"
          ],
          "name": "stdout"
        }
      ]
    },
    {
      "cell_type": "code",
      "metadata": {
        "colab": {
          "base_uri": "https://localhost:8080/"
        },
        "id": "Xjt1EKe8fzmd",
        "outputId": "c8f52831-3ddf-4432-de5b-cfc35b798586"
      },
      "source": [
        "y = df_balanceado[\"Happiness Score\"]\r\n",
        "X = df_balanceado.drop(['Happiness Score','Happiness Rank'], axis=1)\r\n",
        "\r\n",
        "X_train, X_test, y_train, y_test = train_test_split(X,y,\r\n",
        "                                        train_size   = 0.8,\r\n",
        "                                        random_state = 1234,\r\n",
        "                                        shuffle      = True,\r\n",
        "                                    )\r\n",
        "# Entrenamos el modelo\r\n",
        "clf_0 = LogisticRegression().fit(X_train, y_train)\r\n",
        " \r\n",
        "# Predecimos sobre el conjunto de entreanmiento\r\n",
        "pred_y_0 = clf_0.predict(X_test)\r\n",
        "\r\n",
        "#¿Cómo es la accuracy?\r\n",
        "print( accuracy_score(pred_y_0, y_test) )"
      ],
      "execution_count": null,
      "outputs": [
        {
          "output_type": "stream",
          "text": [
            "0.9893617021276596\n"
          ],
          "name": "stdout"
        }
      ]
    },
    {
      "cell_type": "markdown",
      "metadata": {
        "id": "n0Att2NbjZO8"
      },
      "source": [
        "### **SMOTE**"
      ]
    },
    {
      "cell_type": "code",
      "metadata": {
        "id": "RSEgbv_WjX20"
      },
      "source": [
        "from imblearn.under_sampling import RandomUnderSampler\r\n",
        "from imblearn.over_sampling import SMOTE\r\n",
        "from collections import Counter"
      ],
      "execution_count": null,
      "outputs": []
    },
    {
      "cell_type": "code",
      "metadata": {
        "colab": {
          "base_uri": "https://localhost:8080/"
        },
        "id": "tpKxVjkbjhN5",
        "outputId": "f4cc8ab6-46e5-40b5-9ee2-aa390f5523d7"
      },
      "source": [
        "from imblearn.pipeline import Pipeline\r\n",
        "y = df[\"Happiness Score\"]\r\n",
        "X = df.drop(['Happiness Score',\t'Happiness Rank'], axis=1)\r\n",
        "over = SMOTE(sampling_strategy=0.81)\r\n",
        "under = RandomUnderSampler(sampling_strategy=1)\r\n",
        "steps = [('o', over), ('u', under)]\r\n",
        "pipeline = Pipeline(steps=steps)\r\n",
        "# transform the dataset\r\n",
        "X, y = pipeline.fit_resample(X, y)\r\n",
        "# summarize the new class distribution\r\n",
        "counter = Counter(y)\r\n",
        "print(counter)"
      ],
      "execution_count": null,
      "outputs": [
        {
          "output_type": "stream",
          "text": [
            "Counter({0: 234, 1: 234})\n"
          ],
          "name": "stdout"
        },
        {
          "output_type": "stream",
          "text": [
            "/usr/local/lib/python3.6/dist-packages/sklearn/utils/deprecation.py:87: FutureWarning: Function safe_indexing is deprecated; safe_indexing is deprecated in version 0.22 and will be removed in version 0.24.\n",
            "  warnings.warn(msg, category=FutureWarning)\n",
            "/usr/local/lib/python3.6/dist-packages/sklearn/utils/deprecation.py:87: FutureWarning: Function safe_indexing is deprecated; safe_indexing is deprecated in version 0.22 and will be removed in version 0.24.\n",
            "  warnings.warn(msg, category=FutureWarning)\n"
          ],
          "name": "stderr"
        }
      ]
    },
    {
      "cell_type": "code",
      "metadata": {
        "colab": {
          "base_uri": "https://localhost:8080/"
        },
        "id": "YV6WyeKpkpnL",
        "outputId": "4c75424d-6383-4874-9388-5c1a424a5c11"
      },
      "source": [
        "X_train, X_test, y_train, y_test = train_test_split(X,y,\r\n",
        "                                        train_size   = 0.8,\r\n",
        "                                        random_state = 1234,\r\n",
        "                                        shuffle      = True,\r\n",
        "                                    )\r\n",
        "# Entrenamos el modelo\r\n",
        "clf_0 = LogisticRegression().fit(X_train, y_train)\r\n",
        " \r\n",
        "# Predecimos sobre el conjunto de entreanmiento\r\n",
        "pred_y_0 = clf_0.predict(X_test)\r\n",
        "\r\n",
        "#¿Cómo es la accuracy?\r\n",
        "print( accuracy_score(pred_y_0, y_test) )"
      ],
      "execution_count": null,
      "outputs": [
        {
          "output_type": "stream",
          "text": [
            "0.9680851063829787\n"
          ],
          "name": "stdout"
        }
      ]
    },
    {
      "cell_type": "markdown",
      "metadata": {
        "id": "yZhTrNa7h7Eu"
      },
      "source": [
        "### **Regresión**"
      ]
    },
    {
      "cell_type": "markdown",
      "metadata": {
        "id": "3ly6cHMhiBFn"
      },
      "source": [
        "Como lo que obtenemos en la forma de clasificación del dataset es muy alta, debido a que cuanto mejor sean los diferentes parámetros, mayor es la felicidad en el país, vamos a hacer regresión.\r\n",
        "\r\n",
        "Para ello vuelvo a cargar el dataset desde el principio y aplico las técnicas de regresión lineal."
      ]
    },
    {
      "cell_type": "code",
      "metadata": {
        "id": "zmjtrGU-i6ZN"
      },
      "source": [
        "df = pd.read_csv('https://raw.githubusercontent.com/fortiz98/TrabajoAAII/main/datosFelicidad.csv')"
      ],
      "execution_count": null,
      "outputs": []
    },
    {
      "cell_type": "code",
      "metadata": {
        "id": "8HcjbhTijHKD"
      },
      "source": [
        "y = df[\"Happiness Score\"]\r\n",
        "X = df.drop(['Happiness Score','Country',\t'Happiness Rank'], axis=1)"
      ],
      "execution_count": null,
      "outputs": []
    },
    {
      "cell_type": "code",
      "metadata": {
        "id": "njH-qIfYmzSJ",
        "colab": {
          "base_uri": "https://localhost:8080/"
        },
        "outputId": "441dfc86-a8f2-4bb7-b584-60e813f59037"
      },
      "source": [
        "from sklearn.model_selection import train_test_split\r\n",
        "\r\n",
        "X_train, X_test, Y_train, Y_test = train_test_split(X, y, test_size=0.2, random_state=5)\r\n",
        "print(X_train.shape)\r\n",
        "print(X_test.shape)\r\n",
        "print(Y_train.shape)\r\n",
        "print(Y_test.shape)"
      ],
      "execution_count": null,
      "outputs": [
        {
          "output_type": "stream",
          "text": [
            "(376, 7)\n",
            "(94, 7)\n",
            "(376,)\n",
            "(94,)\n"
          ],
          "name": "stdout"
        }
      ]
    },
    {
      "cell_type": "code",
      "metadata": {
        "id": "mYSmuxUFm6eg",
        "colab": {
          "base_uri": "https://localhost:8080/"
        },
        "outputId": "ef84bf05-dbc5-444a-cbe1-8c5c90c24036"
      },
      "source": [
        "from sklearn.linear_model import LinearRegression\r\n",
        "\r\n",
        "model = LinearRegression()\r\n",
        "model.fit(X_train, Y_train)\r\n",
        "\r\n",
        "y_pred = model.predict(X_test)\r\n",
        "\r\n",
        "print(model.score(X_test,Y_test))"
      ],
      "execution_count": null,
      "outputs": [
        {
          "output_type": "stream",
          "text": [
            "0.9999999377874671\n"
          ],
          "name": "stdout"
        }
      ]
    },
    {
      "cell_type": "code",
      "metadata": {
        "id": "DHHh_Iqypim2",
        "colab": {
          "base_uri": "https://localhost:8080/"
        },
        "outputId": "28990ffe-f2c9-4882-a499-f5307d8cb1cc"
      },
      "source": [
        "from sklearn.metrics import r2_score\r\n",
        "from sklearn.metrics import mean_squared_error\r\n",
        "print(r2_score(Y_test, y_pred))\r\n",
        "print(np.sqrt(mean_squared_error(Y_test, y_pred)))"
      ],
      "execution_count": null,
      "outputs": [
        {
          "output_type": "stream",
          "text": [
            "0.9999999377874671\n",
            "0.00028592796326334\n"
          ],
          "name": "stdout"
        }
      ]
    },
    {
      "cell_type": "markdown",
      "metadata": {
        "id": "iZF6qHqznVD-"
      },
      "source": [
        "Vemos que haciendo una simple regresión lineal, también obtenemos un resultado muy muy bueno."
      ]
    },
    {
      "cell_type": "code",
      "metadata": {
        "id": "xo7zyKt7pkoA",
        "colab": {
          "base_uri": "https://localhost:8080/"
        },
        "outputId": "e6d99aad-ccf0-4c61-84c3-f212b4aa3597"
      },
      "source": [
        "from sklearn.linear_model import Ridge\r\n",
        "X_train, X_test, Y_train, Y_test = train_test_split(X, y, test_size=0.2, random_state=5)\r\n",
        "model = Ridge()\r\n",
        "model.fit(X_train, Y_train)\r\n",
        "\r\n",
        "y_pred = model.predict(X_test)\r\n",
        "\r\n",
        "print(model.score(X_test,Y_test))\r\n",
        "print(r2_score(Y_test, y_pred))\r\n",
        "print(np.sqrt(mean_squared_error(Y_test, y_pred)))"
      ],
      "execution_count": null,
      "outputs": [
        {
          "output_type": "stream",
          "text": [
            "0.9995033781553871\n",
            "0.9995033781553871\n",
            "0.025546452362006113\n"
          ],
          "name": "stdout"
        }
      ]
    },
    {
      "cell_type": "code",
      "metadata": {
        "id": "0SCPhAzIpvlV",
        "colab": {
          "base_uri": "https://localhost:8080/"
        },
        "outputId": "804b1196-1f54-4fc6-ad1e-f9f89a085dbe"
      },
      "source": [
        "from sklearn.linear_model import Lasso\r\n",
        "X_train, X_test, Y_train, Y_test = train_test_split(X, y, test_size=0.2, random_state=5)\r\n",
        "model = Lasso()\r\n",
        "model.fit(X_train, Y_train)\r\n",
        "\r\n",
        "y_pred = model.predict(X_test)\r\n",
        "\r\n",
        "print(model.score(X_test,Y_test))\r\n",
        "print(r2_score(Y_test, y_pred))\r\n",
        "print(np.sqrt(mean_squared_error(Y_test, y_pred)))"
      ],
      "execution_count": null,
      "outputs": [
        {
          "output_type": "stream",
          "text": [
            "-0.10171520030290226\n",
            "-0.10171520030290226\n",
            "1.2032402729432405\n"
          ],
          "name": "stdout"
        }
      ]
    },
    {
      "cell_type": "code",
      "metadata": {
        "id": "JEk-ASRxpy5O",
        "colab": {
          "base_uri": "https://localhost:8080/"
        },
        "outputId": "0f9b622f-05d1-4dea-a134-8f1e72fd0e75"
      },
      "source": [
        "from sklearn.linear_model import ElasticNet\r\n",
        "X_train, X_test, Y_train, Y_test = train_test_split(X, y, test_size=0.2, random_state=5)\r\n",
        "model = ElasticNet()\r\n",
        "model.fit(X_train, Y_train)\r\n",
        "\r\n",
        "y_pred = model.predict(X_test)\r\n",
        "\r\n",
        "print(model.score(X_test,Y_test))\r\n",
        "print(r2_score(Y_test, y_pred))\r\n",
        "print(np.sqrt(mean_squared_error(Y_test, y_pred)))"
      ],
      "execution_count": null,
      "outputs": [
        {
          "output_type": "stream",
          "text": [
            "-0.10171520030290226\n",
            "-0.10171520030290226\n",
            "1.2032402729432405\n"
          ],
          "name": "stdout"
        }
      ]
    },
    {
      "cell_type": "markdown",
      "metadata": {
        "id": "KqdTYIjIp_lE"
      },
      "source": [
        "Vemos que para Lasso y para ElasticNet los resultados son bastantes malos, con un score negativo."
      ]
    },
    {
      "cell_type": "markdown",
      "metadata": {
        "id": "lzXxYSJGq6cO"
      },
      "source": [
        "#### **Logistic Regression**"
      ]
    },
    {
      "cell_type": "markdown",
      "metadata": {
        "id": "mKZNf9DyrBnm"
      },
      "source": [
        "Para esto, voy a volver a coger los datos pero clasificados en felices e infelices según el score"
      ]
    },
    {
      "cell_type": "code",
      "metadata": {
        "id": "jPZ08g34rNE0"
      },
      "source": [
        "df = pd.read_csv('https://raw.githubusercontent.com/fortiz98/TrabajoAAII/main/datosFelicidad.csv')"
      ],
      "execution_count": null,
      "outputs": []
    },
    {
      "cell_type": "code",
      "metadata": {
        "id": "IMfGj2jFrRdD",
        "colab": {
          "base_uri": "https://localhost:8080/",
          "height": 385
        },
        "outputId": "1f918528-214c-475f-c8fb-d828fde021d8"
      },
      "source": [
        "from sklearn.preprocessing import LabelEncoder\r\n",
        "# Dividir las instancias como \"happiness\" or \"sadness\" dependiendo de si el hapiness score es mayor o menor que 5.\r\n",
        "bins = (0, 5, 10)\r\n",
        "group_names = ['sadness', 'happiness']\r\n",
        "df['Happiness Score'] = pd.cut(df['Happiness Score'], bins = bins, labels = group_names)\r\n",
        "# Asignamos una etiqueta a \"quality\"\r\n",
        "label_quality = LabelEncoder()\r\n",
        "# Sadness tomará el valor 0 y Happiness será el valor 1\r\n",
        "df['Happiness Score'] = label_quality.fit_transform(df['Happiness Score'])\r\n",
        "print(df['Happiness Score'].value_counts())\r\n",
        "sb.countplot(df['Happiness Score'])\r\n",
        "plt.show()"
      ],
      "execution_count": null,
      "outputs": [
        {
          "output_type": "stream",
          "text": [
            "0    290\n",
            "1    180\n",
            "Name: Happiness Score, dtype: int64\n"
          ],
          "name": "stdout"
        },
        {
          "output_type": "stream",
          "text": [
            "/usr/local/lib/python3.6/dist-packages/seaborn/_decorators.py:43: FutureWarning: Pass the following variable as a keyword arg: x. From version 0.12, the only valid positional argument will be `data`, and passing other arguments without an explicit keyword will result in an error or misinterpretation.\n",
            "  FutureWarning\n"
          ],
          "name": "stderr"
        },
        {
          "output_type": "display_data",
          "data": {
            "image/png": "[encoded data removed]",
            "text/plain": [
              "<Figure size 432x288 with 1 Axes>"
            ]
          },
          "metadata": {
            "tags": [],
            "needs_background": "light"
          }
        }
      ]
    },
    {
      "cell_type": "code",
      "metadata": {
        "id": "9yQFHKUjrWms"
      },
      "source": [
        "y = df[\"Happiness Score\"]\r\n",
        "X = df.drop(['Happiness Score','Country',\t'Happiness Rank'], axis=1)"
      ],
      "execution_count": null,
      "outputs": []
    },
    {
      "cell_type": "code",
      "metadata": {
        "id": "zF3q1oprriMA"
      },
      "source": [
        "X_train, X_test, y_train, y_test = train_test_split(X,y,\r\n",
        "                                        train_size   = 0.8,\r\n",
        "                                        random_state = 1234,\r\n",
        "                                        shuffle      = True\r\n",
        "                                    )"
      ],
      "execution_count": null,
      "outputs": []
    },
    {
      "cell_type": "code",
      "metadata": {
        "id": "miUikpPKrjAU"
      },
      "source": [
        "from sklearn.model_selection import train_test_split\r\n",
        "from sklearn.preprocessing import StandardScaler\r\n",
        "scaler = StandardScaler()\r\n",
        "X_train = scaler.fit_transform(X_train)"
      ],
      "execution_count": null,
      "outputs": []
    },
    {
      "cell_type": "code",
      "metadata": {
        "id": "4_rdOPGcrr7B",
        "colab": {
          "base_uri": "https://localhost:8080/"
        },
        "outputId": "ae8a91ec-84a7-4f88-e248-1fad4e576b46"
      },
      "source": [
        "from sklearn.datasets import load_digits\r\n",
        "from sklearn.linear_model import LogisticRegression\r\n",
        "model = LogisticRegression(solver='liblinear', C=0.05, multi_class='ovr',\r\n",
        "                           random_state=0)\r\n",
        "model.fit(X_train, y_train)"
      ],
      "execution_count": null,
      "outputs": [
        {
          "output_type": "execute_result",
          "data": {
            "text/plain": [
              "LogisticRegression(C=0.05, class_weight=None, dual=False, fit_intercept=True,\n",
              "                   intercept_scaling=1, l1_ratio=None, max_iter=100,\n",
              "                   multi_class='ovr', n_jobs=None, penalty='l2', random_state=0,\n",
              "                   solver='liblinear', tol=0.0001, verbose=0, warm_start=False)"
            ]
          },
          "metadata": {
            "tags": []
          },
          "execution_count": 23
        }
      ]
    },
    {
      "cell_type": "code",
      "metadata": {
        "id": "1hIABygYr3WR"
      },
      "source": [
        "X_test = scaler.transform(X_test)\r\n",
        "y_pred = model.predict(X_test)"
      ],
      "execution_count": null,
      "outputs": []
    },
    {
      "cell_type": "code",
      "metadata": {
        "id": "bR9vJvyqr7GN",
        "colab": {
          "base_uri": "https://localhost:8080/"
        },
        "outputId": "22d176a2-9a7d-43c2-e5bd-8e3794b7b8c7"
      },
      "source": [
        "# training error\r\n",
        "print(model.score(X_train, y_train))\r\n",
        "# testing error\r\n",
        "print(model.score(X_test, y_test))"
      ],
      "execution_count": null,
      "outputs": [
        {
          "output_type": "stream",
          "text": [
            "0.9547872340425532\n",
            "0.9893617021276596\n"
          ],
          "name": "stdout"
        }
      ]
    },
    {
      "cell_type": "markdown",
      "metadata": {
        "id": "V4dCbrbir_sk"
      },
      "source": [
        "Los datos en esta ocasión, pese a ser muy buenos, son peores si los comparamos con los que hemos obtenido anteriormente."
      ]
    },
    {
      "cell_type": "markdown",
      "metadata": {
        "id": "UIP4tWtBsMhE"
      },
      "source": [
        "#### **Neutral Network**"
      ]
    },
    {
      "cell_type": "markdown",
      "metadata": {
        "id": "DnY3eO8SsRZs"
      },
      "source": [
        "##### **Percepton**"
      ]
    },
    {
      "cell_type": "code",
      "metadata": {
        "id": "0h6kClrjsXMD"
      },
      "source": [
        "X_train, X_test, y_train, y_test = train_test_split(X,y,\r\n",
        "                                        train_size   = 0.8,\r\n",
        "                                        random_state = 1234,\r\n",
        "                                        shuffle      = True\r\n",
        "                                    )"
      ],
      "execution_count": null,
      "outputs": []
    },
    {
      "cell_type": "code",
      "metadata": {
        "id": "YBBq3NShsbnM",
        "colab": {
          "base_uri": "https://localhost:8080/"
        },
        "outputId": "72a39949-6ed5-47e8-cbdf-1d1893d23013"
      },
      "source": [
        "from sklearn.linear_model import Perceptron\r\n",
        "p = Perceptron(random_state=42,\r\n",
        "              max_iter=10,\r\n",
        "              tol=0.001)\r\n",
        "p.fit(X_train, y_train)"
      ],
      "execution_count": null,
      "outputs": [
        {
          "output_type": "stream",
          "text": [
            "/usr/local/lib/python3.6/dist-packages/sklearn/linear_model/_stochastic_gradient.py:557: ConvergenceWarning: Maximum number of iteration reached before convergence. Consider increasing max_iter to improve the fit.\n",
            "  ConvergenceWarning)\n"
          ],
          "name": "stderr"
        },
        {
          "output_type": "execute_result",
          "data": {
            "text/plain": [
              "Perceptron(alpha=0.0001, class_weight=None, early_stopping=False, eta0=1.0,\n",
              "           fit_intercept=True, max_iter=10, n_iter_no_change=5, n_jobs=None,\n",
              "           penalty=None, random_state=42, shuffle=True, tol=0.001,\n",
              "           validation_fraction=0.1, verbose=0, warm_start=False)"
            ]
          },
          "metadata": {
            "tags": []
          },
          "execution_count": 27
        }
      ]
    },
    {
      "cell_type": "code",
      "metadata": {
        "id": "jlo3WKqGsk__",
        "colab": {
          "base_uri": "https://localhost:8080/"
        },
        "outputId": "de211719-842e-4f89-d6db-01a5fe28b333"
      },
      "source": [
        "y_pred=p.predict(X_test)\r\n",
        "print(p.score(X_test,y_test))"
      ],
      "execution_count": null,
      "outputs": [
        {
          "output_type": "stream",
          "text": [
            "0.776595744680851\n"
          ],
          "name": "stdout"
        }
      ]
    },
    {
      "cell_type": "markdown",
      "metadata": {
        "id": "pv0ZPAfdsqxM"
      },
      "source": [
        "Vemos como el resultado obtenido mediante este modelo, dista mucho de los resultados anteriores, por lo que podemos ver que no es un buen modelo para nuestros datos."
      ]
    },
    {
      "cell_type": "markdown",
      "metadata": {
        "id": "bCLom1ucs52i"
      },
      "source": [
        "##### **Multi-layer Perceptron**"
      ]
    },
    {
      "cell_type": "code",
      "metadata": {
        "id": "kdN1qO-ls8_u"
      },
      "source": [
        "X_train, X_test, y_train, y_test = train_test_split(X,y,\r\n",
        "                                        train_size   = 0.8,\r\n",
        "                                        random_state = 1234,\r\n",
        "                                        shuffle      = True\r\n",
        "                                    )"
      ],
      "execution_count": null,
      "outputs": []
    },
    {
      "cell_type": "code",
      "metadata": {
        "id": "uGzKQ7yotQvW",
        "colab": {
          "base_uri": "https://localhost:8080/"
        },
        "outputId": "112657a3-38cd-4949-8ab3-f68d2a3369f4"
      },
      "source": [
        "from sklearn.neural_network import MLPClassifier\r\n",
        "\r\n",
        "clf = MLPClassifier(solver='sgd', alpha=1e-5,\r\n",
        "                    hidden_layer_sizes=(5, 2), random_state=1, max_iter=2000)\r\n",
        "\r\n",
        "print(clf.fit(X_train, y_train))  "
      ],
      "execution_count": null,
      "outputs": [
        {
          "output_type": "stream",
          "text": [
            "MLPClassifier(activation='relu', alpha=1e-05, batch_size='auto', beta_1=0.9,\n",
            "              beta_2=0.999, early_stopping=False, epsilon=1e-08,\n",
            "              hidden_layer_sizes=(5, 2), learning_rate='constant',\n",
            "              learning_rate_init=0.001, max_fun=15000, max_iter=2000,\n",
            "              momentum=0.9, n_iter_no_change=10, nesterovs_momentum=True,\n",
            "              power_t=0.5, random_state=1, shuffle=True, solver='sgd',\n",
            "              tol=0.0001, validation_fraction=0.1, verbose=False,\n",
            "              warm_start=False)\n"
          ],
          "name": "stdout"
        },
        {
          "output_type": "stream",
          "text": [
            "/usr/local/lib/python3.6/dist-packages/sklearn/neural_network/_multilayer_perceptron.py:571: ConvergenceWarning: Stochastic Optimizer: Maximum iterations (2000) reached and the optimization hasn't converged yet.\n",
            "  % self.max_iter, ConvergenceWarning)\n"
          ],
          "name": "stderr"
        }
      ]
    },
    {
      "cell_type": "code",
      "metadata": {
        "id": "QRjnXuvutTwv",
        "colab": {
          "base_uri": "https://localhost:8080/"
        },
        "outputId": "060b1880-85d9-41dd-a355-99695c4e6b26"
      },
      "source": [
        "for i in range(len(clf.coefs_)):\r\n",
        "    number_neurons_in_layer = clf.coefs_[i].shape[1]\r\n",
        "    for j in range(number_neurons_in_layer):\r\n",
        "        weights = clf.coefs_[i][:,j]\r\n",
        "        print(i, j, weights, end=\", \")\r\n",
        "        print()\r\n",
        "    print()"
      ],
      "execution_count": null,
      "outputs": [
        {
          "output_type": "stream",
          "text": [
            "0 0 [-0.11734836 -0.57651906 -0.11427597  0.24107695  0.42531614  0.55805691\n",
            " -0.56802214], \n",
            "0 1 [ 0.58722971  0.19316795  0.46359419  0.1774587   0.7535318  -0.31984736\n",
            "  0.92383701], \n",
            "0 2 [-0.63396565 -0.32001128 -0.38755042  0.04889609 -0.24831404 -0.70577964\n",
            "  0.55305147], \n",
            "0 3 [-0.27954336 -0.14599253  0.53473767 -0.50856858  0.27198467 -0.4669293\n",
            "  0.0469027 ], \n",
            "0 4 [-0.26202114 -0.27872592 -0.57468999 -0.59549758  0.50308168  0.27165147\n",
            " -0.21088414], \n",
            "\n",
            "1 0 [ 0.90519291 -0.40653786 -0.73468111  0.75657025 -0.39296288], \n",
            "1 1 [ 0.45951252  1.23630519 -0.54201484 -0.38215152 -1.8085575 ], \n",
            "\n",
            "2 0 [-0.81563712 -2.21103416], \n",
            "\n"
          ],
          "name": "stdout"
        }
      ]
    },
    {
      "cell_type": "code",
      "metadata": {
        "id": "AYxNIunCtXOU",
        "colab": {
          "base_uri": "https://localhost:8080/"
        },
        "outputId": "bd68349a-1593-4065-c7c9-cc3ddefe737e"
      },
      "source": [
        "prob_results = clf.predict_proba(X_train)\r\n",
        "print(prob_results)"
      ],
      "execution_count": null,
      "outputs": [
        {
          "output_type": "stream",
          "text": [
            "[[0.13347797 0.86652203]\n",
            " [0.99606278 0.00393722]\n",
            " [0.97983577 0.02016423]\n",
            " [0.92673917 0.07326083]\n",
            " [0.91031873 0.08968127]\n",
            " [0.13347797 0.86652203]\n",
            " [0.13347797 0.86652203]\n",
            " [0.13347797 0.86652203]\n",
            " [0.68314936 0.31685064]\n",
            " [0.13347797 0.86652203]\n",
            " [0.51733079 0.48266921]\n",
            " [0.81708287 0.18291713]\n",
            " [0.95067112 0.04932888]\n",
            " [0.84991381 0.15008619]\n",
            " [0.95236534 0.04763466]\n",
            " [0.13347797 0.86652203]\n",
            " [0.13347797 0.86652203]\n",
            " [0.65888438 0.34111562]\n",
            " [0.99469528 0.00530472]\n",
            " [0.13347797 0.86652203]\n",
            " [0.88317117 0.11682883]\n",
            " [0.98622045 0.01377955]\n",
            " [0.13347797 0.86652203]\n",
            " [0.9735611  0.0264389 ]\n",
            " [0.13347797 0.86652203]\n",
            " [0.82055718 0.17944282]\n",
            " [0.95377585 0.04622415]\n",
            " [0.98028784 0.01971216]\n",
            " [0.13347797 0.86652203]\n",
            " [0.92517445 0.07482555]\n",
            " [0.52817267 0.47182733]\n",
            " [0.8851746  0.1148254 ]\n",
            " [0.86744759 0.13255241]\n",
            " [0.99304729 0.00695271]\n",
            " [0.98451842 0.01548158]\n",
            " [0.13347797 0.86652203]\n",
            " [0.13347797 0.86652203]\n",
            " [0.14365932 0.85634068]\n",
            " [0.77686587 0.22313413]\n",
            " [0.45127978 0.54872022]\n",
            " [0.13347797 0.86652203]\n",
            " [0.42566459 0.57433541]\n",
            " [0.91597265 0.08402735]\n",
            " [0.42086968 0.57913032]\n",
            " [0.75296249 0.24703751]\n",
            " [0.99818071 0.00181929]\n",
            " [0.9954255  0.0045745 ]\n",
            " [0.85207408 0.14792592]\n",
            " [0.99739572 0.00260428]\n",
            " [0.40322202 0.59677798]\n",
            " [0.96534072 0.03465928]\n",
            " [0.13347797 0.86652203]\n",
            " [0.9371525  0.0628475 ]\n",
            " [0.9621869  0.0378131 ]\n",
            " [0.97553218 0.02446782]\n",
            " [0.99553889 0.00446111]\n",
            " [0.95311063 0.04688937]\n",
            " [0.24557262 0.75442738]\n",
            " [0.98945258 0.01054742]\n",
            " [0.99323184 0.00676816]\n",
            " [0.13347797 0.86652203]\n",
            " [0.13347797 0.86652203]\n",
            " [0.13347797 0.86652203]\n",
            " [0.93384013 0.06615987]\n",
            " [0.79276913 0.20723087]\n",
            " [0.98949227 0.01050773]\n",
            " [0.95196511 0.04803489]\n",
            " [0.13347797 0.86652203]\n",
            " [0.13347797 0.86652203]\n",
            " [0.48936889 0.51063111]\n",
            " [0.13347797 0.86652203]\n",
            " [0.94167759 0.05832241]\n",
            " [0.80744086 0.19255914]\n",
            " [0.43613892 0.56386108]\n",
            " [0.13347797 0.86652203]\n",
            " [0.99664448 0.00335552]\n",
            " [0.13347797 0.86652203]\n",
            " [0.13347797 0.86652203]\n",
            " [0.99491893 0.00508107]\n",
            " [0.97116191 0.02883809]\n",
            " [0.25088512 0.74911488]\n",
            " [0.8907369  0.1092631 ]\n",
            " [0.96455033 0.03544967]\n",
            " [0.39701148 0.60298852]\n",
            " [0.95436226 0.04563774]\n",
            " [0.32148384 0.67851616]\n",
            " [0.87503723 0.12496277]\n",
            " [0.98643695 0.01356305]\n",
            " [0.99452417 0.00547583]\n",
            " [0.9969201  0.0030799 ]\n",
            " [0.9985823  0.0014177 ]\n",
            " [0.90585143 0.09414857]\n",
            " [0.65747576 0.34252424]\n",
            " [0.13347797 0.86652203]\n",
            " [0.13347797 0.86652203]\n",
            " [0.99760153 0.00239847]\n",
            " [0.99285874 0.00714126]\n",
            " [0.13347797 0.86652203]\n",
            " [0.26874488 0.73125512]\n",
            " [0.96750384 0.03249616]\n",
            " [0.13347797 0.86652203]\n",
            " [0.99146897 0.00853103]\n",
            " [0.99739342 0.00260658]\n",
            " [0.72487403 0.27512597]\n",
            " [0.99289327 0.00710673]\n",
            " [0.13347797 0.86652203]\n",
            " [0.99273568 0.00726432]\n",
            " [0.94072671 0.05927329]\n",
            " [0.93841778 0.06158222]\n",
            " [0.13347797 0.86652203]\n",
            " [0.30509166 0.69490834]\n",
            " [0.13347797 0.86652203]\n",
            " [0.99880505 0.00119495]\n",
            " [0.13347797 0.86652203]\n",
            " [0.98598936 0.01401064]\n",
            " [0.13997291 0.86002709]\n",
            " [0.67646358 0.32353642]\n",
            " [0.98817462 0.01182538]\n",
            " [0.88558454 0.11441546]\n",
            " [0.30319225 0.69680775]\n",
            " [0.65326987 0.34673013]\n",
            " [0.32705848 0.67294152]\n",
            " [0.9969384  0.0030616 ]\n",
            " [0.13347797 0.86652203]\n",
            " [0.96816938 0.03183062]\n",
            " [0.98210474 0.01789526]\n",
            " [0.15094958 0.84905042]\n",
            " [0.94759418 0.05240582]\n",
            " [0.27472128 0.72527872]\n",
            " [0.96836742 0.03163258]\n",
            " [0.98650105 0.01349895]\n",
            " [0.62100142 0.37899858]\n",
            " [0.99256191 0.00743809]\n",
            " [0.13347797 0.86652203]\n",
            " [0.9297177  0.0702823 ]\n",
            " [0.94291114 0.05708886]\n",
            " [0.99147675 0.00852325]\n",
            " [0.40326189 0.59673811]\n",
            " [0.41657598 0.58342402]\n",
            " [0.75877715 0.24122285]\n",
            " [0.93632263 0.06367737]\n",
            " [0.82083141 0.17916859]\n",
            " [0.99241202 0.00758798]\n",
            " [0.29262504 0.70737496]\n",
            " [0.13347797 0.86652203]\n",
            " [0.68109301 0.31890699]\n",
            " [0.55582849 0.44417151]\n",
            " [0.86053936 0.13946064]\n",
            " [0.13347797 0.86652203]\n",
            " [0.19027135 0.80972865]\n",
            " [0.99639124 0.00360876]\n",
            " [0.98945883 0.01054117]\n",
            " [0.88193936 0.11806064]\n",
            " [0.91124281 0.08875719]\n",
            " [0.13347797 0.86652203]\n",
            " [0.99808344 0.00191656]\n",
            " [0.99836181 0.00163819]\n",
            " [0.13347797 0.86652203]\n",
            " [0.97222602 0.02777398]\n",
            " [0.99834535 0.00165465]\n",
            " [0.65967556 0.34032444]\n",
            " [0.7668604  0.2331396 ]\n",
            " [0.21334211 0.78665789]\n",
            " [0.97412776 0.02587224]\n",
            " [0.16430633 0.83569367]\n",
            " [0.13347797 0.86652203]\n",
            " [0.42617657 0.57382343]\n",
            " [0.26604802 0.73395198]\n",
            " [0.98427984 0.01572016]\n",
            " [0.71553963 0.28446037]\n",
            " [0.99758191 0.00241809]\n",
            " [0.92151176 0.07848824]\n",
            " [0.13347797 0.86652203]\n",
            " [0.80264617 0.19735383]\n",
            " [0.87335427 0.12664573]\n",
            " [0.13347797 0.86652203]\n",
            " [0.95951394 0.04048606]\n",
            " [0.990651   0.009349  ]\n",
            " [0.82091091 0.17908909]\n",
            " [0.95455078 0.04544922]\n",
            " [0.96989371 0.03010629]\n",
            " [0.98836911 0.01163089]\n",
            " [0.98089925 0.01910075]\n",
            " [0.94011881 0.05988119]\n",
            " [0.68819577 0.31180423]\n",
            " [0.97291686 0.02708314]\n",
            " [0.9517627  0.0482373 ]\n",
            " [0.98961645 0.01038355]\n",
            " [0.13347797 0.86652203]\n",
            " [0.5840059  0.4159941 ]\n",
            " [0.13347797 0.86652203]\n",
            " [0.99560561 0.00439439]\n",
            " [0.98800497 0.01199503]\n",
            " [0.85400872 0.14599128]\n",
            " [0.13347797 0.86652203]\n",
            " [0.99621898 0.00378102]\n",
            " [0.98160055 0.01839945]\n",
            " [0.98496442 0.01503558]\n",
            " [0.85532803 0.14467197]\n",
            " [0.99556899 0.00443101]\n",
            " [0.9903884  0.0096116 ]\n",
            " [0.97917782 0.02082218]\n",
            " [0.84948588 0.15051412]\n",
            " [0.18376299 0.81623701]\n",
            " [0.99656725 0.00343275]\n",
            " [0.99698314 0.00301686]\n",
            " [0.90169067 0.09830933]\n",
            " [0.26770523 0.73229477]\n",
            " [0.84742998 0.15257002]\n",
            " [0.7004132  0.2995868 ]\n",
            " [0.13347797 0.86652203]\n",
            " [0.96945447 0.03054553]\n",
            " [0.4434787  0.5565213 ]\n",
            " [0.51623813 0.48376187]\n",
            " [0.99419643 0.00580357]\n",
            " [0.72900648 0.27099352]\n",
            " [0.99773672 0.00226328]\n",
            " [0.98988925 0.01011075]\n",
            " [0.13347797 0.86652203]\n",
            " [0.16347347 0.83652653]\n",
            " [0.97802086 0.02197914]\n",
            " [0.98388634 0.01611366]\n",
            " [0.13347797 0.86652203]\n",
            " [0.41582758 0.58417242]\n",
            " [0.97997512 0.02002488]\n",
            " [0.16654732 0.83345268]\n",
            " [0.13347797 0.86652203]\n",
            " [0.70081447 0.29918553]\n",
            " [0.87742019 0.12257981]\n",
            " [0.99560159 0.00439841]\n",
            " [0.9757307  0.0242693 ]\n",
            " [0.51214618 0.48785382]\n",
            " [0.21361291 0.78638709]\n",
            " [0.13347797 0.86652203]\n",
            " [0.23013357 0.76986643]\n",
            " [0.95567184 0.04432816]\n",
            " [0.99840093 0.00159907]\n",
            " [0.99751191 0.00248809]\n",
            " [0.99875101 0.00124899]\n",
            " [0.77890046 0.22109954]\n",
            " [0.13347797 0.86652203]\n",
            " [0.13347797 0.86652203]\n",
            " [0.98398095 0.01601905]\n",
            " [0.90253404 0.09746596]\n",
            " [0.84263311 0.15736689]\n",
            " [0.56249605 0.43750395]\n",
            " [0.13347797 0.86652203]\n",
            " [0.53898442 0.46101558]\n",
            " [0.78834227 0.21165773]\n",
            " [0.99709928 0.00290072]\n",
            " [0.13347797 0.86652203]\n",
            " [0.44866108 0.55133892]\n",
            " [0.9978282  0.0021718 ]\n",
            " [0.13347797 0.86652203]\n",
            " [0.13347797 0.86652203]\n",
            " [0.99725282 0.00274718]\n",
            " [0.88938258 0.11061742]\n",
            " [0.99296042 0.00703958]\n",
            " [0.13347797 0.86652203]\n",
            " [0.98693406 0.01306594]\n",
            " [0.32382445 0.67617555]\n",
            " [0.26246879 0.73753121]\n",
            " [0.13347797 0.86652203]\n",
            " [0.99780585 0.00219415]\n",
            " [0.23087467 0.76912533]\n",
            " [0.82849735 0.17150265]\n",
            " [0.13347797 0.86652203]\n",
            " [0.97915884 0.02084116]\n",
            " [0.35357725 0.64642275]\n",
            " [0.95880803 0.04119197]\n",
            " [0.13347797 0.86652203]\n",
            " [0.98350824 0.01649176]\n",
            " [0.19114532 0.80885468]\n",
            " [0.90346595 0.09653405]\n",
            " [0.37771863 0.62228137]\n",
            " [0.96599359 0.03400641]\n",
            " [0.99623824 0.00376176]\n",
            " [0.948119   0.051881  ]\n",
            " [0.62635252 0.37364748]\n",
            " [0.13347797 0.86652203]\n",
            " [0.99312429 0.00687571]\n",
            " [0.92418592 0.07581408]\n",
            " [0.13347797 0.86652203]\n",
            " [0.99296369 0.00703631]\n",
            " [0.6739697  0.3260303 ]\n",
            " [0.80657992 0.19342008]\n",
            " [0.99755026 0.00244974]\n",
            " [0.21121354 0.78878646]\n",
            " [0.99798483 0.00201517]\n",
            " [0.98976275 0.01023725]\n",
            " [0.99730709 0.00269291]\n",
            " [0.13347797 0.86652203]\n",
            " [0.78221084 0.21778916]\n",
            " [0.97363076 0.02636924]\n",
            " [0.88029802 0.11970198]\n",
            " [0.3903708  0.6096292 ]\n",
            " [0.15026455 0.84973545]\n",
            " [0.13347797 0.86652203]\n",
            " [0.9682826  0.0317174 ]\n",
            " [0.20999926 0.79000074]\n",
            " [0.99769681 0.00230319]\n",
            " [0.85745159 0.14254841]\n",
            " [0.99627202 0.00372798]\n",
            " [0.13347797 0.86652203]\n",
            " [0.13347797 0.86652203]\n",
            " [0.78950503 0.21049497]\n",
            " [0.99633543 0.00366457]\n",
            " [0.13347797 0.86652203]\n",
            " [0.99569828 0.00430172]\n",
            " [0.98134632 0.01865368]\n",
            " [0.99604089 0.00395911]\n",
            " [0.9829088  0.0170912 ]\n",
            " [0.56745298 0.43254702]\n",
            " [0.59669857 0.40330143]\n",
            " [0.62386232 0.37613768]\n",
            " [0.99897384 0.00102616]\n",
            " [0.33879688 0.66120312]\n",
            " [0.98636708 0.01363292]\n",
            " [0.39625251 0.60374749]\n",
            " [0.33227708 0.66772292]\n",
            " [0.34053787 0.65946213]\n",
            " [0.41293101 0.58706899]\n",
            " [0.98219425 0.01780575]\n",
            " [0.81078313 0.18921687]\n",
            " [0.34114867 0.65885133]\n",
            " [0.5370427  0.4629573 ]\n",
            " [0.99817009 0.00182991]\n",
            " [0.80888388 0.19111612]\n",
            " [0.9966546  0.0033454 ]\n",
            " [0.49914074 0.50085926]\n",
            " [0.97216857 0.02783143]\n",
            " [0.85103539 0.14896461]\n",
            " [0.26867921 0.73132079]\n",
            " [0.47243518 0.52756482]\n",
            " [0.998379   0.001621  ]\n",
            " [0.13347797 0.86652203]\n",
            " [0.99585815 0.00414185]\n",
            " [0.13347797 0.86652203]\n",
            " [0.13347797 0.86652203]\n",
            " [0.13347797 0.86652203]\n",
            " [0.93787659 0.06212341]\n",
            " [0.99217721 0.00782279]\n",
            " [0.39824546 0.60175454]\n",
            " [0.13347797 0.86652203]\n",
            " [0.13347797 0.86652203]\n",
            " [0.68917835 0.31082165]\n",
            " [0.8825319  0.1174681 ]\n",
            " [0.91869806 0.08130194]\n",
            " [0.94342552 0.05657448]\n",
            " [0.31857411 0.68142589]\n",
            " [0.729243   0.270757  ]\n",
            " [0.9283472  0.0716528 ]\n",
            " [0.99345842 0.00654158]\n",
            " [0.99762574 0.00237426]\n",
            " [0.95954981 0.04045019]\n",
            " [0.19487124 0.80512876]\n",
            " [0.13347797 0.86652203]\n",
            " [0.94188387 0.05811613]\n",
            " [0.13347797 0.86652203]\n",
            " [0.91683122 0.08316878]\n",
            " [0.56498074 0.43501926]\n",
            " [0.99857508 0.00142492]\n",
            " [0.99751819 0.00248181]\n",
            " [0.99390508 0.00609492]\n",
            " [0.13347797 0.86652203]\n",
            " [0.55139815 0.44860185]\n",
            " [0.13347797 0.86652203]\n",
            " [0.99637142 0.00362858]\n",
            " [0.13347797 0.86652203]\n",
            " [0.13347797 0.86652203]\n",
            " [0.92209613 0.07790387]\n",
            " [0.94695035 0.05304965]\n",
            " [0.96794765 0.03205235]\n",
            " [0.13347797 0.86652203]\n",
            " [0.97010604 0.02989396]\n",
            " [0.13347797 0.86652203]]\n"
          ],
          "name": "stdout"
        }
      ]
    },
    {
      "cell_type": "code",
      "metadata": {
        "id": "gwPDUlHhtcjF",
        "colab": {
          "base_uri": "https://localhost:8080/"
        },
        "outputId": "7db43ba4-010c-4aeb-a768-18a20ba64b84"
      },
      "source": [
        "# training error\r\n",
        "print(clf.score(X_train, y_train))\r\n",
        "# testing error\r\n",
        "print(clf.score(X_test, y_test))"
      ],
      "execution_count": null,
      "outputs": [
        {
          "output_type": "stream",
          "text": [
            "0.9441489361702128\n",
            "0.9361702127659575\n"
          ],
          "name": "stdout"
        }
      ]
    },
    {
      "cell_type": "markdown",
      "metadata": {
        "id": "Vzt5qN6otd8I"
      },
      "source": [
        "Mediante este modelo, se obtienen buenos resultados, algo por debajo de otros que hemos visto, aunque bastante mejores que los últimos."
      ]
    },
    {
      "cell_type": "markdown",
      "metadata": {
        "id": "FMT3NIsSuscG"
      },
      "source": [
        "### **Ajuste de hiperparámetros**"
      ]
    },
    {
      "cell_type": "markdown",
      "metadata": {
        "id": "KSK6jh1zuzpS"
      },
      "source": [
        "Vamos a realizar un ajuste de hiperparámetros siguiendo el modelo de regresión lineal."
      ]
    },
    {
      "cell_type": "markdown",
      "metadata": {
        "id": "excYHyb-4MS_"
      },
      "source": [
        "Para ello, vamos a probar las diversas técnicas de ajustes de hiperparámetros para nuestro modelo."
      ]
    },
    {
      "cell_type": "markdown",
      "metadata": {
        "id": "HRh8uxZP47jS"
      },
      "source": [
        "Vuelvo a cargar el dataset y lo separo en test y train."
      ]
    },
    {
      "cell_type": "markdown",
      "metadata": {
        "id": "KvwBJOr-67h3"
      },
      "source": [
        "#### **Grid Search**"
      ]
    },
    {
      "cell_type": "code",
      "metadata": {
        "id": "Msb_AmdN5MDj"
      },
      "source": [
        "from sklearn.model_selection import train_test_split\r\n",
        "df = pd.read_csv('https://raw.githubusercontent.com/fortiz98/TrabajoAAII/main/datosFelicidad.csv')\r\n",
        "y = df[\"Happiness Score\"]\r\n",
        "X = df.drop(['Happiness Score','Country',\t'Happiness Rank'], axis=1)\r\n",
        "X_train,  X_test, y_train, y_test = train_test_split(X, y, test_size=0.2, random_state=42)"
      ],
      "execution_count": 20,
      "outputs": []
    },
    {
      "cell_type": "code",
      "metadata": {
        "id": "T-wf0HYw48Wc",
        "outputId": "3a5fd388-c20b-47bd-c6ff-8a78687ff84a",
        "colab": {
          "base_uri": "https://localhost:8080/"
        }
      },
      "source": [
        "%%time\r\n",
        "from sklearn.model_selection import GridSearchCV\r\n",
        "from sklearn.ensemble import RandomForestRegressor\r\n",
        "param_grid = [\r\n",
        "    {'kernel': ['linear'],\r\n",
        "    'C': [1.0,3.0]},\r\n",
        "    {'kernel': ['rbf'], \r\n",
        "     'C': [1.0, 3.0, 5.0], \r\n",
        "     'gamma': [0.01, 0.1, 1.0]}]\r\n",
        "svm_reg = SVR()\r\n",
        "grid_search_RF = GridSearchCV(svm_reg, param_grid, cv=3,\r\n",
        "                           scoring='neg_mean_squared_error',\r\n",
        "                           refit= True, verbose=2, n_jobs=-1)\r\n",
        "grid_search_RF.fit(X_train, y_train)"
      ],
      "execution_count": 21,
      "outputs": [
        {
          "output_type": "stream",
          "text": [
            "Fitting 3 folds for each of 11 candidates, totalling 33 fits\n"
          ],
          "name": "stdout"
        },
        {
          "output_type": "stream",
          "text": [
            "[Parallel(n_jobs=-1)]: Using backend LokyBackend with 2 concurrent workers.\n"
          ],
          "name": "stderr"
        },
        {
          "output_type": "stream",
          "text": [
            "CPU times: user 92.8 ms, sys: 2.19 ms, total: 95 ms\n",
            "Wall time: 221 ms\n"
          ],
          "name": "stdout"
        },
        {
          "output_type": "stream",
          "text": [
            "[Parallel(n_jobs=-1)]: Done  33 out of  33 | elapsed:    0.2s finished\n"
          ],
          "name": "stderr"
        }
      ]
    },
    {
      "cell_type": "code",
      "metadata": {
        "id": "q6z74YnK7KCQ",
        "outputId": "598812dc-2255-482c-af10-468a0ed6a2d6",
        "colab": {
          "base_uri": "https://localhost:8080/"
        }
      },
      "source": [
        "grid_search_RF.best_params_"
      ],
      "execution_count": 22,
      "outputs": [
        {
          "output_type": "execute_result",
          "data": {
            "text/plain": [
              "{'C': 5.0, 'gamma': 0.1, 'kernel': 'rbf'}"
            ]
          },
          "metadata": {
            "tags": []
          },
          "execution_count": 22
        }
      ]
    },
    {
      "cell_type": "code",
      "metadata": {
        "id": "iSsYcZLG7Q8N",
        "outputId": "c64e8dc0-8f16-4354-ace0-188591bc265d",
        "colab": {
          "base_uri": "https://localhost:8080/"
        }
      },
      "source": [
        "negative_mse = grid_search_RF.best_score_\r\n",
        "rmse = np.sqrt(-negative_mse)\r\n",
        "rmse"
      ],
      "execution_count": 23,
      "outputs": [
        {
          "output_type": "execute_result",
          "data": {
            "text/plain": [
              "0.059589096172201324"
            ]
          },
          "metadata": {
            "tags": []
          },
          "execution_count": 23
        }
      ]
    },
    {
      "cell_type": "markdown",
      "metadata": {
        "id": "6w5RWw7N7k4B"
      },
      "source": [
        "Vemos que el error producido es muy bajito, a penas de 0.05 puntos, por lo que es un muy buen modelo."
      ]
    },
    {
      "cell_type": "markdown",
      "metadata": {
        "id": "Q04gHwUb7z7R"
      },
      "source": [
        "#### **Curva de validación**"
      ]
    },
    {
      "cell_type": "code",
      "metadata": {
        "id": "j-iKbSvc74fb",
        "outputId": "c06831b6-216b-4a94-d38e-1d1267b0c267",
        "colab": {
          "base_uri": "https://localhost:8080/",
          "height": 296
        }
      },
      "source": [
        "import matplotlib.pyplot as plt\r\n",
        "import numpy as np\r\n",
        "from sklearn.model_selection import validation_curve\r\n",
        "#Lista de parámetros\r\n",
        "param_range = list(range(10,200,10)) \r\n",
        "\r\n",
        "#Curva de validación\r\n",
        "train_scores, test_scores = validation_curve(    \r\n",
        "    forest_reg, X_train, y_train, param_name=\"n_estimators\", param_range=param_range,\r\n",
        "    scoring='neg_root_mean_squared_error', cv=3, n_jobs=1)\r\n",
        "\r\n",
        "#Pintamos la curva\r\n",
        "train_scores_mean = np.mean(train_scores, axis=1)\r\n",
        "train_scores_std = np.std(train_scores, axis=1)\r\n",
        "test_scores_mean = np.mean(test_scores, axis=1)\r\n",
        "test_scores_std = np.std(test_scores, axis=1)\r\n",
        "\r\n",
        "plt.title(\"Curva de validation para forest regressor\")\r\n",
        "plt.xlabel(r\"max_features\")\r\n",
        "plt.ylabel(\"Score\")\r\n",
        "lw = 2\r\n",
        "plt.plot(param_range, train_scores_mean, label=\"Training score\",\r\n",
        "             color=\"darkorange\", lw=lw)\r\n",
        "plt.fill_between(param_range, train_scores_mean - train_scores_std,\r\n",
        "                 train_scores_mean + train_scores_std, alpha=0.2,\r\n",
        "                 color=\"darkorange\", lw=lw)\r\n",
        "plt.plot(param_range, test_scores_mean, label=\"Cross-validation score\",\r\n",
        "             color=\"navy\", lw=lw)\r\n",
        "plt.fill_between(param_range, test_scores_mean - test_scores_std,\r\n",
        "                 test_scores_mean + test_scores_std, alpha=0.2,\r\n",
        "                 color=\"navy\", lw=lw)\r\n",
        "plt.legend(loc=\"best\")\r\n",
        "plt.show()"
      ],
      "execution_count": 10,
      "outputs": [
        {
          "output_type": "display_data",
          "data": {
            "image/png": "[encoded data removed]",
            "text/plain": [
              "<Figure size 432x288 with 1 Axes>"
            ]
          },
          "metadata": {
            "tags": [],
            "needs_background": "light"
          }
        }
      ]
    },
    {
      "cell_type": "markdown",
      "metadata": {
        "id": "4wzv9lCA9cYC"
      },
      "source": [
        "Vemos como a medida que aumentan las features, no se produce una mejoría sino que el error se mantiene constante, por tanto no depende de un aumento de features, la mejora del modelo."
      ]
    },
    {
      "cell_type": "markdown",
      "metadata": {
        "id": "fL6NPZPD9sWK"
      },
      "source": [
        "#### **Random Search**"
      ]
    },
    {
      "cell_type": "code",
      "metadata": {
        "id": "6LrJrE-E9yQa",
        "outputId": "492f6f0d-ffca-4286-a03d-9f34234ed587",
        "colab": {
          "base_uri": "https://localhost:8080/"
        }
      },
      "source": [
        "%%time\r\n",
        "\r\n",
        "from sklearn.model_selection import RandomizedSearchCV\r\n",
        "from scipy.stats import expon, loguniform\r\n",
        "\r\n",
        "param_grid = {'kernel': ['linear','rbf'],\r\n",
        "    'C': loguniform(1,20),\r\n",
        "    'gamma': expon(scale=1.0)}\r\n",
        "    \r\n",
        "svm_reg = SVR()\r\n",
        "rnd_search_RF = RandomizedSearchCV(svm_reg, param_distributions=param_grid,\r\n",
        "                                n_iter=10, cv=3, scoring='neg_mean_squared_error', random_state=42, verbose=2, n_jobs=-1)\r\n",
        "\r\n",
        "rnd_search_RF.fit(X_train, y_train)\r\n",
        "\r\n",
        "negative_mse = rnd_search_RF.best_score_\r\n",
        "rmse = np.sqrt(-negative_mse)\r\n",
        "print(\"rmse del mejor modelo\", rmse)"
      ],
      "execution_count": 24,
      "outputs": [
        {
          "output_type": "stream",
          "text": [
            "Fitting 3 folds for each of 10 candidates, totalling 30 fits\n",
            "rmse del mejor modelo 0.0598569479577679\n",
            "CPU times: user 82.3 ms, sys: 4.02 ms, total: 86.3 ms\n",
            "Wall time: 194 ms\n"
          ],
          "name": "stdout"
        },
        {
          "output_type": "stream",
          "text": [
            "[Parallel(n_jobs=-1)]: Using backend LokyBackend with 2 concurrent workers.\n",
            "[Parallel(n_jobs=-1)]: Done  30 out of  30 | elapsed:    0.2s finished\n"
          ],
          "name": "stderr"
        }
      ]
    },
    {
      "cell_type": "code",
      "metadata": {
        "id": "QhaETErx_BKn",
        "outputId": "62b43ca3-d64e-4edb-8eea-5c1f279dc6db",
        "colab": {
          "base_uri": "https://localhost:8080/"
        }
      },
      "source": [
        "rnd_search_RF.best_params_"
      ],
      "execution_count": 25,
      "outputs": [
        {
          "output_type": "execute_result",
          "data": {
            "text/plain": [
              "{'C': 1.0213944061855214, 'gamma': 0.023332523598323388, 'kernel': 'linear'}"
            ]
          },
          "metadata": {
            "tags": []
          },
          "execution_count": 25
        }
      ]
    },
    {
      "cell_type": "markdown",
      "metadata": {
        "id": "gbvu7TBy_U2p"
      },
      "source": [
        "Obtenemos el mismo error que habíamos obtenido con Grid Search."
      ]
    },
    {
      "cell_type": "markdown",
      "metadata": {
        "id": "aXtGSpz6_ZIj"
      },
      "source": [
        "#### **Optimización Bayesiana**"
      ]
    },
    {
      "cell_type": "code",
      "metadata": {
        "id": "JmwJo6Oc_e-5",
        "outputId": "b80df200-80cb-4376-ea78-489976101eb3",
        "colab": {
          "base_uri": "https://localhost:8080/"
        }
      },
      "source": [
        "! pip install scikit-optimize"
      ],
      "execution_count": 26,
      "outputs": [
        {
          "output_type": "stream",
          "text": [
            "Requirement already satisfied: scikit-optimize in /usr/local/lib/python3.6/dist-packages (0.8.1)\n",
            "Requirement already satisfied: scipy>=0.19.1 in /usr/local/lib/python3.6/dist-packages (from scikit-optimize) (1.4.1)\n",
            "Requirement already satisfied: numpy>=1.13.3 in /usr/local/lib/python3.6/dist-packages (from scikit-optimize) (1.19.5)\n",
            "Requirement already satisfied: scikit-learn>=0.20.0 in /usr/local/lib/python3.6/dist-packages (from scikit-optimize) (0.22.2.post1)\n",
            "Requirement already satisfied: joblib>=0.11 in /usr/local/lib/python3.6/dist-packages (from scikit-optimize) (1.0.0)\n",
            "Requirement already satisfied: pyaml>=16.9 in /usr/local/lib/python3.6/dist-packages (from scikit-optimize) (20.4.0)\n",
            "Requirement already satisfied: PyYAML in /usr/local/lib/python3.6/dist-packages (from pyaml>=16.9->scikit-optimize) (3.13)\n"
          ],
          "name": "stdout"
        }
      ]
    },
    {
      "cell_type": "code",
      "metadata": {
        "id": "0KnK-V9B_ijR"
      },
      "source": [
        "from skopt import BayesSearchCV"
      ],
      "execution_count": 27,
      "outputs": []
    },
    {
      "cell_type": "code",
      "metadata": {
        "id": "QBc6hYW__kUj",
        "outputId": "d7cd55bf-3b9e-49d9-9d4c-2400ab4861b2",
        "colab": {
          "base_uri": "https://localhost:8080/"
        }
      },
      "source": [
        "%%time\r\n",
        "from skopt.space import Real, Categorical, Integer\r\n",
        "from sklearn.svm import SVR\r\n",
        "param_distribs_exp = {\r\n",
        "        'kernel':  Categorical(['linear', 'rbf']),\r\n",
        "        'C': Real(1, 20, 'log-uniform'),\r\n",
        "        'gamma': Real(1e-6, 5, 'log-uniform'), \r\n",
        "    }\r\n",
        "\r\n",
        "\r\n",
        "svm_reg = SVR()\r\n",
        "\r\n",
        "bayes_search_RF = BayesSearchCV(\r\n",
        "    svm_reg,\r\n",
        "    param_distribs_exp,\r\n",
        "    n_iter=10,\r\n",
        "    cv=3, scoring='neg_mean_squared_error', random_state=42,\r\n",
        "    n_jobs=-1,\r\n",
        "    optimizer_kwargs={'base_estimator': 'ET'} # 'GP': Gaussean Process,'RF': Random Forest regressor,'ET': Extra Trees regressor, 'GBRT': gradient boosted trees\r\n",
        "  )\r\n",
        "bayes_search_RF.fit(X_train, y_train)\r\n",
        "\r\n",
        "print(bayes_search_RF.best_params_)\r\n",
        "mean_score = bayes_search_RF.cv_results_['mean_test_score'][bayes_search_RF.best_index_]\r\n",
        "print(\"score\", np.sqrt(-mean_score))"
      ],
      "execution_count": 28,
      "outputs": [
        {
          "output_type": "stream",
          "text": [
            "OrderedDict([('C', 17.502718999472837), ('gamma', 0.04936760310952107), ('kernel', 'rbf')])\n",
            "score 0.05189519106451264\n",
            "CPU times: user 795 ms, sys: 12.1 ms, total: 807 ms\n",
            "Wall time: 944 ms\n"
          ],
          "name": "stdout"
        }
      ]
    },
    {
      "cell_type": "markdown",
      "metadata": {
        "id": "dHkIvL5cA5R2"
      },
      "source": [
        "Podemos ver que los resultdos obtenidos son miliares en todos los modelos probados."
      ]
    },
    {
      "cell_type": "markdown",
      "metadata": {
        "id": "PhX1-UYKBwO7"
      },
      "source": [
        "#### **Hyperband**"
      ]
    },
    {
      "cell_type": "code",
      "metadata": {
        "id": "kEOxfoEuBz60",
        "outputId": "c2b16397-34a9-4b35-bc2a-0a1e5c7481f0",
        "colab": {
          "base_uri": "https://localhost:8080/"
        }
      },
      "source": [
        "!git clone https://github.com/thuijskens/scikit-hyperband.git\r\n",
        "%cd scikit-hyperband\r\n",
        "!python setup.py install"
      ],
      "execution_count": 29,
      "outputs": [
        {
          "output_type": "stream",
          "text": [
            "Cloning into 'scikit-hyperband'...\n",
            "remote: Enumerating objects: 408, done.\u001b[K\n",
            "remote: Total 408 (delta 0), reused 0 (delta 0), pack-reused 408\u001b[K\n",
            "Receiving objects: 100% (408/408), 5.55 MiB | 4.23 MiB/s, done.\n",
            "Resolving deltas: 100% (169/169), done.\n",
            "/content/scikit-hyperband\n",
            "running install\n",
            "running bdist_egg\n",
            "running egg_info\n",
            "creating scikit_hyperband.egg-info\n",
            "writing scikit_hyperband.egg-info/PKG-INFO\n",
            "writing dependency_links to scikit_hyperband.egg-info/dependency_links.txt\n",
            "writing requirements to scikit_hyperband.egg-info/requires.txt\n",
            "writing top-level names to scikit_hyperband.egg-info/top_level.txt\n",
            "writing manifest file 'scikit_hyperband.egg-info/SOURCES.txt'\n",
            "reading manifest template 'MANIFEST.in'\n",
            "writing manifest file 'scikit_hyperband.egg-info/SOURCES.txt'\n",
            "installing library code to build/bdist.linux-x86_64/egg\n",
            "running install_lib\n",
            "running build_py\n",
            "creating build\n",
            "creating build/lib\n",
            "creating build/lib/hyperband\n",
            "copying hyperband/__init__.py -> build/lib/hyperband\n",
            "copying hyperband/search.py -> build/lib/hyperband\n",
            "creating build/lib/hyperband/tests\n",
            "copying hyperband/tests/test_hyperband.py -> build/lib/hyperband/tests\n",
            "copying hyperband/tests/__init__.py -> build/lib/hyperband/tests\n",
            "copying hyperband/tests/test_validation.py -> build/lib/hyperband/tests\n",
            "creating build/bdist.linux-x86_64\n",
            "creating build/bdist.linux-x86_64/egg\n",
            "creating build/bdist.linux-x86_64/egg/hyperband\n",
            "copying build/lib/hyperband/__init__.py -> build/bdist.linux-x86_64/egg/hyperband\n",
            "creating build/bdist.linux-x86_64/egg/hyperband/tests\n",
            "copying build/lib/hyperband/tests/test_hyperband.py -> build/bdist.linux-x86_64/egg/hyperband/tests\n",
            "copying build/lib/hyperband/tests/__init__.py -> build/bdist.linux-x86_64/egg/hyperband/tests\n",
            "copying build/lib/hyperband/tests/test_validation.py -> build/bdist.linux-x86_64/egg/hyperband/tests\n",
            "copying build/lib/hyperband/search.py -> build/bdist.linux-x86_64/egg/hyperband\n",
            "byte-compiling build/bdist.linux-x86_64/egg/hyperband/__init__.py to __init__.cpython-36.pyc\n",
            "byte-compiling build/bdist.linux-x86_64/egg/hyperband/tests/test_hyperband.py to test_hyperband.cpython-36.pyc\n",
            "byte-compiling build/bdist.linux-x86_64/egg/hyperband/tests/__init__.py to __init__.cpython-36.pyc\n",
            "byte-compiling build/bdist.linux-x86_64/egg/hyperband/tests/test_validation.py to test_validation.cpython-36.pyc\n",
            "byte-compiling build/bdist.linux-x86_64/egg/hyperband/search.py to search.cpython-36.pyc\n",
            "creating build/bdist.linux-x86_64/egg/EGG-INFO\n",
            "copying scikit_hyperband.egg-info/PKG-INFO -> build/bdist.linux-x86_64/egg/EGG-INFO\n",
            "copying scikit_hyperband.egg-info/SOURCES.txt -> build/bdist.linux-x86_64/egg/EGG-INFO\n",
            "copying scikit_hyperband.egg-info/dependency_links.txt -> build/bdist.linux-x86_64/egg/EGG-INFO\n",
            "copying scikit_hyperband.egg-info/requires.txt -> build/bdist.linux-x86_64/egg/EGG-INFO\n",
            "copying scikit_hyperband.egg-info/top_level.txt -> build/bdist.linux-x86_64/egg/EGG-INFO\n",
            "zip_safe flag not set; analyzing archive contents...\n",
            "creating dist\n",
            "creating 'dist/scikit_hyperband-0.0.1-py3.6.egg' and adding 'build/bdist.linux-x86_64/egg' to it\n",
            "removing 'build/bdist.linux-x86_64/egg' (and everything under it)\n",
            "Processing scikit_hyperband-0.0.1-py3.6.egg\n",
            "Copying scikit_hyperband-0.0.1-py3.6.egg to /usr/local/lib/python3.6/dist-packages\n",
            "Adding scikit-hyperband 0.0.1 to easy-install.pth file\n",
            "\n",
            "Installed /usr/local/lib/python3.6/dist-packages/scikit_hyperband-0.0.1-py3.6.egg\n",
            "Processing dependencies for scikit-hyperband==0.0.1\n",
            "Searching for nose>=1.1.2\n",
            "Reading https://pypi.org/simple/nose/\n",
            "Downloading https://files.pythonhosted.org/packages/15/d8/dd071918c040f50fa1cf80da16423af51ff8ce4a0f2399b7bf8de45ac3d9/nose-1.3.7-py3-none-any.whl#sha256=9ff7c6cc443f8c51994b34a667bbcf45afd6d945be7477b52e97516fd17c53ac\n",
            "Best match: nose 1.3.7\n",
            "Processing nose-1.3.7-py3-none-any.whl\n",
            "Installing nose-1.3.7-py3-none-any.whl to /usr/local/lib/python3.6/dist-packages\n",
            "Adding nose 1.3.7 to easy-install.pth file\n",
            "Installing nosetests script to /usr/local/bin\n",
            "Installing nosetests-3.4 script to /usr/local/bin\n",
            "\n",
            "Installed /usr/local/lib/python3.6/dist-packages/nose-1.3.7-py3.6.egg\n",
            "Searching for numpy==1.19.5\n",
            "Best match: numpy 1.19.5\n",
            "Adding numpy 1.19.5 to easy-install.pth file\n",
            "Installing f2py script to /usr/local/bin\n",
            "Installing f2py3 script to /usr/local/bin\n",
            "Installing f2py3.6 script to /usr/local/bin\n",
            "\n",
            "Using /usr/local/lib/python3.6/dist-packages\n",
            "Searching for scikit-learn==0.22.2.post1\n",
            "Best match: scikit-learn 0.22.2.post1\n",
            "Adding scikit-learn 0.22.2.post1 to easy-install.pth file\n",
            "\n",
            "Using /usr/local/lib/python3.6/dist-packages\n",
            "Searching for joblib==1.0.0\n",
            "Best match: joblib 1.0.0\n",
            "Adding joblib 1.0.0 to easy-install.pth file\n",
            "\n",
            "Using /usr/local/lib/python3.6/dist-packages\n",
            "Searching for scipy==1.4.1\n",
            "Best match: scipy 1.4.1\n",
            "Adding scipy 1.4.1 to easy-install.pth file\n",
            "\n",
            "Using /usr/local/lib/python3.6/dist-packages\n",
            "Finished processing dependencies for scikit-hyperband==0.0.1\n"
          ],
          "name": "stdout"
        }
      ]
    },
    {
      "cell_type": "code",
      "metadata": {
        "id": "X-ophk1MB28u"
      },
      "source": [
        "from hyperband import HyperbandSearchCV\r\n",
        "import warnings\r\n",
        "warnings.filterwarnings('ignore')"
      ],
      "execution_count": 30,
      "outputs": []
    },
    {
      "cell_type": "code",
      "metadata": {
        "id": "ZV93t8fvB_kD",
        "outputId": "7c70469e-1fb2-4d76-9e30-e2fabeaa6355",
        "colab": {
          "base_uri": "https://localhost:8080/"
        }
      },
      "source": [
        "from scipy.stats import expon, loguniform\r\n",
        "param_grid = {\r\n",
        "    'kernel': ['linear','rbf'],\r\n",
        "    'C': loguniform(1,20),\r\n",
        "    'gamma': expon(scale=1.0)}\r\n",
        "\r\n",
        "svm_reg = SVR()\r\n",
        "Hyb_search_RF = HyperbandSearchCV(svm_reg,\r\n",
        "                           param_grid,\r\n",
        "                           resource_param='max_iter', #Recursos que se asignarán en cada estimacion. En Random Forest tipicamente el número de árboles\r\n",
        "                           verbose =1,\r\n",
        "                           max_iter=10000, #Numero de árboles máximo en una iteración\r\n",
        "                           min_iter=300, #Numero de árboles mínimo en una iteración\r\n",
        "                           eta=4, #Reducción de recursos en cada iteración\r\n",
        "                           cv=3,\r\n",
        "                           scoring='neg_mean_squared_error',\r\n",
        "                           random_state = 42)\r\n",
        "\r\n",
        "Hyb_search_RF.fit(X_train, y_train)"
      ],
      "execution_count": 31,
      "outputs": [
        {
          "output_type": "stream",
          "text": [
            "Starting bracket 1 (out of 3) of hyperband\n",
            "Starting successive halving iteration 1 out of 3. Fitting 16 configurations, with resource_param max_iter set to 625, and keeping the best 4 configurations.\n",
            "Fitting 3 folds for each of 16 candidates, totalling 48 fits\n"
          ],
          "name": "stdout"
        },
        {
          "output_type": "stream",
          "text": [
            "[Parallel(n_jobs=1)]: Using backend SequentialBackend with 1 concurrent workers.\n",
            "[Parallel(n_jobs=1)]: Done  48 out of  48 | elapsed:    0.3s finished\n",
            "[Parallel(n_jobs=1)]: Using backend SequentialBackend with 1 concurrent workers.\n",
            "[Parallel(n_jobs=1)]: Done  12 out of  12 | elapsed:    0.1s finished\n",
            "[Parallel(n_jobs=1)]: Using backend SequentialBackend with 1 concurrent workers.\n",
            "[Parallel(n_jobs=1)]: Done   3 out of   3 | elapsed:    0.0s finished\n",
            "[Parallel(n_jobs=1)]: Using backend SequentialBackend with 1 concurrent workers.\n",
            "[Parallel(n_jobs=1)]: Done  12 out of  12 | elapsed:    0.1s finished\n",
            "[Parallel(n_jobs=1)]: Using backend SequentialBackend with 1 concurrent workers.\n",
            "[Parallel(n_jobs=1)]: Done   3 out of   3 | elapsed:    0.0s finished\n",
            "[Parallel(n_jobs=1)]: Using backend SequentialBackend with 1 concurrent workers.\n"
          ],
          "name": "stderr"
        },
        {
          "output_type": "stream",
          "text": [
            "Starting successive halving iteration 2 out of 3. Fitting 4 configurations, with resource_param max_iter set to 2500, and keeping the best 1 configurations.\n",
            "Fitting 3 folds for each of 4 candidates, totalling 12 fits\n",
            "Starting successive halving iteration 3 out of 3. Fitting 1 configurations, with resource_param max_iter set to 10000\n",
            "Fitting 3 folds for each of 1 candidates, totalling 3 fits\n",
            "Starting bracket 2 (out of 3) of hyperband\n",
            "Starting successive halving iteration 1 out of 2. Fitting 4 configurations, with resource_param max_iter set to 2500, and keeping the best 1 configurations.\n",
            "Fitting 3 folds for each of 4 candidates, totalling 12 fits\n",
            "Starting successive halving iteration 2 out of 2. Fitting 1 configurations, with resource_param max_iter set to 10000\n",
            "Fitting 3 folds for each of 1 candidates, totalling 3 fits\n",
            "Starting bracket 3 (out of 3) of hyperband\n",
            "Starting successive halving iteration 1 out of 1. Fitting 3 configurations, with resource_param max_iter set to 10000\n",
            "Fitting 3 folds for each of 3 candidates, totalling 9 fits\n"
          ],
          "name": "stdout"
        },
        {
          "output_type": "stream",
          "text": [
            "[Parallel(n_jobs=1)]: Done   9 out of   9 | elapsed:    0.1s finished\n"
          ],
          "name": "stderr"
        },
        {
          "output_type": "execute_result",
          "data": {
            "text/plain": [
              "HyperbandSearchCV(cv=3, error_score='raise',\n",
              "                  estimator=SVR(C=1.0, cache_size=200, coef0=0.0, degree=3,\n",
              "                                epsilon=0.1, gamma='scale', kernel='rbf',\n",
              "                                max_iter=-1, shrinking=True, tol=0.001,\n",
              "                                verbose=False),\n",
              "                  eta=4, iid=True, max_iter=10000, min_iter=300, n_jobs=1,\n",
              "                  param_distributions={'C': <scipy.stats._distn_infrastructure.rv_frozen object at 0x7fafab1096d8>,\n",
              "                                       'gamma': <scipy.stats._distn_infrastructure.rv_frozen object at 0x7fafab109080>,\n",
              "                                       'kernel': ['linear', 'rbf']},\n",
              "                  pre_dispatch='2*n_jobs', random_state=42, refit=True,\n",
              "                  resource_param='max_iter', return_train_score=False,\n",
              "                  scoring='neg_mean_squared_error', skip_last=0, verbose=1)"
            ]
          },
          "metadata": {
            "tags": []
          },
          "execution_count": 31
        }
      ]
    },
    {
      "cell_type": "code",
      "metadata": {
        "id": "8J92lQgTCEFG",
        "outputId": "60836ceb-7908-4ba5-9731-d374b25d47bd",
        "colab": {
          "base_uri": "https://localhost:8080/"
        }
      },
      "source": [
        "Hyb_search_RF.best_params_"
      ],
      "execution_count": 32,
      "outputs": [
        {
          "output_type": "execute_result",
          "data": {
            "text/plain": [
              "{'C': 1.0213944061855214,\n",
              " 'gamma': 0.023332523598323388,\n",
              " 'kernel': 'linear',\n",
              " 'max_iter': 625}"
            ]
          },
          "metadata": {
            "tags": []
          },
          "execution_count": 32
        }
      ]
    },
    {
      "cell_type": "code",
      "metadata": {
        "id": "t2SQAHN7CIKH",
        "outputId": "39f987e3-cb23-447d-ccbe-343ebeaf5901",
        "colab": {
          "base_uri": "https://localhost:8080/"
        }
      },
      "source": [
        "negative_mse = Hyb_search_RF.best_score_\r\n",
        "rmse = np.sqrt(-negative_mse)\r\n",
        "rmse"
      ],
      "execution_count": 33,
      "outputs": [
        {
          "output_type": "execute_result",
          "data": {
            "text/plain": [
              "0.059857025171337376"
            ]
          },
          "metadata": {
            "tags": []
          },
          "execution_count": 33
        }
      ]
    },
    {
      "cell_type": "markdown",
      "metadata": {
        "id": "JQE5HvxLCK2B"
      },
      "source": [
        "Nuevamente, obtenemos un error de 0.05 puntos, algo que es basntente asumible para nuestros datos."
      ]
    },
    {
      "cell_type": "markdown",
      "metadata": {
        "id": "_PtG-cTrCLIh"
      },
      "source": [
        "#### **Métodos basados en la naturaleza**"
      ]
    },
    {
      "cell_type": "code",
      "metadata": {
        "id": "RfyNEIQ7CjVX",
        "outputId": "ee856505-87b2-412d-adba-44eb61211824",
        "colab": {
          "base_uri": "https://localhost:8080/",
          "height": 697
        }
      },
      "source": [
        "! pip install sklearn_nature_inspired_algorithms==0.4.3"
      ],
      "execution_count": 34,
      "outputs": [
        {
          "output_type": "stream",
          "text": [
            "Collecting sklearn_nature_inspired_algorithms==0.4.3\n",
            "  Downloading https://files.pythonhosted.org/packages/01/e1/29ad71e68b422f28e58f3ab9b9ef3e824c2c5192cb264fa9f25e91c3f663/sklearn_nature_inspired_algorithms-0.4.3-py3-none-any.whl\n",
            "Requirement already satisfied: pandas<2.0.0,>=1.0.3 in /usr/local/lib/python3.6/dist-packages (from sklearn_nature_inspired_algorithms==0.4.3) (1.1.5)\n",
            "Requirement already satisfied: matplotlib<4.0.0,>=3.2.1 in /usr/local/lib/python3.6/dist-packages (from sklearn_nature_inspired_algorithms==0.4.3) (3.2.2)\n",
            "Collecting toml<0.10,>=0.9\n",
            "  Downloading https://files.pythonhosted.org/packages/c7/19/76c3cb84949a0593767b32b9be83a604d8a68c3580ff5d0ee64856b39ade/toml-0.9.6-py2.py3-none-any.whl\n",
            "Collecting NiaPy==2.0.0rc10\n",
            "\u001b[?25l  Downloading https://files.pythonhosted.org/packages/21/cc/188600a551120c29480706565f3a526f81fc5ea13ed094b2cdabaff5388b/NiaPy-2.0.0rc10-py3-none-any.whl (212kB)\n",
            "\u001b[K     |████████████████████████████████| 215kB 5.6MB/s \n",
            "\u001b[?25hRequirement already satisfied: scikit-learn<0.23.0,>=0.22.2 in /usr/local/lib/python3.6/dist-packages (from sklearn_nature_inspired_algorithms==0.4.3) (0.22.2.post1)\n",
            "Collecting seaborn<0.11.0,>=0.10.1\n",
            "\u001b[?25l  Downloading https://files.pythonhosted.org/packages/c7/e6/54aaaafd0b87f51dfba92ba73da94151aa3bc179e5fe88fc5dfb3038e860/seaborn-0.10.1-py3-none-any.whl (215kB)\n",
            "\u001b[K     |████████████████████████████████| 225kB 7.1MB/s \n",
            "\u001b[?25hRequirement already satisfied: numpy<2.0.0,>=1.18.4 in /usr/local/lib/python3.6/dist-packages (from sklearn_nature_inspired_algorithms==0.4.3) (1.19.5)\n",
            "Requirement already satisfied: pytz>=2017.2 in /usr/local/lib/python3.6/dist-packages (from pandas<2.0.0,>=1.0.3->sklearn_nature_inspired_algorithms==0.4.3) (2018.9)\n",
            "Requirement already satisfied: python-dateutil>=2.7.3 in /usr/local/lib/python3.6/dist-packages (from pandas<2.0.0,>=1.0.3->sklearn_nature_inspired_algorithms==0.4.3) (2.8.1)\n",
            "Requirement already satisfied: pyparsing!=2.0.4,!=2.1.2,!=2.1.6,>=2.0.1 in /usr/local/lib/python3.6/dist-packages (from matplotlib<4.0.0,>=3.2.1->sklearn_nature_inspired_algorithms==0.4.3) (2.4.7)\n",
            "Requirement already satisfied: cycler>=0.10 in /usr/local/lib/python3.6/dist-packages (from matplotlib<4.0.0,>=3.2.1->sklearn_nature_inspired_algorithms==0.4.3) (0.10.0)\n",
            "Requirement already satisfied: kiwisolver>=1.0.1 in /usr/local/lib/python3.6/dist-packages (from matplotlib<4.0.0,>=3.2.1->sklearn_nature_inspired_algorithms==0.4.3) (1.3.1)\n",
            "Collecting enum34>=1.1.6\n",
            "  Downloading https://files.pythonhosted.org/packages/63/f6/ccb1c83687756aeabbf3ca0f213508fcfb03883ff200d201b3a4c60cedcc/enum34-1.1.10-py3-none-any.whl\n",
            "Collecting xlsxwriter>=1.1.5\n",
            "\u001b[?25l  Downloading https://files.pythonhosted.org/packages/6b/41/bf1aae04932d1eaffee1fc5f8b38ca47bbbf07d765129539bc4bcce1ce0c/XlsxWriter-1.3.7-py2.py3-none-any.whl (144kB)\n",
            "\u001b[K     |████████████████████████████████| 153kB 7.5MB/s \n",
            "\u001b[?25hRequirement already satisfied: scipy>=1.1.0 in /usr/local/lib/python3.6/dist-packages (from NiaPy==2.0.0rc10->sklearn_nature_inspired_algorithms==0.4.3) (1.4.1)\n",
            "Requirement already satisfied: joblib>=0.11 in /usr/local/lib/python3.6/dist-packages (from scikit-learn<0.23.0,>=0.22.2->sklearn_nature_inspired_algorithms==0.4.3) (1.0.0)\n",
            "Requirement already satisfied: six>=1.5 in /usr/local/lib/python3.6/dist-packages (from python-dateutil>=2.7.3->pandas<2.0.0,>=1.0.3->sklearn_nature_inspired_algorithms==0.4.3) (1.15.0)\n",
            "Installing collected packages: toml, enum34, xlsxwriter, NiaPy, seaborn, sklearn-nature-inspired-algorithms\n",
            "  Found existing installation: toml 0.10.2\n",
            "    Uninstalling toml-0.10.2:\n",
            "      Successfully uninstalled toml-0.10.2\n",
            "  Found existing installation: seaborn 0.11.1\n",
            "    Uninstalling seaborn-0.11.1:\n",
            "      Successfully uninstalled seaborn-0.11.1\n",
            "Successfully installed NiaPy-2.0.0rc10 enum34-1.1.10 seaborn-0.10.1 sklearn-nature-inspired-algorithms-0.4.3 toml-0.9.6 xlsxwriter-1.3.7\n"
          ],
          "name": "stdout"
        },
        {
          "output_type": "display_data",
          "data": {
            "application/vnd.colab-display-data+json": {
              "pip_warning": {
                "packages": [
                  "enum",
                  "seaborn"
                ]
              }
            }
          },
          "metadata": {
            "tags": []
          }
        }
      ]
    },
    {
      "cell_type": "code",
      "metadata": {
        "id": "XQSzbqGgCmOP"
      },
      "source": [
        "from sklearn_nature_inspired_algorithms.model_selection.nature_inspired_search_cv import NatureInspiredSearchCV\r\n",
        "from sklearn_nature_inspired_algorithms.helpers import score_by_generation_lineplot"
      ],
      "execution_count": 35,
      "outputs": []
    },
    {
      "cell_type": "code",
      "metadata": {
        "id": "kNn4CgHWCofY",
        "outputId": "cd9a2b63-fd04-493b-b87f-4723391d524a",
        "colab": {
          "base_uri": "https://localhost:8080/"
        }
      },
      "source": [
        "from sklearn.svm import SVR\r\n",
        "from scipy.stats import expon, loguniform\r\n",
        "\r\n",
        "param_grid_SVR =  {'kernel': ['rbf'], 'C': [1.0, 3.0, 5.0], 'gamma': [0.01, 0.1, 1.0]}\r\n",
        "    \r\n",
        "svm_reg = SVR()\r\n",
        "\r\n",
        "nia_search_RF = NatureInspiredSearchCV(\r\n",
        "    svm_reg,\r\n",
        "    param_grid_SVR,\r\n",
        "    cv=3,\r\n",
        "    verbose=2,\r\n",
        "    algorithm='ba', #Bat Algorithm\r\n",
        "    population_size=5, #Número de estimadores en la población. Cuando la población es pequeña la búsqueda será más rápida pero puede que no se llegue a obtener el mejor resultado (que se alcanzará cuando el tamaño de la población es similar a la posible combianción de parámetros).\r\n",
        "    max_n_gen=100, #Número máximo de generaciones a ser optimizadas. \r\n",
        "    max_stagnating_gen=5, #Si el resultado permanece invariable durante este número de generaciones la optimización se detiene.\r\n",
        "    n_jobs=-1,\r\n",
        "    scoring=\"neg_mean_squared_error\",\r\n",
        "    random_state=42)\r\n",
        "\r\n",
        "nia_search_RF.fit(X_train, y_train)\r\n",
        "print(nia_search_RF)"
      ],
      "execution_count": 36,
      "outputs": [
        {
          "output_type": "stream",
          "text": [
            "Fitting 3 folds for some of the 9 candidates, which might total in 27 fits\n",
            "Fitting 3 folds for each of 1 candidates, totalling 3 fits\n"
          ],
          "name": "stdout"
        },
        {
          "output_type": "stream",
          "text": [
            "[Parallel(n_jobs=-1)]: Using backend LokyBackend with 2 concurrent workers.\n",
            "[Parallel(n_jobs=-1)]: Done   3 out of   3 | elapsed:    1.2s finished\n",
            "[Parallel(n_jobs=-1)]: Using backend LokyBackend with 2 concurrent workers.\n",
            "[Parallel(n_jobs=-1)]: Done   3 out of   3 | elapsed:    0.0s finished\n",
            "[Parallel(n_jobs=-1)]: Using backend LokyBackend with 2 concurrent workers.\n",
            "[Parallel(n_jobs=-1)]: Done   3 out of   3 | elapsed:    0.0s finished\n",
            "[Parallel(n_jobs=-1)]: Using backend LokyBackend with 2 concurrent workers.\n",
            "[Parallel(n_jobs=-1)]: Done   3 out of   3 | elapsed:    0.0s finished\n",
            "[Parallel(n_jobs=-1)]: Using backend LokyBackend with 2 concurrent workers.\n",
            "[Parallel(n_jobs=-1)]: Done   3 out of   3 | elapsed:    0.0s finished\n",
            "[Parallel(n_jobs=-1)]: Using backend LokyBackend with 2 concurrent workers.\n",
            "[Parallel(n_jobs=-1)]: Done   3 out of   3 | elapsed:    0.0s finished\n",
            "[Parallel(n_jobs=-1)]: Using backend LokyBackend with 2 concurrent workers.\n",
            "[Parallel(n_jobs=-1)]: Done   3 out of   3 | elapsed:    0.0s finished\n",
            "[Parallel(n_jobs=-1)]: Using backend LokyBackend with 2 concurrent workers.\n"
          ],
          "name": "stderr"
        },
        {
          "output_type": "stream",
          "text": [
            "Fitting 3 folds for each of 1 candidates, totalling 3 fits\n",
            "Fitting 3 folds for each of 1 candidates, totalling 3 fits\n",
            "Fitting 3 folds for each of 1 candidates, totalling 3 fits\n",
            "Fitting 3 folds for each of 1 candidates, totalling 3 fits\n",
            "Fitting 3 folds for each of 1 candidates, totalling 3 fits\n",
            "Fitting 3 folds for each of 1 candidates, totalling 3 fits\n",
            "Fitting 3 folds for each of 1 candidates, totalling 3 fits\n",
            "Fitting 3 folds for each of 1 candidates, totalling 3 fits\n",
            "NatureInspiredSearchCV(algorithm=None, cv=3, error_score=nan,\n",
            "                       estimator=SVR(C=1.0, cache_size=200, coef0=0.0, degree=3,\n",
            "                                     epsilon=0.1, gamma='scale', kernel='rbf',\n",
            "                                     max_iter=-1, shrinking=True, tol=0.001,\n",
            "                                     verbose=False),\n",
            "                       iid='deprecated', max_n_gen=None,\n",
            "                       max_stagnating_gen=None, n_jobs=-1, param_grid=None,\n",
            "                       population_size=None, pre_dispatch='2*n_jobs',\n",
            "                       random_state=None, refit=True, return_train_score=True,\n",
            "                       runs=None, scoring='neg_mean_squared_error', verbose=2)\n"
          ],
          "name": "stdout"
        },
        {
          "output_type": "stream",
          "text": [
            "[Parallel(n_jobs=-1)]: Done   3 out of   3 | elapsed:    0.0s finished\n",
            "[Parallel(n_jobs=-1)]: Using backend LokyBackend with 2 concurrent workers.\n",
            "[Parallel(n_jobs=-1)]: Done   3 out of   3 | elapsed:    0.0s finished\n"
          ],
          "name": "stderr"
        }
      ]
    },
    {
      "cell_type": "code",
      "metadata": {
        "id": "JUyrLel3Cvat",
        "outputId": "955289f9-d192-489a-bd96-a45e830eff5a",
        "colab": {
          "base_uri": "https://localhost:8080/"
        }
      },
      "source": [
        "nia_search_RF.best_params_"
      ],
      "execution_count": 37,
      "outputs": [
        {
          "output_type": "execute_result",
          "data": {
            "text/plain": [
              "{'C': 5.0, 'gamma': 0.1, 'kernel': 'rbf'}"
            ]
          },
          "metadata": {
            "tags": []
          },
          "execution_count": 37
        }
      ]
    },
    {
      "cell_type": "code",
      "metadata": {
        "id": "Ymrzc3zsCyBl",
        "outputId": "67ad33c3-0ae1-4ddb-dc7f-87e7ba83acc6",
        "colab": {
          "base_uri": "https://localhost:8080/"
        }
      },
      "source": [
        "negative_mse = nia_search_RF.best_score_\r\n",
        "rmse = np.sqrt(-negative_mse)\r\n",
        "rmse"
      ],
      "execution_count": 38,
      "outputs": [
        {
          "output_type": "execute_result",
          "data": {
            "text/plain": [
              "0.059589096172201324"
            ]
          },
          "metadata": {
            "tags": []
          },
          "execution_count": 38
        }
      ]
    },
    {
      "cell_type": "code",
      "metadata": {
        "id": "g7ME6fGFC0Ze",
        "outputId": "419d139c-52b8-47b6-f57e-a1455973f387",
        "colab": {
          "base_uri": "https://localhost:8080/"
        }
      },
      "source": [
        "param_grid_SVR =  {'kernel': ['rbf'], 'C': [1.0, 3.0, 5.0], 'gamma': [0.01, 0.1, 1.0]}\r\n",
        "    \r\n",
        "svm_reg = SVR()\r\n",
        "\r\n",
        "nia_search_RF = NatureInspiredSearchCV(\r\n",
        "    svm_reg,\r\n",
        "    param_grid_SVR,\r\n",
        "    cv=3,\r\n",
        "    verbose=0,\r\n",
        "    algorithm='gwo',  #Grey Wolf Optimizer #'fa' #Firefly Algorithm\r\n",
        "    population_size=10,\r\n",
        "    max_n_gen=20,\r\n",
        "    max_stagnating_gen=5,\r\n",
        "    n_jobs=-1,\r\n",
        "    scoring=\"neg_mean_squared_error\",\r\n",
        "    random_state=42)\r\n",
        "\r\n",
        "nia_search_RF.fit(X_train, y_train)\r\n",
        "print(nia_search_RF)"
      ],
      "execution_count": 39,
      "outputs": [
        {
          "output_type": "stream",
          "text": [
            "Fitting 3 folds for some of the 9 candidates, which might total in 27 fits\n",
            "NatureInspiredSearchCV(algorithm=None, cv=3, error_score=nan,\n",
            "                       estimator=SVR(C=1.0, cache_size=200, coef0=0.0, degree=3,\n",
            "                                     epsilon=0.1, gamma='scale', kernel='rbf',\n",
            "                                     max_iter=-1, shrinking=True, tol=0.001,\n",
            "                                     verbose=False),\n",
            "                       iid='deprecated', max_n_gen=None,\n",
            "                       max_stagnating_gen=None, n_jobs=-1, param_grid=None,\n",
            "                       population_size=None, pre_dispatch='2*n_jobs',\n",
            "                       random_state=None, refit=True, return_train_score=True,\n",
            "                       runs=None, scoring='neg_mean_squared_error', verbose=0)\n"
          ],
          "name": "stdout"
        }
      ]
    },
    {
      "cell_type": "code",
      "metadata": {
        "id": "bc6G_UYkC2hQ",
        "outputId": "8cdcccab-a4b4-4487-ae8f-44eb95118a9c",
        "colab": {
          "base_uri": "https://localhost:8080/"
        }
      },
      "source": [
        "nia_search_RF.best_params_"
      ],
      "execution_count": 40,
      "outputs": [
        {
          "output_type": "execute_result",
          "data": {
            "text/plain": [
              "{'C': 5.0, 'gamma': 0.1, 'kernel': 'rbf'}"
            ]
          },
          "metadata": {
            "tags": []
          },
          "execution_count": 40
        }
      ]
    },
    {
      "cell_type": "code",
      "metadata": {
        "id": "3wFCvyNJC5CA",
        "outputId": "a05dc06f-c93c-4d63-d93f-8319e07aa853",
        "colab": {
          "base_uri": "https://localhost:8080/"
        }
      },
      "source": [
        "negative_mse = nia_search_RF.best_score_\r\n",
        "rmse = np.sqrt(-negative_mse)\r\n",
        "rmse"
      ],
      "execution_count": 41,
      "outputs": [
        {
          "output_type": "execute_result",
          "data": {
            "text/plain": [
              "0.059589096172201324"
            ]
          },
          "metadata": {
            "tags": []
          },
          "execution_count": 41
        }
      ]
    },
    {
      "cell_type": "markdown",
      "metadata": {
        "id": "kge_GBk4C7gS"
      },
      "source": [
        "El resultado tanto para bat como para grey wolves es el mismo, y similar al resto de modelos."
      ]
    },
    {
      "cell_type": "markdown",
      "metadata": {
        "id": "90QwwNcoDVPq"
      },
      "source": [
        "#### **Algoritmos genéticos**"
      ]
    },
    {
      "cell_type": "code",
      "metadata": {
        "id": "UvUwSFIcDZbS",
        "outputId": "c1b91a38-188f-468b-e9f5-fd3566e50f3d",
        "colab": {
          "base_uri": "https://localhost:8080/"
        }
      },
      "source": [
        "!pip install sklearn-deap"
      ],
      "execution_count": 42,
      "outputs": [
        {
          "output_type": "stream",
          "text": [
            "Collecting sklearn-deap\n",
            "  Downloading https://files.pythonhosted.org/packages/52/c6/f56c220aad9d582f2e7fee598e5be4b737d2448506041c89bcc364455142/sklearn_deap-0.2.4-py3-none-any.whl\n",
            "Requirement already satisfied: scikit-learn>=0.18.0 in /usr/local/lib/python3.6/dist-packages (from sklearn-deap) (0.22.2.post1)\n",
            "Collecting deap>=1.0.2\n",
            "\u001b[?25l  Downloading https://files.pythonhosted.org/packages/0a/eb/2bd0a32e3ce757fb26264765abbaedd6d4d3640d90219a513aeabd08ee2b/deap-1.3.1-cp36-cp36m-manylinux2010_x86_64.whl (157kB)\n",
            "\u001b[K     |████████████████████████████████| 163kB 5.2MB/s \n",
            "\u001b[?25hRequirement already satisfied: numpy>=1.9.3 in /usr/local/lib/python3.6/dist-packages (from sklearn-deap) (1.19.5)\n",
            "Requirement already satisfied: scipy>=0.16.0 in /usr/local/lib/python3.6/dist-packages (from sklearn-deap) (1.4.1)\n",
            "Requirement already satisfied: joblib>=0.11 in /usr/local/lib/python3.6/dist-packages (from scikit-learn>=0.18.0->sklearn-deap) (1.0.0)\n",
            "Installing collected packages: deap, sklearn-deap\n",
            "Successfully installed deap-1.3.1 sklearn-deap-0.2.4\n"
          ],
          "name": "stdout"
        }
      ]
    },
    {
      "cell_type": "code",
      "metadata": {
        "id": "Um1G3nb1Dqtz",
        "outputId": "23c6606c-8cff-46ef-9e8b-f6da8a7e7fe5",
        "colab": {
          "base_uri": "https://localhost:8080/"
        }
      },
      "source": [
        "%%time\r\n",
        "\r\n",
        "from evolutionary_search import EvolutionaryAlgorithmSearchCV\r\n",
        "rf_params = {\r\n",
        "    'C': np.random.uniform(0,50,1000),\r\n",
        "    \"kernel\":['poly','rbf','sigmoid'],\r\n",
        "    'gamma': np.random.uniform(0,1,100),\r\n",
        "}\r\n",
        "clf = SVR()\r\n",
        "\r\n",
        "ga_RF = EvolutionaryAlgorithmSearchCV(estimator=clf,\r\n",
        "                                   params=rf_params,\r\n",
        "                                   scoring=\"neg_root_mean_squared_error\", #Podemos poner RMSE\r\n",
        "                                   cv=3,\r\n",
        "                                   verbose=1,\r\n",
        "                                   population_size=20, #Tamaño de la población\r\n",
        "                                   gene_mutation_prob=0.10, # Probabilidad de mutación de un gen en un cromosoma\r\n",
        "                                   gene_crossover_prob=0.5, #La probabilidad de intercambio de genes entre dos cromosomas\r\n",
        "                                   tournament_size=3, # Size of tournament for selection stage of genetich algorithm\r\n",
        "                                   generations_number=5,  #Número de generaciones\r\n",
        "                                   n_jobs=1)\r\n",
        "ga_RF.fit(X_train, y_train)"
      ],
      "execution_count": 43,
      "outputs": [
        {
          "output_type": "stream",
          "text": [
            "Types [2, 1, 2] and maxint [999, 2, 99] detected\n",
            "--- Evolve in 300000 possible combinations ---\n",
            "gen\tnevals\tavg     \tmin     \tmax       \tstd    \n",
            "0  \t20    \t-12.3062\t-107.258\t-0.0568173\t25.4739\n",
            "1  \t15    \t-0.492119\t-8.11036\t-0.0521665\t1.74836\n",
            "2  \t17    \t-0.0714885\t-0.106605\t-0.0521665\t0.0174689\n",
            "3  \t16    \t-0.0595413\t-0.0948717\t-0.0521665\t0.0102047\n",
            "4  \t12    \t-0.0616019\t-0.104173 \t-0.0521665\t0.016639 \n",
            "5  \t14    \t-0.0593694\t-0.0946824\t-0.0521665\t0.014029 \n",
            "Best individual is: {'C': 48.84218691961462, 'kernel': 'rbf', 'gamma': 0.04517064329364473}\n",
            "with fitness: -0.05216646399109734\n",
            "CPU times: user 2min 53s, sys: 33.6 ms, total: 2min 53s\n",
            "Wall time: 2min 54s\n"
          ],
          "name": "stdout"
        }
      ]
    },
    {
      "cell_type": "markdown",
      "metadata": {
        "id": "f_X0fsY0D2Oh"
      },
      "source": [
        "Nuevamente, hemos obtenido un resultado similar al anterior pero con mucho más tiempo de ejecución."
      ]
    },
    {
      "cell_type": "markdown",
      "metadata": {
        "id": "BZ10oJIoD21B"
      },
      "source": [
        "#### **Otras pruebas**"
      ]
    },
    {
      "cell_type": "markdown",
      "metadata": {
        "id": "odKmUcZxD810"
      },
      "source": [
        "Todas las pruebas de ajustes de hiperparámetros las he realizado usando el modelo SVR y en todos los casos los resultados obtenidos han sido muy buenos. Voy a probar ahora, por ejemplo, hacer Gread Search con un RandomForestRegressor"
      ]
    },
    {
      "cell_type": "code",
      "metadata": {
        "id": "L2c3igPjE1Wk",
        "outputId": "4f5a159b-1558-4a08-9102-fbe259a81424",
        "colab": {
          "base_uri": "https://localhost:8080/"
        }
      },
      "source": [
        "%%time\r\n",
        "from sklearn.model_selection import GridSearchCV\r\n",
        "\r\n",
        "param_grid = {\r\n",
        "    # intenta 12 (3×4) combinaciones de hiperparámetros\r\n",
        "    'n_estimators': [30, 100, 300],\r\n",
        "    'max_features': [3, 6, 8, 'auto']\r\n",
        "    }  \r\n",
        "\r\n",
        "forest_reg = RandomForestRegressor(random_state=42) \r\n",
        "# entrena con 3 folds, es decir un total de 12*3=36 rondas de entrenamiento \r\n",
        "grid_search_RF = GridSearchCV(forest_reg, param_grid, cv=3,\r\n",
        "                           scoring='neg_mean_squared_error',\r\n",
        "                           refit= True, verbose=2, n_jobs=-1)\r\n",
        "grid_search_RF.fit(X_train, y_train)"
      ],
      "execution_count": 44,
      "outputs": [
        {
          "output_type": "stream",
          "text": [
            "Fitting 3 folds for each of 12 candidates, totalling 36 fits\n"
          ],
          "name": "stdout"
        },
        {
          "output_type": "stream",
          "text": [
            "[Parallel(n_jobs=-1)]: Using backend LokyBackend with 2 concurrent workers.\n",
            "[Parallel(n_jobs=-1)]: Done  36 out of  36 | elapsed:    7.5s finished\n"
          ],
          "name": "stderr"
        },
        {
          "output_type": "stream",
          "text": [
            "CPU times: user 829 ms, sys: 37 ms, total: 866 ms\n",
            "Wall time: 8.19 s\n"
          ],
          "name": "stdout"
        }
      ]
    },
    {
      "cell_type": "code",
      "metadata": {
        "id": "gPLPP8SUFAur",
        "outputId": "ad4a3171-9a25-43bb-9186-0e18d48faeaf",
        "colab": {
          "base_uri": "https://localhost:8080/"
        }
      },
      "source": [
        "grid_search_RF.best_params_"
      ],
      "execution_count": 45,
      "outputs": [
        {
          "output_type": "execute_result",
          "data": {
            "text/plain": [
              "{'max_features': 6, 'n_estimators': 300}"
            ]
          },
          "metadata": {
            "tags": []
          },
          "execution_count": 45
        }
      ]
    },
    {
      "cell_type": "code",
      "metadata": {
        "id": "hsG5tLBZFETY",
        "outputId": "ba14785c-b809-43e6-ab06-0259c5aaecc9",
        "colab": {
          "base_uri": "https://localhost:8080/"
        }
      },
      "source": [
        "negative_mse = grid_search_RF.best_score_\r\n",
        "rmse = np.sqrt(-negative_mse)\r\n",
        "rmse"
      ],
      "execution_count": 46,
      "outputs": [
        {
          "output_type": "execute_result",
          "data": {
            "text/plain": [
              "0.2924262084510323"
            ]
          },
          "metadata": {
            "tags": []
          },
          "execution_count": 46
        }
      ]
    },
    {
      "cell_type": "markdown",
      "metadata": {
        "id": "AJO8qgu-FFv_"
      },
      "source": [
        "El resultado, obtenido mustra un error mucho mayor a el que da el modelo SVR, por lo que para nuestro dataset es mucho mejor modelo, SVR que RandomForestRegressor."
      ]
    },
    {
      "cell_type": "markdown",
      "metadata": {
        "id": "ivJOZugRFXUz"
      },
      "source": [
        "### **Ensembles**"
      ]
    },
    {
      "cell_type": "markdown",
      "metadata": {
        "id": "788yoVQQFfNJ"
      },
      "source": [
        ""
      ]
    }
  ]
}