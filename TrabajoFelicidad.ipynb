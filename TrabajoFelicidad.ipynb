{
  "nbformat": 4,
  "nbformat_minor": 0,
  "metadata": {
    "colab": {
      "name": "TrabajoFelicidad.ipynb",
      "provenance": [],
      "include_colab_link": true
    },
    "kernelspec": {
      "name": "python3",
      "display_name": "Python 3"
    }
  },
  "cells": [
    {
      "cell_type": "markdown",
      "metadata": {
        "id": "view-in-github",
        "colab_type": "text"
      },
      "source": [
        "<a href=\"https://colab.research.google.com/github/fortiz98/TrabajoAAII/blob/main/TrabajoFelicidad.ipynb\" target=\"_parent\"><img src=\"https://colab.research.google.com/assets/colab-badge.svg\" alt=\"Open In Colab\"/></a>"
      ]
    },
    {
      "cell_type": "markdown",
      "metadata": {
        "id": "eBpZoMKEF1kE"
      },
      "source": [
        "##**Ranking de la felicidad en los países en los años 2015-2016-2017**"
      ]
    },
    {
      "cell_type": "code",
      "metadata": {
        "id": "mGSaXyguW_mP"
      },
      "source": [
        "import pandas as pd\r\n",
        "import numpy as np\r\n",
        "import matplotlib.pyplot as plt\r\n",
        "from matplotlib.colors import ListedColormap\r\n",
        "import matplotlib.patches as mpatches\r\n",
        "import seaborn as sb"
      ],
      "execution_count": 4,
      "outputs": []
    },
    {
      "cell_type": "markdown",
      "metadata": {
        "id": "Fn3Sbjh9WzL2"
      },
      "source": [
        "###**Primer vistazo a los datos**"
      ]
    },
    {
      "cell_type": "markdown",
      "metadata": {
        "id": "Q0WfoacsXQFd"
      },
      "source": [
        "####Datos de 2015"
      ]
    },
    {
      "cell_type": "code",
      "metadata": {
        "id": "9lDmEoSZXVJH"
      },
      "source": [
        "data2015 = pd.read_csv('https://raw.githubusercontent.com/fortiz98/TrabajoAAII/main/2015.csv')"
      ],
      "execution_count": null,
      "outputs": []
    },
    {
      "cell_type": "code",
      "metadata": {
        "colab": {
          "base_uri": "https://localhost:8080/",
          "height": 419
        },
        "id": "a7fomN-IX3K5",
        "outputId": "32147e3f-ecc6-4c06-cecb-607b685fb4cd"
      },
      "source": [
        "data2015"
      ],
      "execution_count": null,
      "outputs": [
        {
          "output_type": "execute_result",
          "data": {
            "text/html": [
              "<div>\n",
              "<style scoped>\n",
              "    .dataframe tbody tr th:only-of-type {\n",
              "        vertical-align: middle;\n",
              "    }\n",
              "\n",
              "    .dataframe tbody tr th {\n",
              "        vertical-align: top;\n",
              "    }\n",
              "\n",
              "    .dataframe thead th {\n",
              "        text-align: right;\n",
              "    }\n",
              "</style>\n",
              "<table border=\"1\" class=\"dataframe\">\n",
              "  <thead>\n",
              "    <tr style=\"text-align: right;\">\n",
              "      <th></th>\n",
              "      <th>Country</th>\n",
              "      <th>Region</th>\n",
              "      <th>Happiness Rank</th>\n",
              "      <th>Happiness Score</th>\n",
              "      <th>Standard Error</th>\n",
              "      <th>Economy (GDP per Capita)</th>\n",
              "      <th>Family</th>\n",
              "      <th>Health (Life Expectancy)</th>\n",
              "      <th>Freedom</th>\n",
              "      <th>Trust (Government Corruption)</th>\n",
              "      <th>Generosity</th>\n",
              "      <th>Dystopia Residual</th>\n",
              "    </tr>\n",
              "  </thead>\n",
              "  <tbody>\n",
              "    <tr>\n",
              "      <th>0</th>\n",
              "      <td>Switzerland</td>\n",
              "      <td>Western Europe</td>\n",
              "      <td>1</td>\n",
              "      <td>7.587</td>\n",
              "      <td>0.03411</td>\n",
              "      <td>1.39651</td>\n",
              "      <td>1.34951</td>\n",
              "      <td>0.94143</td>\n",
              "      <td>0.66557</td>\n",
              "      <td>0.41978</td>\n",
              "      <td>0.29678</td>\n",
              "      <td>2.51738</td>\n",
              "    </tr>\n",
              "    <tr>\n",
              "      <th>1</th>\n",
              "      <td>Iceland</td>\n",
              "      <td>Western Europe</td>\n",
              "      <td>2</td>\n",
              "      <td>7.561</td>\n",
              "      <td>0.04884</td>\n",
              "      <td>1.30232</td>\n",
              "      <td>1.40223</td>\n",
              "      <td>0.94784</td>\n",
              "      <td>0.62877</td>\n",
              "      <td>0.14145</td>\n",
              "      <td>0.43630</td>\n",
              "      <td>2.70201</td>\n",
              "    </tr>\n",
              "    <tr>\n",
              "      <th>2</th>\n",
              "      <td>Denmark</td>\n",
              "      <td>Western Europe</td>\n",
              "      <td>3</td>\n",
              "      <td>7.527</td>\n",
              "      <td>0.03328</td>\n",
              "      <td>1.32548</td>\n",
              "      <td>1.36058</td>\n",
              "      <td>0.87464</td>\n",
              "      <td>0.64938</td>\n",
              "      <td>0.48357</td>\n",
              "      <td>0.34139</td>\n",
              "      <td>2.49204</td>\n",
              "    </tr>\n",
              "    <tr>\n",
              "      <th>3</th>\n",
              "      <td>Norway</td>\n",
              "      <td>Western Europe</td>\n",
              "      <td>4</td>\n",
              "      <td>7.522</td>\n",
              "      <td>0.03880</td>\n",
              "      <td>1.45900</td>\n",
              "      <td>1.33095</td>\n",
              "      <td>0.88521</td>\n",
              "      <td>0.66973</td>\n",
              "      <td>0.36503</td>\n",
              "      <td>0.34699</td>\n",
              "      <td>2.46531</td>\n",
              "    </tr>\n",
              "    <tr>\n",
              "      <th>4</th>\n",
              "      <td>Canada</td>\n",
              "      <td>North America</td>\n",
              "      <td>5</td>\n",
              "      <td>7.427</td>\n",
              "      <td>0.03553</td>\n",
              "      <td>1.32629</td>\n",
              "      <td>1.32261</td>\n",
              "      <td>0.90563</td>\n",
              "      <td>0.63297</td>\n",
              "      <td>0.32957</td>\n",
              "      <td>0.45811</td>\n",
              "      <td>2.45176</td>\n",
              "    </tr>\n",
              "    <tr>\n",
              "      <th>...</th>\n",
              "      <td>...</td>\n",
              "      <td>...</td>\n",
              "      <td>...</td>\n",
              "      <td>...</td>\n",
              "      <td>...</td>\n",
              "      <td>...</td>\n",
              "      <td>...</td>\n",
              "      <td>...</td>\n",
              "      <td>...</td>\n",
              "      <td>...</td>\n",
              "      <td>...</td>\n",
              "      <td>...</td>\n",
              "    </tr>\n",
              "    <tr>\n",
              "      <th>153</th>\n",
              "      <td>Rwanda</td>\n",
              "      <td>Sub-Saharan Africa</td>\n",
              "      <td>154</td>\n",
              "      <td>3.465</td>\n",
              "      <td>0.03464</td>\n",
              "      <td>0.22208</td>\n",
              "      <td>0.77370</td>\n",
              "      <td>0.42864</td>\n",
              "      <td>0.59201</td>\n",
              "      <td>0.55191</td>\n",
              "      <td>0.22628</td>\n",
              "      <td>0.67042</td>\n",
              "    </tr>\n",
              "    <tr>\n",
              "      <th>154</th>\n",
              "      <td>Benin</td>\n",
              "      <td>Sub-Saharan Africa</td>\n",
              "      <td>155</td>\n",
              "      <td>3.340</td>\n",
              "      <td>0.03656</td>\n",
              "      <td>0.28665</td>\n",
              "      <td>0.35386</td>\n",
              "      <td>0.31910</td>\n",
              "      <td>0.48450</td>\n",
              "      <td>0.08010</td>\n",
              "      <td>0.18260</td>\n",
              "      <td>1.63328</td>\n",
              "    </tr>\n",
              "    <tr>\n",
              "      <th>155</th>\n",
              "      <td>Syria</td>\n",
              "      <td>Middle East and Northern Africa</td>\n",
              "      <td>156</td>\n",
              "      <td>3.006</td>\n",
              "      <td>0.05015</td>\n",
              "      <td>0.66320</td>\n",
              "      <td>0.47489</td>\n",
              "      <td>0.72193</td>\n",
              "      <td>0.15684</td>\n",
              "      <td>0.18906</td>\n",
              "      <td>0.47179</td>\n",
              "      <td>0.32858</td>\n",
              "    </tr>\n",
              "    <tr>\n",
              "      <th>156</th>\n",
              "      <td>Burundi</td>\n",
              "      <td>Sub-Saharan Africa</td>\n",
              "      <td>157</td>\n",
              "      <td>2.905</td>\n",
              "      <td>0.08658</td>\n",
              "      <td>0.01530</td>\n",
              "      <td>0.41587</td>\n",
              "      <td>0.22396</td>\n",
              "      <td>0.11850</td>\n",
              "      <td>0.10062</td>\n",
              "      <td>0.19727</td>\n",
              "      <td>1.83302</td>\n",
              "    </tr>\n",
              "    <tr>\n",
              "      <th>157</th>\n",
              "      <td>Togo</td>\n",
              "      <td>Sub-Saharan Africa</td>\n",
              "      <td>158</td>\n",
              "      <td>2.839</td>\n",
              "      <td>0.06727</td>\n",
              "      <td>0.20868</td>\n",
              "      <td>0.13995</td>\n",
              "      <td>0.28443</td>\n",
              "      <td>0.36453</td>\n",
              "      <td>0.10731</td>\n",
              "      <td>0.16681</td>\n",
              "      <td>1.56726</td>\n",
              "    </tr>\n",
              "  </tbody>\n",
              "</table>\n",
              "<p>158 rows × 12 columns</p>\n",
              "</div>"
            ],
            "text/plain": [
              "         Country  ... Dystopia Residual\n",
              "0    Switzerland  ...           2.51738\n",
              "1        Iceland  ...           2.70201\n",
              "2        Denmark  ...           2.49204\n",
              "3         Norway  ...           2.46531\n",
              "4         Canada  ...           2.45176\n",
              "..           ...  ...               ...\n",
              "153       Rwanda  ...           0.67042\n",
              "154        Benin  ...           1.63328\n",
              "155        Syria  ...           0.32858\n",
              "156      Burundi  ...           1.83302\n",
              "157         Togo  ...           1.56726\n",
              "\n",
              "[158 rows x 12 columns]"
            ]
          },
          "metadata": {
            "tags": []
          },
          "execution_count": 3
        }
      ]
    },
    {
      "cell_type": "code",
      "metadata": {
        "id": "HWyr1N09X9tc"
      },
      "source": [
        "#Quito columnas que no se repiten en el resto de datasets\r\n",
        "df2015 = data2015.drop(['Region', 'Standard Error'], axis = 1)"
      ],
      "execution_count": null,
      "outputs": []
    },
    {
      "cell_type": "code",
      "metadata": {
        "colab": {
          "base_uri": "https://localhost:8080/",
          "height": 419
        },
        "id": "rh1LJYuSYWNq",
        "outputId": "ed85843e-4dee-4426-8ce4-eca8476706e3"
      },
      "source": [
        "df2015"
      ],
      "execution_count": null,
      "outputs": [
        {
          "output_type": "execute_result",
          "data": {
            "text/html": [
              "<div>\n",
              "<style scoped>\n",
              "    .dataframe tbody tr th:only-of-type {\n",
              "        vertical-align: middle;\n",
              "    }\n",
              "\n",
              "    .dataframe tbody tr th {\n",
              "        vertical-align: top;\n",
              "    }\n",
              "\n",
              "    .dataframe thead th {\n",
              "        text-align: right;\n",
              "    }\n",
              "</style>\n",
              "<table border=\"1\" class=\"dataframe\">\n",
              "  <thead>\n",
              "    <tr style=\"text-align: right;\">\n",
              "      <th></th>\n",
              "      <th>Country</th>\n",
              "      <th>Happiness Rank</th>\n",
              "      <th>Happiness Score</th>\n",
              "      <th>Economy (GDP per Capita)</th>\n",
              "      <th>Family</th>\n",
              "      <th>Health (Life Expectancy)</th>\n",
              "      <th>Freedom</th>\n",
              "      <th>Trust (Government Corruption)</th>\n",
              "      <th>Generosity</th>\n",
              "      <th>Dystopia Residual</th>\n",
              "    </tr>\n",
              "  </thead>\n",
              "  <tbody>\n",
              "    <tr>\n",
              "      <th>0</th>\n",
              "      <td>Switzerland</td>\n",
              "      <td>1</td>\n",
              "      <td>7.587</td>\n",
              "      <td>1.39651</td>\n",
              "      <td>1.34951</td>\n",
              "      <td>0.94143</td>\n",
              "      <td>0.66557</td>\n",
              "      <td>0.41978</td>\n",
              "      <td>0.29678</td>\n",
              "      <td>2.51738</td>\n",
              "    </tr>\n",
              "    <tr>\n",
              "      <th>1</th>\n",
              "      <td>Iceland</td>\n",
              "      <td>2</td>\n",
              "      <td>7.561</td>\n",
              "      <td>1.30232</td>\n",
              "      <td>1.40223</td>\n",
              "      <td>0.94784</td>\n",
              "      <td>0.62877</td>\n",
              "      <td>0.14145</td>\n",
              "      <td>0.43630</td>\n",
              "      <td>2.70201</td>\n",
              "    </tr>\n",
              "    <tr>\n",
              "      <th>2</th>\n",
              "      <td>Denmark</td>\n",
              "      <td>3</td>\n",
              "      <td>7.527</td>\n",
              "      <td>1.32548</td>\n",
              "      <td>1.36058</td>\n",
              "      <td>0.87464</td>\n",
              "      <td>0.64938</td>\n",
              "      <td>0.48357</td>\n",
              "      <td>0.34139</td>\n",
              "      <td>2.49204</td>\n",
              "    </tr>\n",
              "    <tr>\n",
              "      <th>3</th>\n",
              "      <td>Norway</td>\n",
              "      <td>4</td>\n",
              "      <td>7.522</td>\n",
              "      <td>1.45900</td>\n",
              "      <td>1.33095</td>\n",
              "      <td>0.88521</td>\n",
              "      <td>0.66973</td>\n",
              "      <td>0.36503</td>\n",
              "      <td>0.34699</td>\n",
              "      <td>2.46531</td>\n",
              "    </tr>\n",
              "    <tr>\n",
              "      <th>4</th>\n",
              "      <td>Canada</td>\n",
              "      <td>5</td>\n",
              "      <td>7.427</td>\n",
              "      <td>1.32629</td>\n",
              "      <td>1.32261</td>\n",
              "      <td>0.90563</td>\n",
              "      <td>0.63297</td>\n",
              "      <td>0.32957</td>\n",
              "      <td>0.45811</td>\n",
              "      <td>2.45176</td>\n",
              "    </tr>\n",
              "    <tr>\n",
              "      <th>...</th>\n",
              "      <td>...</td>\n",
              "      <td>...</td>\n",
              "      <td>...</td>\n",
              "      <td>...</td>\n",
              "      <td>...</td>\n",
              "      <td>...</td>\n",
              "      <td>...</td>\n",
              "      <td>...</td>\n",
              "      <td>...</td>\n",
              "      <td>...</td>\n",
              "    </tr>\n",
              "    <tr>\n",
              "      <th>153</th>\n",
              "      <td>Rwanda</td>\n",
              "      <td>154</td>\n",
              "      <td>3.465</td>\n",
              "      <td>0.22208</td>\n",
              "      <td>0.77370</td>\n",
              "      <td>0.42864</td>\n",
              "      <td>0.59201</td>\n",
              "      <td>0.55191</td>\n",
              "      <td>0.22628</td>\n",
              "      <td>0.67042</td>\n",
              "    </tr>\n",
              "    <tr>\n",
              "      <th>154</th>\n",
              "      <td>Benin</td>\n",
              "      <td>155</td>\n",
              "      <td>3.340</td>\n",
              "      <td>0.28665</td>\n",
              "      <td>0.35386</td>\n",
              "      <td>0.31910</td>\n",
              "      <td>0.48450</td>\n",
              "      <td>0.08010</td>\n",
              "      <td>0.18260</td>\n",
              "      <td>1.63328</td>\n",
              "    </tr>\n",
              "    <tr>\n",
              "      <th>155</th>\n",
              "      <td>Syria</td>\n",
              "      <td>156</td>\n",
              "      <td>3.006</td>\n",
              "      <td>0.66320</td>\n",
              "      <td>0.47489</td>\n",
              "      <td>0.72193</td>\n",
              "      <td>0.15684</td>\n",
              "      <td>0.18906</td>\n",
              "      <td>0.47179</td>\n",
              "      <td>0.32858</td>\n",
              "    </tr>\n",
              "    <tr>\n",
              "      <th>156</th>\n",
              "      <td>Burundi</td>\n",
              "      <td>157</td>\n",
              "      <td>2.905</td>\n",
              "      <td>0.01530</td>\n",
              "      <td>0.41587</td>\n",
              "      <td>0.22396</td>\n",
              "      <td>0.11850</td>\n",
              "      <td>0.10062</td>\n",
              "      <td>0.19727</td>\n",
              "      <td>1.83302</td>\n",
              "    </tr>\n",
              "    <tr>\n",
              "      <th>157</th>\n",
              "      <td>Togo</td>\n",
              "      <td>158</td>\n",
              "      <td>2.839</td>\n",
              "      <td>0.20868</td>\n",
              "      <td>0.13995</td>\n",
              "      <td>0.28443</td>\n",
              "      <td>0.36453</td>\n",
              "      <td>0.10731</td>\n",
              "      <td>0.16681</td>\n",
              "      <td>1.56726</td>\n",
              "    </tr>\n",
              "  </tbody>\n",
              "</table>\n",
              "<p>158 rows × 10 columns</p>\n",
              "</div>"
            ],
            "text/plain": [
              "         Country  Happiness Rank  ...  Generosity  Dystopia Residual\n",
              "0    Switzerland               1  ...     0.29678            2.51738\n",
              "1        Iceland               2  ...     0.43630            2.70201\n",
              "2        Denmark               3  ...     0.34139            2.49204\n",
              "3         Norway               4  ...     0.34699            2.46531\n",
              "4         Canada               5  ...     0.45811            2.45176\n",
              "..           ...             ...  ...         ...                ...\n",
              "153       Rwanda             154  ...     0.22628            0.67042\n",
              "154        Benin             155  ...     0.18260            1.63328\n",
              "155        Syria             156  ...     0.47179            0.32858\n",
              "156      Burundi             157  ...     0.19727            1.83302\n",
              "157         Togo             158  ...     0.16681            1.56726\n",
              "\n",
              "[158 rows x 10 columns]"
            ]
          },
          "metadata": {
            "tags": []
          },
          "execution_count": 5
        }
      ]
    },
    {
      "cell_type": "markdown",
      "metadata": {
        "id": "XQsvL6idYQPi"
      },
      "source": [
        "####Datos de 2016"
      ]
    },
    {
      "cell_type": "code",
      "metadata": {
        "id": "fuwag8KqYSgo"
      },
      "source": [
        "data2016 = pd.read_csv('https://raw.githubusercontent.com/fortiz98/TrabajoAAII/main/2016.csv')"
      ],
      "execution_count": null,
      "outputs": []
    },
    {
      "cell_type": "code",
      "metadata": {
        "colab": {
          "base_uri": "https://localhost:8080/",
          "height": 453
        },
        "id": "puBG3e8kY0Ka",
        "outputId": "ea0e5bae-03a6-47dd-cd9c-dceb2067a5ce"
      },
      "source": [
        "data2016"
      ],
      "execution_count": null,
      "outputs": [
        {
          "output_type": "execute_result",
          "data": {
            "text/html": [
              "<div>\n",
              "<style scoped>\n",
              "    .dataframe tbody tr th:only-of-type {\n",
              "        vertical-align: middle;\n",
              "    }\n",
              "\n",
              "    .dataframe tbody tr th {\n",
              "        vertical-align: top;\n",
              "    }\n",
              "\n",
              "    .dataframe thead th {\n",
              "        text-align: right;\n",
              "    }\n",
              "</style>\n",
              "<table border=\"1\" class=\"dataframe\">\n",
              "  <thead>\n",
              "    <tr style=\"text-align: right;\">\n",
              "      <th></th>\n",
              "      <th>Country</th>\n",
              "      <th>Region</th>\n",
              "      <th>Happiness Rank</th>\n",
              "      <th>Happiness Score</th>\n",
              "      <th>Lower Confidence Interval</th>\n",
              "      <th>Upper Confidence Interval</th>\n",
              "      <th>Economy (GDP per Capita)</th>\n",
              "      <th>Family</th>\n",
              "      <th>Health (Life Expectancy)</th>\n",
              "      <th>Freedom</th>\n",
              "      <th>Trust (Government Corruption)</th>\n",
              "      <th>Generosity</th>\n",
              "      <th>Dystopia Residual</th>\n",
              "    </tr>\n",
              "  </thead>\n",
              "  <tbody>\n",
              "    <tr>\n",
              "      <th>0</th>\n",
              "      <td>Denmark</td>\n",
              "      <td>Western Europe</td>\n",
              "      <td>1</td>\n",
              "      <td>7.526</td>\n",
              "      <td>7.460</td>\n",
              "      <td>7.592</td>\n",
              "      <td>1.44178</td>\n",
              "      <td>1.16374</td>\n",
              "      <td>0.79504</td>\n",
              "      <td>0.57941</td>\n",
              "      <td>0.44453</td>\n",
              "      <td>0.36171</td>\n",
              "      <td>2.73939</td>\n",
              "    </tr>\n",
              "    <tr>\n",
              "      <th>1</th>\n",
              "      <td>Switzerland</td>\n",
              "      <td>Western Europe</td>\n",
              "      <td>2</td>\n",
              "      <td>7.509</td>\n",
              "      <td>7.428</td>\n",
              "      <td>7.590</td>\n",
              "      <td>1.52733</td>\n",
              "      <td>1.14524</td>\n",
              "      <td>0.86303</td>\n",
              "      <td>0.58557</td>\n",
              "      <td>0.41203</td>\n",
              "      <td>0.28083</td>\n",
              "      <td>2.69463</td>\n",
              "    </tr>\n",
              "    <tr>\n",
              "      <th>2</th>\n",
              "      <td>Iceland</td>\n",
              "      <td>Western Europe</td>\n",
              "      <td>3</td>\n",
              "      <td>7.501</td>\n",
              "      <td>7.333</td>\n",
              "      <td>7.669</td>\n",
              "      <td>1.42666</td>\n",
              "      <td>1.18326</td>\n",
              "      <td>0.86733</td>\n",
              "      <td>0.56624</td>\n",
              "      <td>0.14975</td>\n",
              "      <td>0.47678</td>\n",
              "      <td>2.83137</td>\n",
              "    </tr>\n",
              "    <tr>\n",
              "      <th>3</th>\n",
              "      <td>Norway</td>\n",
              "      <td>Western Europe</td>\n",
              "      <td>4</td>\n",
              "      <td>7.498</td>\n",
              "      <td>7.421</td>\n",
              "      <td>7.575</td>\n",
              "      <td>1.57744</td>\n",
              "      <td>1.12690</td>\n",
              "      <td>0.79579</td>\n",
              "      <td>0.59609</td>\n",
              "      <td>0.35776</td>\n",
              "      <td>0.37895</td>\n",
              "      <td>2.66465</td>\n",
              "    </tr>\n",
              "    <tr>\n",
              "      <th>4</th>\n",
              "      <td>Finland</td>\n",
              "      <td>Western Europe</td>\n",
              "      <td>5</td>\n",
              "      <td>7.413</td>\n",
              "      <td>7.351</td>\n",
              "      <td>7.475</td>\n",
              "      <td>1.40598</td>\n",
              "      <td>1.13464</td>\n",
              "      <td>0.81091</td>\n",
              "      <td>0.57104</td>\n",
              "      <td>0.41004</td>\n",
              "      <td>0.25492</td>\n",
              "      <td>2.82596</td>\n",
              "    </tr>\n",
              "    <tr>\n",
              "      <th>...</th>\n",
              "      <td>...</td>\n",
              "      <td>...</td>\n",
              "      <td>...</td>\n",
              "      <td>...</td>\n",
              "      <td>...</td>\n",
              "      <td>...</td>\n",
              "      <td>...</td>\n",
              "      <td>...</td>\n",
              "      <td>...</td>\n",
              "      <td>...</td>\n",
              "      <td>...</td>\n",
              "      <td>...</td>\n",
              "      <td>...</td>\n",
              "    </tr>\n",
              "    <tr>\n",
              "      <th>152</th>\n",
              "      <td>Benin</td>\n",
              "      <td>Sub-Saharan Africa</td>\n",
              "      <td>153</td>\n",
              "      <td>3.484</td>\n",
              "      <td>3.404</td>\n",
              "      <td>3.564</td>\n",
              "      <td>0.39499</td>\n",
              "      <td>0.10419</td>\n",
              "      <td>0.21028</td>\n",
              "      <td>0.39747</td>\n",
              "      <td>0.06681</td>\n",
              "      <td>0.20180</td>\n",
              "      <td>2.10812</td>\n",
              "    </tr>\n",
              "    <tr>\n",
              "      <th>153</th>\n",
              "      <td>Afghanistan</td>\n",
              "      <td>Southern Asia</td>\n",
              "      <td>154</td>\n",
              "      <td>3.360</td>\n",
              "      <td>3.288</td>\n",
              "      <td>3.432</td>\n",
              "      <td>0.38227</td>\n",
              "      <td>0.11037</td>\n",
              "      <td>0.17344</td>\n",
              "      <td>0.16430</td>\n",
              "      <td>0.07112</td>\n",
              "      <td>0.31268</td>\n",
              "      <td>2.14558</td>\n",
              "    </tr>\n",
              "    <tr>\n",
              "      <th>154</th>\n",
              "      <td>Togo</td>\n",
              "      <td>Sub-Saharan Africa</td>\n",
              "      <td>155</td>\n",
              "      <td>3.303</td>\n",
              "      <td>3.192</td>\n",
              "      <td>3.414</td>\n",
              "      <td>0.28123</td>\n",
              "      <td>0.00000</td>\n",
              "      <td>0.24811</td>\n",
              "      <td>0.34678</td>\n",
              "      <td>0.11587</td>\n",
              "      <td>0.17517</td>\n",
              "      <td>2.13540</td>\n",
              "    </tr>\n",
              "    <tr>\n",
              "      <th>155</th>\n",
              "      <td>Syria</td>\n",
              "      <td>Middle East and Northern Africa</td>\n",
              "      <td>156</td>\n",
              "      <td>3.069</td>\n",
              "      <td>2.936</td>\n",
              "      <td>3.202</td>\n",
              "      <td>0.74719</td>\n",
              "      <td>0.14866</td>\n",
              "      <td>0.62994</td>\n",
              "      <td>0.06912</td>\n",
              "      <td>0.17233</td>\n",
              "      <td>0.48397</td>\n",
              "      <td>0.81789</td>\n",
              "    </tr>\n",
              "    <tr>\n",
              "      <th>156</th>\n",
              "      <td>Burundi</td>\n",
              "      <td>Sub-Saharan Africa</td>\n",
              "      <td>157</td>\n",
              "      <td>2.905</td>\n",
              "      <td>2.732</td>\n",
              "      <td>3.078</td>\n",
              "      <td>0.06831</td>\n",
              "      <td>0.23442</td>\n",
              "      <td>0.15747</td>\n",
              "      <td>0.04320</td>\n",
              "      <td>0.09419</td>\n",
              "      <td>0.20290</td>\n",
              "      <td>2.10404</td>\n",
              "    </tr>\n",
              "  </tbody>\n",
              "</table>\n",
              "<p>157 rows × 13 columns</p>\n",
              "</div>"
            ],
            "text/plain": [
              "         Country  ... Dystopia Residual\n",
              "0        Denmark  ...           2.73939\n",
              "1    Switzerland  ...           2.69463\n",
              "2        Iceland  ...           2.83137\n",
              "3         Norway  ...           2.66465\n",
              "4        Finland  ...           2.82596\n",
              "..           ...  ...               ...\n",
              "152        Benin  ...           2.10812\n",
              "153  Afghanistan  ...           2.14558\n",
              "154         Togo  ...           2.13540\n",
              "155        Syria  ...           0.81789\n",
              "156      Burundi  ...           2.10404\n",
              "\n",
              "[157 rows x 13 columns]"
            ]
          },
          "metadata": {
            "tags": []
          },
          "execution_count": 7
        }
      ]
    },
    {
      "cell_type": "code",
      "metadata": {
        "id": "jjFVi_3IY45V"
      },
      "source": [
        "df2016 = data2016.drop(['Region', 'Lower Confidence Interval', 'Upper Confidence Interval'], axis = 1)"
      ],
      "execution_count": null,
      "outputs": []
    },
    {
      "cell_type": "code",
      "metadata": {
        "colab": {
          "base_uri": "https://localhost:8080/",
          "height": 419
        },
        "id": "5p28fxwqY_q6",
        "outputId": "69d5d657-dbf9-4d5f-ef70-84a21db2e8eb"
      },
      "source": [
        "df2016"
      ],
      "execution_count": null,
      "outputs": [
        {
          "output_type": "execute_result",
          "data": {
            "text/html": [
              "<div>\n",
              "<style scoped>\n",
              "    .dataframe tbody tr th:only-of-type {\n",
              "        vertical-align: middle;\n",
              "    }\n",
              "\n",
              "    .dataframe tbody tr th {\n",
              "        vertical-align: top;\n",
              "    }\n",
              "\n",
              "    .dataframe thead th {\n",
              "        text-align: right;\n",
              "    }\n",
              "</style>\n",
              "<table border=\"1\" class=\"dataframe\">\n",
              "  <thead>\n",
              "    <tr style=\"text-align: right;\">\n",
              "      <th></th>\n",
              "      <th>Country</th>\n",
              "      <th>Happiness Rank</th>\n",
              "      <th>Happiness Score</th>\n",
              "      <th>Economy (GDP per Capita)</th>\n",
              "      <th>Family</th>\n",
              "      <th>Health (Life Expectancy)</th>\n",
              "      <th>Freedom</th>\n",
              "      <th>Trust (Government Corruption)</th>\n",
              "      <th>Generosity</th>\n",
              "      <th>Dystopia Residual</th>\n",
              "    </tr>\n",
              "  </thead>\n",
              "  <tbody>\n",
              "    <tr>\n",
              "      <th>0</th>\n",
              "      <td>Denmark</td>\n",
              "      <td>1</td>\n",
              "      <td>7.526</td>\n",
              "      <td>1.44178</td>\n",
              "      <td>1.16374</td>\n",
              "      <td>0.79504</td>\n",
              "      <td>0.57941</td>\n",
              "      <td>0.44453</td>\n",
              "      <td>0.36171</td>\n",
              "      <td>2.73939</td>\n",
              "    </tr>\n",
              "    <tr>\n",
              "      <th>1</th>\n",
              "      <td>Switzerland</td>\n",
              "      <td>2</td>\n",
              "      <td>7.509</td>\n",
              "      <td>1.52733</td>\n",
              "      <td>1.14524</td>\n",
              "      <td>0.86303</td>\n",
              "      <td>0.58557</td>\n",
              "      <td>0.41203</td>\n",
              "      <td>0.28083</td>\n",
              "      <td>2.69463</td>\n",
              "    </tr>\n",
              "    <tr>\n",
              "      <th>2</th>\n",
              "      <td>Iceland</td>\n",
              "      <td>3</td>\n",
              "      <td>7.501</td>\n",
              "      <td>1.42666</td>\n",
              "      <td>1.18326</td>\n",
              "      <td>0.86733</td>\n",
              "      <td>0.56624</td>\n",
              "      <td>0.14975</td>\n",
              "      <td>0.47678</td>\n",
              "      <td>2.83137</td>\n",
              "    </tr>\n",
              "    <tr>\n",
              "      <th>3</th>\n",
              "      <td>Norway</td>\n",
              "      <td>4</td>\n",
              "      <td>7.498</td>\n",
              "      <td>1.57744</td>\n",
              "      <td>1.12690</td>\n",
              "      <td>0.79579</td>\n",
              "      <td>0.59609</td>\n",
              "      <td>0.35776</td>\n",
              "      <td>0.37895</td>\n",
              "      <td>2.66465</td>\n",
              "    </tr>\n",
              "    <tr>\n",
              "      <th>4</th>\n",
              "      <td>Finland</td>\n",
              "      <td>5</td>\n",
              "      <td>7.413</td>\n",
              "      <td>1.40598</td>\n",
              "      <td>1.13464</td>\n",
              "      <td>0.81091</td>\n",
              "      <td>0.57104</td>\n",
              "      <td>0.41004</td>\n",
              "      <td>0.25492</td>\n",
              "      <td>2.82596</td>\n",
              "    </tr>\n",
              "    <tr>\n",
              "      <th>...</th>\n",
              "      <td>...</td>\n",
              "      <td>...</td>\n",
              "      <td>...</td>\n",
              "      <td>...</td>\n",
              "      <td>...</td>\n",
              "      <td>...</td>\n",
              "      <td>...</td>\n",
              "      <td>...</td>\n",
              "      <td>...</td>\n",
              "      <td>...</td>\n",
              "    </tr>\n",
              "    <tr>\n",
              "      <th>152</th>\n",
              "      <td>Benin</td>\n",
              "      <td>153</td>\n",
              "      <td>3.484</td>\n",
              "      <td>0.39499</td>\n",
              "      <td>0.10419</td>\n",
              "      <td>0.21028</td>\n",
              "      <td>0.39747</td>\n",
              "      <td>0.06681</td>\n",
              "      <td>0.20180</td>\n",
              "      <td>2.10812</td>\n",
              "    </tr>\n",
              "    <tr>\n",
              "      <th>153</th>\n",
              "      <td>Afghanistan</td>\n",
              "      <td>154</td>\n",
              "      <td>3.360</td>\n",
              "      <td>0.38227</td>\n",
              "      <td>0.11037</td>\n",
              "      <td>0.17344</td>\n",
              "      <td>0.16430</td>\n",
              "      <td>0.07112</td>\n",
              "      <td>0.31268</td>\n",
              "      <td>2.14558</td>\n",
              "    </tr>\n",
              "    <tr>\n",
              "      <th>154</th>\n",
              "      <td>Togo</td>\n",
              "      <td>155</td>\n",
              "      <td>3.303</td>\n",
              "      <td>0.28123</td>\n",
              "      <td>0.00000</td>\n",
              "      <td>0.24811</td>\n",
              "      <td>0.34678</td>\n",
              "      <td>0.11587</td>\n",
              "      <td>0.17517</td>\n",
              "      <td>2.13540</td>\n",
              "    </tr>\n",
              "    <tr>\n",
              "      <th>155</th>\n",
              "      <td>Syria</td>\n",
              "      <td>156</td>\n",
              "      <td>3.069</td>\n",
              "      <td>0.74719</td>\n",
              "      <td>0.14866</td>\n",
              "      <td>0.62994</td>\n",
              "      <td>0.06912</td>\n",
              "      <td>0.17233</td>\n",
              "      <td>0.48397</td>\n",
              "      <td>0.81789</td>\n",
              "    </tr>\n",
              "    <tr>\n",
              "      <th>156</th>\n",
              "      <td>Burundi</td>\n",
              "      <td>157</td>\n",
              "      <td>2.905</td>\n",
              "      <td>0.06831</td>\n",
              "      <td>0.23442</td>\n",
              "      <td>0.15747</td>\n",
              "      <td>0.04320</td>\n",
              "      <td>0.09419</td>\n",
              "      <td>0.20290</td>\n",
              "      <td>2.10404</td>\n",
              "    </tr>\n",
              "  </tbody>\n",
              "</table>\n",
              "<p>157 rows × 10 columns</p>\n",
              "</div>"
            ],
            "text/plain": [
              "         Country  Happiness Rank  ...  Generosity  Dystopia Residual\n",
              "0        Denmark               1  ...     0.36171            2.73939\n",
              "1    Switzerland               2  ...     0.28083            2.69463\n",
              "2        Iceland               3  ...     0.47678            2.83137\n",
              "3         Norway               4  ...     0.37895            2.66465\n",
              "4        Finland               5  ...     0.25492            2.82596\n",
              "..           ...             ...  ...         ...                ...\n",
              "152        Benin             153  ...     0.20180            2.10812\n",
              "153  Afghanistan             154  ...     0.31268            2.14558\n",
              "154         Togo             155  ...     0.17517            2.13540\n",
              "155        Syria             156  ...     0.48397            0.81789\n",
              "156      Burundi             157  ...     0.20290            2.10404\n",
              "\n",
              "[157 rows x 10 columns]"
            ]
          },
          "metadata": {
            "tags": []
          },
          "execution_count": 9
        }
      ]
    },
    {
      "cell_type": "markdown",
      "metadata": {
        "id": "R57gr-9JZP9i"
      },
      "source": [
        "####Datos 2017"
      ]
    },
    {
      "cell_type": "code",
      "metadata": {
        "id": "YXKStu1sZSRy"
      },
      "source": [
        "data2017 = pd.read_csv('https://raw.githubusercontent.com/fortiz98/TrabajoAAII/main/2017.csv')"
      ],
      "execution_count": null,
      "outputs": []
    },
    {
      "cell_type": "code",
      "metadata": {
        "colab": {
          "base_uri": "https://localhost:8080/",
          "height": 419
        },
        "id": "Xxbl58xGZaWy",
        "outputId": "9cebe130-125a-4d4f-e5c4-a94b702e9129"
      },
      "source": [
        "data2017"
      ],
      "execution_count": null,
      "outputs": [
        {
          "output_type": "execute_result",
          "data": {
            "text/html": [
              "<div>\n",
              "<style scoped>\n",
              "    .dataframe tbody tr th:only-of-type {\n",
              "        vertical-align: middle;\n",
              "    }\n",
              "\n",
              "    .dataframe tbody tr th {\n",
              "        vertical-align: top;\n",
              "    }\n",
              "\n",
              "    .dataframe thead th {\n",
              "        text-align: right;\n",
              "    }\n",
              "</style>\n",
              "<table border=\"1\" class=\"dataframe\">\n",
              "  <thead>\n",
              "    <tr style=\"text-align: right;\">\n",
              "      <th></th>\n",
              "      <th>Country</th>\n",
              "      <th>Happiness.Rank</th>\n",
              "      <th>Happiness.Score</th>\n",
              "      <th>Whisker.high</th>\n",
              "      <th>Whisker.low</th>\n",
              "      <th>Economy..GDP.per.Capita.</th>\n",
              "      <th>Family</th>\n",
              "      <th>Health..Life.Expectancy.</th>\n",
              "      <th>Freedom</th>\n",
              "      <th>Generosity</th>\n",
              "      <th>Trust..Government.Corruption.</th>\n",
              "      <th>Dystopia.Residual</th>\n",
              "    </tr>\n",
              "  </thead>\n",
              "  <tbody>\n",
              "    <tr>\n",
              "      <th>0</th>\n",
              "      <td>Norway</td>\n",
              "      <td>1</td>\n",
              "      <td>7.537</td>\n",
              "      <td>7.594445</td>\n",
              "      <td>7.479556</td>\n",
              "      <td>1.616463</td>\n",
              "      <td>1.533524</td>\n",
              "      <td>0.796667</td>\n",
              "      <td>0.635423</td>\n",
              "      <td>0.362012</td>\n",
              "      <td>0.315964</td>\n",
              "      <td>2.277027</td>\n",
              "    </tr>\n",
              "    <tr>\n",
              "      <th>1</th>\n",
              "      <td>Denmark</td>\n",
              "      <td>2</td>\n",
              "      <td>7.522</td>\n",
              "      <td>7.581728</td>\n",
              "      <td>7.462272</td>\n",
              "      <td>1.482383</td>\n",
              "      <td>1.551122</td>\n",
              "      <td>0.792566</td>\n",
              "      <td>0.626007</td>\n",
              "      <td>0.355280</td>\n",
              "      <td>0.400770</td>\n",
              "      <td>2.313707</td>\n",
              "    </tr>\n",
              "    <tr>\n",
              "      <th>2</th>\n",
              "      <td>Iceland</td>\n",
              "      <td>3</td>\n",
              "      <td>7.504</td>\n",
              "      <td>7.622030</td>\n",
              "      <td>7.385970</td>\n",
              "      <td>1.480633</td>\n",
              "      <td>1.610574</td>\n",
              "      <td>0.833552</td>\n",
              "      <td>0.627163</td>\n",
              "      <td>0.475540</td>\n",
              "      <td>0.153527</td>\n",
              "      <td>2.322715</td>\n",
              "    </tr>\n",
              "    <tr>\n",
              "      <th>3</th>\n",
              "      <td>Switzerland</td>\n",
              "      <td>4</td>\n",
              "      <td>7.494</td>\n",
              "      <td>7.561772</td>\n",
              "      <td>7.426227</td>\n",
              "      <td>1.564980</td>\n",
              "      <td>1.516912</td>\n",
              "      <td>0.858131</td>\n",
              "      <td>0.620071</td>\n",
              "      <td>0.290549</td>\n",
              "      <td>0.367007</td>\n",
              "      <td>2.276716</td>\n",
              "    </tr>\n",
              "    <tr>\n",
              "      <th>4</th>\n",
              "      <td>Finland</td>\n",
              "      <td>5</td>\n",
              "      <td>7.469</td>\n",
              "      <td>7.527542</td>\n",
              "      <td>7.410458</td>\n",
              "      <td>1.443572</td>\n",
              "      <td>1.540247</td>\n",
              "      <td>0.809158</td>\n",
              "      <td>0.617951</td>\n",
              "      <td>0.245483</td>\n",
              "      <td>0.382612</td>\n",
              "      <td>2.430182</td>\n",
              "    </tr>\n",
              "    <tr>\n",
              "      <th>...</th>\n",
              "      <td>...</td>\n",
              "      <td>...</td>\n",
              "      <td>...</td>\n",
              "      <td>...</td>\n",
              "      <td>...</td>\n",
              "      <td>...</td>\n",
              "      <td>...</td>\n",
              "      <td>...</td>\n",
              "      <td>...</td>\n",
              "      <td>...</td>\n",
              "      <td>...</td>\n",
              "      <td>...</td>\n",
              "    </tr>\n",
              "    <tr>\n",
              "      <th>150</th>\n",
              "      <td>Rwanda</td>\n",
              "      <td>151</td>\n",
              "      <td>3.471</td>\n",
              "      <td>3.543030</td>\n",
              "      <td>3.398970</td>\n",
              "      <td>0.368746</td>\n",
              "      <td>0.945707</td>\n",
              "      <td>0.326425</td>\n",
              "      <td>0.581844</td>\n",
              "      <td>0.252756</td>\n",
              "      <td>0.455220</td>\n",
              "      <td>0.540061</td>\n",
              "    </tr>\n",
              "    <tr>\n",
              "      <th>151</th>\n",
              "      <td>Syria</td>\n",
              "      <td>152</td>\n",
              "      <td>3.462</td>\n",
              "      <td>3.663669</td>\n",
              "      <td>3.260331</td>\n",
              "      <td>0.777153</td>\n",
              "      <td>0.396103</td>\n",
              "      <td>0.500533</td>\n",
              "      <td>0.081539</td>\n",
              "      <td>0.493664</td>\n",
              "      <td>0.151347</td>\n",
              "      <td>1.061574</td>\n",
              "    </tr>\n",
              "    <tr>\n",
              "      <th>152</th>\n",
              "      <td>Tanzania</td>\n",
              "      <td>153</td>\n",
              "      <td>3.349</td>\n",
              "      <td>3.461430</td>\n",
              "      <td>3.236570</td>\n",
              "      <td>0.511136</td>\n",
              "      <td>1.041990</td>\n",
              "      <td>0.364509</td>\n",
              "      <td>0.390018</td>\n",
              "      <td>0.354256</td>\n",
              "      <td>0.066035</td>\n",
              "      <td>0.621130</td>\n",
              "    </tr>\n",
              "    <tr>\n",
              "      <th>153</th>\n",
              "      <td>Burundi</td>\n",
              "      <td>154</td>\n",
              "      <td>2.905</td>\n",
              "      <td>3.074690</td>\n",
              "      <td>2.735310</td>\n",
              "      <td>0.091623</td>\n",
              "      <td>0.629794</td>\n",
              "      <td>0.151611</td>\n",
              "      <td>0.059901</td>\n",
              "      <td>0.204435</td>\n",
              "      <td>0.084148</td>\n",
              "      <td>1.683024</td>\n",
              "    </tr>\n",
              "    <tr>\n",
              "      <th>154</th>\n",
              "      <td>Central African Republic</td>\n",
              "      <td>155</td>\n",
              "      <td>2.693</td>\n",
              "      <td>2.864884</td>\n",
              "      <td>2.521116</td>\n",
              "      <td>0.000000</td>\n",
              "      <td>0.000000</td>\n",
              "      <td>0.018773</td>\n",
              "      <td>0.270842</td>\n",
              "      <td>0.280876</td>\n",
              "      <td>0.056565</td>\n",
              "      <td>2.066005</td>\n",
              "    </tr>\n",
              "  </tbody>\n",
              "</table>\n",
              "<p>155 rows × 12 columns</p>\n",
              "</div>"
            ],
            "text/plain": [
              "                      Country  ...  Dystopia.Residual\n",
              "0                      Norway  ...           2.277027\n",
              "1                     Denmark  ...           2.313707\n",
              "2                     Iceland  ...           2.322715\n",
              "3                 Switzerland  ...           2.276716\n",
              "4                     Finland  ...           2.430182\n",
              "..                        ...  ...                ...\n",
              "150                    Rwanda  ...           0.540061\n",
              "151                     Syria  ...           1.061574\n",
              "152                  Tanzania  ...           0.621130\n",
              "153                   Burundi  ...           1.683024\n",
              "154  Central African Republic  ...           2.066005\n",
              "\n",
              "[155 rows x 12 columns]"
            ]
          },
          "metadata": {
            "tags": []
          },
          "execution_count": 11
        }
      ]
    },
    {
      "cell_type": "code",
      "metadata": {
        "id": "W--UyKheZlDs"
      },
      "source": [
        "df2017 = data2017.drop(['Whisker.high', 'Whisker.low'], axis = 1)"
      ],
      "execution_count": null,
      "outputs": []
    },
    {
      "cell_type": "code",
      "metadata": {
        "id": "6rNKF2mJZnp2"
      },
      "source": [
        "df2017_2 = df2017[['Country','Happiness.Rank','Happiness.Score','Economy..GDP.per.Capita.','Family','Health..Life.Expectancy.','Freedom','Trust..Government.Corruption.','Generosity','Dystopia.Residual']]"
      ],
      "execution_count": null,
      "outputs": []
    },
    {
      "cell_type": "code",
      "metadata": {
        "colab": {
          "base_uri": "https://localhost:8080/",
          "height": 419
        },
        "id": "dIH_KCcHZ5BO",
        "outputId": "0a8c8148-61ab-4cf7-c2c7-a38d1d43cf55"
      },
      "source": [
        "df2017_2"
      ],
      "execution_count": null,
      "outputs": [
        {
          "output_type": "execute_result",
          "data": {
            "text/html": [
              "<div>\n",
              "<style scoped>\n",
              "    .dataframe tbody tr th:only-of-type {\n",
              "        vertical-align: middle;\n",
              "    }\n",
              "\n",
              "    .dataframe tbody tr th {\n",
              "        vertical-align: top;\n",
              "    }\n",
              "\n",
              "    .dataframe thead th {\n",
              "        text-align: right;\n",
              "    }\n",
              "</style>\n",
              "<table border=\"1\" class=\"dataframe\">\n",
              "  <thead>\n",
              "    <tr style=\"text-align: right;\">\n",
              "      <th></th>\n",
              "      <th>Country</th>\n",
              "      <th>Happiness.Rank</th>\n",
              "      <th>Happiness.Score</th>\n",
              "      <th>Economy..GDP.per.Capita.</th>\n",
              "      <th>Family</th>\n",
              "      <th>Health..Life.Expectancy.</th>\n",
              "      <th>Freedom</th>\n",
              "      <th>Trust..Government.Corruption.</th>\n",
              "      <th>Generosity</th>\n",
              "      <th>Dystopia.Residual</th>\n",
              "    </tr>\n",
              "  </thead>\n",
              "  <tbody>\n",
              "    <tr>\n",
              "      <th>0</th>\n",
              "      <td>Norway</td>\n",
              "      <td>1</td>\n",
              "      <td>7.537</td>\n",
              "      <td>1.616463</td>\n",
              "      <td>1.533524</td>\n",
              "      <td>0.796667</td>\n",
              "      <td>0.635423</td>\n",
              "      <td>0.315964</td>\n",
              "      <td>0.362012</td>\n",
              "      <td>2.277027</td>\n",
              "    </tr>\n",
              "    <tr>\n",
              "      <th>1</th>\n",
              "      <td>Denmark</td>\n",
              "      <td>2</td>\n",
              "      <td>7.522</td>\n",
              "      <td>1.482383</td>\n",
              "      <td>1.551122</td>\n",
              "      <td>0.792566</td>\n",
              "      <td>0.626007</td>\n",
              "      <td>0.400770</td>\n",
              "      <td>0.355280</td>\n",
              "      <td>2.313707</td>\n",
              "    </tr>\n",
              "    <tr>\n",
              "      <th>2</th>\n",
              "      <td>Iceland</td>\n",
              "      <td>3</td>\n",
              "      <td>7.504</td>\n",
              "      <td>1.480633</td>\n",
              "      <td>1.610574</td>\n",
              "      <td>0.833552</td>\n",
              "      <td>0.627163</td>\n",
              "      <td>0.153527</td>\n",
              "      <td>0.475540</td>\n",
              "      <td>2.322715</td>\n",
              "    </tr>\n",
              "    <tr>\n",
              "      <th>3</th>\n",
              "      <td>Switzerland</td>\n",
              "      <td>4</td>\n",
              "      <td>7.494</td>\n",
              "      <td>1.564980</td>\n",
              "      <td>1.516912</td>\n",
              "      <td>0.858131</td>\n",
              "      <td>0.620071</td>\n",
              "      <td>0.367007</td>\n",
              "      <td>0.290549</td>\n",
              "      <td>2.276716</td>\n",
              "    </tr>\n",
              "    <tr>\n",
              "      <th>4</th>\n",
              "      <td>Finland</td>\n",
              "      <td>5</td>\n",
              "      <td>7.469</td>\n",
              "      <td>1.443572</td>\n",
              "      <td>1.540247</td>\n",
              "      <td>0.809158</td>\n",
              "      <td>0.617951</td>\n",
              "      <td>0.382612</td>\n",
              "      <td>0.245483</td>\n",
              "      <td>2.430182</td>\n",
              "    </tr>\n",
              "    <tr>\n",
              "      <th>...</th>\n",
              "      <td>...</td>\n",
              "      <td>...</td>\n",
              "      <td>...</td>\n",
              "      <td>...</td>\n",
              "      <td>...</td>\n",
              "      <td>...</td>\n",
              "      <td>...</td>\n",
              "      <td>...</td>\n",
              "      <td>...</td>\n",
              "      <td>...</td>\n",
              "    </tr>\n",
              "    <tr>\n",
              "      <th>150</th>\n",
              "      <td>Rwanda</td>\n",
              "      <td>151</td>\n",
              "      <td>3.471</td>\n",
              "      <td>0.368746</td>\n",
              "      <td>0.945707</td>\n",
              "      <td>0.326425</td>\n",
              "      <td>0.581844</td>\n",
              "      <td>0.455220</td>\n",
              "      <td>0.252756</td>\n",
              "      <td>0.540061</td>\n",
              "    </tr>\n",
              "    <tr>\n",
              "      <th>151</th>\n",
              "      <td>Syria</td>\n",
              "      <td>152</td>\n",
              "      <td>3.462</td>\n",
              "      <td>0.777153</td>\n",
              "      <td>0.396103</td>\n",
              "      <td>0.500533</td>\n",
              "      <td>0.081539</td>\n",
              "      <td>0.151347</td>\n",
              "      <td>0.493664</td>\n",
              "      <td>1.061574</td>\n",
              "    </tr>\n",
              "    <tr>\n",
              "      <th>152</th>\n",
              "      <td>Tanzania</td>\n",
              "      <td>153</td>\n",
              "      <td>3.349</td>\n",
              "      <td>0.511136</td>\n",
              "      <td>1.041990</td>\n",
              "      <td>0.364509</td>\n",
              "      <td>0.390018</td>\n",
              "      <td>0.066035</td>\n",
              "      <td>0.354256</td>\n",
              "      <td>0.621130</td>\n",
              "    </tr>\n",
              "    <tr>\n",
              "      <th>153</th>\n",
              "      <td>Burundi</td>\n",
              "      <td>154</td>\n",
              "      <td>2.905</td>\n",
              "      <td>0.091623</td>\n",
              "      <td>0.629794</td>\n",
              "      <td>0.151611</td>\n",
              "      <td>0.059901</td>\n",
              "      <td>0.084148</td>\n",
              "      <td>0.204435</td>\n",
              "      <td>1.683024</td>\n",
              "    </tr>\n",
              "    <tr>\n",
              "      <th>154</th>\n",
              "      <td>Central African Republic</td>\n",
              "      <td>155</td>\n",
              "      <td>2.693</td>\n",
              "      <td>0.000000</td>\n",
              "      <td>0.000000</td>\n",
              "      <td>0.018773</td>\n",
              "      <td>0.270842</td>\n",
              "      <td>0.056565</td>\n",
              "      <td>0.280876</td>\n",
              "      <td>2.066005</td>\n",
              "    </tr>\n",
              "  </tbody>\n",
              "</table>\n",
              "<p>155 rows × 10 columns</p>\n",
              "</div>"
            ],
            "text/plain": [
              "                      Country  Happiness.Rank  ...  Generosity  Dystopia.Residual\n",
              "0                      Norway               1  ...    0.362012           2.277027\n",
              "1                     Denmark               2  ...    0.355280           2.313707\n",
              "2                     Iceland               3  ...    0.475540           2.322715\n",
              "3                 Switzerland               4  ...    0.290549           2.276716\n",
              "4                     Finland               5  ...    0.245483           2.430182\n",
              "..                        ...             ...  ...         ...                ...\n",
              "150                    Rwanda             151  ...    0.252756           0.540061\n",
              "151                     Syria             152  ...    0.493664           1.061574\n",
              "152                  Tanzania             153  ...    0.354256           0.621130\n",
              "153                   Burundi             154  ...    0.204435           1.683024\n",
              "154  Central African Republic             155  ...    0.280876           2.066005\n",
              "\n",
              "[155 rows x 10 columns]"
            ]
          },
          "metadata": {
            "tags": []
          },
          "execution_count": 14
        }
      ]
    },
    {
      "cell_type": "code",
      "metadata": {
        "id": "KGCF-USKZ7on"
      },
      "source": [
        "df2017_2.columns = ['Country', 'Happiness Rank', 'Happiness Score', 'Economy (GDP per Capita)', 'Family', 'Health (Life Expectancy)', 'Freedom', 'Trust (Government Corruption)', 'Generosity', 'Dystopia Residual']"
      ],
      "execution_count": null,
      "outputs": []
    },
    {
      "cell_type": "markdown",
      "metadata": {
        "id": "orqa0Z2naCSz"
      },
      "source": [
        "####Juntar archivos"
      ]
    },
    {
      "cell_type": "code",
      "metadata": {
        "id": "CPQ9Wr4RaEmc"
      },
      "source": [
        "dffelicidad = pd.concat([df2015,df2016,df2017_2],  ignore_index=True)"
      ],
      "execution_count": null,
      "outputs": []
    },
    {
      "cell_type": "code",
      "metadata": {
        "colab": {
          "base_uri": "https://localhost:8080/"
        },
        "id": "cSjEzV0paKDX",
        "outputId": "97e54a41-56ab-42cb-ca08-4ef28c679609"
      },
      "source": [
        "dffelicidad"
      ],
      "execution_count": null,
      "outputs": [
        {
          "output_type": "execute_result",
          "data": {
            "text/html": [
              "<div>\n",
              "<style scoped>\n",
              "    .dataframe tbody tr th:only-of-type {\n",
              "        vertical-align: middle;\n",
              "    }\n",
              "\n",
              "    .dataframe tbody tr th {\n",
              "        vertical-align: top;\n",
              "    }\n",
              "\n",
              "    .dataframe thead th {\n",
              "        text-align: right;\n",
              "    }\n",
              "</style>\n",
              "<table border=\"1\" class=\"dataframe\">\n",
              "  <thead>\n",
              "    <tr style=\"text-align: right;\">\n",
              "      <th></th>\n",
              "      <th>Country</th>\n",
              "      <th>Happiness Rank</th>\n",
              "      <th>Happiness Score</th>\n",
              "      <th>Economy (GDP per Capita)</th>\n",
              "      <th>Family</th>\n",
              "      <th>Health (Life Expectancy)</th>\n",
              "      <th>Freedom</th>\n",
              "      <th>Trust (Government Corruption)</th>\n",
              "      <th>Generosity</th>\n",
              "      <th>Dystopia Residual</th>\n",
              "    </tr>\n",
              "  </thead>\n",
              "  <tbody>\n",
              "    <tr>\n",
              "      <th>0</th>\n",
              "      <td>Switzerland</td>\n",
              "      <td>1</td>\n",
              "      <td>7.587</td>\n",
              "      <td>1.396510</td>\n",
              "      <td>1.349510</td>\n",
              "      <td>0.941430</td>\n",
              "      <td>0.665570</td>\n",
              "      <td>0.419780</td>\n",
              "      <td>0.296780</td>\n",
              "      <td>2.517380</td>\n",
              "    </tr>\n",
              "    <tr>\n",
              "      <th>1</th>\n",
              "      <td>Iceland</td>\n",
              "      <td>2</td>\n",
              "      <td>7.561</td>\n",
              "      <td>1.302320</td>\n",
              "      <td>1.402230</td>\n",
              "      <td>0.947840</td>\n",
              "      <td>0.628770</td>\n",
              "      <td>0.141450</td>\n",
              "      <td>0.436300</td>\n",
              "      <td>2.702010</td>\n",
              "    </tr>\n",
              "    <tr>\n",
              "      <th>2</th>\n",
              "      <td>Denmark</td>\n",
              "      <td>3</td>\n",
              "      <td>7.527</td>\n",
              "      <td>1.325480</td>\n",
              "      <td>1.360580</td>\n",
              "      <td>0.874640</td>\n",
              "      <td>0.649380</td>\n",
              "      <td>0.483570</td>\n",
              "      <td>0.341390</td>\n",
              "      <td>2.492040</td>\n",
              "    </tr>\n",
              "    <tr>\n",
              "      <th>3</th>\n",
              "      <td>Norway</td>\n",
              "      <td>4</td>\n",
              "      <td>7.522</td>\n",
              "      <td>1.459000</td>\n",
              "      <td>1.330950</td>\n",
              "      <td>0.885210</td>\n",
              "      <td>0.669730</td>\n",
              "      <td>0.365030</td>\n",
              "      <td>0.346990</td>\n",
              "      <td>2.465310</td>\n",
              "    </tr>\n",
              "    <tr>\n",
              "      <th>4</th>\n",
              "      <td>Canada</td>\n",
              "      <td>5</td>\n",
              "      <td>7.427</td>\n",
              "      <td>1.326290</td>\n",
              "      <td>1.322610</td>\n",
              "      <td>0.905630</td>\n",
              "      <td>0.632970</td>\n",
              "      <td>0.329570</td>\n",
              "      <td>0.458110</td>\n",
              "      <td>2.451760</td>\n",
              "    </tr>\n",
              "    <tr>\n",
              "      <th>...</th>\n",
              "      <td>...</td>\n",
              "      <td>...</td>\n",
              "      <td>...</td>\n",
              "      <td>...</td>\n",
              "      <td>...</td>\n",
              "      <td>...</td>\n",
              "      <td>...</td>\n",
              "      <td>...</td>\n",
              "      <td>...</td>\n",
              "      <td>...</td>\n",
              "    </tr>\n",
              "    <tr>\n",
              "      <th>465</th>\n",
              "      <td>Rwanda</td>\n",
              "      <td>151</td>\n",
              "      <td>3.471</td>\n",
              "      <td>0.368746</td>\n",
              "      <td>0.945707</td>\n",
              "      <td>0.326425</td>\n",
              "      <td>0.581844</td>\n",
              "      <td>0.455220</td>\n",
              "      <td>0.252756</td>\n",
              "      <td>0.540061</td>\n",
              "    </tr>\n",
              "    <tr>\n",
              "      <th>466</th>\n",
              "      <td>Syria</td>\n",
              "      <td>152</td>\n",
              "      <td>3.462</td>\n",
              "      <td>0.777153</td>\n",
              "      <td>0.396103</td>\n",
              "      <td>0.500533</td>\n",
              "      <td>0.081539</td>\n",
              "      <td>0.151347</td>\n",
              "      <td>0.493664</td>\n",
              "      <td>1.061574</td>\n",
              "    </tr>\n",
              "    <tr>\n",
              "      <th>467</th>\n",
              "      <td>Tanzania</td>\n",
              "      <td>153</td>\n",
              "      <td>3.349</td>\n",
              "      <td>0.511136</td>\n",
              "      <td>1.041990</td>\n",
              "      <td>0.364509</td>\n",
              "      <td>0.390018</td>\n",
              "      <td>0.066035</td>\n",
              "      <td>0.354256</td>\n",
              "      <td>0.621130</td>\n",
              "    </tr>\n",
              "    <tr>\n",
              "      <th>468</th>\n",
              "      <td>Burundi</td>\n",
              "      <td>154</td>\n",
              "      <td>2.905</td>\n",
              "      <td>0.091623</td>\n",
              "      <td>0.629794</td>\n",
              "      <td>0.151611</td>\n",
              "      <td>0.059901</td>\n",
              "      <td>0.084148</td>\n",
              "      <td>0.204435</td>\n",
              "      <td>1.683024</td>\n",
              "    </tr>\n",
              "    <tr>\n",
              "      <th>469</th>\n",
              "      <td>Central African Republic</td>\n",
              "      <td>155</td>\n",
              "      <td>2.693</td>\n",
              "      <td>0.000000</td>\n",
              "      <td>0.000000</td>\n",
              "      <td>0.018773</td>\n",
              "      <td>0.270842</td>\n",
              "      <td>0.056565</td>\n",
              "      <td>0.280876</td>\n",
              "      <td>2.066005</td>\n",
              "    </tr>\n",
              "  </tbody>\n",
              "</table>\n",
              "<p>470 rows × 10 columns</p>\n",
              "</div>"
            ],
            "text/plain": [
              "                      Country  Happiness Rank  ...  Generosity  Dystopia Residual\n",
              "0                 Switzerland               1  ...    0.296780           2.517380\n",
              "1                     Iceland               2  ...    0.436300           2.702010\n",
              "2                     Denmark               3  ...    0.341390           2.492040\n",
              "3                      Norway               4  ...    0.346990           2.465310\n",
              "4                      Canada               5  ...    0.458110           2.451760\n",
              "..                        ...             ...  ...         ...                ...\n",
              "465                    Rwanda             151  ...    0.252756           0.540061\n",
              "466                     Syria             152  ...    0.493664           1.061574\n",
              "467                  Tanzania             153  ...    0.354256           0.621130\n",
              "468                   Burundi             154  ...    0.204435           1.683024\n",
              "469  Central African Republic             155  ...    0.280876           2.066005\n",
              "\n",
              "[470 rows x 10 columns]"
            ]
          },
          "metadata": {
            "tags": []
          },
          "execution_count": 17
        }
      ]
    },
    {
      "cell_type": "code",
      "metadata": {
        "id": "mykG2YgLaMon"
      },
      "source": [
        "dffelicidad.to_csv('datosFelicidad.csv', index=False)"
      ],
      "execution_count": null,
      "outputs": []
    },
    {
      "cell_type": "markdown",
      "metadata": {
        "id": "yf0O6WNAGCuQ"
      },
      "source": [
        "###**Datos de entrada**"
      ]
    },
    {
      "cell_type": "code",
      "metadata": {
        "colab": {
          "base_uri": "https://localhost:8080/",
          "height": 204
        },
        "id": "xxmckaICG3Jd",
        "outputId": "a6db4046-ea3a-4c9f-89cd-ff8313a26bdc"
      },
      "source": [
        "df = pd.read_csv('https://raw.githubusercontent.com/fortiz98/TrabajoAAII/main/datosFelicidad.csv')\r\n",
        "df.head()"
      ],
      "execution_count": null,
      "outputs": [
        {
          "output_type": "execute_result",
          "data": {
            "text/html": [
              "<div>\n",
              "<style scoped>\n",
              "    .dataframe tbody tr th:only-of-type {\n",
              "        vertical-align: middle;\n",
              "    }\n",
              "\n",
              "    .dataframe tbody tr th {\n",
              "        vertical-align: top;\n",
              "    }\n",
              "\n",
              "    .dataframe thead th {\n",
              "        text-align: right;\n",
              "    }\n",
              "</style>\n",
              "<table border=\"1\" class=\"dataframe\">\n",
              "  <thead>\n",
              "    <tr style=\"text-align: right;\">\n",
              "      <th></th>\n",
              "      <th>Country</th>\n",
              "      <th>Happiness Rank</th>\n",
              "      <th>Happiness Score</th>\n",
              "      <th>Economy (GDP per Capita)</th>\n",
              "      <th>Family</th>\n",
              "      <th>Health (Life Expectancy)</th>\n",
              "      <th>Freedom</th>\n",
              "      <th>Trust (Government Corruption)</th>\n",
              "      <th>Generosity</th>\n",
              "      <th>Dystopia Residual</th>\n",
              "    </tr>\n",
              "  </thead>\n",
              "  <tbody>\n",
              "    <tr>\n",
              "      <th>0</th>\n",
              "      <td>Switzerland</td>\n",
              "      <td>1</td>\n",
              "      <td>7.587</td>\n",
              "      <td>1.39651</td>\n",
              "      <td>1.34951</td>\n",
              "      <td>0.94143</td>\n",
              "      <td>0.66557</td>\n",
              "      <td>0.41978</td>\n",
              "      <td>0.29678</td>\n",
              "      <td>2.51738</td>\n",
              "    </tr>\n",
              "    <tr>\n",
              "      <th>1</th>\n",
              "      <td>Iceland</td>\n",
              "      <td>2</td>\n",
              "      <td>7.561</td>\n",
              "      <td>1.30232</td>\n",
              "      <td>1.40223</td>\n",
              "      <td>0.94784</td>\n",
              "      <td>0.62877</td>\n",
              "      <td>0.14145</td>\n",
              "      <td>0.43630</td>\n",
              "      <td>2.70201</td>\n",
              "    </tr>\n",
              "    <tr>\n",
              "      <th>2</th>\n",
              "      <td>Denmark</td>\n",
              "      <td>3</td>\n",
              "      <td>7.527</td>\n",
              "      <td>1.32548</td>\n",
              "      <td>1.36058</td>\n",
              "      <td>0.87464</td>\n",
              "      <td>0.64938</td>\n",
              "      <td>0.48357</td>\n",
              "      <td>0.34139</td>\n",
              "      <td>2.49204</td>\n",
              "    </tr>\n",
              "    <tr>\n",
              "      <th>3</th>\n",
              "      <td>Norway</td>\n",
              "      <td>4</td>\n",
              "      <td>7.522</td>\n",
              "      <td>1.45900</td>\n",
              "      <td>1.33095</td>\n",
              "      <td>0.88521</td>\n",
              "      <td>0.66973</td>\n",
              "      <td>0.36503</td>\n",
              "      <td>0.34699</td>\n",
              "      <td>2.46531</td>\n",
              "    </tr>\n",
              "    <tr>\n",
              "      <th>4</th>\n",
              "      <td>Canada</td>\n",
              "      <td>5</td>\n",
              "      <td>7.427</td>\n",
              "      <td>1.32629</td>\n",
              "      <td>1.32261</td>\n",
              "      <td>0.90563</td>\n",
              "      <td>0.63297</td>\n",
              "      <td>0.32957</td>\n",
              "      <td>0.45811</td>\n",
              "      <td>2.45176</td>\n",
              "    </tr>\n",
              "  </tbody>\n",
              "</table>\n",
              "</div>"
            ],
            "text/plain": [
              "       Country  Happiness Rank  ...  Generosity  Dystopia Residual\n",
              "0  Switzerland               1  ...     0.29678            2.51738\n",
              "1      Iceland               2  ...     0.43630            2.70201\n",
              "2      Denmark               3  ...     0.34139            2.49204\n",
              "3       Norway               4  ...     0.34699            2.46531\n",
              "4       Canada               5  ...     0.45811            2.45176\n",
              "\n",
              "[5 rows x 10 columns]"
            ]
          },
          "metadata": {
            "tags": []
          },
          "execution_count": 19
        }
      ]
    },
    {
      "cell_type": "code",
      "metadata": {
        "colab": {
          "base_uri": "https://localhost:8080/",
          "height": 385
        },
        "id": "_KWZ8bcoR7ut",
        "outputId": "31a58661-0444-42e1-c98d-e1cd8e0a8919"
      },
      "source": [
        "from sklearn.preprocessing import LabelEncoder\r\n",
        "# Dividir las instancias como \"happiness\" or \"sadness\" dependiendo de si el hapiness score es mayor o menor que 5.\r\n",
        "bins = (0, 5, 10)\r\n",
        "group_names = ['sadness', 'happiness']\r\n",
        "df['Happiness Score'] = pd.cut(df['Happiness Score'], bins = bins, labels = group_names)\r\n",
        "# Asignamos una etiqueta a \"quality\"\r\n",
        "label_quality = LabelEncoder()\r\n",
        "# Sadness tomará el valor 0 y Happiness será el valor 1\r\n",
        "df['Happiness Score'] = label_quality.fit_transform(df['Happiness Score'])\r\n",
        "print(df['Happiness Score'].value_counts())\r\n",
        "sb.countplot(df['Happiness Score'])\r\n",
        "plt.show()"
      ],
      "execution_count": null,
      "outputs": [
        {
          "output_type": "stream",
          "text": [
            "0    290\n",
            "1    180\n",
            "Name: Happiness Score, dtype: int64\n"
          ],
          "name": "stdout"
        },
        {
          "output_type": "stream",
          "text": [
            "/usr/local/lib/python3.6/dist-packages/seaborn/_decorators.py:43: FutureWarning: Pass the following variable as a keyword arg: x. From version 0.12, the only valid positional argument will be `data`, and passing other arguments without an explicit keyword will result in an error or misinterpretation.\n",
            "  FutureWarning\n"
          ],
          "name": "stderr"
        },
        {
          "output_type": "display_data",
          "data": {
            "image/png": "[encoded data removed]",
            "text/plain": [
              "<Figure size 432x288 with 1 Axes>"
            ]
          },
          "metadata": {
            "tags": [],
            "needs_background": "light"
          }
        }
      ]
    },
    {
      "cell_type": "code",
      "metadata": {
        "id": "4Bnxb-_CcTv9"
      },
      "source": [
        "df=df.drop('Country', axis=1)"
      ],
      "execution_count": null,
      "outputs": []
    },
    {
      "cell_type": "code",
      "metadata": {
        "id": "3Rtjgu-gH_J8"
      },
      "source": [
        "from sklearn.linear_model import LogisticRegression\r\n",
        "from sklearn.metrics import accuracy_score\r\n",
        "from sklearn.model_selection import train_test_split"
      ],
      "execution_count": 9,
      "outputs": []
    },
    {
      "cell_type": "code",
      "metadata": {
        "colab": {
          "base_uri": "https://localhost:8080/"
        },
        "id": "VqFP4sbSX72e",
        "outputId": "5abae230-a2c9-4088-9c8e-0ccf0117ab55"
      },
      "source": [
        "y = df[\"Happiness Score\"]\r\n",
        "X = df.drop(['Happiness Score','Happiness Rank'], axis=1)\r\n",
        "\r\n",
        "X_train, X_test, y_train, y_test = train_test_split(X,y,\r\n",
        "                                        train_size   = 0.8,\r\n",
        "                                        random_state = 1234,\r\n",
        "                                        shuffle      = True,\r\n",
        "                                    )\r\n",
        "# Entrenamos el modelo\r\n",
        "clf_0 = LogisticRegression().fit(X_train, y_train)\r\n",
        " \r\n",
        "# Predecimos sobre el conjunto de entreanmiento\r\n",
        "pred_y_0 = clf_0.predict(X_test)\r\n",
        "\r\n",
        "#¿Cómo es la accuracy?\r\n",
        "print( accuracy_score(pred_y_0, y_test) )"
      ],
      "execution_count": null,
      "outputs": [
        {
          "output_type": "stream",
          "text": [
            "0.9680851063829787\n"
          ],
          "name": "stdout"
        }
      ]
    },
    {
      "cell_type": "code",
      "metadata": {
        "colab": {
          "base_uri": "https://localhost:8080/"
        },
        "id": "Xbn-cJSvXhLh",
        "outputId": "a18d1e28-d406-40ba-b550-0978a66976f1"
      },
      "source": [
        "y = df[\"Happiness Score\"]\r\n",
        "X = df.drop('Happiness Score', axis=1)\r\n",
        " \r\n",
        "# Entrenamos el modelo\r\n",
        "clf_0 = LogisticRegression().fit(X, y)\r\n",
        " \r\n",
        "# Predecimos sobre el conjunto de entreanmiento\r\n",
        "pred_y_0 = clf_0.predict(X)\r\n",
        "\r\n",
        "#¿Cómo es la accuracy?\r\n",
        "print( accuracy_score(pred_y_0, y) )"
      ],
      "execution_count": null,
      "outputs": [
        {
          "output_type": "stream",
          "text": [
            "0.9851063829787234\n"
          ],
          "name": "stdout"
        }
      ]
    },
    {
      "cell_type": "markdown",
      "metadata": {
        "id": "7CQoCZI8aFip"
      },
      "source": [
        "### **Aumentar y disminuir las muestras para balancear el dataset.**"
      ]
    },
    {
      "cell_type": "code",
      "metadata": {
        "id": "p5ZZ30vnbN62"
      },
      "source": [
        "from sklearn.utils import resample"
      ],
      "execution_count": null,
      "outputs": []
    },
    {
      "cell_type": "code",
      "metadata": {
        "colab": {
          "base_uri": "https://localhost:8080/"
        },
        "id": "CPMYDW5Zab5p",
        "outputId": "abe63ae5-fff4-4918-8a74-78510bd8cbf6"
      },
      "source": [
        "df_majority = df[df[\"Happiness Score\"]==0]\r\n",
        "df_minority = df[df[\"Happiness Score\"]==1]\r\n",
        "\r\n",
        "df_majority_downsampled = resample(df_majority, \r\n",
        "                                 replace=False,    # muestra sin remplazamiento\r\n",
        "                                 n_samples=235,     # número de muestras de la clase minoritaria\r\n",
        "                                 random_state=123) # semilla para que los datos sean reproducibles\r\n",
        " \r\n",
        "df_minority_upsampled = resample(df_minority, \r\n",
        "                                 replace=True,     # muestra con remplazamiento\r\n",
        "                                 n_samples=235,    # número de muestras de la clase mayoritaria\r\n",
        "                                 random_state=123)\r\n",
        "\r\n",
        "# Combinar el nuevo grupo con el grupo original minoritario\r\n",
        "df_balanceado = pd.concat([df_majority_downsampled, df_minority_upsampled])\r\n",
        " \r\n",
        "# Mostrar el número de instancias en cada clase\r\n",
        "df_balanceado[\"Happiness Score\"].value_counts()"
      ],
      "execution_count": null,
      "outputs": [
        {
          "output_type": "execute_result",
          "data": {
            "text/plain": [
              "1    235\n",
              "0    235\n",
              "Name: Happiness Score, dtype: int64"
            ]
          },
          "metadata": {
            "tags": []
          },
          "execution_count": 26
        }
      ]
    },
    {
      "cell_type": "code",
      "metadata": {
        "colab": {
          "base_uri": "https://localhost:8080/"
        },
        "id": "yTzZsu6mcBhS",
        "outputId": "6392c933-4af4-482c-b73b-1c72c6914f83"
      },
      "source": [
        "y = df_balanceado[\"Happiness Score\"]\r\n",
        "X = df_balanceado.drop(['Happiness Score','Happiness Rank'], axis=1)\r\n",
        " \r\n",
        "# Entrenamos el modelo\r\n",
        "clf_0 = LogisticRegression().fit(X, y)\r\n",
        " \r\n",
        "# Predecimos sobre el conjunto de entreanmiento\r\n",
        "pred_y_0 = clf_0.predict(X)\r\n",
        "\r\n",
        "print( accuracy_score(y, pred_y_0) )\r\n"
      ],
      "execution_count": null,
      "outputs": [
        {
          "output_type": "stream",
          "text": [
            "0.9744680851063829\n"
          ],
          "name": "stdout"
        }
      ]
    },
    {
      "cell_type": "code",
      "metadata": {
        "colab": {
          "base_uri": "https://localhost:8080/"
        },
        "id": "Xjt1EKe8fzmd",
        "outputId": "c9d60ba0-1a8d-4a6e-efd7-debbedfb9382"
      },
      "source": [
        "y = df_balanceado[\"Happiness Score\"]\r\n",
        "X = df_balanceado.drop(['Happiness Score','Happiness Rank'], axis=1)\r\n",
        "\r\n",
        "X_train, X_test, y_train, y_test = train_test_split(X,y,\r\n",
        "                                        train_size   = 0.8,\r\n",
        "                                        random_state = 1234,\r\n",
        "                                        shuffle      = True,\r\n",
        "                                    )\r\n",
        "# Entrenamos el modelo\r\n",
        "clf_0 = LogisticRegression().fit(X_train, y_train)\r\n",
        " \r\n",
        "# Predecimos sobre el conjunto de entreanmiento\r\n",
        "pred_y_0 = clf_0.predict(X_test)\r\n",
        "\r\n",
        "#¿Cómo es la accuracy?\r\n",
        "print( accuracy_score(pred_y_0, y_test) )"
      ],
      "execution_count": null,
      "outputs": [
        {
          "output_type": "stream",
          "text": [
            "0.9893617021276596\n"
          ],
          "name": "stdout"
        }
      ]
    },
    {
      "cell_type": "markdown",
      "metadata": {
        "id": "n0Att2NbjZO8"
      },
      "source": [
        "### **SMOTE**"
      ]
    },
    {
      "cell_type": "code",
      "metadata": {
        "id": "RSEgbv_WjX20",
        "colab": {
          "base_uri": "https://localhost:8080/"
        },
        "outputId": "b0e8ba36-ad84-45ee-f66d-efffc609bb6b"
      },
      "source": [
        "from imblearn.under_sampling import RandomUnderSampler\r\n",
        "from imblearn.over_sampling import SMOTE\r\n",
        "from collections import Counter"
      ],
      "execution_count": null,
      "outputs": [
        {
          "output_type": "stream",
          "text": [
            "/usr/local/lib/python3.6/dist-packages/sklearn/externals/six.py:31: FutureWarning: The module is deprecated in version 0.21 and will be removed in version 0.23 since we've dropped support for Python 2.7. Please rely on the official version of six (https://pypi.org/project/six/).\n",
            "  \"(https://pypi.org/project/six/).\", FutureWarning)\n",
            "/usr/local/lib/python3.6/dist-packages/sklearn/utils/deprecation.py:144: FutureWarning: The sklearn.neighbors.base module is  deprecated in version 0.22 and will be removed in version 0.24. The corresponding classes / functions should instead be imported from sklearn.neighbors. Anything that cannot be imported from sklearn.neighbors is now part of the private API.\n",
            "  warnings.warn(message, FutureWarning)\n"
          ],
          "name": "stderr"
        }
      ]
    },
    {
      "cell_type": "code",
      "metadata": {
        "colab": {
          "base_uri": "https://localhost:8080/"
        },
        "id": "tpKxVjkbjhN5",
        "outputId": "b20c99b0-e142-4d71-a8d0-a7149d0be145"
      },
      "source": [
        "from imblearn.pipeline import Pipeline\r\n",
        "y = df[\"Happiness Score\"]\r\n",
        "X = df.drop(['Happiness Score',\t'Happiness Rank'], axis=1)\r\n",
        "over = SMOTE(sampling_strategy=0.81)\r\n",
        "under = RandomUnderSampler(sampling_strategy=1)\r\n",
        "steps = [('o', over), ('u', under)]\r\n",
        "pipeline = Pipeline(steps=steps)\r\n",
        "# transform the dataset\r\n",
        "X, y = pipeline.fit_resample(X, y)\r\n",
        "# summarize the new class distribution\r\n",
        "counter = Counter(y)\r\n",
        "print(counter)"
      ],
      "execution_count": null,
      "outputs": [
        {
          "output_type": "stream",
          "text": [
            "Counter({0: 234, 1: 234})\n"
          ],
          "name": "stdout"
        },
        {
          "output_type": "stream",
          "text": [
            "/usr/local/lib/python3.6/dist-packages/sklearn/utils/deprecation.py:87: FutureWarning: Function safe_indexing is deprecated; safe_indexing is deprecated in version 0.22 and will be removed in version 0.24.\n",
            "  warnings.warn(msg, category=FutureWarning)\n",
            "/usr/local/lib/python3.6/dist-packages/sklearn/utils/deprecation.py:87: FutureWarning: Function safe_indexing is deprecated; safe_indexing is deprecated in version 0.22 and will be removed in version 0.24.\n",
            "  warnings.warn(msg, category=FutureWarning)\n"
          ],
          "name": "stderr"
        }
      ]
    },
    {
      "cell_type": "code",
      "metadata": {
        "colab": {
          "base_uri": "https://localhost:8080/"
        },
        "id": "YV6WyeKpkpnL",
        "outputId": "8ce3b2f0-eaf2-4002-de2a-6f39354d3bde"
      },
      "source": [
        "X_train, X_test, y_train, y_test = train_test_split(X,y,\r\n",
        "                                        train_size   = 0.8,\r\n",
        "                                        random_state = 1234,\r\n",
        "                                        shuffle      = True,\r\n",
        "                                    )\r\n",
        "# Entrenamos el modelo\r\n",
        "clf_0 = LogisticRegression().fit(X_train, y_train)\r\n",
        " \r\n",
        "# Predecimos sobre el conjunto de entreanmiento\r\n",
        "pred_y_0 = clf_0.predict(X_test)\r\n",
        "\r\n",
        "#¿Cómo es la accuracy?\r\n",
        "print( accuracy_score(pred_y_0, y_test) )"
      ],
      "execution_count": null,
      "outputs": [
        {
          "output_type": "stream",
          "text": [
            "0.9468085106382979\n"
          ],
          "name": "stdout"
        }
      ]
    },
    {
      "cell_type": "markdown",
      "metadata": {
        "id": "yZhTrNa7h7Eu"
      },
      "source": [
        "### **Regresión**"
      ]
    },
    {
      "cell_type": "markdown",
      "metadata": {
        "id": "3ly6cHMhiBFn"
      },
      "source": [
        "Como lo que obtenemos en la forma de clasificación del dataset es muy alta, debido a que cuanto mejor sean los diferentes parámetros, mayor es la felicidad en el país, vamos a hacer regresión.\r\n",
        "\r\n",
        "Para ello vuelvo a cargar el dataset desde el principio y aplico las técnicas de regresión lineal."
      ]
    },
    {
      "cell_type": "code",
      "metadata": {
        "id": "zmjtrGU-i6ZN"
      },
      "source": [
        "df = pd.read_csv('https://raw.githubusercontent.com/fortiz98/TrabajoAAII/main/datosFelicidad.csv')"
      ],
      "execution_count": null,
      "outputs": []
    },
    {
      "cell_type": "code",
      "metadata": {
        "id": "8HcjbhTijHKD"
      },
      "source": [
        "y = df[\"Happiness Score\"]\r\n",
        "X = df.drop(['Happiness Score','Country',\t'Happiness Rank'], axis=1)"
      ],
      "execution_count": null,
      "outputs": []
    },
    {
      "cell_type": "code",
      "metadata": {
        "id": "njH-qIfYmzSJ",
        "colab": {
          "base_uri": "https://localhost:8080/"
        },
        "outputId": "6486a36f-e5d1-439a-bb7e-90c2016b5af5"
      },
      "source": [
        "from sklearn.model_selection import train_test_split\r\n",
        "\r\n",
        "X_train, X_test, Y_train, Y_test = train_test_split(X, y, test_size=0.2, random_state=5)\r\n",
        "print(X_train.shape)\r\n",
        "print(X_test.shape)\r\n",
        "print(Y_train.shape)\r\n",
        "print(Y_test.shape)"
      ],
      "execution_count": null,
      "outputs": [
        {
          "output_type": "stream",
          "text": [
            "(376, 7)\n",
            "(94, 7)\n",
            "(376,)\n",
            "(94,)\n"
          ],
          "name": "stdout"
        }
      ]
    },
    {
      "cell_type": "code",
      "metadata": {
        "id": "mYSmuxUFm6eg",
        "colab": {
          "base_uri": "https://localhost:8080/"
        },
        "outputId": "7bb1e1aa-0130-4633-ff18-98463e6bfe65"
      },
      "source": [
        "from sklearn.linear_model import LinearRegression\r\n",
        "\r\n",
        "model = LinearRegression()\r\n",
        "model.fit(X_train, Y_train)\r\n",
        "\r\n",
        "y_pred = model.predict(X_test)\r\n",
        "\r\n",
        "print(model.score(X_test,Y_test))"
      ],
      "execution_count": null,
      "outputs": [
        {
          "output_type": "stream",
          "text": [
            "0.9999999377874671\n"
          ],
          "name": "stdout"
        }
      ]
    },
    {
      "cell_type": "code",
      "metadata": {
        "id": "DHHh_Iqypim2",
        "colab": {
          "base_uri": "https://localhost:8080/"
        },
        "outputId": "7e38b8cc-67b7-491e-c9db-be999be97197"
      },
      "source": [
        "from sklearn.metrics import r2_score\r\n",
        "from sklearn.metrics import mean_squared_error\r\n",
        "print(r2_score(Y_test, y_pred))\r\n",
        "print(np.sqrt(mean_squared_error(Y_test, y_pred)))"
      ],
      "execution_count": null,
      "outputs": [
        {
          "output_type": "stream",
          "text": [
            "0.9999999377874671\n",
            "0.0002859279632633795\n"
          ],
          "name": "stdout"
        }
      ]
    },
    {
      "cell_type": "markdown",
      "metadata": {
        "id": "iZF6qHqznVD-"
      },
      "source": [
        "Vemos que haciendo una simple regresión lineal, también obtenemos un resultado muy muy bueno."
      ]
    },
    {
      "cell_type": "code",
      "metadata": {
        "id": "xo7zyKt7pkoA",
        "colab": {
          "base_uri": "https://localhost:8080/"
        },
        "outputId": "2a00797c-e084-4923-a97d-07a035278eec"
      },
      "source": [
        "from sklearn.linear_model import Ridge\r\n",
        "X_train, X_test, Y_train, Y_test = train_test_split(X, y, test_size=0.2, random_state=5)\r\n",
        "model = Ridge()\r\n",
        "model.fit(X_train, Y_train)\r\n",
        "\r\n",
        "y_pred = model.predict(X_test)\r\n",
        "\r\n",
        "print(model.score(X_test,Y_test))\r\n",
        "print(r2_score(Y_test, y_pred))\r\n",
        "print(np.sqrt(mean_squared_error(Y_test, y_pred)))"
      ],
      "execution_count": null,
      "outputs": [
        {
          "output_type": "stream",
          "text": [
            "0.9995033781553871\n",
            "0.9995033781553871\n",
            "0.025546452362005905\n"
          ],
          "name": "stdout"
        }
      ]
    },
    {
      "cell_type": "code",
      "metadata": {
        "id": "0SCPhAzIpvlV",
        "colab": {
          "base_uri": "https://localhost:8080/"
        },
        "outputId": "4be7e777-5c16-4f5d-b0fd-cf2a37344768"
      },
      "source": [
        "from sklearn.linear_model import Lasso\r\n",
        "X_train, X_test, Y_train, Y_test = train_test_split(X, y, test_size=0.2, random_state=5)\r\n",
        "model = Lasso()\r\n",
        "model.fit(X_train, Y_train)\r\n",
        "\r\n",
        "y_pred = model.predict(X_test)\r\n",
        "\r\n",
        "print(model.score(X_test,Y_test))\r\n",
        "print(r2_score(Y_test, y_pred))\r\n",
        "print(np.sqrt(mean_squared_error(Y_test, y_pred)))"
      ],
      "execution_count": null,
      "outputs": [
        {
          "output_type": "stream",
          "text": [
            "-0.10171520030290226\n",
            "-0.10171520030290226\n",
            "1.2032402729432405\n"
          ],
          "name": "stdout"
        }
      ]
    },
    {
      "cell_type": "code",
      "metadata": {
        "id": "JEk-ASRxpy5O",
        "colab": {
          "base_uri": "https://localhost:8080/"
        },
        "outputId": "4f612263-d74d-422b-ec0a-beffafae09c9"
      },
      "source": [
        "from sklearn.linear_model import ElasticNet\r\n",
        "X_train, X_test, Y_train, Y_test = train_test_split(X, y, test_size=0.2, random_state=5)\r\n",
        "model = ElasticNet()\r\n",
        "model.fit(X_train, Y_train)\r\n",
        "\r\n",
        "y_pred = model.predict(X_test)\r\n",
        "\r\n",
        "print(model.score(X_test,Y_test))\r\n",
        "print(r2_score(Y_test, y_pred))\r\n",
        "print(np.sqrt(mean_squared_error(Y_test, y_pred)))"
      ],
      "execution_count": null,
      "outputs": [
        {
          "output_type": "stream",
          "text": [
            "-0.10171520030290226\n",
            "-0.10171520030290226\n",
            "1.2032402729432405\n"
          ],
          "name": "stdout"
        }
      ]
    },
    {
      "cell_type": "markdown",
      "metadata": {
        "id": "KqdTYIjIp_lE"
      },
      "source": [
        "Vemos que para Lasso y para ElasticNet los resultados son bastantes malos, con un score negativo."
      ]
    },
    {
      "cell_type": "markdown",
      "metadata": {
        "id": "lzXxYSJGq6cO"
      },
      "source": [
        "#### **Logistic Regression**"
      ]
    },
    {
      "cell_type": "markdown",
      "metadata": {
        "id": "mKZNf9DyrBnm"
      },
      "source": [
        "Para esto, voy a volver a coger los datos pero clasificados en felices e infelices según el score"
      ]
    },
    {
      "cell_type": "code",
      "metadata": {
        "id": "jPZ08g34rNE0"
      },
      "source": [
        "df = pd.read_csv('https://raw.githubusercontent.com/fortiz98/TrabajoAAII/main/datosFelicidad.csv')"
      ],
      "execution_count": null,
      "outputs": []
    },
    {
      "cell_type": "code",
      "metadata": {
        "id": "IMfGj2jFrRdD",
        "colab": {
          "base_uri": "https://localhost:8080/",
          "height": 385
        },
        "outputId": "d80f38be-e8a3-4f28-b1f4-511effa32498"
      },
      "source": [
        "from sklearn.preprocessing import LabelEncoder\r\n",
        "# Dividir las instancias como \"happiness\" or \"sadness\" dependiendo de si el hapiness score es mayor o menor que 5.\r\n",
        "bins = (0, 5, 10)\r\n",
        "group_names = ['sadness', 'happiness']\r\n",
        "df['Happiness Score'] = pd.cut(df['Happiness Score'], bins = bins, labels = group_names)\r\n",
        "# Asignamos una etiqueta a \"quality\"\r\n",
        "label_quality = LabelEncoder()\r\n",
        "# Sadness tomará el valor 0 y Happiness será el valor 1\r\n",
        "df['Happiness Score'] = label_quality.fit_transform(df['Happiness Score'])\r\n",
        "print(df['Happiness Score'].value_counts())\r\n",
        "sb.countplot(df['Happiness Score'])\r\n",
        "plt.show()"
      ],
      "execution_count": null,
      "outputs": [
        {
          "output_type": "stream",
          "text": [
            "0    290\n",
            "1    180\n",
            "Name: Happiness Score, dtype: int64\n"
          ],
          "name": "stdout"
        },
        {
          "output_type": "stream",
          "text": [
            "/usr/local/lib/python3.6/dist-packages/seaborn/_decorators.py:43: FutureWarning: Pass the following variable as a keyword arg: x. From version 0.12, the only valid positional argument will be `data`, and passing other arguments without an explicit keyword will result in an error or misinterpretation.\n",
            "  FutureWarning\n"
          ],
          "name": "stderr"
        },
        {
          "output_type": "display_data",
          "data": {
            "image/png": "[encoded data removed]",
            "text/plain": [
              "<Figure size 432x288 with 1 Axes>"
            ]
          },
          "metadata": {
            "tags": [],
            "needs_background": "light"
          }
        }
      ]
    },
    {
      "cell_type": "code",
      "metadata": {
        "id": "9yQFHKUjrWms"
      },
      "source": [
        "y = df[\"Happiness Score\"]\r\n",
        "X = df.drop(['Happiness Score','Country',\t'Happiness Rank'], axis=1)"
      ],
      "execution_count": null,
      "outputs": []
    },
    {
      "cell_type": "code",
      "metadata": {
        "id": "zF3q1oprriMA"
      },
      "source": [
        "X_train, X_test, y_train, y_test = train_test_split(X,y,\r\n",
        "                                        train_size   = 0.8,\r\n",
        "                                        random_state = 1234,\r\n",
        "                                        shuffle      = True\r\n",
        "                                    )"
      ],
      "execution_count": null,
      "outputs": []
    },
    {
      "cell_type": "code",
      "metadata": {
        "id": "miUikpPKrjAU"
      },
      "source": [
        "from sklearn.model_selection import train_test_split\r\n",
        "from sklearn.preprocessing import StandardScaler\r\n",
        "scaler = StandardScaler()\r\n",
        "X_train = scaler.fit_transform(X_train)"
      ],
      "execution_count": null,
      "outputs": []
    },
    {
      "cell_type": "code",
      "metadata": {
        "id": "4_rdOPGcrr7B",
        "colab": {
          "base_uri": "https://localhost:8080/"
        },
        "outputId": "81d419e1-7ced-4a66-d34e-a57c52d01447"
      },
      "source": [
        "from sklearn.datasets import load_digits\r\n",
        "from sklearn.linear_model import LogisticRegression\r\n",
        "model = LogisticRegression(solver='liblinear', C=0.05, multi_class='ovr',\r\n",
        "                           random_state=0)\r\n",
        "model.fit(X_train, y_train)"
      ],
      "execution_count": null,
      "outputs": [
        {
          "output_type": "execute_result",
          "data": {
            "text/plain": [
              "LogisticRegression(C=0.05, class_weight=None, dual=False, fit_intercept=True,\n",
              "                   intercept_scaling=1, l1_ratio=None, max_iter=100,\n",
              "                   multi_class='ovr', n_jobs=None, penalty='l2', random_state=0,\n",
              "                   solver='liblinear', tol=0.0001, verbose=0, warm_start=False)"
            ]
          },
          "metadata": {
            "tags": []
          },
          "execution_count": 45
        }
      ]
    },
    {
      "cell_type": "code",
      "metadata": {
        "id": "1hIABygYr3WR"
      },
      "source": [
        "X_test = scaler.transform(X_test)\r\n",
        "y_pred = model.predict(X_test)"
      ],
      "execution_count": null,
      "outputs": []
    },
    {
      "cell_type": "code",
      "metadata": {
        "id": "bR9vJvyqr7GN",
        "colab": {
          "base_uri": "https://localhost:8080/"
        },
        "outputId": "fda1db7f-8097-4b89-c293-65ab399b458c"
      },
      "source": [
        "# training error\r\n",
        "print(model.score(X_train, y_train))\r\n",
        "# testing error\r\n",
        "print(model.score(X_test, y_test))"
      ],
      "execution_count": null,
      "outputs": [
        {
          "output_type": "stream",
          "text": [
            "0.9547872340425532\n",
            "0.9893617021276596\n"
          ],
          "name": "stdout"
        }
      ]
    },
    {
      "cell_type": "markdown",
      "metadata": {
        "id": "V4dCbrbir_sk"
      },
      "source": [
        "Los datos en esta ocasión, pese a ser muy buenos, son peores si los comparamos con los que hemos obtenido anteriormente."
      ]
    },
    {
      "cell_type": "markdown",
      "metadata": {
        "id": "UIP4tWtBsMhE"
      },
      "source": [
        "#### **Neutral Network**"
      ]
    },
    {
      "cell_type": "markdown",
      "metadata": {
        "id": "DnY3eO8SsRZs"
      },
      "source": [
        "##### **Percepton**"
      ]
    },
    {
      "cell_type": "code",
      "metadata": {
        "id": "0h6kClrjsXMD"
      },
      "source": [
        "X_train, X_test, y_train, y_test = train_test_split(X,y,\r\n",
        "                                        train_size   = 0.8,\r\n",
        "                                        random_state = 1234,\r\n",
        "                                        shuffle      = True\r\n",
        "                                    )"
      ],
      "execution_count": null,
      "outputs": []
    },
    {
      "cell_type": "code",
      "metadata": {
        "id": "YBBq3NShsbnM",
        "colab": {
          "base_uri": "https://localhost:8080/"
        },
        "outputId": "2256b391-5929-4677-9eb2-dbd410a874bd"
      },
      "source": [
        "from sklearn.linear_model import Perceptron\r\n",
        "p = Perceptron(random_state=42,\r\n",
        "              max_iter=10,\r\n",
        "              tol=0.001)\r\n",
        "p.fit(X_train, y_train)"
      ],
      "execution_count": null,
      "outputs": [
        {
          "output_type": "stream",
          "text": [
            "/usr/local/lib/python3.6/dist-packages/sklearn/linear_model/_stochastic_gradient.py:557: ConvergenceWarning: Maximum number of iteration reached before convergence. Consider increasing max_iter to improve the fit.\n",
            "  ConvergenceWarning)\n"
          ],
          "name": "stderr"
        },
        {
          "output_type": "execute_result",
          "data": {
            "text/plain": [
              "Perceptron(alpha=0.0001, class_weight=None, early_stopping=False, eta0=1.0,\n",
              "           fit_intercept=True, max_iter=10, n_iter_no_change=5, n_jobs=None,\n",
              "           penalty=None, random_state=42, shuffle=True, tol=0.001,\n",
              "           validation_fraction=0.1, verbose=0, warm_start=False)"
            ]
          },
          "metadata": {
            "tags": []
          },
          "execution_count": 49
        }
      ]
    },
    {
      "cell_type": "code",
      "metadata": {
        "id": "jlo3WKqGsk__",
        "colab": {
          "base_uri": "https://localhost:8080/"
        },
        "outputId": "5d546561-34f0-47af-91e2-5b26dbc4e69b"
      },
      "source": [
        "y_pred=p.predict(X_test)\r\n",
        "print(p.score(X_test,y_test))"
      ],
      "execution_count": null,
      "outputs": [
        {
          "output_type": "stream",
          "text": [
            "0.776595744680851\n"
          ],
          "name": "stdout"
        }
      ]
    },
    {
      "cell_type": "markdown",
      "metadata": {
        "id": "pv0ZPAfdsqxM"
      },
      "source": [
        "Vemos como el resultado obtenido mediante este modelo, dista mucho de los resultados anteriores, por lo que podemos ver que no es un buen modelo para nuestros datos."
      ]
    },
    {
      "cell_type": "markdown",
      "metadata": {
        "id": "bCLom1ucs52i"
      },
      "source": [
        "##### **Multi-layer Perceptron**"
      ]
    },
    {
      "cell_type": "code",
      "metadata": {
        "id": "kdN1qO-ls8_u"
      },
      "source": [
        "X_train, X_test, y_train, y_test = train_test_split(X,y,\r\n",
        "                                        train_size   = 0.8,\r\n",
        "                                        random_state = 1234,\r\n",
        "                                        shuffle      = True\r\n",
        "                                    )"
      ],
      "execution_count": null,
      "outputs": []
    },
    {
      "cell_type": "code",
      "metadata": {
        "id": "uGzKQ7yotQvW",
        "colab": {
          "base_uri": "https://localhost:8080/"
        },
        "outputId": "7b922561-d122-44b8-e8b8-3223e67bd299"
      },
      "source": [
        "from sklearn.neural_network import MLPClassifier\r\n",
        "\r\n",
        "clf = MLPClassifier(solver='sgd', alpha=1e-5,\r\n",
        "                    hidden_layer_sizes=(5, 2), random_state=1, max_iter=2000)\r\n",
        "\r\n",
        "print(clf.fit(X_train, y_train))  "
      ],
      "execution_count": null,
      "outputs": [
        {
          "output_type": "stream",
          "text": [
            "MLPClassifier(activation='relu', alpha=1e-05, batch_size='auto', beta_1=0.9,\n",
            "              beta_2=0.999, early_stopping=False, epsilon=1e-08,\n",
            "              hidden_layer_sizes=(5, 2), learning_rate='constant',\n",
            "              learning_rate_init=0.001, max_fun=15000, max_iter=2000,\n",
            "              momentum=0.9, n_iter_no_change=10, nesterovs_momentum=True,\n",
            "              power_t=0.5, random_state=1, shuffle=True, solver='sgd',\n",
            "              tol=0.0001, validation_fraction=0.1, verbose=False,\n",
            "              warm_start=False)\n"
          ],
          "name": "stdout"
        },
        {
          "output_type": "stream",
          "text": [
            "/usr/local/lib/python3.6/dist-packages/sklearn/neural_network/_multilayer_perceptron.py:571: ConvergenceWarning: Stochastic Optimizer: Maximum iterations (2000) reached and the optimization hasn't converged yet.\n",
            "  % self.max_iter, ConvergenceWarning)\n"
          ],
          "name": "stderr"
        }
      ]
    },
    {
      "cell_type": "code",
      "metadata": {
        "id": "QRjnXuvutTwv",
        "colab": {
          "base_uri": "https://localhost:8080/"
        },
        "outputId": "55fade0e-0a74-4b13-d350-19abbf0b9e98"
      },
      "source": [
        "for i in range(len(clf.coefs_)):\r\n",
        "    number_neurons_in_layer = clf.coefs_[i].shape[1]\r\n",
        "    for j in range(number_neurons_in_layer):\r\n",
        "        weights = clf.coefs_[i][:,j]\r\n",
        "        print(i, j, weights, end=\", \")\r\n",
        "        print()\r\n",
        "    print()"
      ],
      "execution_count": null,
      "outputs": [
        {
          "output_type": "stream",
          "text": [
            "0 0 [-0.11734836 -0.57651906 -0.11427597  0.24107695  0.42531614  0.55805691\n",
            " -0.56802214], \n",
            "0 1 [ 0.58722971  0.19316795  0.46359419  0.1774587   0.7535318  -0.31984736\n",
            "  0.92383701], \n",
            "0 2 [-0.63396565 -0.32001128 -0.38755042  0.04889609 -0.24831404 -0.70577964\n",
            "  0.55305147], \n",
            "0 3 [-0.27954336 -0.14599253  0.53473767 -0.50856858  0.27198467 -0.4669293\n",
            "  0.0469027 ], \n",
            "0 4 [-0.26202114 -0.27872592 -0.57468999 -0.59549758  0.50308168  0.27165147\n",
            " -0.21088414], \n",
            "\n",
            "1 0 [ 0.90519291 -0.40653786 -0.73468111  0.75657025 -0.39296288], \n",
            "1 1 [ 0.45951252  1.23630519 -0.54201484 -0.38215152 -1.8085575 ], \n",
            "\n",
            "2 0 [-0.81563712 -2.21103416], \n",
            "\n"
          ],
          "name": "stdout"
        }
      ]
    },
    {
      "cell_type": "code",
      "metadata": {
        "id": "AYxNIunCtXOU",
        "colab": {
          "base_uri": "https://localhost:8080/"
        },
        "outputId": "841b719e-3ce6-4a9c-a2f8-24dce9778d9e"
      },
      "source": [
        "prob_results = clf.predict_proba(X_train)\r\n",
        "print(prob_results)"
      ],
      "execution_count": null,
      "outputs": [
        {
          "output_type": "stream",
          "text": [
            "[[0.13347797 0.86652203]\n",
            " [0.99606278 0.00393722]\n",
            " [0.97983577 0.02016423]\n",
            " [0.92673917 0.07326083]\n",
            " [0.91031873 0.08968127]\n",
            " [0.13347797 0.86652203]\n",
            " [0.13347797 0.86652203]\n",
            " [0.13347797 0.86652203]\n",
            " [0.68314936 0.31685064]\n",
            " [0.13347797 0.86652203]\n",
            " [0.51733079 0.48266921]\n",
            " [0.81708287 0.18291713]\n",
            " [0.95067112 0.04932888]\n",
            " [0.84991381 0.15008619]\n",
            " [0.95236534 0.04763466]\n",
            " [0.13347797 0.86652203]\n",
            " [0.13347797 0.86652203]\n",
            " [0.65888438 0.34111562]\n",
            " [0.99469528 0.00530472]\n",
            " [0.13347797 0.86652203]\n",
            " [0.88317117 0.11682883]\n",
            " [0.98622045 0.01377955]\n",
            " [0.13347797 0.86652203]\n",
            " [0.9735611  0.0264389 ]\n",
            " [0.13347797 0.86652203]\n",
            " [0.82055718 0.17944282]\n",
            " [0.95377585 0.04622415]\n",
            " [0.98028784 0.01971216]\n",
            " [0.13347797 0.86652203]\n",
            " [0.92517445 0.07482555]\n",
            " [0.52817267 0.47182733]\n",
            " [0.8851746  0.1148254 ]\n",
            " [0.86744759 0.13255241]\n",
            " [0.99304729 0.00695271]\n",
            " [0.98451842 0.01548158]\n",
            " [0.13347797 0.86652203]\n",
            " [0.13347797 0.86652203]\n",
            " [0.14365932 0.85634068]\n",
            " [0.77686587 0.22313413]\n",
            " [0.45127978 0.54872022]\n",
            " [0.13347797 0.86652203]\n",
            " [0.42566459 0.57433541]\n",
            " [0.91597265 0.08402735]\n",
            " [0.42086968 0.57913032]\n",
            " [0.75296249 0.24703751]\n",
            " [0.99818071 0.00181929]\n",
            " [0.9954255  0.0045745 ]\n",
            " [0.85207408 0.14792592]\n",
            " [0.99739572 0.00260428]\n",
            " [0.40322202 0.59677798]\n",
            " [0.96534072 0.03465928]\n",
            " [0.13347797 0.86652203]\n",
            " [0.9371525  0.0628475 ]\n",
            " [0.9621869  0.0378131 ]\n",
            " [0.97553218 0.02446782]\n",
            " [0.99553889 0.00446111]\n",
            " [0.95311063 0.04688937]\n",
            " [0.24557262 0.75442738]\n",
            " [0.98945258 0.01054742]\n",
            " [0.99323184 0.00676816]\n",
            " [0.13347797 0.86652203]\n",
            " [0.13347797 0.86652203]\n",
            " [0.13347797 0.86652203]\n",
            " [0.93384013 0.06615987]\n",
            " [0.79276913 0.20723087]\n",
            " [0.98949227 0.01050773]\n",
            " [0.95196511 0.04803489]\n",
            " [0.13347797 0.86652203]\n",
            " [0.13347797 0.86652203]\n",
            " [0.48936889 0.51063111]\n",
            " [0.13347797 0.86652203]\n",
            " [0.94167759 0.05832241]\n",
            " [0.80744086 0.19255914]\n",
            " [0.43613892 0.56386108]\n",
            " [0.13347797 0.86652203]\n",
            " [0.99664448 0.00335552]\n",
            " [0.13347797 0.86652203]\n",
            " [0.13347797 0.86652203]\n",
            " [0.99491893 0.00508107]\n",
            " [0.97116191 0.02883809]\n",
            " [0.25088512 0.74911488]\n",
            " [0.8907369  0.1092631 ]\n",
            " [0.96455033 0.03544967]\n",
            " [0.39701148 0.60298852]\n",
            " [0.95436226 0.04563774]\n",
            " [0.32148384 0.67851616]\n",
            " [0.87503723 0.12496277]\n",
            " [0.98643695 0.01356305]\n",
            " [0.99452417 0.00547583]\n",
            " [0.9969201  0.0030799 ]\n",
            " [0.9985823  0.0014177 ]\n",
            " [0.90585143 0.09414857]\n",
            " [0.65747576 0.34252424]\n",
            " [0.13347797 0.86652203]\n",
            " [0.13347797 0.86652203]\n",
            " [0.99760153 0.00239847]\n",
            " [0.99285874 0.00714126]\n",
            " [0.13347797 0.86652203]\n",
            " [0.26874488 0.73125512]\n",
            " [0.96750384 0.03249616]\n",
            " [0.13347797 0.86652203]\n",
            " [0.99146897 0.00853103]\n",
            " [0.99739342 0.00260658]\n",
            " [0.72487403 0.27512597]\n",
            " [0.99289327 0.00710673]\n",
            " [0.13347797 0.86652203]\n",
            " [0.99273568 0.00726432]\n",
            " [0.94072671 0.05927329]\n",
            " [0.93841778 0.06158222]\n",
            " [0.13347797 0.86652203]\n",
            " [0.30509166 0.69490834]\n",
            " [0.13347797 0.86652203]\n",
            " [0.99880505 0.00119495]\n",
            " [0.13347797 0.86652203]\n",
            " [0.98598936 0.01401064]\n",
            " [0.13997291 0.86002709]\n",
            " [0.67646358 0.32353642]\n",
            " [0.98817462 0.01182538]\n",
            " [0.88558454 0.11441546]\n",
            " [0.30319225 0.69680775]\n",
            " [0.65326987 0.34673013]\n",
            " [0.32705848 0.67294152]\n",
            " [0.9969384  0.0030616 ]\n",
            " [0.13347797 0.86652203]\n",
            " [0.96816938 0.03183062]\n",
            " [0.98210474 0.01789526]\n",
            " [0.15094958 0.84905042]\n",
            " [0.94759418 0.05240582]\n",
            " [0.27472128 0.72527872]\n",
            " [0.96836742 0.03163258]\n",
            " [0.98650105 0.01349895]\n",
            " [0.62100142 0.37899858]\n",
            " [0.99256191 0.00743809]\n",
            " [0.13347797 0.86652203]\n",
            " [0.9297177  0.0702823 ]\n",
            " [0.94291114 0.05708886]\n",
            " [0.99147675 0.00852325]\n",
            " [0.40326189 0.59673811]\n",
            " [0.41657598 0.58342402]\n",
            " [0.75877715 0.24122285]\n",
            " [0.93632263 0.06367737]\n",
            " [0.82083141 0.17916859]\n",
            " [0.99241202 0.00758798]\n",
            " [0.29262504 0.70737496]\n",
            " [0.13347797 0.86652203]\n",
            " [0.68109301 0.31890699]\n",
            " [0.55582849 0.44417151]\n",
            " [0.86053936 0.13946064]\n",
            " [0.13347797 0.86652203]\n",
            " [0.19027135 0.80972865]\n",
            " [0.99639124 0.00360876]\n",
            " [0.98945883 0.01054117]\n",
            " [0.88193936 0.11806064]\n",
            " [0.91124281 0.08875719]\n",
            " [0.13347797 0.86652203]\n",
            " [0.99808344 0.00191656]\n",
            " [0.99836181 0.00163819]\n",
            " [0.13347797 0.86652203]\n",
            " [0.97222602 0.02777398]\n",
            " [0.99834535 0.00165465]\n",
            " [0.65967556 0.34032444]\n",
            " [0.7668604  0.2331396 ]\n",
            " [0.21334211 0.78665789]\n",
            " [0.97412776 0.02587224]\n",
            " [0.16430633 0.83569367]\n",
            " [0.13347797 0.86652203]\n",
            " [0.42617657 0.57382343]\n",
            " [0.26604802 0.73395198]\n",
            " [0.98427984 0.01572016]\n",
            " [0.71553963 0.28446037]\n",
            " [0.99758191 0.00241809]\n",
            " [0.92151176 0.07848824]\n",
            " [0.13347797 0.86652203]\n",
            " [0.80264617 0.19735383]\n",
            " [0.87335427 0.12664573]\n",
            " [0.13347797 0.86652203]\n",
            " [0.95951394 0.04048606]\n",
            " [0.990651   0.009349  ]\n",
            " [0.82091091 0.17908909]\n",
            " [0.95455078 0.04544922]\n",
            " [0.96989371 0.03010629]\n",
            " [0.98836911 0.01163089]\n",
            " [0.98089925 0.01910075]\n",
            " [0.94011881 0.05988119]\n",
            " [0.68819577 0.31180423]\n",
            " [0.97291686 0.02708314]\n",
            " [0.9517627  0.0482373 ]\n",
            " [0.98961645 0.01038355]\n",
            " [0.13347797 0.86652203]\n",
            " [0.5840059  0.4159941 ]\n",
            " [0.13347797 0.86652203]\n",
            " [0.99560561 0.00439439]\n",
            " [0.98800497 0.01199503]\n",
            " [0.85400872 0.14599128]\n",
            " [0.13347797 0.86652203]\n",
            " [0.99621898 0.00378102]\n",
            " [0.98160055 0.01839945]\n",
            " [0.98496442 0.01503558]\n",
            " [0.85532803 0.14467197]\n",
            " [0.99556899 0.00443101]\n",
            " [0.9903884  0.0096116 ]\n",
            " [0.97917782 0.02082218]\n",
            " [0.84948588 0.15051412]\n",
            " [0.18376299 0.81623701]\n",
            " [0.99656725 0.00343275]\n",
            " [0.99698314 0.00301686]\n",
            " [0.90169067 0.09830933]\n",
            " [0.26770523 0.73229477]\n",
            " [0.84742998 0.15257002]\n",
            " [0.7004132  0.2995868 ]\n",
            " [0.13347797 0.86652203]\n",
            " [0.96945447 0.03054553]\n",
            " [0.4434787  0.5565213 ]\n",
            " [0.51623813 0.48376187]\n",
            " [0.99419643 0.00580357]\n",
            " [0.72900648 0.27099352]\n",
            " [0.99773672 0.00226328]\n",
            " [0.98988925 0.01011075]\n",
            " [0.13347797 0.86652203]\n",
            " [0.16347347 0.83652653]\n",
            " [0.97802086 0.02197914]\n",
            " [0.98388634 0.01611366]\n",
            " [0.13347797 0.86652203]\n",
            " [0.41582758 0.58417242]\n",
            " [0.97997512 0.02002488]\n",
            " [0.16654732 0.83345268]\n",
            " [0.13347797 0.86652203]\n",
            " [0.70081447 0.29918553]\n",
            " [0.87742019 0.12257981]\n",
            " [0.99560159 0.00439841]\n",
            " [0.9757307  0.0242693 ]\n",
            " [0.51214618 0.48785382]\n",
            " [0.21361291 0.78638709]\n",
            " [0.13347797 0.86652203]\n",
            " [0.23013357 0.76986643]\n",
            " [0.95567184 0.04432816]\n",
            " [0.99840093 0.00159907]\n",
            " [0.99751191 0.00248809]\n",
            " [0.99875101 0.00124899]\n",
            " [0.77890046 0.22109954]\n",
            " [0.13347797 0.86652203]\n",
            " [0.13347797 0.86652203]\n",
            " [0.98398095 0.01601905]\n",
            " [0.90253404 0.09746596]\n",
            " [0.84263311 0.15736689]\n",
            " [0.56249605 0.43750395]\n",
            " [0.13347797 0.86652203]\n",
            " [0.53898442 0.46101558]\n",
            " [0.78834227 0.21165773]\n",
            " [0.99709928 0.00290072]\n",
            " [0.13347797 0.86652203]\n",
            " [0.44866108 0.55133892]\n",
            " [0.9978282  0.0021718 ]\n",
            " [0.13347797 0.86652203]\n",
            " [0.13347797 0.86652203]\n",
            " [0.99725282 0.00274718]\n",
            " [0.88938258 0.11061742]\n",
            " [0.99296042 0.00703958]\n",
            " [0.13347797 0.86652203]\n",
            " [0.98693406 0.01306594]\n",
            " [0.32382445 0.67617555]\n",
            " [0.26246879 0.73753121]\n",
            " [0.13347797 0.86652203]\n",
            " [0.99780585 0.00219415]\n",
            " [0.23087467 0.76912533]\n",
            " [0.82849735 0.17150265]\n",
            " [0.13347797 0.86652203]\n",
            " [0.97915884 0.02084116]\n",
            " [0.35357725 0.64642275]\n",
            " [0.95880803 0.04119197]\n",
            " [0.13347797 0.86652203]\n",
            " [0.98350824 0.01649176]\n",
            " [0.19114532 0.80885468]\n",
            " [0.90346595 0.09653405]\n",
            " [0.37771863 0.62228137]\n",
            " [0.96599359 0.03400641]\n",
            " [0.99623824 0.00376176]\n",
            " [0.948119   0.051881  ]\n",
            " [0.62635252 0.37364748]\n",
            " [0.13347797 0.86652203]\n",
            " [0.99312429 0.00687571]\n",
            " [0.92418592 0.07581408]\n",
            " [0.13347797 0.86652203]\n",
            " [0.99296369 0.00703631]\n",
            " [0.6739697  0.3260303 ]\n",
            " [0.80657992 0.19342008]\n",
            " [0.99755026 0.00244974]\n",
            " [0.21121354 0.78878646]\n",
            " [0.99798483 0.00201517]\n",
            " [0.98976275 0.01023725]\n",
            " [0.99730709 0.00269291]\n",
            " [0.13347797 0.86652203]\n",
            " [0.78221084 0.21778916]\n",
            " [0.97363076 0.02636924]\n",
            " [0.88029802 0.11970198]\n",
            " [0.3903708  0.6096292 ]\n",
            " [0.15026455 0.84973545]\n",
            " [0.13347797 0.86652203]\n",
            " [0.9682826  0.0317174 ]\n",
            " [0.20999926 0.79000074]\n",
            " [0.99769681 0.00230319]\n",
            " [0.85745159 0.14254841]\n",
            " [0.99627202 0.00372798]\n",
            " [0.13347797 0.86652203]\n",
            " [0.13347797 0.86652203]\n",
            " [0.78950503 0.21049497]\n",
            " [0.99633543 0.00366457]\n",
            " [0.13347797 0.86652203]\n",
            " [0.99569828 0.00430172]\n",
            " [0.98134632 0.01865368]\n",
            " [0.99604089 0.00395911]\n",
            " [0.9829088  0.0170912 ]\n",
            " [0.56745298 0.43254702]\n",
            " [0.59669857 0.40330143]\n",
            " [0.62386232 0.37613768]\n",
            " [0.99897384 0.00102616]\n",
            " [0.33879688 0.66120312]\n",
            " [0.98636708 0.01363292]\n",
            " [0.39625251 0.60374749]\n",
            " [0.33227708 0.66772292]\n",
            " [0.34053787 0.65946213]\n",
            " [0.41293101 0.58706899]\n",
            " [0.98219425 0.01780575]\n",
            " [0.81078313 0.18921687]\n",
            " [0.34114867 0.65885133]\n",
            " [0.5370427  0.4629573 ]\n",
            " [0.99817009 0.00182991]\n",
            " [0.80888388 0.19111612]\n",
            " [0.9966546  0.0033454 ]\n",
            " [0.49914074 0.50085926]\n",
            " [0.97216857 0.02783143]\n",
            " [0.85103539 0.14896461]\n",
            " [0.26867921 0.73132079]\n",
            " [0.47243518 0.52756482]\n",
            " [0.998379   0.001621  ]\n",
            " [0.13347797 0.86652203]\n",
            " [0.99585815 0.00414185]\n",
            " [0.13347797 0.86652203]\n",
            " [0.13347797 0.86652203]\n",
            " [0.13347797 0.86652203]\n",
            " [0.93787659 0.06212341]\n",
            " [0.99217721 0.00782279]\n",
            " [0.39824546 0.60175454]\n",
            " [0.13347797 0.86652203]\n",
            " [0.13347797 0.86652203]\n",
            " [0.68917835 0.31082165]\n",
            " [0.8825319  0.1174681 ]\n",
            " [0.91869806 0.08130194]\n",
            " [0.94342552 0.05657448]\n",
            " [0.31857411 0.68142589]\n",
            " [0.729243   0.270757  ]\n",
            " [0.9283472  0.0716528 ]\n",
            " [0.99345842 0.00654158]\n",
            " [0.99762574 0.00237426]\n",
            " [0.95954981 0.04045019]\n",
            " [0.19487124 0.80512876]\n",
            " [0.13347797 0.86652203]\n",
            " [0.94188387 0.05811613]\n",
            " [0.13347797 0.86652203]\n",
            " [0.91683122 0.08316878]\n",
            " [0.56498074 0.43501926]\n",
            " [0.99857508 0.00142492]\n",
            " [0.99751819 0.00248181]\n",
            " [0.99390508 0.00609492]\n",
            " [0.13347797 0.86652203]\n",
            " [0.55139815 0.44860185]\n",
            " [0.13347797 0.86652203]\n",
            " [0.99637142 0.00362858]\n",
            " [0.13347797 0.86652203]\n",
            " [0.13347797 0.86652203]\n",
            " [0.92209613 0.07790387]\n",
            " [0.94695035 0.05304965]\n",
            " [0.96794765 0.03205235]\n",
            " [0.13347797 0.86652203]\n",
            " [0.97010604 0.02989396]\n",
            " [0.13347797 0.86652203]]\n"
          ],
          "name": "stdout"
        }
      ]
    },
    {
      "cell_type": "code",
      "metadata": {
        "id": "gwPDUlHhtcjF",
        "colab": {
          "base_uri": "https://localhost:8080/"
        },
        "outputId": "f984b9b0-e6bb-4155-9d73-6d654aba21ad"
      },
      "source": [
        "# training error\r\n",
        "print(clf.score(X_train, y_train))\r\n",
        "# testing error\r\n",
        "print(clf.score(X_test, y_test))"
      ],
      "execution_count": null,
      "outputs": [
        {
          "output_type": "stream",
          "text": [
            "0.9441489361702128\n",
            "0.9361702127659575\n"
          ],
          "name": "stdout"
        }
      ]
    },
    {
      "cell_type": "markdown",
      "metadata": {
        "id": "Vzt5qN6otd8I"
      },
      "source": [
        "Mediante este modelo, se obtienen buenos resultados, algo por debajo de otros que hemos visto, aunque bastante mejores que los últimos."
      ]
    },
    {
      "cell_type": "markdown",
      "metadata": {
        "id": "FMT3NIsSuscG"
      },
      "source": [
        "### **Ajuste de hiperparámetros**"
      ]
    },
    {
      "cell_type": "markdown",
      "metadata": {
        "id": "KSK6jh1zuzpS"
      },
      "source": [
        "Vamos a realizar un ajuste de hiperparámetros siguiendo el modelo de regresión lineal."
      ]
    },
    {
      "cell_type": "markdown",
      "metadata": {
        "id": "excYHyb-4MS_"
      },
      "source": [
        "Para ello, vamos a probar las diversas técnicas de ajustes de hiperparámetros para nuestro modelo."
      ]
    },
    {
      "cell_type": "markdown",
      "metadata": {
        "id": "HRh8uxZP47jS"
      },
      "source": [
        "Vuelvo a cargar el dataset y lo separo en test y train."
      ]
    },
    {
      "cell_type": "markdown",
      "metadata": {
        "id": "KvwBJOr-67h3"
      },
      "source": [
        "#### **Grid Search**"
      ]
    },
    {
      "cell_type": "code",
      "metadata": {
        "id": "Msb_AmdN5MDj"
      },
      "source": [
        "from sklearn.model_selection import train_test_split\r\n",
        "df = pd.read_csv('https://raw.githubusercontent.com/fortiz98/TrabajoAAII/main/datosFelicidad.csv')\r\n",
        "y = df[\"Happiness Score\"]\r\n",
        "X = df.drop(['Happiness Score','Country',\t'Happiness Rank'], axis=1)\r\n",
        "X_train,  X_test, y_train, y_test = train_test_split(X, y, test_size=0.2, random_state=42)"
      ],
      "execution_count": null,
      "outputs": []
    },
    {
      "cell_type": "code",
      "metadata": {
        "id": "T-wf0HYw48Wc",
        "colab": {
          "base_uri": "https://localhost:8080/"
        },
        "outputId": "b4b11c67-e9cf-4481-de27-560161a487a5"
      },
      "source": [
        "%%time\r\n",
        "from sklearn.model_selection import GridSearchCV\r\n",
        "from sklearn.ensemble import RandomForestRegressor\r\n",
        "param_grid = [\r\n",
        "    {'kernel': ['linear'],\r\n",
        "    'C': [1.0,3.0]},\r\n",
        "    {'kernel': ['rbf'], \r\n",
        "     'C': [1.0, 3.0, 5.0], \r\n",
        "     'gamma': [0.01, 0.1, 1.0]}]\r\n",
        "svm_reg = SVR()\r\n",
        "grid_search_RF = GridSearchCV(svm_reg, param_grid, cv=3,\r\n",
        "                           scoring='neg_mean_squared_error',\r\n",
        "                           refit= True, verbose=2, n_jobs=-1)\r\n",
        "grid_search_RF.fit(X_train, y_train)"
      ],
      "execution_count": null,
      "outputs": [
        {
          "output_type": "stream",
          "text": [
            "Fitting 3 folds for each of 11 candidates, totalling 33 fits\n"
          ],
          "name": "stdout"
        },
        {
          "output_type": "stream",
          "text": [
            "[Parallel(n_jobs=-1)]: Using backend LokyBackend with 2 concurrent workers.\n"
          ],
          "name": "stderr"
        },
        {
          "output_type": "stream",
          "text": [
            "CPU times: user 152 ms, sys: 16.1 ms, total: 168 ms\n",
            "Wall time: 1.52 s\n"
          ],
          "name": "stdout"
        },
        {
          "output_type": "stream",
          "text": [
            "[Parallel(n_jobs=-1)]: Done  33 out of  33 | elapsed:    1.5s finished\n"
          ],
          "name": "stderr"
        }
      ]
    },
    {
      "cell_type": "code",
      "metadata": {
        "id": "q6z74YnK7KCQ",
        "colab": {
          "base_uri": "https://localhost:8080/"
        },
        "outputId": "2628e3b4-fad7-4098-e8f4-c10b0bec8437"
      },
      "source": [
        "grid_search_RF.best_params_"
      ],
      "execution_count": null,
      "outputs": [
        {
          "output_type": "execute_result",
          "data": {
            "text/plain": [
              "{'C': 5.0, 'gamma': 0.1, 'kernel': 'rbf'}"
            ]
          },
          "metadata": {
            "tags": []
          },
          "execution_count": 81
        }
      ]
    },
    {
      "cell_type": "code",
      "metadata": {
        "id": "iSsYcZLG7Q8N",
        "colab": {
          "base_uri": "https://localhost:8080/"
        },
        "outputId": "d7186455-61e1-4d50-f68b-ecd0aa40b78a"
      },
      "source": [
        "negative_mse = grid_search_RF.best_score_\r\n",
        "rmse = np.sqrt(-negative_mse)\r\n",
        "rmse"
      ],
      "execution_count": null,
      "outputs": [
        {
          "output_type": "execute_result",
          "data": {
            "text/plain": [
              "0.059589096172201324"
            ]
          },
          "metadata": {
            "tags": []
          },
          "execution_count": 82
        }
      ]
    },
    {
      "cell_type": "markdown",
      "metadata": {
        "id": "6w5RWw7N7k4B"
      },
      "source": [
        "Vemos que el error producido es muy bajito, a penas de 0.05 puntos, por lo que es un muy buen modelo."
      ]
    },
    {
      "cell_type": "markdown",
      "metadata": {
        "id": "Q04gHwUb7z7R"
      },
      "source": [
        "#### **Curva de validación**"
      ]
    },
    {
      "cell_type": "code",
      "metadata": {
        "id": "j-iKbSvc74fb"
      },
      "source": [
        "import matplotlib.pyplot as plt\r\n",
        "import numpy as np\r\n",
        "from sklearn.model_selection import validation_curve\r\n",
        "#Lista de parámetros\r\n",
        "param_range = list(range(10,200,10)) \r\n",
        "\r\n",
        "#Curva de validación\r\n",
        "train_scores, test_scores = validation_curve(    \r\n",
        "    forest_reg, X_train, y_train, param_name=\"n_estimators\", param_range=param_range,\r\n",
        "    scoring='neg_root_mean_squared_error', cv=3, n_jobs=1)\r\n",
        "\r\n",
        "#Pintamos la curva\r\n",
        "train_scores_mean = np.mean(train_scores, axis=1)\r\n",
        "train_scores_std = np.std(train_scores, axis=1)\r\n",
        "test_scores_mean = np.mean(test_scores, axis=1)\r\n",
        "test_scores_std = np.std(test_scores, axis=1)\r\n",
        "\r\n",
        "plt.title(\"Curva de validation para forest regressor\")\r\n",
        "plt.xlabel(r\"max_features\")\r\n",
        "plt.ylabel(\"Score\")\r\n",
        "lw = 2\r\n",
        "plt.plot(param_range, train_scores_mean, label=\"Training score\",\r\n",
        "             color=\"darkorange\", lw=lw)\r\n",
        "plt.fill_between(param_range, train_scores_mean - train_scores_std,\r\n",
        "                 train_scores_mean + train_scores_std, alpha=0.2,\r\n",
        "                 color=\"darkorange\", lw=lw)\r\n",
        "plt.plot(param_range, test_scores_mean, label=\"Cross-validation score\",\r\n",
        "             color=\"navy\", lw=lw)\r\n",
        "plt.fill_between(param_range, test_scores_mean - test_scores_std,\r\n",
        "                 test_scores_mean + test_scores_std, alpha=0.2,\r\n",
        "                 color=\"navy\", lw=lw)\r\n",
        "plt.legend(loc=\"best\")\r\n",
        "plt.show()"
      ],
      "execution_count": null,
      "outputs": []
    },
    {
      "cell_type": "markdown",
      "metadata": {
        "id": "4wzv9lCA9cYC"
      },
      "source": [
        "Vemos como a medida que aumentan las features, no se produce una mejoría sino que el error se mantiene constante, por tanto no depende de un aumento de features, la mejora del modelo."
      ]
    },
    {
      "cell_type": "markdown",
      "metadata": {
        "id": "fL6NPZPD9sWK"
      },
      "source": [
        "#### **Random Search**"
      ]
    },
    {
      "cell_type": "code",
      "metadata": {
        "id": "6LrJrE-E9yQa"
      },
      "source": [
        "%%time\r\n",
        "\r\n",
        "from sklearn.model_selection import RandomizedSearchCV\r\n",
        "from scipy.stats import expon, loguniform\r\n",
        "\r\n",
        "param_grid = {'kernel': ['linear','rbf'],\r\n",
        "    'C': loguniform(1,20),\r\n",
        "    'gamma': expon(scale=1.0)}\r\n",
        "    \r\n",
        "svm_reg = SVR()\r\n",
        "rnd_search_RF = RandomizedSearchCV(svm_reg, param_distributions=param_grid,\r\n",
        "                                n_iter=10, cv=3, scoring='neg_mean_squared_error', random_state=42, verbose=2, n_jobs=-1)\r\n",
        "\r\n",
        "rnd_search_RF.fit(X_train, y_train)\r\n",
        "\r\n",
        "negative_mse = rnd_search_RF.best_score_\r\n",
        "rmse = np.sqrt(-negative_mse)\r\n",
        "print(\"rmse del mejor modelo\", rmse)"
      ],
      "execution_count": null,
      "outputs": []
    },
    {
      "cell_type": "code",
      "metadata": {
        "id": "QhaETErx_BKn"
      },
      "source": [
        "rnd_search_RF.best_params_"
      ],
      "execution_count": null,
      "outputs": []
    },
    {
      "cell_type": "markdown",
      "metadata": {
        "id": "gbvu7TBy_U2p"
      },
      "source": [
        "Obtenemos el mismo error que habíamos obtenido con Grid Search."
      ]
    },
    {
      "cell_type": "markdown",
      "metadata": {
        "id": "aXtGSpz6_ZIj"
      },
      "source": [
        "#### **Optimización Bayesiana**"
      ]
    },
    {
      "cell_type": "code",
      "metadata": {
        "id": "JmwJo6Oc_e-5"
      },
      "source": [
        "! pip install scikit-optimize"
      ],
      "execution_count": null,
      "outputs": []
    },
    {
      "cell_type": "code",
      "metadata": {
        "id": "0KnK-V9B_ijR"
      },
      "source": [
        "from skopt import BayesSearchCV"
      ],
      "execution_count": null,
      "outputs": []
    },
    {
      "cell_type": "code",
      "metadata": {
        "id": "QBc6hYW__kUj"
      },
      "source": [
        "%%time\r\n",
        "from skopt.space import Real, Categorical, Integer\r\n",
        "from sklearn.svm import SVR\r\n",
        "param_distribs_exp = {\r\n",
        "        'kernel':  Categorical(['linear', 'rbf']),\r\n",
        "        'C': Real(1, 20, 'log-uniform'),\r\n",
        "        'gamma': Real(1e-6, 5, 'log-uniform'), \r\n",
        "    }\r\n",
        "\r\n",
        "\r\n",
        "svm_reg = SVR()\r\n",
        "\r\n",
        "bayes_search_RF = BayesSearchCV(\r\n",
        "    svm_reg,\r\n",
        "    param_distribs_exp,\r\n",
        "    n_iter=10,\r\n",
        "    cv=3, scoring='neg_mean_squared_error', random_state=42,\r\n",
        "    n_jobs=-1,\r\n",
        "    optimizer_kwargs={'base_estimator': 'ET'} # 'GP': Gaussean Process,'RF': Random Forest regressor,'ET': Extra Trees regressor, 'GBRT': gradient boosted trees\r\n",
        "  )\r\n",
        "bayes_search_RF.fit(X_train, y_train)\r\n",
        "\r\n",
        "print(bayes_search_RF.best_params_)\r\n",
        "mean_score = bayes_search_RF.cv_results_['mean_test_score'][bayes_search_RF.best_index_]\r\n",
        "print(\"score\", np.sqrt(-mean_score))"
      ],
      "execution_count": null,
      "outputs": []
    },
    {
      "cell_type": "markdown",
      "metadata": {
        "id": "dHkIvL5cA5R2"
      },
      "source": [
        "Podemos ver que los resultdos obtenidos son miliares en todos los modelos probados."
      ]
    },
    {
      "cell_type": "markdown",
      "metadata": {
        "id": "PhX1-UYKBwO7"
      },
      "source": [
        "#### **Hyperband**"
      ]
    },
    {
      "cell_type": "code",
      "metadata": {
        "id": "kEOxfoEuBz60",
        "colab": {
          "base_uri": "https://localhost:8080/"
        },
        "outputId": "cdb1720d-c3fe-41bc-b0c8-6e860a9d6128"
      },
      "source": [
        "!git clone https://github.com/thuijskens/scikit-hyperband.git\r\n",
        "%cd scikit-hyperband\r\n",
        "!python setup.py install"
      ],
      "execution_count": null,
      "outputs": [
        {
          "output_type": "stream",
          "text": [
            "Cloning into 'scikit-hyperband'...\n",
            "remote: Enumerating objects: 408, done.\u001b[K\n",
            "remote: Total 408 (delta 0), reused 0 (delta 0), pack-reused 408\u001b[K\n",
            "Receiving objects: 100% (408/408), 5.55 MiB | 9.69 MiB/s, done.\n",
            "Resolving deltas: 100% (169/169), done.\n",
            "/content/scikit-hyperband\n",
            "running install\n",
            "running bdist_egg\n",
            "running egg_info\n",
            "creating scikit_hyperband.egg-info\n",
            "writing scikit_hyperband.egg-info/PKG-INFO\n",
            "writing dependency_links to scikit_hyperband.egg-info/dependency_links.txt\n",
            "writing requirements to scikit_hyperband.egg-info/requires.txt\n",
            "writing top-level names to scikit_hyperband.egg-info/top_level.txt\n",
            "writing manifest file 'scikit_hyperband.egg-info/SOURCES.txt'\n",
            "reading manifest template 'MANIFEST.in'\n",
            "writing manifest file 'scikit_hyperband.egg-info/SOURCES.txt'\n",
            "installing library code to build/bdist.linux-x86_64/egg\n",
            "running install_lib\n",
            "running build_py\n",
            "creating build\n",
            "creating build/lib\n",
            "creating build/lib/hyperband\n",
            "copying hyperband/__init__.py -> build/lib/hyperband\n",
            "copying hyperband/search.py -> build/lib/hyperband\n",
            "creating build/lib/hyperband/tests\n",
            "copying hyperband/tests/test_hyperband.py -> build/lib/hyperband/tests\n",
            "copying hyperband/tests/__init__.py -> build/lib/hyperband/tests\n",
            "copying hyperband/tests/test_validation.py -> build/lib/hyperband/tests\n",
            "creating build/bdist.linux-x86_64\n",
            "creating build/bdist.linux-x86_64/egg\n",
            "creating build/bdist.linux-x86_64/egg/hyperband\n",
            "copying build/lib/hyperband/__init__.py -> build/bdist.linux-x86_64/egg/hyperband\n",
            "creating build/bdist.linux-x86_64/egg/hyperband/tests\n",
            "copying build/lib/hyperband/tests/test_hyperband.py -> build/bdist.linux-x86_64/egg/hyperband/tests\n",
            "copying build/lib/hyperband/tests/__init__.py -> build/bdist.linux-x86_64/egg/hyperband/tests\n",
            "copying build/lib/hyperband/tests/test_validation.py -> build/bdist.linux-x86_64/egg/hyperband/tests\n",
            "copying build/lib/hyperband/search.py -> build/bdist.linux-x86_64/egg/hyperband\n",
            "byte-compiling build/bdist.linux-x86_64/egg/hyperband/__init__.py to __init__.cpython-36.pyc\n",
            "byte-compiling build/bdist.linux-x86_64/egg/hyperband/tests/test_hyperband.py to test_hyperband.cpython-36.pyc\n",
            "byte-compiling build/bdist.linux-x86_64/egg/hyperband/tests/__init__.py to __init__.cpython-36.pyc\n",
            "byte-compiling build/bdist.linux-x86_64/egg/hyperband/tests/test_validation.py to test_validation.cpython-36.pyc\n",
            "byte-compiling build/bdist.linux-x86_64/egg/hyperband/search.py to search.cpython-36.pyc\n",
            "creating build/bdist.linux-x86_64/egg/EGG-INFO\n",
            "copying scikit_hyperband.egg-info/PKG-INFO -> build/bdist.linux-x86_64/egg/EGG-INFO\n",
            "copying scikit_hyperband.egg-info/SOURCES.txt -> build/bdist.linux-x86_64/egg/EGG-INFO\n",
            "copying scikit_hyperband.egg-info/dependency_links.txt -> build/bdist.linux-x86_64/egg/EGG-INFO\n",
            "copying scikit_hyperband.egg-info/requires.txt -> build/bdist.linux-x86_64/egg/EGG-INFO\n",
            "copying scikit_hyperband.egg-info/top_level.txt -> build/bdist.linux-x86_64/egg/EGG-INFO\n",
            "zip_safe flag not set; analyzing archive contents...\n",
            "creating dist\n",
            "creating 'dist/scikit_hyperband-0.0.1-py3.6.egg' and adding 'build/bdist.linux-x86_64/egg' to it\n",
            "removing 'build/bdist.linux-x86_64/egg' (and everything under it)\n",
            "Processing scikit_hyperband-0.0.1-py3.6.egg\n",
            "Copying scikit_hyperband-0.0.1-py3.6.egg to /usr/local/lib/python3.6/dist-packages\n",
            "Adding scikit-hyperband 0.0.1 to easy-install.pth file\n",
            "\n",
            "Installed /usr/local/lib/python3.6/dist-packages/scikit_hyperband-0.0.1-py3.6.egg\n",
            "Processing dependencies for scikit-hyperband==0.0.1\n",
            "Searching for nose>=1.1.2\n",
            "Reading https://pypi.org/simple/nose/\n",
            "Downloading https://files.pythonhosted.org/packages/15/d8/dd071918c040f50fa1cf80da16423af51ff8ce4a0f2399b7bf8de45ac3d9/nose-1.3.7-py3-none-any.whl#sha256=9ff7c6cc443f8c51994b34a667bbcf45afd6d945be7477b52e97516fd17c53ac\n",
            "Best match: nose 1.3.7\n",
            "Processing nose-1.3.7-py3-none-any.whl\n",
            "Installing nose-1.3.7-py3-none-any.whl to /usr/local/lib/python3.6/dist-packages\n",
            "Adding nose 1.3.7 to easy-install.pth file\n",
            "Installing nosetests script to /usr/local/bin\n",
            "Installing nosetests-3.4 script to /usr/local/bin\n",
            "\n",
            "Installed /usr/local/lib/python3.6/dist-packages/nose-1.3.7-py3.6.egg\n",
            "Searching for numpy==1.19.5\n",
            "Best match: numpy 1.19.5\n",
            "Adding numpy 1.19.5 to easy-install.pth file\n",
            "Installing f2py script to /usr/local/bin\n",
            "Installing f2py3 script to /usr/local/bin\n",
            "Installing f2py3.6 script to /usr/local/bin\n",
            "\n",
            "Using /usr/local/lib/python3.6/dist-packages\n",
            "Searching for scikit-learn==0.22.2.post1\n",
            "Best match: scikit-learn 0.22.2.post1\n",
            "Adding scikit-learn 0.22.2.post1 to easy-install.pth file\n",
            "\n",
            "Using /usr/local/lib/python3.6/dist-packages\n",
            "Searching for joblib==1.0.0\n",
            "Best match: joblib 1.0.0\n",
            "Adding joblib 1.0.0 to easy-install.pth file\n",
            "\n",
            "Using /usr/local/lib/python3.6/dist-packages\n",
            "Searching for scipy==1.4.1\n",
            "Best match: scipy 1.4.1\n",
            "Adding scipy 1.4.1 to easy-install.pth file\n",
            "\n",
            "Using /usr/local/lib/python3.6/dist-packages\n",
            "Finished processing dependencies for scikit-hyperband==0.0.1\n"
          ],
          "name": "stdout"
        }
      ]
    },
    {
      "cell_type": "code",
      "metadata": {
        "id": "X-ophk1MB28u"
      },
      "source": [
        "from hyperband import HyperbandSearchCV\r\n",
        "import warnings\r\n",
        "warnings.filterwarnings('ignore')"
      ],
      "execution_count": null,
      "outputs": []
    },
    {
      "cell_type": "code",
      "metadata": {
        "id": "ZV93t8fvB_kD"
      },
      "source": [
        "from scipy.stats import expon, loguniform\r\n",
        "param_grid = {\r\n",
        "    'kernel': ['linear','rbf'],\r\n",
        "    'C': loguniform(1,20),\r\n",
        "    'gamma': expon(scale=1.0)}\r\n",
        "\r\n",
        "svm_reg = SVR()\r\n",
        "Hyb_search_RF = HyperbandSearchCV(svm_reg,\r\n",
        "                           param_grid,\r\n",
        "                           resource_param='max_iter', #Recursos que se asignarán en cada estimacion. En Random Forest tipicamente el número de árboles\r\n",
        "                           verbose =1,\r\n",
        "                           max_iter=10000, #Numero de árboles máximo en una iteración\r\n",
        "                           min_iter=300, #Numero de árboles mínimo en una iteración\r\n",
        "                           eta=4, #Reducción de recursos en cada iteración\r\n",
        "                           cv=3,\r\n",
        "                           scoring='neg_mean_squared_error',\r\n",
        "                           random_state = 42)\r\n",
        "\r\n",
        "Hyb_search_RF.fit(X_train, y_train)"
      ],
      "execution_count": null,
      "outputs": []
    },
    {
      "cell_type": "code",
      "metadata": {
        "id": "8J92lQgTCEFG",
        "colab": {
          "base_uri": "https://localhost:8080/"
        },
        "outputId": "2c8c80d0-1255-4e24-fabe-e587ddf81135"
      },
      "source": [
        "Hyb_search_RF.best_params_"
      ],
      "execution_count": null,
      "outputs": [
        {
          "output_type": "execute_result",
          "data": {
            "text/plain": [
              "{'C': 1.0213944061855214,\n",
              " 'gamma': 0.023332523598323388,\n",
              " 'kernel': 'linear',\n",
              " 'max_iter': 625}"
            ]
          },
          "metadata": {
            "tags": []
          },
          "execution_count": 65
        }
      ]
    },
    {
      "cell_type": "code",
      "metadata": {
        "id": "t2SQAHN7CIKH",
        "colab": {
          "base_uri": "https://localhost:8080/"
        },
        "outputId": "904a07e1-c96c-441b-9ce7-befe55005938"
      },
      "source": [
        "negative_mse = Hyb_search_RF.best_score_\r\n",
        "rmse = np.sqrt(-negative_mse)\r\n",
        "rmse"
      ],
      "execution_count": null,
      "outputs": [
        {
          "output_type": "execute_result",
          "data": {
            "text/plain": [
              "0.059857025171337376"
            ]
          },
          "metadata": {
            "tags": []
          },
          "execution_count": 66
        }
      ]
    },
    {
      "cell_type": "markdown",
      "metadata": {
        "id": "JQE5HvxLCK2B"
      },
      "source": [
        "Nuevamente, obtenemos un error de 0.05 puntos, algo que es basntente asumible para nuestros datos."
      ]
    },
    {
      "cell_type": "markdown",
      "metadata": {
        "id": "_PtG-cTrCLIh"
      },
      "source": [
        "#### **Métodos basados en la naturaleza**"
      ]
    },
    {
      "cell_type": "code",
      "metadata": {
        "id": "RfyNEIQ7CjVX"
      },
      "source": [
        "! pip install sklearn_nature_inspired_algorithms==0.4.3"
      ],
      "execution_count": null,
      "outputs": []
    },
    {
      "cell_type": "code",
      "metadata": {
        "id": "XQSzbqGgCmOP"
      },
      "source": [
        "from sklearn_nature_inspired_algorithms.model_selection.nature_inspired_search_cv import NatureInspiredSearchCV\r\n",
        "from sklearn_nature_inspired_algorithms.helpers import score_by_generation_lineplot"
      ],
      "execution_count": null,
      "outputs": []
    },
    {
      "cell_type": "code",
      "metadata": {
        "id": "kNn4CgHWCofY",
        "colab": {
          "base_uri": "https://localhost:8080/"
        },
        "outputId": "a2ffb99f-874a-43dc-a54f-2c5c69fd1efd"
      },
      "source": [
        "from sklearn.svm import SVR\r\n",
        "from scipy.stats import expon, loguniform\r\n",
        "\r\n",
        "param_grid_SVR =  {'kernel': ['rbf'], 'C': [1.0, 3.0, 5.0], 'gamma': [0.01, 0.1, 1.0]}\r\n",
        "    \r\n",
        "svm_reg = SVR()\r\n",
        "\r\n",
        "nia_search_RF = NatureInspiredSearchCV(\r\n",
        "    svm_reg,\r\n",
        "    param_grid_SVR,\r\n",
        "    cv=3,\r\n",
        "    verbose=2,\r\n",
        "    algorithm='ba', #Bat Algorithm\r\n",
        "    population_size=5, #Número de estimadores en la población. Cuando la población es pequeña la búsqueda será más rápida pero puede que no se llegue a obtener el mejor resultado (que se alcanzará cuando el tamaño de la población es similar a la posible combianción de parámetros).\r\n",
        "    max_n_gen=100, #Número máximo de generaciones a ser optimizadas. \r\n",
        "    max_stagnating_gen=5, #Si el resultado permanece invariable durante este número de generaciones la optimización se detiene.\r\n",
        "    n_jobs=-1,\r\n",
        "    scoring=\"neg_mean_squared_error\",\r\n",
        "    random_state=42)\r\n",
        "\r\n",
        "nia_search_RF.fit(X_train, y_train)\r\n",
        "print(nia_search_RF)"
      ],
      "execution_count": null,
      "outputs": [
        {
          "output_type": "stream",
          "text": [
            "Fitting 3 folds for some of the 9 candidates, which might total in 27 fits\n",
            "Fitting 3 folds for each of 1 candidates, totalling 3 fits\n"
          ],
          "name": "stdout"
        },
        {
          "output_type": "stream",
          "text": [
            "[Parallel(n_jobs=-1)]: Using backend LokyBackend with 2 concurrent workers.\n",
            "[Parallel(n_jobs=-1)]: Done   3 out of   3 | elapsed:    1.5s finished\n",
            "[Parallel(n_jobs=-1)]: Using backend LokyBackend with 2 concurrent workers.\n",
            "[Parallel(n_jobs=-1)]: Done   3 out of   3 | elapsed:    0.1s finished\n",
            "[Parallel(n_jobs=-1)]: Using backend LokyBackend with 2 concurrent workers.\n",
            "[Parallel(n_jobs=-1)]: Done   3 out of   3 | elapsed:    0.0s finished\n",
            "[Parallel(n_jobs=-1)]: Using backend LokyBackend with 2 concurrent workers.\n",
            "[Parallel(n_jobs=-1)]: Done   3 out of   3 | elapsed:    0.0s finished\n",
            "[Parallel(n_jobs=-1)]: Using backend LokyBackend with 2 concurrent workers.\n",
            "[Parallel(n_jobs=-1)]: Done   3 out of   3 | elapsed:    0.0s finished\n",
            "[Parallel(n_jobs=-1)]: Using backend LokyBackend with 2 concurrent workers.\n",
            "[Parallel(n_jobs=-1)]: Done   3 out of   3 | elapsed:    0.0s finished\n",
            "[Parallel(n_jobs=-1)]: Using backend LokyBackend with 2 concurrent workers.\n"
          ],
          "name": "stderr"
        },
        {
          "output_type": "stream",
          "text": [
            "Fitting 3 folds for each of 1 candidates, totalling 3 fits\n",
            "Fitting 3 folds for each of 1 candidates, totalling 3 fits\n",
            "Fitting 3 folds for each of 1 candidates, totalling 3 fits\n",
            "Fitting 3 folds for each of 1 candidates, totalling 3 fits\n",
            "Fitting 3 folds for each of 1 candidates, totalling 3 fits\n",
            "Fitting 3 folds for each of 1 candidates, totalling 3 fits\n",
            "Fitting 3 folds for each of 1 candidates, totalling 3 fits\n",
            "Fitting 3 folds for each of 1 candidates, totalling 3 fits\n",
            "NatureInspiredSearchCV(algorithm=None, cv=3, error_score=nan,\n",
            "                       estimator=SVR(C=1.0, cache_size=200, coef0=0.0, degree=3,\n",
            "                                     epsilon=0.1, gamma='scale', kernel='rbf',\n",
            "                                     max_iter=-1, shrinking=True, tol=0.001,\n",
            "                                     verbose=False),\n",
            "                       iid='deprecated', max_n_gen=None,\n",
            "                       max_stagnating_gen=None, n_jobs=-1, param_grid=None,\n",
            "                       population_size=None, pre_dispatch='2*n_jobs',\n",
            "                       random_state=None, refit=True, return_train_score=True,\n",
            "                       runs=None, scoring='neg_mean_squared_error', verbose=2)\n"
          ],
          "name": "stdout"
        },
        {
          "output_type": "stream",
          "text": [
            "[Parallel(n_jobs=-1)]: Done   3 out of   3 | elapsed:    0.0s finished\n",
            "[Parallel(n_jobs=-1)]: Using backend LokyBackend with 2 concurrent workers.\n",
            "[Parallel(n_jobs=-1)]: Done   3 out of   3 | elapsed:    0.0s finished\n",
            "[Parallel(n_jobs=-1)]: Using backend LokyBackend with 2 concurrent workers.\n",
            "[Parallel(n_jobs=-1)]: Done   3 out of   3 | elapsed:    0.0s finished\n"
          ],
          "name": "stderr"
        }
      ]
    },
    {
      "cell_type": "code",
      "metadata": {
        "id": "JUyrLel3Cvat",
        "colab": {
          "base_uri": "https://localhost:8080/"
        },
        "outputId": "2bcb24f1-f325-40fa-a8b9-d3ae23d357c0"
      },
      "source": [
        "nia_search_RF.best_params_"
      ],
      "execution_count": null,
      "outputs": [
        {
          "output_type": "execute_result",
          "data": {
            "text/plain": [
              "{'C': 5.0, 'gamma': 0.1, 'kernel': 'rbf'}"
            ]
          },
          "metadata": {
            "tags": []
          },
          "execution_count": 70
        }
      ]
    },
    {
      "cell_type": "code",
      "metadata": {
        "id": "Ymrzc3zsCyBl",
        "colab": {
          "base_uri": "https://localhost:8080/"
        },
        "outputId": "4a26ffee-1af7-465a-d4cb-8d0aafa30d0a"
      },
      "source": [
        "negative_mse = nia_search_RF.best_score_\r\n",
        "rmse = np.sqrt(-negative_mse)\r\n",
        "rmse"
      ],
      "execution_count": null,
      "outputs": [
        {
          "output_type": "execute_result",
          "data": {
            "text/plain": [
              "0.059589096172201324"
            ]
          },
          "metadata": {
            "tags": []
          },
          "execution_count": 71
        }
      ]
    },
    {
      "cell_type": "code",
      "metadata": {
        "id": "g7ME6fGFC0Ze",
        "colab": {
          "base_uri": "https://localhost:8080/"
        },
        "outputId": "3cb4a701-d86c-4682-a94c-a709b2ce7e55"
      },
      "source": [
        "param_grid_SVR =  {'kernel': ['rbf'], 'C': [1.0, 3.0, 5.0], 'gamma': [0.01, 0.1, 1.0]}\r\n",
        "    \r\n",
        "svm_reg = SVR()\r\n",
        "\r\n",
        "nia_search_RF = NatureInspiredSearchCV(\r\n",
        "    svm_reg,\r\n",
        "    param_grid_SVR,\r\n",
        "    cv=3,\r\n",
        "    verbose=0,\r\n",
        "    algorithm='gwo',  #Grey Wolf Optimizer #'fa' #Firefly Algorithm\r\n",
        "    population_size=10,\r\n",
        "    max_n_gen=20,\r\n",
        "    max_stagnating_gen=5,\r\n",
        "    n_jobs=-1,\r\n",
        "    scoring=\"neg_mean_squared_error\",\r\n",
        "    random_state=42)\r\n",
        "\r\n",
        "nia_search_RF.fit(X_train, y_train)\r\n",
        "print(nia_search_RF)"
      ],
      "execution_count": null,
      "outputs": [
        {
          "output_type": "stream",
          "text": [
            "Fitting 3 folds for some of the 9 candidates, which might total in 27 fits\n",
            "NatureInspiredSearchCV(algorithm=None, cv=3, error_score=nan,\n",
            "                       estimator=SVR(C=1.0, cache_size=200, coef0=0.0, degree=3,\n",
            "                                     epsilon=0.1, gamma='scale', kernel='rbf',\n",
            "                                     max_iter=-1, shrinking=True, tol=0.001,\n",
            "                                     verbose=False),\n",
            "                       iid='deprecated', max_n_gen=None,\n",
            "                       max_stagnating_gen=None, n_jobs=-1, param_grid=None,\n",
            "                       population_size=None, pre_dispatch='2*n_jobs',\n",
            "                       random_state=None, refit=True, return_train_score=True,\n",
            "                       runs=None, scoring='neg_mean_squared_error', verbose=0)\n"
          ],
          "name": "stdout"
        }
      ]
    },
    {
      "cell_type": "code",
      "metadata": {
        "id": "bc6G_UYkC2hQ",
        "colab": {
          "base_uri": "https://localhost:8080/"
        },
        "outputId": "954d63a4-2f13-46eb-ac26-fb8de28d4f9d"
      },
      "source": [
        "nia_search_RF.best_params_"
      ],
      "execution_count": null,
      "outputs": [
        {
          "output_type": "execute_result",
          "data": {
            "text/plain": [
              "{'C': 5.0, 'gamma': 0.1, 'kernel': 'rbf'}"
            ]
          },
          "metadata": {
            "tags": []
          },
          "execution_count": 73
        }
      ]
    },
    {
      "cell_type": "code",
      "metadata": {
        "id": "3wFCvyNJC5CA",
        "colab": {
          "base_uri": "https://localhost:8080/"
        },
        "outputId": "c307c599-777c-49bf-cdaa-3d9d13c74ce4"
      },
      "source": [
        "negative_mse = nia_search_RF.best_score_\r\n",
        "rmse = np.sqrt(-negative_mse)\r\n",
        "rmse"
      ],
      "execution_count": null,
      "outputs": [
        {
          "output_type": "execute_result",
          "data": {
            "text/plain": [
              "0.059589096172201324"
            ]
          },
          "metadata": {
            "tags": []
          },
          "execution_count": 74
        }
      ]
    },
    {
      "cell_type": "markdown",
      "metadata": {
        "id": "kge_GBk4C7gS"
      },
      "source": [
        "El resultado tanto para bat como para grey wolves es el mismo, y similar al resto de modelos."
      ]
    },
    {
      "cell_type": "markdown",
      "metadata": {
        "id": "90QwwNcoDVPq"
      },
      "source": [
        "#### **Algoritmos genéticos**"
      ]
    },
    {
      "cell_type": "code",
      "metadata": {
        "id": "UvUwSFIcDZbS",
        "colab": {
          "base_uri": "https://localhost:8080/"
        },
        "outputId": "0cdcd96d-5785-4dab-9bf0-79ccf7c05363"
      },
      "source": [
        "!pip install sklearn-deap"
      ],
      "execution_count": null,
      "outputs": [
        {
          "output_type": "stream",
          "text": [
            "Collecting sklearn-deap\n",
            "  Downloading https://files.pythonhosted.org/packages/52/c6/f56c220aad9d582f2e7fee598e5be4b737d2448506041c89bcc364455142/sklearn_deap-0.2.4-py3-none-any.whl\n",
            "Requirement already satisfied: scikit-learn>=0.18.0 in /usr/local/lib/python3.6/dist-packages (from sklearn-deap) (0.22.2.post1)\n",
            "Requirement already satisfied: numpy>=1.9.3 in /usr/local/lib/python3.6/dist-packages (from sklearn-deap) (1.19.5)\n",
            "Requirement already satisfied: scipy>=0.16.0 in /usr/local/lib/python3.6/dist-packages (from sklearn-deap) (1.4.1)\n",
            "Collecting deap>=1.0.2\n",
            "\u001b[?25l  Downloading https://files.pythonhosted.org/packages/0a/eb/2bd0a32e3ce757fb26264765abbaedd6d4d3640d90219a513aeabd08ee2b/deap-1.3.1-cp36-cp36m-manylinux2010_x86_64.whl (157kB)\n",
            "\r\u001b[K     |██                              | 10kB 15.1MB/s eta 0:00:01\r\u001b[K     |████▏                           | 20kB 8.6MB/s eta 0:00:01\r\u001b[K     |██████▎                         | 30kB 7.8MB/s eta 0:00:01\r\u001b[K     |████████▍                       | 40kB 7.0MB/s eta 0:00:01\r\u001b[K     |██████████▍                     | 51kB 7.1MB/s eta 0:00:01\r\u001b[K     |████████████▌                   | 61kB 7.5MB/s eta 0:00:01\r\u001b[K     |██████████████▋                 | 71kB 7.4MB/s eta 0:00:01\r\u001b[K     |████████████████▊               | 81kB 7.2MB/s eta 0:00:01\r\u001b[K     |██████████████████▊             | 92kB 7.2MB/s eta 0:00:01\r\u001b[K     |████████████████████▉           | 102kB 7.5MB/s eta 0:00:01\r\u001b[K     |███████████████████████         | 112kB 7.5MB/s eta 0:00:01\r\u001b[K     |█████████████████████████       | 122kB 7.5MB/s eta 0:00:01\r\u001b[K     |███████████████████████████▏    | 133kB 7.5MB/s eta 0:00:01\r\u001b[K     |█████████████████████████████▏  | 143kB 7.5MB/s eta 0:00:01\r\u001b[K     |███████████████████████████████▎| 153kB 7.5MB/s eta 0:00:01\r\u001b[K     |████████████████████████████████| 163kB 7.5MB/s \n",
            "\u001b[?25hRequirement already satisfied: joblib>=0.11 in /usr/local/lib/python3.6/dist-packages (from scikit-learn>=0.18.0->sklearn-deap) (1.0.0)\n",
            "Installing collected packages: deap, sklearn-deap\n",
            "Successfully installed deap-1.3.1 sklearn-deap-0.2.4\n"
          ],
          "name": "stdout"
        }
      ]
    },
    {
      "cell_type": "code",
      "metadata": {
        "id": "Um1G3nb1Dqtz",
        "colab": {
          "base_uri": "https://localhost:8080/",
          "height": 493
        },
        "outputId": "4cbbbb6c-e6b0-4789-e025-678cb9e4a6d2"
      },
      "source": [
        "%%time\r\n",
        "\r\n",
        "from evolutionary_search import EvolutionaryAlgorithmSearchCV\r\n",
        "rf_params = {\r\n",
        "    'C': np.random.uniform(0,50,1000),\r\n",
        "    \"kernel\":['poly','rbf','sigmoid'],\r\n",
        "    'gamma': np.random.uniform(0,1,100),\r\n",
        "}\r\n",
        "clf = SVR()\r\n",
        "\r\n",
        "ga_RF = EvolutionaryAlgorithmSearchCV(estimator=clf,\r\n",
        "                                   params=rf_params,\r\n",
        "                                   scoring=\"neg_root_mean_squared_error\", #Podemos poner RMSE\r\n",
        "                                   cv=3,\r\n",
        "                                   verbose=1,\r\n",
        "                                   population_size=20, #Tamaño de la población\r\n",
        "                                   gene_mutation_prob=0.10, # Probabilidad de mutación de un gen en un cromosoma\r\n",
        "                                   gene_crossover_prob=0.5, #La probabilidad de intercambio de genes entre dos cromosomas\r\n",
        "                                   tournament_size=3, # Size of tournament for selection stage of genetich algorithm\r\n",
        "                                   generations_number=5,  #Número de generaciones\r\n",
        "                                   n_jobs=1)\r\n",
        "ga_RF.fit(X_train, y_train)"
      ],
      "execution_count": null,
      "outputs": [
        {
          "output_type": "stream",
          "text": [
            "Types [2, 1, 2] and maxint [999, 2, 99] detected\n",
            "--- Evolve in 300000 possible combinations ---\n"
          ],
          "name": "stdout"
        },
        {
          "output_type": "error",
          "ename": "KeyboardInterrupt",
          "evalue": "ignored",
          "traceback": [
            "\u001b[0;31m---------------------------------------------------------------------------\u001b[0m",
            "\u001b[0;31mKeyboardInterrupt\u001b[0m                         Traceback (most recent call last)",
            "\u001b[0;32m<ipython-input-76-a04b15dfb942>\u001b[0m in \u001b[0;36m<module>\u001b[0;34m()\u001b[0m\n\u001b[0;32m----> 1\u001b[0;31m \u001b[0mget_ipython\u001b[0m\u001b[0;34m(\u001b[0m\u001b[0;34m)\u001b[0m\u001b[0;34m.\u001b[0m\u001b[0mrun_cell_magic\u001b[0m\u001b[0;34m(\u001b[0m\u001b[0;34m'time'\u001b[0m\u001b[0;34m,\u001b[0m \u001b[0;34m''\u001b[0m\u001b[0;34m,\u001b[0m \u001b[0;34m'\\nfrom evolutionary_search import EvolutionaryAlgorithmSearchCV\\nrf_params = {\\n    \\'C\\': np.random.uniform(0,50,1000),\\n    \"kernel\":[\\'poly\\',\\'rbf\\',\\'sigmoid\\'],\\n    \\'gamma\\': np.random.uniform(0,1,100),\\n}\\nclf = SVR()\\n\\nga_RF = EvolutionaryAlgorithmSearchCV(estimator=clf,\\n                                   params=rf_params,\\n                                   scoring=\"neg_root_mean_squared_error\", #Podemos poner RMSE\\n                                   cv=3,\\n                                   verbose=1,\\n                                   population_size=20, #Tamaño de la población\\n                                   gene_mutation_prob=0.10, # Probabilidad de mutación de un gen en un cromosoma\\n                                   gene_crossover_prob=0.5, #La probabilidad de intercambio de genes entre dos cromosomas\\n                                   tournament_size=3, # Size of tournament for selection stage of genetich algorithm\\n                                   generations_number=5,  #Número de generaciones\\n                                   n_jobs=1)\\nga_RF.fit(X_train, y_train)'\u001b[0m\u001b[0;34m)\u001b[0m\u001b[0;34m\u001b[0m\u001b[0;34m\u001b[0m\u001b[0m\n\u001b[0m",
            "\u001b[0;32m/usr/local/lib/python3.6/dist-packages/IPython/core/interactiveshell.py\u001b[0m in \u001b[0;36mrun_cell_magic\u001b[0;34m(self, magic_name, line, cell)\u001b[0m\n\u001b[1;32m   2115\u001b[0m             \u001b[0mmagic_arg_s\u001b[0m \u001b[0;34m=\u001b[0m \u001b[0mself\u001b[0m\u001b[0;34m.\u001b[0m\u001b[0mvar_expand\u001b[0m\u001b[0;34m(\u001b[0m\u001b[0mline\u001b[0m\u001b[0;34m,\u001b[0m \u001b[0mstack_depth\u001b[0m\u001b[0;34m)\u001b[0m\u001b[0;34m\u001b[0m\u001b[0;34m\u001b[0m\u001b[0m\n\u001b[1;32m   2116\u001b[0m             \u001b[0;32mwith\u001b[0m \u001b[0mself\u001b[0m\u001b[0;34m.\u001b[0m\u001b[0mbuiltin_trap\u001b[0m\u001b[0;34m:\u001b[0m\u001b[0;34m\u001b[0m\u001b[0;34m\u001b[0m\u001b[0m\n\u001b[0;32m-> 2117\u001b[0;31m                 \u001b[0mresult\u001b[0m \u001b[0;34m=\u001b[0m \u001b[0mfn\u001b[0m\u001b[0;34m(\u001b[0m\u001b[0mmagic_arg_s\u001b[0m\u001b[0;34m,\u001b[0m \u001b[0mcell\u001b[0m\u001b[0;34m)\u001b[0m\u001b[0;34m\u001b[0m\u001b[0;34m\u001b[0m\u001b[0m\n\u001b[0m\u001b[1;32m   2118\u001b[0m             \u001b[0;32mreturn\u001b[0m \u001b[0mresult\u001b[0m\u001b[0;34m\u001b[0m\u001b[0;34m\u001b[0m\u001b[0m\n\u001b[1;32m   2119\u001b[0m \u001b[0;34m\u001b[0m\u001b[0m\n",
            "\u001b[0;32m<decorator-gen-60>\u001b[0m in \u001b[0;36mtime\u001b[0;34m(self, line, cell, local_ns)\u001b[0m\n",
            "\u001b[0;32m/usr/local/lib/python3.6/dist-packages/IPython/core/magic.py\u001b[0m in \u001b[0;36m<lambda>\u001b[0;34m(f, *a, **k)\u001b[0m\n\u001b[1;32m    186\u001b[0m     \u001b[0;31m# but it's overkill for just that one bit of state.\u001b[0m\u001b[0;34m\u001b[0m\u001b[0;34m\u001b[0m\u001b[0;34m\u001b[0m\u001b[0m\n\u001b[1;32m    187\u001b[0m     \u001b[0;32mdef\u001b[0m \u001b[0mmagic_deco\u001b[0m\u001b[0;34m(\u001b[0m\u001b[0marg\u001b[0m\u001b[0;34m)\u001b[0m\u001b[0;34m:\u001b[0m\u001b[0;34m\u001b[0m\u001b[0;34m\u001b[0m\u001b[0m\n\u001b[0;32m--> 188\u001b[0;31m         \u001b[0mcall\u001b[0m \u001b[0;34m=\u001b[0m \u001b[0;32mlambda\u001b[0m \u001b[0mf\u001b[0m\u001b[0;34m,\u001b[0m \u001b[0;34m*\u001b[0m\u001b[0ma\u001b[0m\u001b[0;34m,\u001b[0m \u001b[0;34m**\u001b[0m\u001b[0mk\u001b[0m\u001b[0;34m:\u001b[0m \u001b[0mf\u001b[0m\u001b[0;34m(\u001b[0m\u001b[0;34m*\u001b[0m\u001b[0ma\u001b[0m\u001b[0;34m,\u001b[0m \u001b[0;34m**\u001b[0m\u001b[0mk\u001b[0m\u001b[0;34m)\u001b[0m\u001b[0;34m\u001b[0m\u001b[0;34m\u001b[0m\u001b[0m\n\u001b[0m\u001b[1;32m    189\u001b[0m \u001b[0;34m\u001b[0m\u001b[0m\n\u001b[1;32m    190\u001b[0m         \u001b[0;32mif\u001b[0m \u001b[0mcallable\u001b[0m\u001b[0;34m(\u001b[0m\u001b[0marg\u001b[0m\u001b[0;34m)\u001b[0m\u001b[0;34m:\u001b[0m\u001b[0;34m\u001b[0m\u001b[0;34m\u001b[0m\u001b[0m\n",
            "\u001b[0;32m/usr/local/lib/python3.6/dist-packages/IPython/core/magics/execution.py\u001b[0m in \u001b[0;36mtime\u001b[0;34m(self, line, cell, local_ns)\u001b[0m\n\u001b[1;32m   1191\u001b[0m         \u001b[0;32melse\u001b[0m\u001b[0;34m:\u001b[0m\u001b[0;34m\u001b[0m\u001b[0;34m\u001b[0m\u001b[0m\n\u001b[1;32m   1192\u001b[0m             \u001b[0mst\u001b[0m \u001b[0;34m=\u001b[0m \u001b[0mclock2\u001b[0m\u001b[0;34m(\u001b[0m\u001b[0;34m)\u001b[0m\u001b[0;34m\u001b[0m\u001b[0;34m\u001b[0m\u001b[0m\n\u001b[0;32m-> 1193\u001b[0;31m             \u001b[0mexec\u001b[0m\u001b[0;34m(\u001b[0m\u001b[0mcode\u001b[0m\u001b[0;34m,\u001b[0m \u001b[0mglob\u001b[0m\u001b[0;34m,\u001b[0m \u001b[0mlocal_ns\u001b[0m\u001b[0;34m)\u001b[0m\u001b[0;34m\u001b[0m\u001b[0;34m\u001b[0m\u001b[0m\n\u001b[0m\u001b[1;32m   1194\u001b[0m             \u001b[0mend\u001b[0m \u001b[0;34m=\u001b[0m \u001b[0mclock2\u001b[0m\u001b[0;34m(\u001b[0m\u001b[0;34m)\u001b[0m\u001b[0;34m\u001b[0m\u001b[0;34m\u001b[0m\u001b[0m\n\u001b[1;32m   1195\u001b[0m             \u001b[0mout\u001b[0m \u001b[0;34m=\u001b[0m \u001b[0;32mNone\u001b[0m\u001b[0;34m\u001b[0m\u001b[0;34m\u001b[0m\u001b[0m\n",
            "\u001b[0;32m<timed exec>\u001b[0m in \u001b[0;36m<module>\u001b[0;34m()\u001b[0m\n",
            "\u001b[0;32m/usr/local/lib/python3.6/dist-packages/evolutionary_search/cv.py\u001b[0m in \u001b[0;36mfit\u001b[0;34m(self, X, y)\u001b[0m\n\u001b[1;32m    362\u001b[0m         \u001b[0;32mfor\u001b[0m \u001b[0mpossible_params\u001b[0m \u001b[0;32min\u001b[0m \u001b[0mself\u001b[0m\u001b[0;34m.\u001b[0m\u001b[0mpossible_params\u001b[0m\u001b[0;34m:\u001b[0m\u001b[0;34m\u001b[0m\u001b[0;34m\u001b[0m\u001b[0m\n\u001b[1;32m    363\u001b[0m             \u001b[0m_check_param_grid\u001b[0m\u001b[0;34m(\u001b[0m\u001b[0mpossible_params\u001b[0m\u001b[0;34m)\u001b[0m\u001b[0;34m\u001b[0m\u001b[0;34m\u001b[0m\u001b[0m\n\u001b[0;32m--> 364\u001b[0;31m             \u001b[0mself\u001b[0m\u001b[0;34m.\u001b[0m\u001b[0m_fit\u001b[0m\u001b[0;34m(\u001b[0m\u001b[0mX\u001b[0m\u001b[0;34m,\u001b[0m \u001b[0my\u001b[0m\u001b[0;34m,\u001b[0m \u001b[0mpossible_params\u001b[0m\u001b[0;34m)\u001b[0m\u001b[0;34m\u001b[0m\u001b[0;34m\u001b[0m\u001b[0m\n\u001b[0m\u001b[1;32m    365\u001b[0m         \u001b[0;32mif\u001b[0m \u001b[0mself\u001b[0m\u001b[0;34m.\u001b[0m\u001b[0mrefit\u001b[0m\u001b[0;34m:\u001b[0m\u001b[0;34m\u001b[0m\u001b[0;34m\u001b[0m\u001b[0m\n\u001b[1;32m    366\u001b[0m             \u001b[0mself\u001b[0m\u001b[0;34m.\u001b[0m\u001b[0mbest_estimator_\u001b[0m \u001b[0;34m=\u001b[0m \u001b[0mclone\u001b[0m\u001b[0;34m(\u001b[0m\u001b[0mself\u001b[0m\u001b[0;34m.\u001b[0m\u001b[0mestimator\u001b[0m\u001b[0;34m)\u001b[0m\u001b[0;34m\u001b[0m\u001b[0;34m\u001b[0m\u001b[0m\n",
            "\u001b[0;32m/usr/local/lib/python3.6/dist-packages/evolutionary_search/cv.py\u001b[0m in \u001b[0;36m_fit\u001b[0;34m(self, X, y, parameter_dict)\u001b[0m\n\u001b[1;32m    452\u001b[0m         pop, logbook = algorithms.eaSimple(pop, toolbox, cxpb=0.5, mutpb=0.2,\n\u001b[1;32m    453\u001b[0m                                            \u001b[0mngen\u001b[0m\u001b[0;34m=\u001b[0m\u001b[0mself\u001b[0m\u001b[0;34m.\u001b[0m\u001b[0mgenerations_number\u001b[0m\u001b[0;34m,\u001b[0m \u001b[0mstats\u001b[0m\u001b[0;34m=\u001b[0m\u001b[0mstats\u001b[0m\u001b[0;34m,\u001b[0m\u001b[0;34m\u001b[0m\u001b[0;34m\u001b[0m\u001b[0m\n\u001b[0;32m--> 454\u001b[0;31m                                            halloffame=hof, verbose=self.verbose)\n\u001b[0m\u001b[1;32m    455\u001b[0m \u001b[0;34m\u001b[0m\u001b[0m\n\u001b[1;32m    456\u001b[0m         \u001b[0;31m# Save History\u001b[0m\u001b[0;34m\u001b[0m\u001b[0;34m\u001b[0m\u001b[0;34m\u001b[0m\u001b[0m\n",
            "\u001b[0;32m/usr/local/lib/python3.6/dist-packages/deap/algorithms.py\u001b[0m in \u001b[0;36meaSimple\u001b[0;34m(population, toolbox, cxpb, mutpb, ngen, stats, halloffame, verbose)\u001b[0m\n\u001b[1;32m    149\u001b[0m     \u001b[0minvalid_ind\u001b[0m \u001b[0;34m=\u001b[0m \u001b[0;34m[\u001b[0m\u001b[0mind\u001b[0m \u001b[0;32mfor\u001b[0m \u001b[0mind\u001b[0m \u001b[0;32min\u001b[0m \u001b[0mpopulation\u001b[0m \u001b[0;32mif\u001b[0m \u001b[0;32mnot\u001b[0m \u001b[0mind\u001b[0m\u001b[0;34m.\u001b[0m\u001b[0mfitness\u001b[0m\u001b[0;34m.\u001b[0m\u001b[0mvalid\u001b[0m\u001b[0;34m]\u001b[0m\u001b[0;34m\u001b[0m\u001b[0;34m\u001b[0m\u001b[0m\n\u001b[1;32m    150\u001b[0m     \u001b[0mfitnesses\u001b[0m \u001b[0;34m=\u001b[0m \u001b[0mtoolbox\u001b[0m\u001b[0;34m.\u001b[0m\u001b[0mmap\u001b[0m\u001b[0;34m(\u001b[0m\u001b[0mtoolbox\u001b[0m\u001b[0;34m.\u001b[0m\u001b[0mevaluate\u001b[0m\u001b[0;34m,\u001b[0m \u001b[0minvalid_ind\u001b[0m\u001b[0;34m)\u001b[0m\u001b[0;34m\u001b[0m\u001b[0;34m\u001b[0m\u001b[0m\n\u001b[0;32m--> 151\u001b[0;31m     \u001b[0;32mfor\u001b[0m \u001b[0mind\u001b[0m\u001b[0;34m,\u001b[0m \u001b[0mfit\u001b[0m \u001b[0;32min\u001b[0m \u001b[0mzip\u001b[0m\u001b[0;34m(\u001b[0m\u001b[0minvalid_ind\u001b[0m\u001b[0;34m,\u001b[0m \u001b[0mfitnesses\u001b[0m\u001b[0;34m)\u001b[0m\u001b[0;34m:\u001b[0m\u001b[0;34m\u001b[0m\u001b[0;34m\u001b[0m\u001b[0m\n\u001b[0m\u001b[1;32m    152\u001b[0m         \u001b[0mind\u001b[0m\u001b[0;34m.\u001b[0m\u001b[0mfitness\u001b[0m\u001b[0;34m.\u001b[0m\u001b[0mvalues\u001b[0m \u001b[0;34m=\u001b[0m \u001b[0mfit\u001b[0m\u001b[0;34m\u001b[0m\u001b[0;34m\u001b[0m\u001b[0m\n\u001b[1;32m    153\u001b[0m \u001b[0;34m\u001b[0m\u001b[0m\n",
            "\u001b[0;32m/usr/local/lib/python3.6/dist-packages/evolutionary_search/cv.py\u001b[0m in \u001b[0;36m_evalFunction\u001b[0;34m(individual, name_values, X, y, scorer, cv, iid, fit_params, verbose, error_score, score_cache)\u001b[0m\n\u001b[1;32m    102\u001b[0m                                     \u001b[0mtrain\u001b[0m\u001b[0;34m=\u001b[0m\u001b[0mtrain\u001b[0m\u001b[0;34m,\u001b[0m \u001b[0mtest\u001b[0m\u001b[0;34m=\u001b[0m\u001b[0mtest\u001b[0m\u001b[0;34m,\u001b[0m \u001b[0mverbose\u001b[0m\u001b[0;34m=\u001b[0m\u001b[0mverbose\u001b[0m\u001b[0;34m,\u001b[0m\u001b[0;34m\u001b[0m\u001b[0;34m\u001b[0m\u001b[0m\n\u001b[1;32m    103\u001b[0m                                     \u001b[0mparameters\u001b[0m\u001b[0;34m=\u001b[0m\u001b[0mparameters\u001b[0m\u001b[0;34m,\u001b[0m \u001b[0mfit_params\u001b[0m\u001b[0;34m=\u001b[0m\u001b[0mfit_params\u001b[0m\u001b[0;34m,\u001b[0m\u001b[0;34m\u001b[0m\u001b[0;34m\u001b[0m\u001b[0m\n\u001b[0;32m--> 104\u001b[0;31m                                     error_score=error_score)[0]\n\u001b[0m\u001b[1;32m    105\u001b[0m \u001b[0;34m\u001b[0m\u001b[0m\n\u001b[1;32m    106\u001b[0m             \u001b[0;32mif\u001b[0m \u001b[0miid\u001b[0m\u001b[0;34m:\u001b[0m\u001b[0;34m\u001b[0m\u001b[0;34m\u001b[0m\u001b[0m\n",
            "\u001b[0;32m/usr/local/lib/python3.6/dist-packages/sklearn/model_selection/_validation.py\u001b[0m in \u001b[0;36m_fit_and_score\u001b[0;34m(estimator, X, y, scorer, train, test, verbose, parameters, fit_params, return_train_score, return_parameters, return_n_test_samples, return_times, return_estimator, error_score)\u001b[0m\n\u001b[1;32m    513\u001b[0m             \u001b[0mestimator\u001b[0m\u001b[0;34m.\u001b[0m\u001b[0mfit\u001b[0m\u001b[0;34m(\u001b[0m\u001b[0mX_train\u001b[0m\u001b[0;34m,\u001b[0m \u001b[0;34m**\u001b[0m\u001b[0mfit_params\u001b[0m\u001b[0;34m)\u001b[0m\u001b[0;34m\u001b[0m\u001b[0;34m\u001b[0m\u001b[0m\n\u001b[1;32m    514\u001b[0m         \u001b[0;32melse\u001b[0m\u001b[0;34m:\u001b[0m\u001b[0;34m\u001b[0m\u001b[0;34m\u001b[0m\u001b[0m\n\u001b[0;32m--> 515\u001b[0;31m             \u001b[0mestimator\u001b[0m\u001b[0;34m.\u001b[0m\u001b[0mfit\u001b[0m\u001b[0;34m(\u001b[0m\u001b[0mX_train\u001b[0m\u001b[0;34m,\u001b[0m \u001b[0my_train\u001b[0m\u001b[0;34m,\u001b[0m \u001b[0;34m**\u001b[0m\u001b[0mfit_params\u001b[0m\u001b[0;34m)\u001b[0m\u001b[0;34m\u001b[0m\u001b[0;34m\u001b[0m\u001b[0m\n\u001b[0m\u001b[1;32m    516\u001b[0m \u001b[0;34m\u001b[0m\u001b[0m\n\u001b[1;32m    517\u001b[0m     \u001b[0;32mexcept\u001b[0m \u001b[0mException\u001b[0m \u001b[0;32mas\u001b[0m \u001b[0me\u001b[0m\u001b[0;34m:\u001b[0m\u001b[0;34m\u001b[0m\u001b[0;34m\u001b[0m\u001b[0m\n",
            "\u001b[0;32m/usr/local/lib/python3.6/dist-packages/sklearn/svm/_base.py\u001b[0m in \u001b[0;36mfit\u001b[0;34m(self, X, y, sample_weight)\u001b[0m\n\u001b[1;32m    197\u001b[0m \u001b[0;34m\u001b[0m\u001b[0m\n\u001b[1;32m    198\u001b[0m         \u001b[0mseed\u001b[0m \u001b[0;34m=\u001b[0m \u001b[0mrnd\u001b[0m\u001b[0;34m.\u001b[0m\u001b[0mrandint\u001b[0m\u001b[0;34m(\u001b[0m\u001b[0mnp\u001b[0m\u001b[0;34m.\u001b[0m\u001b[0miinfo\u001b[0m\u001b[0;34m(\u001b[0m\u001b[0;34m'i'\u001b[0m\u001b[0;34m)\u001b[0m\u001b[0;34m.\u001b[0m\u001b[0mmax\u001b[0m\u001b[0;34m)\u001b[0m\u001b[0;34m\u001b[0m\u001b[0;34m\u001b[0m\u001b[0m\n\u001b[0;32m--> 199\u001b[0;31m         \u001b[0mfit\u001b[0m\u001b[0;34m(\u001b[0m\u001b[0mX\u001b[0m\u001b[0;34m,\u001b[0m \u001b[0my\u001b[0m\u001b[0;34m,\u001b[0m \u001b[0msample_weight\u001b[0m\u001b[0;34m,\u001b[0m \u001b[0msolver_type\u001b[0m\u001b[0;34m,\u001b[0m \u001b[0mkernel\u001b[0m\u001b[0;34m,\u001b[0m \u001b[0mrandom_seed\u001b[0m\u001b[0;34m=\u001b[0m\u001b[0mseed\u001b[0m\u001b[0;34m)\u001b[0m\u001b[0;34m\u001b[0m\u001b[0;34m\u001b[0m\u001b[0m\n\u001b[0m\u001b[1;32m    200\u001b[0m         \u001b[0;31m# see comment on the other call to np.iinfo in this file\u001b[0m\u001b[0;34m\u001b[0m\u001b[0;34m\u001b[0m\u001b[0;34m\u001b[0m\u001b[0m\n\u001b[1;32m    201\u001b[0m \u001b[0;34m\u001b[0m\u001b[0m\n",
            "\u001b[0;32m/usr/local/lib/python3.6/dist-packages/sklearn/svm/_base.py\u001b[0m in \u001b[0;36m_dense_fit\u001b[0;34m(self, X, y, sample_weight, solver_type, kernel, random_seed)\u001b[0m\n\u001b[1;32m    256\u001b[0m                 \u001b[0mcache_size\u001b[0m\u001b[0;34m=\u001b[0m\u001b[0mself\u001b[0m\u001b[0;34m.\u001b[0m\u001b[0mcache_size\u001b[0m\u001b[0;34m,\u001b[0m \u001b[0mcoef0\u001b[0m\u001b[0;34m=\u001b[0m\u001b[0mself\u001b[0m\u001b[0;34m.\u001b[0m\u001b[0mcoef0\u001b[0m\u001b[0;34m,\u001b[0m\u001b[0;34m\u001b[0m\u001b[0;34m\u001b[0m\u001b[0m\n\u001b[1;32m    257\u001b[0m                 \u001b[0mgamma\u001b[0m\u001b[0;34m=\u001b[0m\u001b[0mself\u001b[0m\u001b[0;34m.\u001b[0m\u001b[0m_gamma\u001b[0m\u001b[0;34m,\u001b[0m \u001b[0mepsilon\u001b[0m\u001b[0;34m=\u001b[0m\u001b[0mself\u001b[0m\u001b[0;34m.\u001b[0m\u001b[0mepsilon\u001b[0m\u001b[0;34m,\u001b[0m\u001b[0;34m\u001b[0m\u001b[0;34m\u001b[0m\u001b[0m\n\u001b[0;32m--> 258\u001b[0;31m                 max_iter=self.max_iter, random_seed=random_seed)\n\u001b[0m\u001b[1;32m    259\u001b[0m \u001b[0;34m\u001b[0m\u001b[0m\n\u001b[1;32m    260\u001b[0m         \u001b[0mself\u001b[0m\u001b[0;34m.\u001b[0m\u001b[0m_warn_from_fit_status\u001b[0m\u001b[0;34m(\u001b[0m\u001b[0;34m)\u001b[0m\u001b[0;34m\u001b[0m\u001b[0;34m\u001b[0m\u001b[0m\n",
            "\u001b[0;31mKeyboardInterrupt\u001b[0m: "
          ]
        }
      ]
    },
    {
      "cell_type": "markdown",
      "metadata": {
        "id": "f_X0fsY0D2Oh"
      },
      "source": [
        "Nuevamente, hemos obtenido un resultado similar al anterior pero con mucho más tiempo de ejecución."
      ]
    },
    {
      "cell_type": "markdown",
      "metadata": {
        "id": "BZ10oJIoD21B"
      },
      "source": [
        "#### **Otras pruebas**"
      ]
    },
    {
      "cell_type": "markdown",
      "metadata": {
        "id": "odKmUcZxD810"
      },
      "source": [
        "Todas las pruebas de ajustes de hiperparámetros las he realizado usando el modelo SVR y en todos los casos los resultados obtenidos han sido muy buenos. Voy a probar ahora, por ejemplo, hacer Gread Search con un RandomForestRegressor"
      ]
    },
    {
      "cell_type": "code",
      "metadata": {
        "id": "L2c3igPjE1Wk"
      },
      "source": [
        "%%time\r\n",
        "from sklearn.model_selection import GridSearchCV\r\n",
        "\r\n",
        "param_grid = {\r\n",
        "    # intenta 12 (3×4) combinaciones de hiperparámetros\r\n",
        "    'n_estimators': [30, 100, 300],\r\n",
        "    'max_features': [3, 6, 8, 'auto']\r\n",
        "    }  \r\n",
        "\r\n",
        "forest_reg = RandomForestRegressor(random_state=42) \r\n",
        "# entrena con 3 folds, es decir un total de 12*3=36 rondas de entrenamiento \r\n",
        "grid_search_RF = GridSearchCV(forest_reg, param_grid, cv=3,\r\n",
        "                           scoring='neg_mean_squared_error',\r\n",
        "                           refit= True, verbose=2, n_jobs=-1)\r\n",
        "grid_search_RF.fit(X_train, y_train)"
      ],
      "execution_count": null,
      "outputs": []
    },
    {
      "cell_type": "code",
      "metadata": {
        "id": "gPLPP8SUFAur"
      },
      "source": [
        "grid_search_RF.best_params_"
      ],
      "execution_count": null,
      "outputs": []
    },
    {
      "cell_type": "code",
      "metadata": {
        "id": "hsG5tLBZFETY"
      },
      "source": [
        "negative_mse = grid_search_RF.best_score_\r\n",
        "rmse = np.sqrt(-negative_mse)\r\n",
        "rmse"
      ],
      "execution_count": null,
      "outputs": []
    },
    {
      "cell_type": "markdown",
      "metadata": {
        "id": "AJO8qgu-FFv_"
      },
      "source": [
        "El resultado, obtenido mustra un error mucho mayor a el que da el modelo SVR, por lo que para nuestro dataset es mucho mejor modelo, SVR que RandomForestRegressor."
      ]
    },
    {
      "cell_type": "markdown",
      "metadata": {
        "id": "ivJOZugRFXUz"
      },
      "source": [
        "### **Ensembles**"
      ]
    },
    {
      "cell_type": "code",
      "metadata": {
        "id": "RbompkkFhrF1"
      },
      "source": [
        ""
      ],
      "execution_count": null,
      "outputs": []
    },
    {
      "cell_type": "markdown",
      "metadata": {
        "id": "788yoVQQFfNJ"
      },
      "source": [
        "#### **Ensembles basados en votos (mayoría o media)** "
      ]
    },
    {
      "cell_type": "markdown",
      "metadata": {
        "id": "tSZInFXQp9Lz"
      },
      "source": [
        "##### **Regresion**\r\n"
      ]
    },
    {
      "cell_type": "code",
      "metadata": {
        "id": "bMMpzKPZ2WHI"
      },
      "source": [
        "df = pd.read_csv('https://raw.githubusercontent.com/fortiz98/TrabajoAAII/main/datosFelicidad.csv')\r\n",
        "y = df[\"Happiness Score\"]\r\n",
        "X = df.drop(['Happiness Score','Country',\t'Happiness Rank'], axis=1)\r\n",
        "X_train,  X_test, y_train, y_test = train_test_split(X, y, test_size=0.2, random_state=42)"
      ],
      "execution_count": null,
      "outputs": []
    },
    {
      "cell_type": "code",
      "metadata": {
        "id": "vt0sbQSof7GG",
        "colab": {
          "base_uri": "https://localhost:8080/"
        },
        "outputId": "1ed0681f-2240-41f3-8a5a-4c10824f2c51"
      },
      "source": [
        "%%time\r\n",
        "from sklearn.linear_model import LinearRegression\r\n",
        "from sklearn.tree import DecisionTreeRegressor\r\n",
        "from sklearn.svm import SVR\r\n",
        "from sklearn.ensemble import VotingRegressor\r\n",
        "from sklearn.metrics import mean_squared_error\r\n",
        "\r\n",
        "lin_reg = LinearRegression()\r\n",
        "tree_reg = DecisionTreeRegressor(random_state=42)\r\n",
        "SVR_reg = SVR(C=5.0, gamma=0.1, kernel=\"rbf\")\r\n",
        "\r\n",
        "# Solución\r\n",
        "voting_clf =VotingRegressor(\r\n",
        "    estimators=[('lr', lin_reg), ('tr', tree_reg), ('svr', SVR_reg)])\r\n",
        "voting_clf.fit(X_train, y_train)\r\n",
        "\r\n",
        "for clf in (lin_reg, tree_reg, SVR_reg, voting_clf):\r\n",
        "    clf.fit(X_train, y_train)\r\n",
        "    y_pred = clf.predict(X_test)\r\n",
        "    print(clf.__class__.__name__, np.sqrt(mean_squared_error(y_test, y_pred)))"
      ],
      "execution_count": null,
      "outputs": [
        {
          "output_type": "stream",
          "text": [
            "LinearRegression 0.00029510450803250503\n",
            "DecisionTreeRegressor 0.40792463526077716\n",
            "SVR 0.053944348894986956\n",
            "VotingRegressor 0.13819524035613195\n",
            "CPU times: user 51.4 ms, sys: 1.99 ms, total: 53.4 ms\n",
            "Wall time: 52.8 ms\n"
          ],
          "name": "stdout"
        }
      ]
    },
    {
      "cell_type": "markdown",
      "metadata": {
        "id": "dNYXAaV1kCCN"
      },
      "source": [
        "Como podemos ver DecisionTreeRegressor nos esta dando un resultado malo por lo que vamos a quitarle peso a ver si mejora el modelo."
      ]
    },
    {
      "cell_type": "code",
      "metadata": {
        "id": "jMe_lMDajtNt",
        "colab": {
          "base_uri": "https://localhost:8080/"
        },
        "outputId": "18a6ba3d-1847-477c-824f-7e39e9b29929"
      },
      "source": [
        "%%time\r\n",
        "from sklearn.linear_model import LinearRegression\r\n",
        "from sklearn.tree import DecisionTreeRegressor\r\n",
        "from sklearn.svm import SVR\r\n",
        "from sklearn.ensemble import VotingRegressor\r\n",
        "from sklearn.metrics import mean_squared_error\r\n",
        "\r\n",
        "lin_reg = LinearRegression()\r\n",
        "tree_reg = DecisionTreeRegressor()\r\n",
        "SVR_reg = SVR(C=5.0, gamma=0.1, kernel=\"rbf\")\r\n",
        "\r\n",
        "# Solución\r\n",
        "voting_clf =VotingRegressor(\r\n",
        "    estimators=[('lr', lin_reg), ('tr', tree_reg), ('svr', SVR_reg)],weights = [0.45, 0.15, 0.4])\r\n",
        "voting_clf.fit(X_train, y_train)\r\n",
        "\r\n",
        "for clf in (lin_reg, tree_reg, SVR_reg, voting_clf):\r\n",
        "    clf.fit(X_train, y_train)\r\n",
        "    y_pred = clf.predict(X_test)\r\n",
        "    print(clf.__class__.__name__, np.sqrt(mean_squared_error(y_test, y_pred)))"
      ],
      "execution_count": null,
      "outputs": [
        {
          "output_type": "stream",
          "text": [
            "LinearRegression 0.00029510450803250503\n",
            "DecisionTreeRegressor 0.4150827532824013\n",
            "SVR 0.053944348894986956\n",
            "VotingRegressor 0.06804568393681004\n",
            "CPU times: user 44.1 ms, sys: 1 ms, total: 45.1 ms\n",
            "Wall time: 48.6 ms\n"
          ],
          "name": "stdout"
        }
      ]
    },
    {
      "cell_type": "markdown",
      "metadata": {
        "id": "qHXNh2TqkkJh"
      },
      "source": [
        "De esta manera conseguimos un mejor resultado de nuestro modelo."
      ]
    },
    {
      "cell_type": "code",
      "metadata": {
        "id": "18Fm0JLAkr2Y",
        "colab": {
          "base_uri": "https://localhost:8080/"
        },
        "outputId": "0060ad7d-4c55-4bff-afe1-3e00d556e57c"
      },
      "source": [
        "from sklearn.neural_network import MLPRegressor\r\n",
        "NN_reg = MLPRegressor(solver='sgd', alpha=0.001, momentum=0.9, activation='relu',\r\n",
        "                    hidden_layer_sizes= (5, 2), random_state=42,  max_iter=2000)\r\n",
        "lin_reg = LinearRegression()\r\n",
        "tree_reg = DecisionTreeRegressor()\r\n",
        "SVR_reg = SVR(C=5.0, gamma=0.1, kernel=\"rbf\")\r\n",
        "\r\n",
        "# Solución\r\n",
        "voting_clf =VotingRegressor(\r\n",
        "    estimators=[('lr', lin_reg), ('NN_reg', NN_reg),('tree_reg', tree_reg), ('svr', SVR_reg)],weights = [0.4, 0.1,0.1, 0.4])\r\n",
        "voting_clf.fit(X_train, y_train)\r\n",
        "\r\n",
        "for clf in (lin_reg, NN_reg,tree_reg, SVR_reg, voting_clf):\r\n",
        "    clf.fit(X_train, y_train)\r\n",
        "    y_pred = clf.predict(X_test)\r\n",
        "    print(clf.__class__.__name__, np.sqrt(mean_squared_error(y_test, y_pred)))"
      ],
      "execution_count": null,
      "outputs": [
        {
          "output_type": "stream",
          "text": [
            "LinearRegression 0.00029510450803250503\n",
            "MLPRegressor 0.9641321020410953\n",
            "DecisionTreeRegressor 0.4213157913845424\n",
            "SVR 0.053944348894986956\n",
            "VotingRegressor 0.10970682867153408\n"
          ],
          "name": "stdout"
        }
      ]
    },
    {
      "cell_type": "markdown",
      "metadata": {
        "id": "T7wI-B4ClZgW"
      },
      "source": [
        "Añadiendo el modelo de red neuronal no conseguimos que mejore el modelo"
      ]
    },
    {
      "cell_type": "markdown",
      "metadata": {
        "id": "lGaehXTClust"
      },
      "source": [
        "##### **Clasificacion**\r\n",
        "\r\n"
      ]
    },
    {
      "cell_type": "markdown",
      "metadata": {
        "id": "b97y2CxkoHco"
      },
      "source": [
        "Vamos a probar ahora Ensemble con el dataset con datos de clasificacion"
      ]
    },
    {
      "cell_type": "code",
      "metadata": {
        "id": "LHpkbdoAnBk7"
      },
      "source": [
        "df = pd.read_csv('https://raw.githubusercontent.com/fortiz98/TrabajoAAII/main/datosFelicidad.csv')"
      ],
      "execution_count": null,
      "outputs": []
    },
    {
      "cell_type": "code",
      "metadata": {
        "colab": {
          "base_uri": "https://localhost:8080/",
          "height": 331
        },
        "id": "GRHUi2j3nBk-",
        "outputId": "496e6f52-d5bb-40dc-98ee-4b42af44cc72"
      },
      "source": [
        "from sklearn.preprocessing import LabelEncoder\r\n",
        "# Dividir las instancias como \"happiness\" or \"sadness\" dependiendo de si el hapiness score es mayor o menor que 5.\r\n",
        "bins = (0, 5, 10)\r\n",
        "group_names = ['sadness', 'happiness']\r\n",
        "df['Happiness Score'] = pd.cut(df['Happiness Score'], bins = bins, labels = group_names)\r\n",
        "# Asignamos una etiqueta a \"quality\"\r\n",
        "label_quality = LabelEncoder()\r\n",
        "# Sadness tomará el valor 0 y Happiness será el valor 1\r\n",
        "df['Happiness Score'] = label_quality.fit_transform(df['Happiness Score'])\r\n",
        "print(df['Happiness Score'].value_counts())\r\n",
        "sb.countplot(df['Happiness Score'])\r\n",
        "plt.show()"
      ],
      "execution_count": null,
      "outputs": [
        {
          "output_type": "stream",
          "text": [
            "0    290\n",
            "1    180\n",
            "Name: Happiness Score, dtype: int64\n"
          ],
          "name": "stdout"
        },
        {
          "output_type": "display_data",
          "data": {
            "image/png": "[encoded data removed]",
            "text/plain": [
              "<Figure size 432x288 with 1 Axes>"
            ]
          },
          "metadata": {
            "tags": [],
            "needs_background": "light"
          }
        }
      ]
    },
    {
      "cell_type": "code",
      "metadata": {
        "id": "95t_YEg2nBk_"
      },
      "source": [
        "y = df[\"Happiness Score\"]\r\n",
        "X = df.drop(['Happiness Score','Country',\t'Happiness Rank'], axis=1)"
      ],
      "execution_count": null,
      "outputs": []
    },
    {
      "cell_type": "code",
      "metadata": {
        "id": "_GfGKSNSnBlA"
      },
      "source": [
        "X_train, X_test, y_train, y_test = train_test_split(X,y,\r\n",
        "                                        train_size   = 0.8,\r\n",
        "                                        random_state = 1234,\r\n",
        "                                        shuffle      = True\r\n",
        "                                    )"
      ],
      "execution_count": null,
      "outputs": []
    },
    {
      "cell_type": "code",
      "metadata": {
        "id": "tDsyQUp3QYYI",
        "colab": {
          "base_uri": "https://localhost:8080/"
        },
        "outputId": "93ca697e-bf7f-43e4-d1bf-38ccdbc9d352"
      },
      "source": [
        "#from sklearn.ensemble import RandomForestClassifier\n",
        "from sklearn.tree import DecisionTreeClassifier\n",
        "from sklearn.linear_model import LogisticRegression\n",
        "from sklearn.svm import SVC\n",
        "\n",
        "\n",
        "from sklearn.ensemble import VotingClassifier\n",
        "\n",
        "log_clf = LogisticRegression(random_state=42,  penalty='l2')\n",
        "dt_clf = DecisionTreeClassifier(random_state=42)\n",
        "svm_clf = SVC(C=0.5, random_state=42)\n",
        "\n",
        "\n",
        "voting_clf = VotingClassifier(\n",
        "    estimators=[('lr', log_clf), ('dt', dt_clf), ('svc', svm_clf)],\n",
        "    voting='hard')\n",
        "\n",
        "voting_clf.fit(X_train, y_train)\n",
        "\n",
        "from sklearn.metrics import accuracy_score\n",
        "for clf in (log_clf, dt_clf, svm_clf, voting_clf):\n",
        "    clf.fit(X_train, y_train)\n",
        "    y_pred = clf.predict(X_test)\n",
        "    print(clf.__class__.__name__, accuracy_score(y_test, y_pred))"
      ],
      "execution_count": null,
      "outputs": [
        {
          "output_type": "stream",
          "text": [
            "LogisticRegression 0.9680851063829787\n",
            "DecisionTreeClassifier 0.8723404255319149\n",
            "SVC 0.9787234042553191\n",
            "VotingClassifier 0.9787234042553191\n"
          ],
          "name": "stdout"
        }
      ]
    },
    {
      "cell_type": "code",
      "metadata": {
        "id": "DabvGVnwH3Iq",
        "colab": {
          "base_uri": "https://localhost:8080/"
        },
        "outputId": "0c51f05a-d57f-4dda-989e-dda5f53f8a11"
      },
      "source": [
        "from sklearn.tree import DecisionTreeClassifier\r\n",
        "from sklearn.linear_model import LogisticRegression\r\n",
        "from sklearn.svm import SVC\r\n",
        "\r\n",
        "\r\n",
        "from sklearn.ensemble import VotingClassifier\r\n",
        "\r\n",
        "log_clf = LogisticRegression(random_state=30,  penalty='l2')\r\n",
        "dt_clf = DecisionTreeClassifier(random_state=30)\r\n",
        "svm_clf = SVC(C=0.5, random_state=30, probability=True)\r\n",
        "\r\n",
        "\r\n",
        "voting_clf = VotingClassifier(\r\n",
        "    estimators=[('lr', log_clf), ('dt', dt_clf), ('svc', svm_clf)],\r\n",
        "    voting='soft')\r\n",
        "\r\n",
        "voting_clf.fit(X_train, y_train)\r\n",
        "\r\n",
        "from sklearn.metrics import accuracy_score\r\n",
        "for clf in (log_clf, dt_clf, svm_clf, voting_clf):\r\n",
        "    clf.fit(X_train, y_train)\r\n",
        "    y_pred = clf.predict(X_test)\r\n",
        "    print(clf.__class__.__name__, accuracy_score(y_test, y_pred))"
      ],
      "execution_count": null,
      "outputs": [
        {
          "output_type": "stream",
          "text": [
            "LogisticRegression 0.9680851063829787\n",
            "DecisionTreeClassifier 0.8829787234042553\n",
            "SVC 0.9787234042553191\n",
            "VotingClassifier 0.9574468085106383\n"
          ],
          "name": "stdout"
        }
      ]
    },
    {
      "cell_type": "markdown",
      "metadata": {
        "id": "9yCucvVaoEJ5"
      },
      "source": [
        "Podemos ver que el mejor resultado lo obtenemos VotingClassifier hard, obtenemos 0.9787234042553191 de accuracy."
      ]
    },
    {
      "cell_type": "markdown",
      "metadata": {
        "id": "JW3Q6L9CqoU4"
      },
      "source": [
        "### **Bagging ensembles**"
      ]
    },
    {
      "cell_type": "markdown",
      "metadata": {
        "id": "cV4ZzFtuq1XH"
      },
      "source": [
        "##### **Regresión**\r\n"
      ]
    },
    {
      "cell_type": "code",
      "metadata": {
        "id": "GdRM0Kif2Zlh"
      },
      "source": [
        "df = pd.read_csv('https://raw.githubusercontent.com/fortiz98/TrabajoAAII/main/datosFelicidad.csv')\r\n",
        "y = df[\"Happiness Score\"]\r\n",
        "X = df.drop(['Happiness Score','Country',\t'Happiness Rank'], axis=1)\r\n",
        "X_train,  X_test, y_train, y_test = train_test_split(X, y, test_size=0.2, random_state=42)"
      ],
      "execution_count": null,
      "outputs": []
    },
    {
      "cell_type": "code",
      "metadata": {
        "id": "T3BxSScYukwp",
        "colab": {
          "base_uri": "https://localhost:8080/"
        },
        "outputId": "ef1a2cf9-2982-4b49-da1c-c63bc8cb6ca7"
      },
      "source": [
        "\r\n",
        "from sklearn.ensemble import BaggingRegressor\r\n",
        "\r\n",
        "\r\n",
        "SVR_reg = SVR(C=5.0, gamma=0.1, kernel=\"rbf\")\r\n",
        "\r\n",
        "bag_clf = BaggingRegressor(\r\n",
        "    SVR_reg, n_estimators=20,\r\n",
        "    max_samples=300, bootstrap=False, n_jobs=-1, random_state=30)\r\n",
        "\r\n",
        "bag_clf.fit(X_train, y_train)\r\n",
        "\r\n",
        "y_train_neu = bag_clf.predict(X_train)\r\n",
        "print(\"RMSE sobre el conjunto de entrenamiento\",np.sqrt(mean_squared_error(y_train, y_train_neu)))\r\n",
        "\r\n",
        "y_pred_bag = bag_clf.predict(X_test)\r\n",
        "print(\"RMSE sobre el conjunto de test\", np.sqrt(mean_squared_error(y_test, y_pred_bag)))\r\n"
      ],
      "execution_count": null,
      "outputs": [
        {
          "output_type": "stream",
          "text": [
            "RMSE sobre el conjunto de entrenamiento 0.05350666400912316\n",
            "RMSE sobre el conjunto de test 0.05524756538579895\n"
          ],
          "name": "stdout"
        }
      ]
    },
    {
      "cell_type": "code",
      "metadata": {
        "id": "rICZYzfNvxoh",
        "colab": {
          "base_uri": "https://localhost:8080/"
        },
        "outputId": "ef3cd8b7-e845-4804-e994-24bfe7a09cd2"
      },
      "source": [
        "from sklearn.ensemble import BaggingRegressor\r\n",
        "\r\n",
        "NN_reg = MLPRegressor(solver='sgd', alpha=0.001, momentum=0.9, activation='relu',\r\n",
        "                    hidden_layer_sizes= (5, 2), random_state=30,  max_iter=2000)\r\n",
        "\r\n",
        "\r\n",
        "bag_clf = BaggingRegressor(\r\n",
        "    NN_reg, n_estimators=30,\r\n",
        "    max_samples=300, bootstrap=False, n_jobs=-1, random_state=30)\r\n",
        "\r\n",
        "bag_clf.fit(X_train, y_train)\r\n",
        "\r\n",
        "y_train_neu = bag_clf.predict(X_train)\r\n",
        "print(\"RMSE sobre el conjunto de entrenamiento\",np.sqrt(mean_squared_error(y_train, y_train_neu)))\r\n",
        "\r\n",
        "y_pred_bag = bag_clf.predict(X_test)\r\n",
        "print(\"RMSE sobre el conjunto de test\", np.sqrt(mean_squared_error(y_test, y_pred_bag)))"
      ],
      "execution_count": null,
      "outputs": [
        {
          "output_type": "stream",
          "text": [
            "RMSE sobre el conjunto de entrenamiento 0.3289999516691786\n",
            "RMSE sobre el conjunto de test 0.33991858875304365\n"
          ],
          "name": "stdout"
        }
      ]
    },
    {
      "cell_type": "code",
      "metadata": {
        "id": "p9o3hpo7v-dx",
        "colab": {
          "base_uri": "https://localhost:8080/"
        },
        "outputId": "f502ef72-d53d-4005-86bd-c505589650d2"
      },
      "source": [
        "from sklearn.ensemble import BaggingRegressor\r\n",
        "\r\n",
        "dt_reg = DecisionTreeRegressor(random_state=30)\r\n",
        "\r\n",
        "\r\n",
        "bag_clf = BaggingRegressor(\r\n",
        "    dt_reg, n_estimators=40,\r\n",
        "    max_samples=300, bootstrap=False, n_jobs=-1, random_state=30)\r\n",
        "\r\n",
        "bag_clf.fit(X_train, y_train)\r\n",
        "\r\n",
        "y_train_neu = bag_clf.predict(X_train)\r\n",
        "print(\"RMSE sobre el conjunto de entrenamiento\",np.sqrt(mean_squared_error(y_train, y_train_neu)))\r\n",
        "\r\n",
        "y_pred_bag = bag_clf.predict(X_test)\r\n",
        "print(\"RMSE sobre el conjunto de test\", np.sqrt(mean_squared_error(y_test, y_pred_bag)))"
      ],
      "execution_count": null,
      "outputs": [
        {
          "output_type": "stream",
          "text": [
            "RMSE sobre el conjunto de entrenamiento 0.06661250238482863\n",
            "RMSE sobre el conjunto de test 0.3380054476151784\n"
          ],
          "name": "stdout"
        }
      ]
    },
    {
      "cell_type": "markdown",
      "metadata": {
        "id": "wcdHvGqVxkn9"
      },
      "source": [
        "El mejor modelo que obtenemos es el BaggingRegressor con SVR con los mejores hiperparametros que hemos obtenido anteriormente que nos da un RMSE de 0.05524756538579895.Un valor que mejora el RMSE 0.059589096172201324 del SVR con los mejores hiperparametros ."
      ]
    },
    {
      "cell_type": "markdown",
      "metadata": {
        "id": "NOhn2Nqlq0Yf"
      },
      "source": [
        "##### **Clasificacion**\r\n"
      ]
    },
    {
      "cell_type": "code",
      "metadata": {
        "id": "CNOLZZeurAIo"
      },
      "source": [
        "df = pd.read_csv('https://raw.githubusercontent.com/fortiz98/TrabajoAAII/main/datosFelicidad.csv')"
      ],
      "execution_count": null,
      "outputs": []
    },
    {
      "cell_type": "code",
      "metadata": {
        "colab": {
          "base_uri": "https://localhost:8080/",
          "height": 335
        },
        "id": "vvsn-MMWrAIy",
        "outputId": "2b18cfe7-62ac-4cdd-a7ca-a758be9bc7cc"
      },
      "source": [
        "from sklearn.preprocessing import LabelEncoder\r\n",
        "# Dividir las instancias como \"happiness\" or \"sadness\" dependiendo de si el hapiness score es mayor o menor que 5.\r\n",
        "bins = (0, 5, 10)\r\n",
        "group_names = ['sadness', 'happiness']\r\n",
        "df['Happiness Score'] = pd.cut(df['Happiness Score'], bins = bins, labels = group_names)\r\n",
        "# Asignamos una etiqueta a \"quality\"\r\n",
        "label_quality = LabelEncoder()\r\n",
        "# Sadness tomará el valor 0 y Happiness será el valor 1\r\n",
        "df['Happiness Score'] = label_quality.fit_transform(df['Happiness Score'])\r\n",
        "print(df['Happiness Score'].value_counts())\r\n",
        "sb.countplot(df['Happiness Score'])\r\n",
        "plt.show()"
      ],
      "execution_count": null,
      "outputs": [
        {
          "output_type": "stream",
          "text": [
            "0    290\n",
            "1    180\n",
            "Name: Happiness Score, dtype: int64\n"
          ],
          "name": "stdout"
        },
        {
          "output_type": "display_data",
          "data": {
            "image/png": "[encoded data removed]",
            "text/plain": [
              "<Figure size 432x288 with 1 Axes>"
            ]
          },
          "metadata": {
            "tags": [],
            "needs_background": "light"
          }
        }
      ]
    },
    {
      "cell_type": "code",
      "metadata": {
        "id": "QwXLLoU8rAIz"
      },
      "source": [
        "y = df[\"Happiness Score\"]\r\n",
        "X = df.drop(['Happiness Score','Country',\t'Happiness Rank'], axis=1)"
      ],
      "execution_count": null,
      "outputs": []
    },
    {
      "cell_type": "code",
      "metadata": {
        "id": "VrPTgsXwrAIz"
      },
      "source": [
        "X_train, X_test, y_train, y_test = train_test_split(X,y,\r\n",
        "                                        train_size   = 0.8,\r\n",
        "                                        random_state = 1234,\r\n",
        "                                        shuffle      = True\r\n",
        "                                    )"
      ],
      "execution_count": null,
      "outputs": []
    },
    {
      "cell_type": "code",
      "metadata": {
        "id": "dO8EZnb2WdfW",
        "colab": {
          "base_uri": "https://localhost:8080/"
        },
        "outputId": "11ab9c1e-050d-4957-e2cd-3235fd8fc268"
      },
      "source": [
        "%%time\n",
        "from sklearn.ensemble import BaggingClassifier\n",
        "from sklearn.tree import DecisionTreeClassifier\n",
        "\n",
        "bag_clf = BaggingClassifier(\n",
        "    DecisionTreeClassifier(random_state=30), n_estimators=1000,\n",
        "    max_samples=100, bootstrap=True, n_jobs=-1, random_state=30)\n",
        "bag_clf.fit(X_train, y_train)"
      ],
      "execution_count": null,
      "outputs": [
        {
          "output_type": "stream",
          "text": [
            "CPU times: user 68.5 ms, sys: 2.03 ms, total: 70.5 ms\n",
            "Wall time: 1.56 s\n"
          ],
          "name": "stdout"
        }
      ]
    },
    {
      "cell_type": "code",
      "metadata": {
        "id": "zBzU1kbKH3JN",
        "colab": {
          "base_uri": "https://localhost:8080/"
        },
        "outputId": "b56e101e-d874-4f87-b5ad-30add40dec4c"
      },
      "source": [
        "\n",
        "y_train_tree = bag_clf.predict(X_train)\n",
        "print(\"Accuracy sobre el conjunto de entrenamiento\",accuracy_score(y_train, y_train_tree))\n",
        "\n",
        "y_pred = bag_clf.predict(X_test)\n",
        "print(\"Accuracy sobre el conjunto de test\", accuracy_score(y_test, y_pred))"
      ],
      "execution_count": null,
      "outputs": [
        {
          "output_type": "stream",
          "text": [
            "Accuracy sobre el conjunto de entrenamiento 0.976063829787234\n",
            "Accuracy sobre el conjunto de test 0.925531914893617\n"
          ],
          "name": "stdout"
        }
      ]
    },
    {
      "cell_type": "markdown",
      "metadata": {
        "id": "o15MKxZnsD1L"
      },
      "source": [
        "Usando Pasting con poniendo el atributo bootstrap=False"
      ]
    },
    {
      "cell_type": "code",
      "metadata": {
        "id": "N7MR-tcSsC0M",
        "colab": {
          "base_uri": "https://localhost:8080/"
        },
        "outputId": "3ef6dc62-101b-483e-91d5-9b6f0f356173"
      },
      "source": [
        "%%time\r\n",
        "from sklearn.ensemble import BaggingClassifier\r\n",
        "from sklearn.tree import DecisionTreeClassifier\r\n",
        "\r\n",
        "bag_clf = BaggingClassifier(\r\n",
        "    DecisionTreeClassifier(random_state=30), n_estimators=1000,\r\n",
        "    max_samples=100, bootstrap=False, n_jobs=-1, random_state=30)\r\n",
        "bag_clf.fit(X_train, y_train)"
      ],
      "execution_count": null,
      "outputs": [
        {
          "output_type": "stream",
          "text": [
            "CPU times: user 52.1 ms, sys: 4 ms, total: 56.1 ms\n",
            "Wall time: 1.55 s\n"
          ],
          "name": "stdout"
        }
      ]
    },
    {
      "cell_type": "code",
      "metadata": {
        "id": "i-2753DSsaE2",
        "colab": {
          "base_uri": "https://localhost:8080/"
        },
        "outputId": "6cf4b326-5078-4833-d5bd-9423b3941f4f"
      },
      "source": [
        "\r\n",
        "y_train_tree = bag_clf.predict(X_train)\r\n",
        "print(\"Accuracy sobre el conjunto de entrenamiento\",accuracy_score(y_train, y_train_tree))\r\n",
        "\r\n",
        "y_pred = bag_clf.predict(X_test)\r\n",
        "print(\"Accuracy sobre el conjunto de test\", accuracy_score(y_test, y_pred))"
      ],
      "execution_count": null,
      "outputs": [
        {
          "output_type": "stream",
          "text": [
            "Accuracy sobre el conjunto de entrenamiento 0.973404255319149\n",
            "Accuracy sobre el conjunto de test 0.9361702127659575\n"
          ],
          "name": "stdout"
        }
      ]
    },
    {
      "cell_type": "markdown",
      "metadata": {
        "id": "cKYuQt9EszHq"
      },
      "source": [
        "Obtenemos mejor puntuacion haciendo Pasting con un 0.9361702127659575 de accuracy en el conjunto de test. "
      ]
    },
    {
      "cell_type": "markdown",
      "metadata": {
        "id": "z_7WEB20zAk1"
      },
      "source": [
        "###**Random Forests**"
      ]
    },
    {
      "cell_type": "markdown",
      "metadata": {
        "id": "rvZZoT4EzLYT"
      },
      "source": [
        "##### **Regresión**"
      ]
    },
    {
      "cell_type": "code",
      "metadata": {
        "id": "eFyJKxYmz9QT"
      },
      "source": [
        "df = pd.read_csv('https://raw.githubusercontent.com/fortiz98/TrabajoAAII/main/datosFelicidad.csv')\r\n",
        "y = df[\"Happiness Score\"]\r\n",
        "X = df.drop(['Happiness Score','Country',\t'Happiness Rank'], axis=1)\r\n",
        "X_train,  X_test, y_train, y_test = train_test_split(X, y, test_size=0.2, random_state=42)"
      ],
      "execution_count": null,
      "outputs": []
    },
    {
      "cell_type": "code",
      "metadata": {
        "colab": {
          "base_uri": "https://localhost:8080/",
          "height": 296
        },
        "id": "bHGKd1C1975Q",
        "outputId": "7de42cd2-18a1-44a6-e514-dd517478799f"
      },
      "source": [
        "import matplotlib.pyplot as plt\r\n",
        "import numpy as np\r\n",
        "from sklearn.model_selection import validation_curve\r\n",
        "from sklearn.ensemble import RandomForestRegressor\r\n",
        "#Lista de parámetros\r\n",
        "param_range =  [x/100 for x in range(10,100,5)]\r\n",
        "\r\n",
        "rnd_clf = RandomForestRegressor(n_estimators=500,  n_jobs=-1, random_state=42)\r\n",
        "#Curva de validación\r\n",
        "train_scores, validation_scores = validation_curve(    \r\n",
        "    rnd_clf, X_train, y_train, param_name=\"max_samples\", param_range=param_range,\r\n",
        "    scoring='neg_root_mean_squared_error', cv=3, n_jobs=1)\r\n",
        "\r\n",
        "#Pintamos la curva\r\n",
        "train_scores_mean = np.mean(train_scores, axis=1)\r\n",
        "train_scores_std = np.std(train_scores, axis=1)\r\n",
        "validation_scores_mean = np.mean(validation_scores, axis=1)\r\n",
        "validation_scores_std = np.std(validation_scores, axis=1)\r\n",
        "\r\n",
        "plt.title(\"Curva de validation para forest regressor\")\r\n",
        "plt.xlabel(r\"max_features\")\r\n",
        "plt.ylabel(\"Score\")\r\n",
        "lw = 2\r\n",
        "plt.plot(param_range, train_scores_mean, label=\"Training score\",\r\n",
        "             color=\"darkorange\", lw=lw)\r\n",
        "plt.fill_between(param_range, train_scores_mean - train_scores_std,\r\n",
        "                 train_scores_mean + train_scores_std, alpha=0.2,\r\n",
        "                 color=\"darkorange\", lw=lw)\r\n",
        "plt.plot(param_range, validation_scores_mean, label=\"Cross-validation score\",\r\n",
        "             color=\"navy\", lw=lw)\r\n",
        "plt.fill_between(param_range, validation_scores_mean - validation_scores_std,\r\n",
        "                 validation_scores_mean + validation_scores_std, alpha=0.2,\r\n",
        "                 color=\"navy\", lw=lw)\r\n",
        "plt.legend(loc=\"best\")\r\n",
        "plt.show()"
      ],
      "execution_count": null,
      "outputs": [
        {
          "output_type": "display_data",
          "data": {
            "image/png": "[encoded data removed]",
            "text/plain": [
              "<Figure size 432x288 with 1 Axes>"
            ]
          },
          "metadata": {
            "tags": [],
            "needs_background": "light"
          }
        }
      ]
    },
    {
      "cell_type": "markdown",
      "metadata": {
        "id": "YKT-avpi-wvz"
      },
      "source": [
        "En este caso parece que aumenta hasta 60% y después tiende a disminuir."
      ]
    },
    {
      "cell_type": "code",
      "metadata": {
        "colab": {
          "base_uri": "https://localhost:8080/"
        },
        "id": "kZExAx40975V",
        "outputId": "ae6618da-398d-4338-f574-7e5b10551c0e"
      },
      "source": [
        "rnd_clf = RandomForestRegressor(n_estimators=100, max_samples = 0.60, n_jobs=-1, random_state=42)\r\n",
        "rnd_clf.fit(X_train, y_train)\r\n",
        "\r\n",
        "y_pred_rf = rnd_clf.predict(X_test)\r\n",
        "print( np.sqrt(mean_squared_error(y_test, y_pred_rf)))"
      ],
      "execution_count": null,
      "outputs": [
        {
          "output_type": "stream",
          "text": [
            "0.3011189313792132\n"
          ],
          "name": "stdout"
        }
      ]
    },
    {
      "cell_type": "code",
      "metadata": {
        "colab": {
          "base_uri": "https://localhost:8080/",
          "height": 296
        },
        "id": "Lj_Ci_lz975W",
        "outputId": "9f12d4f0-d745-487e-b8e2-ff3351cdad97"
      },
      "source": [
        "acc_train=[]\r\n",
        "acc_validation=[]\r\n",
        "param_range = range(10,500,20)\r\n",
        "for n in param_range:\r\n",
        "    rnd_clf = RandomForestRegressor(n_estimators=n, max_samples = 0.6, oob_score=True, n_jobs=-1, random_state=42)\r\n",
        "    rnd_clf.fit(X_train, y_train)\r\n",
        "    y_pred_rf = rnd_clf.predict(X_train)\r\n",
        "    acc_train.append(np.sqrt(mean_squared_error(y_train, y_pred_rf)))\r\n",
        "    acc_validation.append(rnd_clf.oob_score_)\r\n",
        "      \r\n",
        "\r\n",
        "plt.title(\"Curva de validation para forest classifier\")\r\n",
        "plt.xlabel(r\"max_features\")\r\n",
        "plt.ylabel(\"Score\")\r\n",
        "lw = 2\r\n",
        "plt.plot(param_range,acc_train, label=\"Training score\",\r\n",
        "             color=\"darkorange\", lw=lw)\r\n",
        "plt.plot(param_range, acc_validation, label=\"obb score\",\r\n",
        "             color=\"navy\", lw=lw)\r\n",
        "plt.legend(loc=\"best\")\r\n",
        "plt.show()"
      ],
      "execution_count": null,
      "outputs": [
        {
          "output_type": "display_data",
          "data": {
            "image/png": "[encoded data removed]",
            "text/plain": [
              "<Figure size 432x288 with 1 Axes>"
            ]
          },
          "metadata": {
            "tags": [],
            "needs_background": "light"
          }
        }
      ]
    },
    {
      "cell_type": "markdown",
      "metadata": {
        "id": "PyN2X9Xn_Nhx"
      },
      "source": [
        "No parece que haya un valor mejor que otro"
      ]
    },
    {
      "cell_type": "code",
      "metadata": {
        "colab": {
          "base_uri": "https://localhost:8080/",
          "height": 296
        },
        "id": "_RG0bIaW975Y",
        "outputId": "e37ea973-a775-47c1-8706-382e8c92db6d"
      },
      "source": [
        "\r\n",
        "   \r\n",
        "acc_train=[]\r\n",
        "acc_validation=[]\r\n",
        "param_range = range(1,8)\r\n",
        "for f in param_range:\r\n",
        "    rnd_clf = RandomForestRegressor(n_estimators=100,  max_samples = 0.6, max_features = f, oob_score=True, n_jobs=-1, random_state=42)\r\n",
        "    rnd_clf.fit(X_train, y_train)\r\n",
        "    y_pred_rf = rnd_clf.predict(X_train)\r\n",
        "    acc_train.append(np.sqrt(mean_squared_error(y_train, y_pred_rf)))\r\n",
        "    acc_validation.append(rnd_clf.oob_score_)\r\n",
        "      \r\n",
        "\r\n",
        "plt.title(\"Curva de validation para forest classifier\")\r\n",
        "plt.xlabel(r\"max_features\")\r\n",
        "plt.ylabel(\"Score\")\r\n",
        "lw = 2\r\n",
        "plt.plot(param_range,acc_train, label=\"Training score\",\r\n",
        "             color=\"darkorange\", lw=lw)\r\n",
        "plt.plot(param_range, acc_validation, label=\"obb score\",\r\n",
        "             color=\"navy\", lw=lw)\r\n",
        "plt.legend(loc=\"best\")\r\n",
        "plt.show()\r\n"
      ],
      "execution_count": null,
      "outputs": [
        {
          "output_type": "display_data",
          "data": {
            "image/png": "[encoded data removed]",
            "text/plain": [
              "<Figure size 432x288 with 1 Axes>"
            ]
          },
          "metadata": {
            "tags": [],
            "needs_background": "light"
          }
        }
      ]
    },
    {
      "cell_type": "code",
      "metadata": {
        "id": "_nVHj1W1BqdK"
      },
      "source": [
        ""
      ],
      "execution_count": null,
      "outputs": []
    },
    {
      "cell_type": "markdown",
      "metadata": {
        "id": "L6uTNJb0AI1H"
      },
      "source": [
        "Parece que el valor que mejor RMSE nos da es quizas es con 4 de parametros"
      ]
    },
    {
      "cell_type": "code",
      "metadata": {
        "colab": {
          "base_uri": "https://localhost:8080/",
          "height": 333
        },
        "id": "zuS2qtSV975Z",
        "outputId": "41636ff4-19d5-4e46-f7f1-66f7f696c4d7"
      },
      "source": [
        "%%time\r\n",
        "\r\n",
        "acc_train=[]\r\n",
        "acc_validation=[]\r\n",
        "param_range = range(1,10)\r\n",
        "for d in param_range:\r\n",
        "    rnd_clf = RandomForestRegressor(n_estimators=100,  max_samples = 0.6,  max_depth=d, oob_score=True, n_jobs=-1, random_state=42)\r\n",
        "    rnd_clf.fit(X_train, y_train)\r\n",
        "    y_pred_rf = rnd_clf.predict(X_train)\r\n",
        "    acc_train.append(np.sqrt(mean_squared_error(y_train, y_pred_rf)))\r\n",
        "    acc_validation.append(rnd_clf.oob_score_)\r\n",
        "      \r\n",
        "\r\n",
        "plt.title(\"Curva de validation para forest classifier\")\r\n",
        "plt.xlabel(r\"max_depth\")\r\n",
        "plt.ylabel(\"Score\")\r\n",
        "lw = 2\r\n",
        "plt.plot(param_range,acc_train, label=\"Training score\",\r\n",
        "             color=\"darkorange\", lw=lw)\r\n",
        "plt.plot(param_range, acc_validation, label=\"obb score\",\r\n",
        "             color=\"navy\", lw=lw)\r\n",
        "plt.legend(loc=\"best\")\r\n",
        "plt.show()"
      ],
      "execution_count": null,
      "outputs": [
        {
          "output_type": "display_data",
          "data": {
            "image/png": "[encoded data removed]",
            "text/plain": [
              "<Figure size 432x288 with 1 Axes>"
            ]
          },
          "metadata": {
            "tags": [],
            "needs_background": "light"
          }
        },
        {
          "output_type": "stream",
          "text": [
            "CPU times: user 2.63 s, sys: 233 ms, total: 2.87 s\n",
            "Wall time: 3.53 s\n"
          ],
          "name": "stdout"
        }
      ]
    },
    {
      "cell_type": "markdown",
      "metadata": {
        "id": "_rLgVXd5DQbe"
      },
      "source": [
        "Parece que cuanto mayor mejor es el resultado."
      ]
    },
    {
      "cell_type": "code",
      "metadata": {
        "colab": {
          "base_uri": "https://localhost:8080/"
        },
        "id": "IC6Kmwzy975b",
        "outputId": "b63dca1f-3c48-4a09-d0a1-74a22b005a40"
      },
      "source": [
        "rnd_clf = RandomForestRegressor(n_estimators=100,  max_samples = 0.6,max_depth=10, n_jobs=-1, random_state=42)\r\n",
        "rnd_clf.fit(X_train, y_train)\r\n",
        "\r\n",
        "y_pred_rf = rnd_clf.predict(X_test)\r\n",
        "print(np.sqrt(mean_squared_error(y_test, y_pred_rf)))"
      ],
      "execution_count": null,
      "outputs": [
        {
          "output_type": "stream",
          "text": [
            "0.3017001983834067\n"
          ],
          "name": "stdout"
        }
      ]
    },
    {
      "cell_type": "markdown",
      "metadata": {
        "id": "LxZlwfFSCChk"
      },
      "source": [
        "Obtenemos 0.3107061429578768 que es un valor alejado al que obteniamos en otros modelos por lo que es un modelo que no nos sirve mucho este modelo"
      ]
    },
    {
      "cell_type": "markdown",
      "metadata": {
        "id": "OUe2wXqazHZp"
      },
      "source": [
        "##### **Clasificacion**"
      ]
    },
    {
      "cell_type": "code",
      "metadata": {
        "id": "pSQAVEJc3NUQ"
      },
      "source": [
        "df = pd.read_csv('https://raw.githubusercontent.com/fortiz98/TrabajoAAII/main/datosFelicidad.csv')"
      ],
      "execution_count": null,
      "outputs": []
    },
    {
      "cell_type": "code",
      "metadata": {
        "colab": {
          "base_uri": "https://localhost:8080/",
          "height": 335
        },
        "id": "Zv9WRDVH3NUT",
        "outputId": "143ed143-a373-4951-d5dd-9019f74145cf"
      },
      "source": [
        "from sklearn.preprocessing import LabelEncoder\r\n",
        "# Dividir las instancias como \"happiness\" or \"sadness\" dependiendo de si el hapiness score es mayor o menor que 5.\r\n",
        "bins = (0, 5, 10)\r\n",
        "group_names = ['sadness', 'happiness']\r\n",
        "df['Happiness Score'] = pd.cut(df['Happiness Score'], bins = bins, labels = group_names)\r\n",
        "# Asignamos una etiqueta a \"quality\"\r\n",
        "label_quality = LabelEncoder()\r\n",
        "# Sadness tomará el valor 0 y Happiness será el valor 1\r\n",
        "df['Happiness Score'] = label_quality.fit_transform(df['Happiness Score'])\r\n",
        "print(df['Happiness Score'].value_counts())\r\n",
        "sb.countplot(df['Happiness Score'])\r\n",
        "plt.show()"
      ],
      "execution_count": null,
      "outputs": [
        {
          "output_type": "stream",
          "text": [
            "0    290\n",
            "1    180\n",
            "Name: Happiness Score, dtype: int64\n"
          ],
          "name": "stdout"
        },
        {
          "output_type": "display_data",
          "data": {
            "image/png": "[encoded data removed]",
            "text/plain": [
              "<Figure size 432x288 with 1 Axes>"
            ]
          },
          "metadata": {
            "tags": [],
            "needs_background": "light"
          }
        }
      ]
    },
    {
      "cell_type": "code",
      "metadata": {
        "id": "Wotdiv1Q3NUU"
      },
      "source": [
        "y = df[\"Happiness Score\"]\r\n",
        "X = df.drop(['Happiness Score','Country',\t'Happiness Rank'], axis=1)"
      ],
      "execution_count": null,
      "outputs": []
    },
    {
      "cell_type": "code",
      "metadata": {
        "id": "rR6Ult2k3NUU"
      },
      "source": [
        "X_train, X_test, y_train, y_test = train_test_split(X,y,\r\n",
        "                                        train_size   = 0.8,\r\n",
        "                                        random_state = 1234,\r\n",
        "                                        shuffle      = True\r\n",
        "                                    )"
      ],
      "execution_count": null,
      "outputs": []
    },
    {
      "cell_type": "markdown",
      "metadata": {
        "id": "BHMwi2AX3kwd"
      },
      "source": [
        "Vamos a buscar los mejores hiperparametros para RandomForestClassifier"
      ]
    },
    {
      "cell_type": "code",
      "metadata": {
        "colab": {
          "base_uri": "https://localhost:8080/",
          "height": 296
        },
        "id": "y-w2A6DI19lS",
        "outputId": "9b54a16d-4459-4bc5-df72-1951849526f3"
      },
      "source": [
        "import matplotlib.pyplot as plt\r\n",
        "import numpy as np\r\n",
        "from sklearn.model_selection import validation_curve\r\n",
        "from sklearn.ensemble import RandomForestClassifier\r\n",
        "#Lista de parámetros\r\n",
        "param_range =  [x/100 for x in range(10,100,5)]\r\n",
        "\r\n",
        "rnd_clf = RandomForestClassifier(n_estimators=500,  n_jobs=-1, random_state=42)\r\n",
        "#Curva de validación\r\n",
        "train_scores, validation_scores = validation_curve(    \r\n",
        "    rnd_clf, X_train, y_train, param_name=\"max_samples\", param_range=param_range,\r\n",
        "    scoring='accuracy', cv=3, n_jobs=1)\r\n",
        "\r\n",
        "#Pintamos la curva\r\n",
        "train_scores_mean = np.mean(train_scores, axis=1)\r\n",
        "train_scores_std = np.std(train_scores, axis=1)\r\n",
        "validation_scores_mean = np.mean(validation_scores, axis=1)\r\n",
        "validation_scores_std = np.std(validation_scores, axis=1)\r\n",
        "\r\n",
        "plt.title(\"Curva de validation para forest regressor\")\r\n",
        "plt.xlabel(r\"max_features\")\r\n",
        "plt.ylabel(\"Score\")\r\n",
        "lw = 2\r\n",
        "plt.plot(param_range, train_scores_mean, label=\"Training score\",\r\n",
        "             color=\"darkorange\", lw=lw)\r\n",
        "plt.fill_between(param_range, train_scores_mean - train_scores_std,\r\n",
        "                 train_scores_mean + train_scores_std, alpha=0.2,\r\n",
        "                 color=\"darkorange\", lw=lw)\r\n",
        "plt.plot(param_range, validation_scores_mean, label=\"Cross-validation score\",\r\n",
        "             color=\"navy\", lw=lw)\r\n",
        "plt.fill_between(param_range, validation_scores_mean - validation_scores_std,\r\n",
        "                 validation_scores_mean + validation_scores_std, alpha=0.2,\r\n",
        "                 color=\"navy\", lw=lw)\r\n",
        "plt.legend(loc=\"best\")\r\n",
        "plt.show()"
      ],
      "execution_count": null,
      "outputs": [
        {
          "output_type": "display_data",
          "data": {
            "image/png": "[encoded data removed]",
            "text/plain": [
              "<Figure size 432x288 with 1 Axes>"
            ]
          },
          "metadata": {
            "tags": [],
            "needs_background": "light"
          }
        }
      ]
    },
    {
      "cell_type": "markdown",
      "metadata": {
        "id": "Brth1CJp49m3"
      },
      "source": [
        "En este caso parece que aumenta hasta 80% y después tiende a disminuir."
      ]
    },
    {
      "cell_type": "code",
      "metadata": {
        "colab": {
          "base_uri": "https://localhost:8080/"
        },
        "id": "_591-USI6TT9",
        "outputId": "898fb252-34f8-4e10-c692-9f2e7994ff44"
      },
      "source": [
        "rnd_clf = RandomForestClassifier(n_estimators=100, max_samples = 0.80, n_jobs=-1, random_state=42)\r\n",
        "rnd_clf.fit(X_train, y_train)\r\n",
        "\r\n",
        "y_pred_rf = rnd_clf.predict(X_test)\r\n",
        "print(accuracy_score(y_test, y_pred_rf))"
      ],
      "execution_count": null,
      "outputs": [
        {
          "output_type": "stream",
          "text": [
            "0.925531914893617\n"
          ],
          "name": "stdout"
        }
      ]
    },
    {
      "cell_type": "code",
      "metadata": {
        "colab": {
          "base_uri": "https://localhost:8080/",
          "height": 296
        },
        "id": "MIeyYBDA10ti",
        "outputId": "c6cafdab-6354-4496-d4e9-7fea17e7a045"
      },
      "source": [
        "acc_train=[]\r\n",
        "acc_validation=[]\r\n",
        "param_range = range(10,500,20)\r\n",
        "for n in param_range:\r\n",
        "    rnd_clf = RandomForestClassifier(n_estimators=n, max_samples = 0.8, oob_score=True, n_jobs=-1, random_state=42)\r\n",
        "    rnd_clf.fit(X_train, y_train)\r\n",
        "    y_pred_rf = rnd_clf.predict(X_train)\r\n",
        "    acc_train.append(accuracy_score(y_train, y_pred_rf))\r\n",
        "    acc_validation.append(rnd_clf.oob_score_)\r\n",
        "      \r\n",
        "\r\n",
        "plt.title(\"Curva de validation para forest classifier\")\r\n",
        "plt.xlabel(r\"max_features\")\r\n",
        "plt.ylabel(\"Score\")\r\n",
        "lw = 2\r\n",
        "plt.plot(param_range,acc_train, label=\"Training score\",\r\n",
        "             color=\"darkorange\", lw=lw)\r\n",
        "plt.plot(param_range, acc_validation, label=\"obb score\",\r\n",
        "             color=\"navy\", lw=lw)\r\n",
        "plt.legend(loc=\"best\")\r\n",
        "plt.show()"
      ],
      "execution_count": null,
      "outputs": [
        {
          "output_type": "display_data",
          "data": {
            "image/png": "[encoded data removed]",
            "text/plain": [
              "<Figure size 432x288 with 1 Axes>"
            ]
          },
          "metadata": {
            "tags": [],
            "needs_background": "light"
          }
        }
      ]
    },
    {
      "cell_type": "markdown",
      "metadata": {
        "id": "nOp-LiNG46uP"
      },
      "source": [
        "En este caso, parece que a partir de 140 árboles no se produce mejoría."
      ]
    },
    {
      "cell_type": "code",
      "metadata": {
        "colab": {
          "base_uri": "https://localhost:8080/",
          "height": 296
        },
        "id": "nYJlZZjk5km6",
        "outputId": "ac6e2764-d0ae-49cd-cef0-3290cb9c4df5"
      },
      "source": [
        "\r\n",
        "   \r\n",
        "acc_train=[]\r\n",
        "acc_validation=[]\r\n",
        "param_range = range(1,8)\r\n",
        "for f in param_range:\r\n",
        "    rnd_clf = RandomForestClassifier(n_estimators=140,  max_samples = 0.8, max_features = f, oob_score=True, n_jobs=-1, random_state=42)\r\n",
        "    rnd_clf.fit(X_train, y_train)\r\n",
        "    y_pred_rf = rnd_clf.predict(X_train)\r\n",
        "    acc_train.append(accuracy_score(y_train, y_pred_rf))\r\n",
        "    acc_validation.append(rnd_clf.oob_score_)\r\n",
        "      \r\n",
        "\r\n",
        "plt.title(\"Curva de validation para forest classifier\")\r\n",
        "plt.xlabel(r\"max_features\")\r\n",
        "plt.ylabel(\"Score\")\r\n",
        "lw = 2\r\n",
        "plt.plot(param_range,acc_train, label=\"Training score\",\r\n",
        "             color=\"darkorange\", lw=lw)\r\n",
        "plt.plot(param_range, acc_validation, label=\"obb score\",\r\n",
        "             color=\"navy\", lw=lw)\r\n",
        "plt.legend(loc=\"best\")\r\n",
        "plt.show()\r\n"
      ],
      "execution_count": null,
      "outputs": [
        {
          "output_type": "display_data",
          "data": {
            "image/png": "[encoded data removed]",
            "text/plain": [
              "<Figure size 432x288 with 1 Axes>"
            ]
          },
          "metadata": {
            "tags": [],
            "needs_background": "light"
          }
        }
      ]
    },
    {
      "cell_type": "markdown",
      "metadata": {
        "id": "7ngxgkZy8VkK"
      },
      "source": [
        "En este caso, alrededor de 3 características es lo que parece que produce mejores resultados."
      ]
    },
    {
      "cell_type": "code",
      "metadata": {
        "colab": {
          "base_uri": "https://localhost:8080/",
          "height": 333
        },
        "id": "IXD7XKwl8MH-",
        "outputId": "9dd6f42b-37e7-4c84-d060-102463f15401"
      },
      "source": [
        "%%time\r\n",
        "\r\n",
        "acc_train=[]\r\n",
        "acc_validation=[]\r\n",
        "param_range = range(1,10)\r\n",
        "for d in param_range:\r\n",
        "    rnd_clf = RandomForestClassifier(n_estimators=140,  max_samples = 0.8,max_features = 3,  max_depth=d, oob_score=True, n_jobs=-1, random_state=42)\r\n",
        "    rnd_clf.fit(X_train, y_train)\r\n",
        "    y_pred_rf = rnd_clf.predict(X_train)\r\n",
        "    acc_train.append(accuracy_score(y_train, y_pred_rf))\r\n",
        "    acc_validation.append(rnd_clf.oob_score_)\r\n",
        "      \r\n",
        "\r\n",
        "plt.title(\"Curva de validation para forest classifier\")\r\n",
        "plt.xlabel(r\"max_depth\")\r\n",
        "plt.ylabel(\"Score\")\r\n",
        "lw = 2\r\n",
        "plt.plot(param_range,acc_train, label=\"Training score\",\r\n",
        "             color=\"darkorange\", lw=lw)\r\n",
        "plt.plot(param_range, acc_validation, label=\"obb score\",\r\n",
        "             color=\"navy\", lw=lw)\r\n",
        "plt.legend(loc=\"best\")\r\n",
        "plt.show()"
      ],
      "execution_count": null,
      "outputs": [
        {
          "output_type": "display_data",
          "data": {
            "image/png": "[encoded data removed]",
            "text/plain": [
              "<Figure size 432x288 with 1 Axes>"
            ]
          },
          "metadata": {
            "tags": [],
            "needs_background": "light"
          }
        },
        {
          "output_type": "stream",
          "text": [
            "CPU times: user 3.63 s, sys: 437 ms, total: 4.06 s\n",
            "Wall time: 4.59 s\n"
          ],
          "name": "stdout"
        }
      ]
    },
    {
      "cell_type": "markdown",
      "metadata": {
        "id": "H8JCCQui8c48"
      },
      "source": [
        "Parece que cuanto mas mayor mejor resultado obtenemos."
      ]
    },
    {
      "cell_type": "code",
      "metadata": {
        "colab": {
          "base_uri": "https://localhost:8080/"
        },
        "id": "yq1HWiYX8i2C",
        "outputId": "dfce4196-04e2-4f0a-c398-8c14a39c4ed3"
      },
      "source": [
        "rnd_clf = RandomForestClassifier(n_estimators=140,  max_samples = 0.8,max_features = 3,max_depth=10, n_jobs=-1, random_state=42)\r\n",
        "rnd_clf.fit(X_train, y_train)\r\n",
        "\r\n",
        "y_pred_rf = rnd_clf.predict(X_test)\r\n",
        "print(accuracy_score(y_test, y_pred_rf))"
      ],
      "execution_count": null,
      "outputs": [
        {
          "output_type": "stream",
          "text": [
            "0.9361702127659575\n"
          ],
          "name": "stdout"
        }
      ]
    },
    {
      "cell_type": "markdown",
      "metadata": {
        "id": "W_rSk87T9jN5"
      },
      "source": [
        "Obtenemos 0.9361702127659575 que es un buen valor. Pero sigue siendo peor que otros valores obtenidos en otros modelos."
      ]
    },
    {
      "cell_type": "markdown",
      "metadata": {
        "id": "xee1PV7gb52y"
      },
      "source": [
        "###**AdaBoost**"
      ]
    },
    {
      "cell_type": "markdown",
      "metadata": {
        "id": "KrjegVBhdfG-"
      },
      "source": [
        "##### **Regresión**"
      ]
    },
    {
      "cell_type": "code",
      "metadata": {
        "id": "0UW623pwduiI"
      },
      "source": [
        "df = pd.read_csv('https://raw.githubusercontent.com/fortiz98/TrabajoAAII/main/datosFelicidad.csv')\r\n",
        "y = df[\"Happiness Score\"]\r\n",
        "X = df.drop(['Happiness Score','Country',\t'Happiness Rank'], axis=1)\r\n",
        "X_train,  X_test, y_train, y_test = train_test_split(X, y, test_size=0.2, random_state=42)"
      ],
      "execution_count": 41,
      "outputs": []
    },
    {
      "cell_type": "code",
      "metadata": {
        "colab": {
          "base_uri": "https://localhost:8080/"
        },
        "id": "ZbC_wg7_fkdx",
        "outputId": "a16a527b-6f16-45cb-fde0-e0716d74ca9c"
      },
      "source": [
        "from sklearn.ensemble import AdaBoostRegressor\r\n",
        "from sklearn.tree import DecisionTreeRegressor\r\n",
        "from sklearn.metrics import mean_squared_error\r\n",
        "\r\n",
        "# Solución\r\n",
        "\r\n",
        "for x in [0.1,0.25,0.5,0.75,1]:\r\n",
        "  ada_clf = AdaBoostRegressor(DecisionTreeRegressor(max_features=7), n_estimators=200,\r\n",
        "    learning_rate=x, random_state=42)\r\n",
        "\r\n",
        "  ada_clf.fit(X_train, y_train)\r\n",
        "  y_pred = ada_clf.predict(X_test)\r\n",
        "  print(\"Ratio de aprendizaje=\",x,\"RMSE sobre el conjunto de test= \", np.sqrt(mean_squared_error(y_test, y_pred)))\r\n",
        "\r\n",
        "  y_pred = ada_clf.predict(X_train)\r\n",
        "  print(\"Ratio de aprendizaje=\",x,\"RMSE sobre el conjunto de train= \", np.sqrt(mean_squared_error(y_train, y_pred)))\r\n",
        "\r\n"
      ],
      "execution_count": 26,
      "outputs": [
        {
          "output_type": "stream",
          "text": [
            "Ratio de aprendizaje= 0.1 RMSE sobre el conjunto de test=  0.2610316310667039\n",
            "Ratio de aprendizaje= 0.1 RMSE sobre el conjunto de train=  0.002996004995534761\n",
            "Ratio de aprendizaje= 0.25 RMSE sobre el conjunto de test=  0.2690585004562835\n",
            "Ratio de aprendizaje= 0.25 RMSE sobre el conjunto de train=  0.006791736562712735\n",
            "Ratio de aprendizaje= 0.5 RMSE sobre el conjunto de test=  0.2716253417970032\n",
            "Ratio de aprendizaje= 0.5 RMSE sobre el conjunto de train=  0.012384792298618915\n",
            "Ratio de aprendizaje= 0.75 RMSE sobre el conjunto de test=  0.26071429234562965\n",
            "Ratio de aprendizaje= 0.75 RMSE sobre el conjunto de train=  0.013253965109186713\n",
            "Ratio de aprendizaje= 1 RMSE sobre el conjunto de test=  0.27309656853068087\n",
            "Ratio de aprendizaje= 1 RMSE sobre el conjunto de train=  0.017282476677180462\n"
          ],
          "name": "stdout"
        }
      ]
    },
    {
      "cell_type": "code",
      "metadata": {
        "colab": {
          "base_uri": "https://localhost:8080/"
        },
        "id": "tZsNW10sj_HI",
        "outputId": "7b04eec3-4ad0-48ce-8f3f-9600f89b3497"
      },
      "source": [
        "for x in [0.1,0.25,0.5,0.75,1]:\r\n",
        "  ada_clf = AdaBoostRegressor(DecisionTreeRegressor(max_features=2), n_estimators=200,\r\n",
        "    learning_rate=x, random_state=42)\r\n",
        "\r\n",
        "  ada_clf.fit(X_train, y_train)\r\n",
        "  y_pred = ada_clf.predict(X_test)\r\n",
        "  print(\"Ratio de aprendizaje=\",x,\"RMSE sobre el conjunto de test= \", np.sqrt(mean_squared_error(y_test, y_pred)))\r\n",
        "\r\n",
        "  y_pred = ada_clf.predict(X_train)\r\n",
        "  print(\"Ratio de aprendizaje=\",x,\"RMSE sobre el conjunto de train= \", np.sqrt(mean_squared_error(y_train, y_pred)))"
      ],
      "execution_count": 42,
      "outputs": [
        {
          "output_type": "stream",
          "text": [
            "Ratio de aprendizaje= 0.1 RMSE sobre el conjunto de test=  0.30682128608406684\n",
            "Ratio de aprendizaje= 0.1 RMSE sobre el conjunto de train=  0.0021934346312660023\n",
            "Ratio de aprendizaje= 0.25 RMSE sobre el conjunto de test=  0.30402030209689324\n",
            "Ratio de aprendizaje= 0.25 RMSE sobre el conjunto de train=  0.0062535137023394345\n",
            "Ratio de aprendizaje= 0.5 RMSE sobre el conjunto de test=  0.30334637284137345\n",
            "Ratio de aprendizaje= 0.5 RMSE sobre el conjunto de train=  0.005880913203475548\n",
            "Ratio de aprendizaje= 0.75 RMSE sobre el conjunto de test=  0.2982550821992884\n",
            "Ratio de aprendizaje= 0.75 RMSE sobre el conjunto de train=  0.009554993620166638\n",
            "Ratio de aprendizaje= 1 RMSE sobre el conjunto de test=  0.30937072312202407\n",
            "Ratio de aprendizaje= 1 RMSE sobre el conjunto de train=  0.014782914397841988\n"
          ],
          "name": "stdout"
        }
      ]
    },
    {
      "cell_type": "code",
      "metadata": {
        "colab": {
          "base_uri": "https://localhost:8080/"
        },
        "id": "WWvbBM8Qk7Mt",
        "outputId": "1bb88899-5d0b-4249-d715-70abb4f069a4"
      },
      "source": [
        "for x in [100,200,400,800,1000]:\r\n",
        "  ada_clf = AdaBoostRegressor(DecisionTreeRegressor(max_features=7), n_estimators=x,\r\n",
        "    learning_rate=0.75, random_state=42)\r\n",
        "\r\n",
        "  ada_clf.fit(X_train, y_train)\r\n",
        "  y_pred = ada_clf.predict(X_test)\r\n",
        "  print(\"Numero de estimadores =\",x,\" RMSE sobre el conjunto de test= \", np.sqrt(mean_squared_error(y_test, y_pred)))\r\n",
        "\r\n",
        "  y_pred = ada_clf.predict(X_train)\r\n",
        "  print(\"Numero de estimadores =\",x,\" RMSE sobre el conjunto de train= \", np.sqrt(mean_squared_error(y_train, y_pred)))"
      ],
      "execution_count": 44,
      "outputs": [
        {
          "output_type": "stream",
          "text": [
            "Numero de estimadores = 100  RMSE sobre el conjunto de test=  0.262052362585232\n",
            "Numero de estimadores = 100  RMSE sobre el conjunto de train=  0.01230756090992602\n",
            "Numero de estimadores = 200  RMSE sobre el conjunto de test=  0.26071429234562965\n",
            "Numero de estimadores = 200  RMSE sobre el conjunto de train=  0.013253965109186713\n",
            "Numero de estimadores = 400  RMSE sobre el conjunto de test=  0.26251525034844897\n",
            "Numero de estimadores = 400  RMSE sobre el conjunto de train=  0.013110519241234159\n",
            "Numero de estimadores = 800  RMSE sobre el conjunto de test=  0.26762764782203285\n",
            "Numero de estimadores = 800  RMSE sobre el conjunto de train=  0.012643015737852504\n",
            "Numero de estimadores = 1000  RMSE sobre el conjunto de test=  0.26771460172165235\n",
            "Numero de estimadores = 1000  RMSE sobre el conjunto de train=  0.012835086405187341\n"
          ],
          "name": "stdout"
        }
      ]
    },
    {
      "cell_type": "markdown",
      "metadata": {
        "id": "fU3qjFGulgLt"
      },
      "source": [
        "El mejor valor que hemos obtenido es con 200 estimadores, un ratio de aprendizaje de 0.75 y un numero de caracteristicas de 7, da un  RMSE= 0.26071429234562965"
      ]
    },
    {
      "cell_type": "markdown",
      "metadata": {
        "id": "GyIdHAHscb7H"
      },
      "source": [
        "##### **Clasificación**"
      ]
    },
    {
      "cell_type": "code",
      "metadata": {
        "id": "K0KVXIlPdo4E"
      },
      "source": [
        "df = pd.read_csv('https://raw.githubusercontent.com/fortiz98/TrabajoAAII/main/datosFelicidad.csv')"
      ],
      "execution_count": 27,
      "outputs": []
    },
    {
      "cell_type": "code",
      "metadata": {
        "colab": {
          "base_uri": "https://localhost:8080/",
          "height": 391
        },
        "id": "pxWaupnwdo4P",
        "outputId": "3edabe94-4cd3-4a8d-bd10-eacb2d0c43d4"
      },
      "source": [
        "from sklearn.preprocessing import LabelEncoder\r\n",
        "# Dividir las instancias como \"happiness\" or \"sadness\" dependiendo de si el hapiness score es mayor o menor que 5.\r\n",
        "bins = (0, 5, 10)\r\n",
        "group_names = ['sadness', 'happiness']\r\n",
        "df['Happiness Score'] = pd.cut(df['Happiness Score'], bins = bins, labels = group_names)\r\n",
        "# Asignamos una etiqueta a \"quality\"\r\n",
        "label_quality = LabelEncoder()\r\n",
        "# Sadness tomará el valor 0 y Happiness será el valor 1\r\n",
        "df['Happiness Score'] = label_quality.fit_transform(df['Happiness Score'])\r\n",
        "print(df['Happiness Score'].value_counts())\r\n",
        "sb.countplot(df['Happiness Score'])\r\n",
        "plt.show()"
      ],
      "execution_count": 28,
      "outputs": [
        {
          "output_type": "stream",
          "text": [
            "0    290\n",
            "1    180\n",
            "Name: Happiness Score, dtype: int64\n"
          ],
          "name": "stdout"
        },
        {
          "output_type": "stream",
          "text": [
            "/usr/local/lib/python3.6/dist-packages/seaborn/_decorators.py:43: FutureWarning: Pass the following variable as a keyword arg: x. From version 0.12, the only valid positional argument will be `data`, and passing other arguments without an explicit keyword will result in an error or misinterpretation.\n",
            "  FutureWarning\n"
          ],
          "name": "stderr"
        },
        {
          "output_type": "display_data",
          "data": {
            "image/png": "[encoded data removed]",
            "text/plain": [
              "<Figure size 432x288 with 1 Axes>"
            ]
          },
          "metadata": {
            "tags": [],
            "needs_background": "light"
          }
        }
      ]
    },
    {
      "cell_type": "code",
      "metadata": {
        "id": "2nMc1hJWdo4Q"
      },
      "source": [
        "y = df[\"Happiness Score\"]\r\n",
        "X = df.drop(['Happiness Score','Country',\t'Happiness Rank'], axis=1)"
      ],
      "execution_count": 29,
      "outputs": []
    },
    {
      "cell_type": "code",
      "metadata": {
        "id": "Km4IZQ71do4Q"
      },
      "source": [
        "X_train, X_test, y_train, y_test = train_test_split(X,y,\r\n",
        "                                        train_size   = 0.8,\r\n",
        "                                        random_state = 1234,\r\n",
        "                                        shuffle      = True\r\n",
        "                                    )"
      ],
      "execution_count": 30,
      "outputs": []
    },
    {
      "cell_type": "code",
      "metadata": {
        "colab": {
          "base_uri": "https://localhost:8080/"
        },
        "id": "ifa-lHfXecFe",
        "outputId": "818a3930-badc-4ac1-83a7-f4f37eaacb61"
      },
      "source": [
        "from sklearn.ensemble import AdaBoostClassifier\r\n",
        "from sklearn.metrics import accuracy_score\r\n",
        "from sklearn.tree import DecisionTreeClassifier\r\n",
        "\r\n",
        "for x in [0.1,0.25,0.5,0.75,1]:\r\n",
        "  ada_clf = AdaBoostClassifier(DecisionTreeClassifier(max_depth=6), n_estimators=200,\r\n",
        "    learning_rate=x, random_state=42)\r\n",
        "\r\n",
        "  ada_clf.fit(X_train, y_train)\r\n",
        "\r\n",
        "  y_pred = ada_clf.predict(X_test)\r\n",
        "  print(\"Ratio de aprendizaje=\",x,\" Accuracy=\",accuracy_score(y_test, y_pred))"
      ],
      "execution_count": 37,
      "outputs": [
        {
          "output_type": "stream",
          "text": [
            "Ratio de aprendizaje= 0.1  Accuracy= 0.9574468085106383\n",
            "Ratio de aprendizaje= 0.25  Accuracy= 0.925531914893617\n",
            "Ratio de aprendizaje= 0.5  Accuracy= 0.9042553191489362\n",
            "Ratio de aprendizaje= 0.75  Accuracy= 0.9468085106382979\n",
            "Ratio de aprendizaje= 1  Accuracy= 0.9574468085106383\n"
          ],
          "name": "stdout"
        }
      ]
    },
    {
      "cell_type": "code",
      "metadata": {
        "colab": {
          "base_uri": "https://localhost:8080/"
        },
        "id": "sgLtDdc9j0n3",
        "outputId": "0cc73fa4-d7bb-4e1d-9d01-57cad2b1e1ea"
      },
      "source": [
        "for x in [0.1,0.25,0.5,0.75,1]:\r\n",
        "  ada_clf = AdaBoostClassifier(DecisionTreeClassifier(max_depth=2), n_estimators=200,\r\n",
        "    learning_rate=x, random_state=42)\r\n",
        "\r\n",
        "  ada_clf.fit(X_train, y_train)\r\n",
        "\r\n",
        "  y_pred = ada_clf.predict(X_test)\r\n",
        "  print(\"Ratio de aprendizaje=\",x,\" Accuracy=\",accuracy_score(y_test, y_pred))"
      ],
      "execution_count": 38,
      "outputs": [
        {
          "output_type": "stream",
          "text": [
            "Ratio de aprendizaje= 0.1  Accuracy= 0.9680851063829787\n",
            "Ratio de aprendizaje= 0.25  Accuracy= 0.9680851063829787\n",
            "Ratio de aprendizaje= 0.5  Accuracy= 0.9574468085106383\n",
            "Ratio de aprendizaje= 0.75  Accuracy= 0.9574468085106383\n",
            "Ratio de aprendizaje= 1  Accuracy= 0.9468085106382979\n"
          ],
          "name": "stdout"
        }
      ]
    },
    {
      "cell_type": "code",
      "metadata": {
        "colab": {
          "base_uri": "https://localhost:8080/"
        },
        "id": "TX14yPPej68k",
        "outputId": "0a8ff153-b772-4fa7-e38c-0d91eb6b2d73"
      },
      "source": [
        "for x in [0.1,0.25,0.5,0.75,1]:\r\n",
        "  ada_clf = AdaBoostClassifier(DecisionTreeClassifier(max_depth=8), n_estimators=200,\r\n",
        "    learning_rate=x, random_state=42)\r\n",
        "\r\n",
        "  ada_clf.fit(X_train, y_train)\r\n",
        "\r\n",
        "  y_pred = ada_clf.predict(X_test)\r\n",
        "  print(\"Ratio de aprendizaje=\",x,\" Accuracy=\",accuracy_score(y_test, y_pred))"
      ],
      "execution_count": 39,
      "outputs": [
        {
          "output_type": "stream",
          "text": [
            "Ratio de aprendizaje= 0.1  Accuracy= 0.8936170212765957\n",
            "Ratio de aprendizaje= 0.25  Accuracy= 0.8829787234042553\n",
            "Ratio de aprendizaje= 0.5  Accuracy= 0.8723404255319149\n",
            "Ratio de aprendizaje= 0.75  Accuracy= 0.8829787234042553\n",
            "Ratio de aprendizaje= 1  Accuracy= 0.9574468085106383\n"
          ],
          "name": "stdout"
        }
      ]
    },
    {
      "cell_type": "markdown",
      "metadata": {
        "id": "Nd6ZHC6al_45"
      },
      "source": [
        "El mejor accuracy nos da con un depth=2, 200 estimadores y un ratio de aprendizaje de 0.1 nos da un accuracy de 0.9680851063829787  "
      ]
    },
    {
      "cell_type": "markdown",
      "metadata": {
        "id": "q06t-f67oZY2"
      },
      "source": [
        "### **Gradient Boosting**"
      ]
    },
    {
      "cell_type": "markdown",
      "metadata": {
        "id": "NP9XFZr4o3tY"
      },
      "source": [
        "##### **Regresión**"
      ]
    },
    {
      "cell_type": "code",
      "metadata": {
        "id": "YfQfKcHlpccf"
      },
      "source": [
        "df = pd.read_csv('https://raw.githubusercontent.com/fortiz98/TrabajoAAII/main/datosFelicidad.csv')\r\n",
        "y = df[\"Happiness Score\"]\r\n",
        "X = df.drop(['Happiness Score','Country',\t'Happiness Rank'], axis=1)\r\n",
        "X_train,  X_test, y_train, y_test = train_test_split(X, y, test_size=0.2, random_state=42)"
      ],
      "execution_count": 62,
      "outputs": []
    },
    {
      "cell_type": "code",
      "metadata": {
        "colab": {
          "base_uri": "https://localhost:8080/"
        },
        "id": "_ADlXLEUp01N",
        "outputId": "31af183b-ad27-4e7d-bdc6-ba8e3fd00dcc"
      },
      "source": [
        "from sklearn.ensemble import GradientBoostingRegressor\r\n",
        "\r\n",
        "# Solución\r\n",
        "for x in [0.1, 0.25, 0.5 ,0.75, 1]:\r\n",
        "  gbrt = GradientBoostingRegressor( n_estimators=600, learning_rate=x, random_state=30)\r\n",
        "\r\n",
        "  gbrt.fit(X_train, y_train)\r\n",
        "  y_pred_rand = gbrt.predict(X_train)\r\n",
        "  print(\"Con Ratio de aprendizaje=\",x,\"RMSE sobre el conjunto de Entrenamiento:\", np.sqrt(mean_squared_error(y_train, y_pred_rand)))\r\n",
        "  y_pred_rand = gbrt.predict(X_test)\r\n",
        "  print(\"Con Ratio de aprendizaje=\",x,\"RMSE sobre el conjunto de test:\", np.sqrt(mean_squared_error(y_test, y_pred_rand)))"
      ],
      "execution_count": 69,
      "outputs": [
        {
          "output_type": "stream",
          "text": [
            "Con Ratio de aprendizaje= 0.1 RMSE sobre el conjunto de Entrenamiento: 0.007386489195548856\n",
            "Con Ratio de aprendizaje= 0.1 RMSE sobre el conjunto de test: 0.17715301612279177\n",
            "Con Ratio de aprendizaje= 0.25 RMSE sobre el conjunto de Entrenamiento: 0.0003379855515990245\n",
            "Con Ratio de aprendizaje= 0.25 RMSE sobre el conjunto de test: 0.18040885481588703\n",
            "Con Ratio de aprendizaje= 0.5 RMSE sobre el conjunto de Entrenamiento: 0.0003153322141764788\n",
            "Con Ratio de aprendizaje= 0.5 RMSE sobre el conjunto de test: 0.22841891627089692\n",
            "Con Ratio de aprendizaje= 0.75 RMSE sobre el conjunto de Entrenamiento: 0.0003126946560090912\n",
            "Con Ratio de aprendizaje= 0.75 RMSE sobre el conjunto de test: 0.3315730175030799\n",
            "Con Ratio de aprendizaje= 1 RMSE sobre el conjunto de Entrenamiento: 0.00031552599315911467\n",
            "Con Ratio de aprendizaje= 1 RMSE sobre el conjunto de test: 0.4106915243414852\n"
          ],
          "name": "stdout"
        }
      ]
    },
    {
      "cell_type": "code",
      "metadata": {
        "colab": {
          "base_uri": "https://localhost:8080/"
        },
        "id": "z7InK1kFrVzu",
        "outputId": "007a64c8-bfe0-48f1-9dab-4fb6bebb98c8"
      },
      "source": [
        "from sklearn.ensemble import GradientBoostingRegressor\r\n",
        "\r\n",
        "# Solución\r\n",
        "for x in [0.1, 0.25, 0.5 ,0.75, 1]:\r\n",
        "  gbrt = GradientBoostingRegressor( n_estimators=200, learning_rate=x, random_state=30)\r\n",
        "\r\n",
        "  gbrt.fit(X_train, y_train)\r\n",
        "  y_pred_rand = gbrt.predict(X_train)\r\n",
        "  print(\"Con Ratio de aprendizaje=\",x,\"RMSE sobre el conjunto de Entrenamiento:\", np.sqrt(mean_squared_error(y_train, y_pred_rand)))\r\n",
        "  y_pred_rand = gbrt.predict(X_test)\r\n",
        "  print(\"Con Ratio de aprendizaje=\",x,\"RMSE sobre el conjunto de test:\", np.sqrt(mean_squared_error(y_test, y_pred_rand)))"
      ],
      "execution_count": 68,
      "outputs": [
        {
          "output_type": "stream",
          "text": [
            "Con Ratio de aprendizaje= 0.1 RMSE sobre el conjunto de Entrenamiento: 0.03846058340484426\n",
            "Con Ratio de aprendizaje= 0.1 RMSE sobre el conjunto de test: 0.18646328326749975\n",
            "Con Ratio de aprendizaje= 0.25 RMSE sobre el conjunto de Entrenamiento: 0.011441013115156431\n",
            "Con Ratio de aprendizaje= 0.25 RMSE sobre el conjunto de test: 0.1826099842907104\n",
            "Con Ratio de aprendizaje= 0.5 RMSE sobre el conjunto de Entrenamiento: 0.0019795377233040954\n",
            "Con Ratio de aprendizaje= 0.5 RMSE sobre el conjunto de test: 0.22832108557626996\n",
            "Con Ratio de aprendizaje= 0.75 RMSE sobre el conjunto de Entrenamiento: 0.0003690230142524236\n",
            "Con Ratio de aprendizaje= 0.75 RMSE sobre el conjunto de test: 0.3315833357685998\n",
            "Con Ratio de aprendizaje= 1 RMSE sobre el conjunto de Entrenamiento: 0.00031552599315911467\n",
            "Con Ratio de aprendizaje= 1 RMSE sobre el conjunto de test: 0.4106915243414852\n"
          ],
          "name": "stdout"
        }
      ]
    },
    {
      "cell_type": "markdown",
      "metadata": {
        "id": "-jfmEupxrs_0"
      },
      "source": [
        "Con Ratio de aprendizaje= 0.1 y 600 estimadores RMSE sobre el conjunto de test: 0.17715301612279177"
      ]
    },
    {
      "cell_type": "markdown",
      "metadata": {
        "id": "Qs3hcBCjo3Xb"
      },
      "source": [
        "##### **Clasificación**"
      ]
    },
    {
      "cell_type": "code",
      "metadata": {
        "id": "lZgwuu9qphmF"
      },
      "source": [
        "df = pd.read_csv('https://raw.githubusercontent.com/fortiz98/TrabajoAAII/main/datosFelicidad.csv')"
      ],
      "execution_count": 45,
      "outputs": []
    },
    {
      "cell_type": "code",
      "metadata": {
        "colab": {
          "base_uri": "https://localhost:8080/",
          "height": 391
        },
        "id": "HinyGuT_phmG",
        "outputId": "57bcc469-0e21-4eb8-c0f8-2909718c7124"
      },
      "source": [
        "from sklearn.preprocessing import LabelEncoder\r\n",
        "# Dividir las instancias como \"happiness\" or \"sadness\" dependiendo de si el hapiness score es mayor o menor que 5.\r\n",
        "bins = (0, 5, 10)\r\n",
        "group_names = ['sadness', 'happiness']\r\n",
        "df['Happiness Score'] = pd.cut(df['Happiness Score'], bins = bins, labels = group_names)\r\n",
        "# Asignamos una etiqueta a \"quality\"\r\n",
        "label_quality = LabelEncoder()\r\n",
        "# Sadness tomará el valor 0 y Happiness será el valor 1\r\n",
        "df['Happiness Score'] = label_quality.fit_transform(df['Happiness Score'])\r\n",
        "print(df['Happiness Score'].value_counts())\r\n",
        "sb.countplot(df['Happiness Score'])\r\n",
        "plt.show()"
      ],
      "execution_count": 70,
      "outputs": [
        {
          "output_type": "stream",
          "text": [
            "0    290\n",
            "1    180\n",
            "Name: Happiness Score, dtype: int64\n"
          ],
          "name": "stdout"
        },
        {
          "output_type": "stream",
          "text": [
            "/usr/local/lib/python3.6/dist-packages/seaborn/_decorators.py:43: FutureWarning: Pass the following variable as a keyword arg: x. From version 0.12, the only valid positional argument will be `data`, and passing other arguments without an explicit keyword will result in an error or misinterpretation.\n",
            "  FutureWarning\n"
          ],
          "name": "stderr"
        },
        {
          "output_type": "display_data",
          "data": {
            "image/png": "[encoded data removed]",
            "text/plain": [
              "<Figure size 432x288 with 1 Axes>"
            ]
          },
          "metadata": {
            "tags": [],
            "needs_background": "light"
          }
        }
      ]
    },
    {
      "cell_type": "code",
      "metadata": {
        "id": "uuckZPY1phmN"
      },
      "source": [
        "y = df[\"Happiness Score\"]\r\n",
        "X = df.drop(['Happiness Score','Country',\t'Happiness Rank'], axis=1)"
      ],
      "execution_count": 71,
      "outputs": []
    },
    {
      "cell_type": "code",
      "metadata": {
        "id": "c13maYJVphmN"
      },
      "source": [
        "X_train, X_test, y_train, y_test = train_test_split(X,y,\r\n",
        "                                        train_size   = 0.8,\r\n",
        "                                        random_state = 1234,\r\n",
        "                                        shuffle      = True\r\n",
        "                                    )"
      ],
      "execution_count": 72,
      "outputs": []
    },
    {
      "cell_type": "code",
      "metadata": {
        "colab": {
          "base_uri": "https://localhost:8080/"
        },
        "id": "ghmSBqa7qETa",
        "outputId": "a4f270e5-28e1-4c7c-bed0-d36e189502d7"
      },
      "source": [
        "from sklearn.ensemble import GradientBoostingClassifier\r\n",
        "for x in [0.1, 0.25, 0.5 ,0.75, 1]:\r\n",
        "  gbrt_Class = GradientBoostingClassifier(max_depth=2, n_estimators=200, learning_rate=x, random_state=30)\r\n",
        "  gbrt_Class.fit(X_train, y_train)\r\n",
        "\r\n",
        "  y_pred = gbrt_Class.predict(X_test)\r\n",
        "  print(\"Ratio de aprendizaje =\",x,\" accuracy =\",accuracy_score(y_test, y_pred))"
      ],
      "execution_count": 73,
      "outputs": [
        {
          "output_type": "stream",
          "text": [
            "Ratio de aprendizaje = 0.1  accuracy = 0.9468085106382979\n",
            "Ratio de aprendizaje = 0.25  accuracy = 0.9361702127659575\n",
            "Ratio de aprendizaje = 0.5  accuracy = 0.9468085106382979\n",
            "Ratio de aprendizaje = 0.75  accuracy = 0.9468085106382979\n",
            "Ratio de aprendizaje = 1  accuracy = 0.9574468085106383\n"
          ],
          "name": "stdout"
        }
      ]
    },
    {
      "cell_type": "code",
      "metadata": {
        "colab": {
          "base_uri": "https://localhost:8080/"
        },
        "id": "huf_ZKnXsAqW",
        "outputId": "30c9a591-40ab-4e80-b207-b1a7b754f884"
      },
      "source": [
        "from sklearn.ensemble import GradientBoostingClassifier\r\n",
        "for x in [0.1, 0.25, 0.5 ,0.75, 1]:\r\n",
        "  gbrt_Class = GradientBoostingClassifier(max_depth=2, n_estimators=100, learning_rate=x, random_state=30)\r\n",
        "  gbrt_Class.fit(X_train, y_train)\r\n",
        "\r\n",
        "  y_pred = gbrt_Class.predict(X_test)\r\n",
        "  print(\"Ratio de aprendizaje =\",x,\" accuracy =\",accuracy_score(y_test, y_pred))"
      ],
      "execution_count": 77,
      "outputs": [
        {
          "output_type": "stream",
          "text": [
            "Ratio de aprendizaje = 0.1  accuracy = 0.9468085106382979\n",
            "Ratio de aprendizaje = 0.25  accuracy = 0.9361702127659575\n",
            "Ratio de aprendizaje = 0.5  accuracy = 0.9574468085106383\n",
            "Ratio de aprendizaje = 0.75  accuracy = 0.9468085106382979\n",
            "Ratio de aprendizaje = 1  accuracy = 0.9574468085106383\n"
          ],
          "name": "stdout"
        }
      ]
    },
    {
      "cell_type": "code",
      "metadata": {
        "colab": {
          "base_uri": "https://localhost:8080/"
        },
        "id": "FZSRUb6osT7m",
        "outputId": "a97f5b45-928d-4dd0-8bc2-a8feb2b658ac"
      },
      "source": [
        "from sklearn.ensemble import GradientBoostingClassifier\r\n",
        "for x in [0.1, 0.25, 0.5 ,0.75, 1]:\r\n",
        "  gbrt_Class = GradientBoostingClassifier(max_depth=2, n_estimators=500, learning_rate=x, random_state=30)\r\n",
        "  gbrt_Class.fit(X_train, y_train)\r\n",
        "\r\n",
        "  y_pred = gbrt_Class.predict(X_test)\r\n",
        "  print(\"Ratio de aprendizaje =\",x,\" accuracy =\",accuracy_score(y_test, y_pred))"
      ],
      "execution_count": 79,
      "outputs": [
        {
          "output_type": "stream",
          "text": [
            "Ratio de aprendizaje = 0.1  accuracy = 0.9361702127659575\n",
            "Ratio de aprendizaje = 0.25  accuracy = 0.9361702127659575\n",
            "Ratio de aprendizaje = 0.5  accuracy = 0.9468085106382979\n",
            "Ratio de aprendizaje = 0.75  accuracy = 0.9468085106382979\n",
            "Ratio de aprendizaje = 1  accuracy = 0.9574468085106383\n"
          ],
          "name": "stdout"
        }
      ]
    },
    {
      "cell_type": "markdown",
      "metadata": {
        "id": "85jHZKxosX03"
      },
      "source": [
        "Aunque cambiemos el numero de estimadores el mejor valor de accuracy sale con un ratio de aprendizaje = 1  accuracy = 0.9574468085106383. Parece que hay algunas instancias que son dificiles de clasificar."
      ]
    },
    {
      "cell_type": "markdown",
      "metadata": {
        "id": "adWp4Qw7swIY"
      },
      "source": [
        "### **XGBoost**"
      ]
    },
    {
      "cell_type": "markdown",
      "metadata": {
        "id": "56rru4a_s3w1"
      },
      "source": [
        "##### **Regresión**"
      ]
    },
    {
      "cell_type": "code",
      "metadata": {
        "id": "B_2g-I-3zPKG"
      },
      "source": [
        "df = pd.read_csv('https://raw.githubusercontent.com/fortiz98/TrabajoAAII/main/datosFelicidad.csv')\r\n",
        "y = df[\"Happiness Score\"]\r\n",
        "X = df.drop(['Happiness Score','Country',\t'Happiness Rank'], axis=1)\r\n",
        "X_train,  X_test, y_train, y_test = train_test_split(X, y, test_size=0.2, random_state=42)"
      ],
      "execution_count": null,
      "outputs": []
    },
    {
      "cell_type": "code",
      "metadata": {
        "colab": {
          "base_uri": "https://localhost:8080/"
        },
        "id": "57l4LJa4s78S",
        "outputId": "f4fb669d-4fb9-4fd0-c979-7378907257d1"
      },
      "source": [
        "%%time\r\n",
        "\r\n",
        "for x in [0.1, 0.25, 0.5,0.75 , 1]:\r\n",
        "  xgb_class = xgboost.XGBRegressor( n_estimators=600, learning_rate=x, random_state=30)\r\n",
        "  xgb_class.fit(X_train, y_train)\r\n",
        "  y_pred_rand = xgb_class.predict(X_train)\r\n",
        "  print(\"Con Ratio de aprendizaje=\",x,\"RMSE sobre el conjunto de Entrenamiento:\", np.sqrt(mean_squared_error(y_train, y_pred_rand)))\r\n",
        "  y_pred_rand = xgb_class.predict(X_test)\r\n",
        "  print(\"Con Ratio de aprendizaje=\",x,\"RMSE sobre el conjunto de test:\", np.sqrt(mean_squared_error(y_test, y_pred_rand)))"
      ],
      "execution_count": 96,
      "outputs": [
        {
          "output_type": "stream",
          "text": [
            "[18:25:03] WARNING: /workspace/src/objective/regression_obj.cu:152: reg:linear is now deprecated in favor of reg:squarederror.\n",
            "Con Ratio de aprendizaje= 0.1 RMSE sobre el conjunto de Entrenamiento: 0.01132548970873096\n",
            "Con Ratio de aprendizaje= 0.1 RMSE sobre el conjunto de test: 0.2461370232059616\n",
            "[18:25:03] WARNING: /workspace/src/objective/regression_obj.cu:152: reg:linear is now deprecated in favor of reg:squarederror.\n",
            "Con Ratio de aprendizaje= 0.25 RMSE sobre el conjunto de Entrenamiento: 0.0015275568285361483\n",
            "Con Ratio de aprendizaje= 0.25 RMSE sobre el conjunto de test: 0.24635140714769807\n",
            "[18:25:03] WARNING: /workspace/src/objective/regression_obj.cu:152: reg:linear is now deprecated in favor of reg:squarederror.\n",
            "Con Ratio de aprendizaje= 0.5 RMSE sobre el conjunto de Entrenamiento: 0.001088191759611113\n",
            "Con Ratio de aprendizaje= 0.5 RMSE sobre el conjunto de test: 0.27143657409274197\n",
            "[18:25:03] WARNING: /workspace/src/objective/regression_obj.cu:152: reg:linear is now deprecated in favor of reg:squarederror.\n",
            "Con Ratio de aprendizaje= 0.75 RMSE sobre el conjunto de Entrenamiento: 0.001106187461931025\n",
            "Con Ratio de aprendizaje= 0.75 RMSE sobre el conjunto de test: 0.29146982484020084\n",
            "[18:25:04] WARNING: /workspace/src/objective/regression_obj.cu:152: reg:linear is now deprecated in favor of reg:squarederror.\n",
            "Con Ratio de aprendizaje= 1 RMSE sobre el conjunto de Entrenamiento: 0.0007093514161533889\n",
            "Con Ratio de aprendizaje= 1 RMSE sobre el conjunto de test: 0.3407032466952001\n",
            "CPU times: user 725 ms, sys: 20 ms, total: 745 ms\n",
            "Wall time: 747 ms\n"
          ],
          "name": "stdout"
        }
      ]
    },
    {
      "cell_type": "code",
      "metadata": {
        "colab": {
          "base_uri": "https://localhost:8080/"
        },
        "id": "24cdUheS0o4A",
        "outputId": "d401c54f-1cbe-4c64-fe47-185b6611fded"
      },
      "source": [
        "for x in [0.1, 0.25, 0.5,0.75 , 1]:\r\n",
        "  xgb_class = xgboost.XGBRegressor( n_estimators=200, learning_rate=x, random_state=30)\r\n",
        "  xgb_class.fit(X_train, y_train)\r\n",
        "  y_pred_rand = xgb_class.predict(X_train)\r\n",
        "  print(\"Con Ratio de aprendizaje=\",x,\"RMSE sobre el conjunto de Entrenamiento:\", np.sqrt(mean_squared_error(y_train, y_pred_rand)))\r\n",
        "  y_pred_rand = xgb_class.predict(X_test)\r\n",
        "  print(\"Con Ratio de aprendizaje=\",x,\"RMSE sobre el conjunto de test:\", np.sqrt(mean_squared_error(y_test, y_pred_rand)))"
      ],
      "execution_count": 95,
      "outputs": [
        {
          "output_type": "stream",
          "text": [
            "[18:25:01] WARNING: /workspace/src/objective/regression_obj.cu:152: reg:linear is now deprecated in favor of reg:squarederror.\n",
            "Con Ratio de aprendizaje= 0.1 RMSE sobre el conjunto de Entrenamiento: 0.051157191659788916\n",
            "Con Ratio de aprendizaje= 0.1 RMSE sobre el conjunto de test: 0.24346319587490883\n",
            "[18:25:01] WARNING: /workspace/src/objective/regression_obj.cu:152: reg:linear is now deprecated in favor of reg:squarederror.\n",
            "Con Ratio de aprendizaje= 0.25 RMSE sobre el conjunto de Entrenamiento: 0.015156318234698542\n",
            "Con Ratio de aprendizaje= 0.25 RMSE sobre el conjunto de test: 0.2466370007359707\n",
            "[18:25:01] WARNING: /workspace/src/objective/regression_obj.cu:152: reg:linear is now deprecated in favor of reg:squarederror.\n",
            "Con Ratio de aprendizaje= 0.5 RMSE sobre el conjunto de Entrenamiento: 0.002577014026561434\n",
            "Con Ratio de aprendizaje= 0.5 RMSE sobre el conjunto de test: 0.2712549081910101\n",
            "[18:25:01] WARNING: /workspace/src/objective/regression_obj.cu:152: reg:linear is now deprecated in favor of reg:squarederror.\n",
            "Con Ratio de aprendizaje= 0.75 RMSE sobre el conjunto de Entrenamiento: 0.001106187461931025\n",
            "Con Ratio de aprendizaje= 0.75 RMSE sobre el conjunto de test: 0.29146982484020084\n",
            "[18:25:01] WARNING: /workspace/src/objective/regression_obj.cu:152: reg:linear is now deprecated in favor of reg:squarederror.\n",
            "Con Ratio de aprendizaje= 1 RMSE sobre el conjunto de Entrenamiento: 0.0007093514161533889\n",
            "Con Ratio de aprendizaje= 1 RMSE sobre el conjunto de test: 0.3407032466952001\n"
          ],
          "name": "stdout"
        }
      ]
    },
    {
      "cell_type": "markdown",
      "metadata": {
        "id": "9Zy04MaH0wa6"
      },
      "source": [
        "Con Ratio de aprendizaje= 0.1 y 200 estimadore sobre el conjunto de test obtenemos un RMSE de 0.24346319587490883"
      ]
    },
    {
      "cell_type": "markdown",
      "metadata": {
        "id": "rjybSqxYszsE"
      },
      "source": [
        "##### **Clasificación**"
      ]
    },
    {
      "cell_type": "code",
      "metadata": {
        "id": "9abkmmbrzHfH"
      },
      "source": [
        "df = pd.read_csv('https://raw.githubusercontent.com/fortiz98/TrabajoAAII/main/datosFelicidad.csv')"
      ],
      "execution_count": 98,
      "outputs": []
    },
    {
      "cell_type": "code",
      "metadata": {
        "colab": {
          "base_uri": "https://localhost:8080/",
          "height": 391
        },
        "id": "iYVsT22XzHfL",
        "outputId": "d6f505a4-671d-4720-9d05-442782b35b1b"
      },
      "source": [
        "from sklearn.preprocessing import LabelEncoder\r\n",
        "# Dividir las instancias como \"happiness\" or \"sadness\" dependiendo de si el hapiness score es mayor o menor que 5.\r\n",
        "bins = (0, 5, 10)\r\n",
        "group_names = ['sadness', 'happiness']\r\n",
        "df['Happiness Score'] = pd.cut(df['Happiness Score'], bins = bins, labels = group_names)\r\n",
        "# Asignamos una etiqueta a \"quality\"\r\n",
        "label_quality = LabelEncoder()\r\n",
        "# Sadness tomará el valor 0 y Happiness será el valor 1\r\n",
        "df['Happiness Score'] = label_quality.fit_transform(df['Happiness Score'])\r\n",
        "print(df['Happiness Score'].value_counts())\r\n",
        "sb.countplot(df['Happiness Score'])\r\n",
        "plt.show()"
      ],
      "execution_count": 99,
      "outputs": [
        {
          "output_type": "stream",
          "text": [
            "0    290\n",
            "1    180\n",
            "Name: Happiness Score, dtype: int64\n"
          ],
          "name": "stdout"
        },
        {
          "output_type": "stream",
          "text": [
            "/usr/local/lib/python3.6/dist-packages/seaborn/_decorators.py:43: FutureWarning: Pass the following variable as a keyword arg: x. From version 0.12, the only valid positional argument will be `data`, and passing other arguments without an explicit keyword will result in an error or misinterpretation.\n",
            "  FutureWarning\n"
          ],
          "name": "stderr"
        },
        {
          "output_type": "display_data",
          "data": {
            "image/png": "[encoded data removed]",
            "text/plain": [
              "<Figure size 432x288 with 1 Axes>"
            ]
          },
          "metadata": {
            "tags": [],
            "needs_background": "light"
          }
        }
      ]
    },
    {
      "cell_type": "code",
      "metadata": {
        "id": "ao_olcbPzHfM"
      },
      "source": [
        "y = df[\"Happiness Score\"]\r\n",
        "X = df.drop(['Happiness Score','Country',\t'Happiness Rank'], axis=1)"
      ],
      "execution_count": 100,
      "outputs": []
    },
    {
      "cell_type": "code",
      "metadata": {
        "id": "Y-2efsEvzHfM"
      },
      "source": [
        "X_train, X_test, y_train, y_test = train_test_split(X,y,\r\n",
        "                                        train_size   = 0.8,\r\n",
        "                                        random_state = 1234,\r\n",
        "                                        shuffle      = True\r\n",
        "                                    )"
      ],
      "execution_count": 101,
      "outputs": []
    },
    {
      "cell_type": "code",
      "metadata": {
        "colab": {
          "base_uri": "https://localhost:8080/"
        },
        "id": "Xa09L7Jis8eg",
        "outputId": "4ec4a60d-4ecd-4ff6-df06-a5cce6329ab1"
      },
      "source": [
        "import xgboost\r\n",
        "for x in [0.1, 0.25, 0.5,0.75 , 1]:\r\n",
        "  xgb_class = xgboost.XGBClassifier(max_depth=7, n_estimators=600, learning_rate=x, random_state=30)\r\n",
        "  xgb_class.fit(X_train, y_train)\r\n",
        "\r\n",
        "  y_pred = xgb_class.predict(X_test)\r\n",
        "  print(\"Con Ratio de aprendizaje=\",x,\" Accuracy \",accuracy_score(y_test, y_pred))"
      ],
      "execution_count": 104,
      "outputs": [
        {
          "output_type": "stream",
          "text": [
            "Con Ratio de aprendizaje= 0.1  Accuracy  0.9468085106382979\n",
            "Con Ratio de aprendizaje= 0.25  Accuracy  0.9468085106382979\n",
            "Con Ratio de aprendizaje= 0.5  Accuracy  0.9361702127659575\n",
            "Con Ratio de aprendizaje= 0.75  Accuracy  0.9680851063829787\n",
            "Con Ratio de aprendizaje= 1  Accuracy  0.9468085106382979\n"
          ],
          "name": "stdout"
        }
      ]
    },
    {
      "cell_type": "code",
      "metadata": {
        "colab": {
          "base_uri": "https://localhost:8080/"
        },
        "id": "haMqENXP19Iv",
        "outputId": "11c55007-3fa9-4403-8ce4-2a6a6ce040f2"
      },
      "source": [
        "for x in [0.1, 0.25, 0.5,0.75 , 1]:\r\n",
        "  xgb_class = xgboost.XGBClassifier(max_depth=7, n_estimators=200, learning_rate=x, random_state=30)\r\n",
        "  xgb_class.fit(X_train, y_train)\r\n",
        "\r\n",
        "  y_pred = xgb_class.predict(X_test)\r\n",
        "  print(\"Con Ratio de aprendizaje=\",x,\" Accuracy \",accuracy_score(y_test, y_pred))"
      ],
      "execution_count": 103,
      "outputs": [
        {
          "output_type": "stream",
          "text": [
            "Con Ratio de aprendizaje= 0.1  Accuracy  0.9680851063829787\n",
            "Con Ratio de aprendizaje= 0.25  Accuracy  0.9468085106382979\n",
            "Con Ratio de aprendizaje= 0.5  Accuracy  0.9361702127659575\n",
            "Con Ratio de aprendizaje= 0.75  Accuracy  0.9574468085106383\n",
            "Con Ratio de aprendizaje= 1  Accuracy  0.9574468085106383\n"
          ],
          "name": "stdout"
        }
      ]
    },
    {
      "cell_type": "markdown",
      "metadata": {
        "id": "bpF_CNju2FG6"
      },
      "source": [
        "Con Ratio de aprendizaje= 0.1, con una profundidad de arbol de 7 y con 200 estimadores obtenemos el mejor Accuracy= 0.9680851063829787"
      ]
    },
    {
      "cell_type": "markdown",
      "metadata": {
        "id": "EyV2UBAX24OK"
      },
      "source": [
        "### **Stacking**"
      ]
    },
    {
      "cell_type": "markdown",
      "metadata": {
        "id": "zg4U_7G72-G6"
      },
      "source": [
        "##### **Regresión**"
      ]
    },
    {
      "cell_type": "code",
      "metadata": {
        "id": "uTg1V1T63ZB0"
      },
      "source": [
        "df = pd.read_csv('https://raw.githubusercontent.com/fortiz98/TrabajoAAII/main/datosFelicidad.csv')\r\n",
        "y = df[\"Happiness Score\"]\r\n",
        "X = df.drop(['Happiness Score','Country',\t'Happiness Rank'], axis=1)\r\n",
        "X_train,  X_test, y_train, y_test = train_test_split(X, y, test_size=0.2, random_state=42)"
      ],
      "execution_count": null,
      "outputs": []
    },
    {
      "cell_type": "code",
      "metadata": {
        "colab": {
          "base_uri": "https://localhost:8080/"
        },
        "id": "D7mi3UIH4Pdx",
        "outputId": "3200de3a-35af-4745-ed5d-74f802ed396a"
      },
      "source": [
        "from sklearn.ensemble import StackingRegressor\r\n",
        "# get a stacking ensemble of models\r\n",
        "\r\n",
        "from sklearn.linear_model import LinearRegression\r\n",
        "from sklearn.tree import DecisionTreeRegressor\r\n",
        "from sklearn.svm import SVR\r\n",
        "\r\n",
        "from sklearn.metrics import mean_squared_error\r\n",
        "\r\n",
        "\r\n",
        "lin_reg = LinearRegression()\r\n",
        "tree_reg = DecisionTreeRegressor(random_state=42)\r\n",
        "SVR_reg = SVR(C=5.0, gamma=0.1, kernel=\"rbf\")\r\n",
        "\r\n",
        "# Solución\r\n",
        "level0 = list()\r\n",
        "level0.append(('ln_reg',lin_reg))\r\n",
        "level0.append(('tree_regr',tree_reg))\r\n",
        "level0.append(('SVR_reg',SVR_reg))\r\n",
        "level1 = LinearRegression()\r\n",
        "\r\n",
        "model_stack = StackingRegressor(estimators=level0, final_estimator=level1, cv=5)\r\n",
        "model_stack.fit(X_train, y_train)\r\n",
        "\r\n",
        "y_pred_rand = model_stack.predict(X_train)\r\n",
        "print(\"RMSE sobre el conjunto de Entrenamiento:\", np.sqrt(mean_squared_error(y_train, y_pred_rand)))\r\n",
        "y_pred_rand = model_stack.predict(X_test)\r\n",
        "print(\"RMSE sobre el conjunto de test:\", np.sqrt(mean_squared_error(y_test, y_pred_rand)))"
      ],
      "execution_count": 111,
      "outputs": [
        {
          "output_type": "stream",
          "text": [
            "RMSE sobre el conjunto de Entrenamiento: 0.15525465989416556\n",
            "RMSE sobre el conjunto de test: 0.24420237728678237\n"
          ],
          "name": "stdout"
        }
      ]
    },
    {
      "cell_type": "markdown",
      "metadata": {
        "id": "c_EfSQIL2-0a"
      },
      "source": [
        "##### **Clasificación**"
      ]
    },
    {
      "cell_type": "code",
      "metadata": {
        "id": "fqciBUgw3clq"
      },
      "source": [
        "df = pd.read_csv('https://raw.githubusercontent.com/fortiz98/TrabajoAAII/main/datosFelicidad.csv')"
      ],
      "execution_count": 105,
      "outputs": []
    },
    {
      "cell_type": "code",
      "metadata": {
        "colab": {
          "base_uri": "https://localhost:8080/",
          "height": 391
        },
        "id": "oH-meAHu3cls",
        "outputId": "86e0281a-39e8-4ba3-afb4-a2b37e49a172"
      },
      "source": [
        "from sklearn.preprocessing import LabelEncoder\r\n",
        "# Dividir las instancias como \"happiness\" or \"sadness\" dependiendo de si el hapiness score es mayor o menor que 5.\r\n",
        "bins = (0, 5, 10)\r\n",
        "group_names = ['sadness', 'happiness']\r\n",
        "df['Happiness Score'] = pd.cut(df['Happiness Score'], bins = bins, labels = group_names)\r\n",
        "# Asignamos una etiqueta a \"quality\"\r\n",
        "label_quality = LabelEncoder()\r\n",
        "# Sadness tomará el valor 0 y Happiness será el valor 1\r\n",
        "df['Happiness Score'] = label_quality.fit_transform(df['Happiness Score'])\r\n",
        "print(df['Happiness Score'].value_counts())\r\n",
        "sb.countplot(df['Happiness Score'])\r\n",
        "plt.show()"
      ],
      "execution_count": 106,
      "outputs": [
        {
          "output_type": "stream",
          "text": [
            "0    290\n",
            "1    180\n",
            "Name: Happiness Score, dtype: int64\n"
          ],
          "name": "stdout"
        },
        {
          "output_type": "stream",
          "text": [
            "/usr/local/lib/python3.6/dist-packages/seaborn/_decorators.py:43: FutureWarning: Pass the following variable as a keyword arg: x. From version 0.12, the only valid positional argument will be `data`, and passing other arguments without an explicit keyword will result in an error or misinterpretation.\n",
            "  FutureWarning\n"
          ],
          "name": "stderr"
        },
        {
          "output_type": "display_data",
          "data": {
            "image/png": "[encoded data removed]",
            "text/plain": [
              "<Figure size 432x288 with 1 Axes>"
            ]
          },
          "metadata": {
            "tags": [],
            "needs_background": "light"
          }
        }
      ]
    },
    {
      "cell_type": "code",
      "metadata": {
        "id": "5D-vY8u03clu"
      },
      "source": [
        "y = df[\"Happiness Score\"]\r\n",
        "X = df.drop(['Happiness Score','Country',\t'Happiness Rank'], axis=1)"
      ],
      "execution_count": 107,
      "outputs": []
    },
    {
      "cell_type": "code",
      "metadata": {
        "id": "GwV7VegE3clv"
      },
      "source": [
        "X_train, X_test, y_train, y_test = train_test_split(X,y,\r\n",
        "                                        train_size   = 0.8,\r\n",
        "                                        random_state = 1234,\r\n",
        "                                        shuffle      = True\r\n",
        "                                    )"
      ],
      "execution_count": 108,
      "outputs": []
    },
    {
      "cell_type": "code",
      "metadata": {
        "colab": {
          "base_uri": "https://localhost:8080/"
        },
        "id": "mSc_-euy2g99",
        "outputId": "11c2dc6b-399e-449d-be83-1e3f4fcb4d8b"
      },
      "source": [
        "from sklearn.ensemble import StackingClassifier\r\n",
        "\r\n",
        "from sklearn.tree import DecisionTreeClassifier\r\n",
        "from sklearn.linear_model import LogisticRegression\r\n",
        "from sklearn.svm import SVC\r\n",
        "from sklearn.naive_bayes import GaussianNB\r\n",
        "\r\n",
        "# define los modelos del primer nivel\r\n",
        "\r\n",
        "level0 = list()\r\n",
        "level0.append(('log_clf', LogisticRegression(solver=\"liblinear\", random_state=42)))\r\n",
        "level0.append(('svm_clf', SVC(gamma=\"auto\", probability=True, random_state=42)))\r\n",
        "level0.append(('dt_clf', DecisionTreeClassifier(random_state=42)))\r\n",
        "level0.append(('nb_clf', GaussianNB()))\r\n",
        "\r\n",
        "# define meta modelo\r\n",
        "level1 = LogisticRegression()\r\n",
        "\r\n",
        "# define el ensemble por stacking\r\n",
        "model_stack = StackingClassifier(estimators=level0, final_estimator=level1, cv=5)\r\n",
        "\r\n",
        "model_stack.fit(X_train, y_train)\r\n",
        "\r\n",
        "y_pred = model_stack.predict(X_test)\r\n",
        "print(accuracy_score(y_test, y_pred))\r\n"
      ],
      "execution_count": 110,
      "outputs": [
        {
          "output_type": "stream",
          "text": [
            "0.9680851063829787\n"
          ],
          "name": "stdout"
        }
      ]
    }
  ]
}