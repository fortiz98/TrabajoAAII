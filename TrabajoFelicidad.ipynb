{
  "nbformat": 4,
  "nbformat_minor": 0,
  "metadata": {
    "colab": {
      "name": "TrabajoFelicidad.ipynb",
      "provenance": [],
      "authorship_tag": "ABX9TyNfL3jb7QgNIP5KEM0WiXby",
      "include_colab_link": true
    },
    "kernelspec": {
      "name": "python3",
      "display_name": "Python 3"
    }
  },
  "cells": [
    {
      "cell_type": "markdown",
      "metadata": {
        "id": "view-in-github",
        "colab_type": "text"
      },
      "source": [
        "<a href=\"https://colab.research.google.com/github/fortiz98/TrabajoAAII/blob/main/TrabajoFelicidad.ipynb\" target=\"_parent\"><img src=\"https://colab.research.google.com/assets/colab-badge.svg\" alt=\"Open In Colab\"/></a>"
      ]
    },
    {
      "cell_type": "markdown",
      "metadata": {
        "id": "eBpZoMKEF1kE"
      },
      "source": [
        "##**Ranking de la felicidad en los países en los años 2015-2016-2017**"
      ]
    },
    {
      "cell_type": "markdown",
      "metadata": {
        "id": "yf0O6WNAGCuQ"
      },
      "source": [
        "####Datos de entrada"
      ]
    },
    {
      "cell_type": "code",
      "metadata": {
        "id": "lW1Eh8sDGLPP"
      },
      "source": [
        "import pandas as pd\r\n",
        "import numpy as np"
      ],
      "execution_count": 1,
      "outputs": []
    }
  ]
}